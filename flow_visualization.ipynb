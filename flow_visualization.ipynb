{
 "cells": [
  {
   "cell_type": "code",
   "execution_count": 1,
   "metadata": {},
   "outputs": [],
   "source": [
    "import pandas as pd\n",
    "import numpy as np\n",
    "import plotly.plotly as py\n",
    "import plotly.graph_objs as go\n",
    "import networkx as nx"
   ]
  },
  {
   "cell_type": "markdown",
   "metadata": {},
   "source": [
    "### Load data"
   ]
  },
  {
   "cell_type": "code",
   "execution_count": 2,
   "metadata": {},
   "outputs": [],
   "source": [
    "# If RAM is limited, set total_rows = 10000 or 100000; otherwise, set total_rows = None\n",
    "total_rows = 100000 #None\n",
    "date = pd.read_csv('data/train_date.csv.zip', index_col=0, nrows=total_rows)\n",
    "\n",
    "# Drop rows and columns if they are redundant\n",
    "date.dropna(axis=0, how='all', inplace=True)\n",
    "date.dropna(axis=1, how='all', inplace=True)\n",
    "\n",
    "# Load labels\n",
    "response = pd.read_csv('data/train_numeric.csv.zip', index_col=0, \n",
    "                       usecols=[0, 969], nrows=total_rows)"
   ]
  },
  {
   "cell_type": "markdown",
   "metadata": {},
   "source": [
    "### Restructure columns\n",
    "Each column of `date` records a time stamp in the production line and tracks flows of parts. The columns follow a name convention of `Line_Station_Feature`. \n",
    "\n",
    "The structure of production line, station, and feature is hierarchical, i.e., there is no feature belongs to two stations, and no station belongs to two lines. So we can restructure the columns."
   ]
  },
  {
   "cell_type": "code",
   "execution_count": 3,
   "metadata": {},
   "outputs": [],
   "source": [
    "# Extract station and feature names, and build a new pandas MultiIndex object\n",
    "new_columns = pd.MultiIndex.from_tuples([tuple([int(a[1:]) \n",
    "                                          for a in x[3:].split('_')])\n",
    "                                          for x in date.columns], \n",
    "                                          names=['station', 'feature'])\n",
    "date.columns = new_columns"
   ]
  },
  {
   "cell_type": "code",
   "execution_count": 4,
   "metadata": {},
   "outputs": [],
   "source": [
    "# Extract station names\n",
    "stations = sorted([x for x in date.columns.levels[0]])"
   ]
  },
  {
   "cell_type": "code",
   "execution_count": 5,
   "metadata": {},
   "outputs": [],
   "source": [
    "# The earliest recorded time of a part going into a station\n",
    "# Notice that now we have dropped features (recorded time stamps) and only cares about stations\n",
    "date_station0 = pd.DataFrame({i: date[i].apply(min, axis=1) \n",
    "                            for i in stations})"
   ]
  },
  {
   "cell_type": "code",
   "execution_count": 6,
   "metadata": {},
   "outputs": [],
   "source": [
    "# Create two series recording if a part is positive (failure) or negative (not failure)\n",
    "response_p = response.Response.apply(lambda x: 'p' if x==1 else np.nan)\n",
    "response_n = response.Response.apply(lambda x: 'n' if x==0 else np.nan)"
   ]
  },
  {
   "cell_type": "code",
   "execution_count": 7,
   "metadata": {},
   "outputs": [],
   "source": [
    "# Add the two series into `date_station0`\n",
    "date_station0['p'] = response_p\n",
    "date_station0['n'] = response_n"
   ]
  },
  {
   "cell_type": "code",
   "execution_count": 8,
   "metadata": {},
   "outputs": [],
   "source": [
    "# Obtain indexes of positive and negative\n",
    "neg_idx = date_station0[date_station0.n=='n'].index\n",
    "pos_idx = date_station0[date_station0.p=='p'].index"
   ]
  },
  {
   "cell_type": "code",
   "execution_count": 9,
   "metadata": {},
   "outputs": [],
   "source": [
    "# Calculate positive probabilities of each station\n",
    "# We add two dummy stations into `node_weights` representing the positive and negative labels\n",
    "\n",
    "# date_station1 = date_station0.copy()\n",
    "# date_station1.n = date_station1.n.apply(lambda x: 1 if x=='n' else 0)\n",
    "# date_station1.p = date_station1.p.apply(lambda x: 1 if x=='p' else 0)\n",
    "\n",
    "\n",
    "node_weights = date_station0[date_station0.p=='p'].notna().sum(axis=0)/date_station0.notna().sum(axis=0)\n",
    "node_weights = node_weights.to_dict()"
   ]
  },
  {
   "cell_type": "code",
   "execution_count": 10,
   "metadata": {},
   "outputs": [],
   "source": [
    "# Obtain the flow of stations for each part by dropping NaNs in each row of `date_station0` \n",
    "# `date_station` is a pandas series containing the list of stations, including positive and negative labels\n",
    "date_station = date_station0.apply(lambda x: x.dropna().index.tolist(), axis=1)"
   ]
  },
  {
   "cell_type": "code",
   "execution_count": 11,
   "metadata": {},
   "outputs": [],
   "source": [
    "# Convert station flows to lists of station transitions for each part\n",
    "date_station_list = date_station.apply(lambda x: [(x[i], x[i+1]) for i in range(len(x)-1)]).values.tolist()\n",
    "# Obtain station transitions for positive samples\n",
    "date_station_list_pos = date_station.loc[pos_idx].apply(lambda x: [(x[i], x[i+1]) for i in range(len(x)-1)]).values.tolist()\n",
    "# Obtain station transitions for negative samples\n",
    "date_station_list_neg = date_station.loc[neg_idx].apply(lambda x: [(x[i], x[i+1]) for i in range(len(x)-1)]).values.tolist()\n",
    "\n",
    "# convert list of lists to one list, and then to series \n",
    "date_station_list = [x for a in date_station_list for x in a]\n",
    "date_station_list_pos = [x for a in date_station_list_pos for x in a]\n",
    "date_station_list_neg = [x for a in date_station_list_neg for x in a]\n",
    "\n",
    "date_station_list = pd.Series(date_station_list)\n",
    "date_station_list_pos = pd.Series(date_station_list_pos)\n",
    "date_station_list_neg = pd.Series(date_station_list_neg)"
   ]
  },
  {
   "cell_type": "code",
   "execution_count": 12,
   "metadata": {},
   "outputs": [],
   "source": [
    "# Calculate value counts (histogram) of each transition\n",
    "edges = date_station_list.value_counts().to_dict()\n",
    "edges_pos = date_station_list_pos.value_counts().to_dict()\n",
    "edges_neg = date_station_list_neg.value_counts().to_dict()\n",
    "\n",
    "# Calculate positive (failure) rate for each transition\n",
    "edges_pos_rate = {k: edges_pos[k]/edges[k] for k in edges_pos.keys()}"
   ]
  },
  {
   "cell_type": "code",
   "execution_count": 13,
   "metadata": {},
   "outputs": [],
   "source": [
    "# Also include the dummy positive and negative stations into the station list\n",
    "stations.extend(['n', 'p'])"
   ]
  },
  {
   "cell_type": "markdown",
   "metadata": {},
   "source": [
    "### Visualization\n",
    "Use `networkx` to create a weighted directed graph, whose nodes and edges represent stations and station transitions, respectively. Node and edge weights are the corresponding positive rates.\n",
    "\n",
    "Use `Plotly` to create figures for interactive visualization."
   ]
  },
  {
   "cell_type": "code",
   "execution_count": 14,
   "metadata": {},
   "outputs": [],
   "source": [
    "# Create a graph with `networkx`\n",
    "G = nx.Graph()\n",
    "G.add_nodes_from(stations)\n",
    "G.add_edges_from(edges.keys())"
   ]
  },
  {
   "cell_type": "code",
   "execution_count": 15,
   "metadata": {},
   "outputs": [],
   "source": [
    "# Assign positions to each network node according to work flows.\n",
    "# Manual adjustment is required here for good visualization.\n",
    "\n",
    "# Initially, use spring layout of node positions, but not necessary later.\n",
    "pos = nx.spring_layout(G)\n",
    "for n, p in pos.items():\n",
    "    G.node[n]['pos'] = p\n",
    "    \n",
    "G.node[0]['pos'] = [0, 1]\n",
    "G.node[1]['pos'] = [1, 1]\n",
    "G.node[2]['pos'] = [2, 2]\n",
    "G.node[3]['pos'] = [2, 0]\n",
    "G.node[4]['pos'] = [3, 2]\n",
    "G.node[5]['pos'] = [3, 0]\n",
    "G.node[6]['pos'] = [4, 2]\n",
    "G.node[7]['pos'] = [4, 0]\n",
    "G.node[8]['pos'] = [5, 1]\n",
    "G.node[9]['pos'] = [6, 2.5]\n",
    "G.node[10]['pos'] = [6, 1]\n",
    "G.node[11]['pos'] = [6, -0.5]\n",
    "\n",
    "G.node[12]['pos'] = [0, -3]\n",
    "G.node[13]['pos'] = [1, -3]\n",
    "G.node[14]['pos'] = [2, -2]\n",
    "G.node[15]['pos'] = [2, -4]\n",
    "G.node[16]['pos'] = [3, -2]\n",
    "G.node[17]['pos'] = [3, -4]\n",
    "G.node[18]['pos'] = [4, -2]\n",
    "G.node[19]['pos'] = [4, -4]\n",
    "G.node[20]['pos'] = [5, -3]\n",
    "G.node[21]['pos'] = [6, -1.5]\n",
    "G.node[22]['pos'] = [6, -3]\n",
    "G.node[23]['pos'] = [6, -4.5]\n",
    "\n",
    "G.node[24]['pos'] = [5, -6]\n",
    "G.node[25]['pos'] = [5, -7]\n",
    "G.node[26]['pos'] = [7, -6]\n",
    "G.node[27]['pos'] = [7, -7]\n",
    "G.node[28]['pos'] = [7, -8]\n",
    "\n",
    "\n",
    "G.node[29]['pos'] = [8, -1]\n",
    "G.node[30]['pos'] = [9, -1]\n",
    "G.node[31]['pos'] = [10, -2.5]\n",
    "G.node[32]['pos'] = [11, 0]\n",
    "G.node[33]['pos'] = [11, -2]\n",
    "G.node[34]['pos'] = [12, -2]\n",
    "G.node[35]['pos'] = [13, 0]\n",
    "G.node[36]['pos'] = [13, -2]\n",
    "G.node[37]['pos'] = [14, -1]\n",
    "G.node[38]['pos'] = [15, -1]\n",
    "\n",
    "G.node[39]['pos'] = [8, -4]\n",
    "G.node[40]['pos'] = [9, -4]\n",
    "G.node[41]['pos'] = [10, -4]\n",
    "G.node[43]['pos'] = [11, -3]\n",
    "G.node[44]['pos'] = [11, -5]\n",
    "G.node[45]['pos'] = [12, -4]\n",
    "G.node[47]['pos'] = [13, -4]\n",
    "G.node[48]['pos'] = [14, -4]\n",
    "G.node[49]['pos'] = [15, -3]\n",
    "G.node[50]['pos'] = [15, -5]\n",
    "G.node[51]['pos'] = [16, -4]\n",
    "\n",
    "G.node['n']['pos'] = [18, 1]\n",
    "G.node['p']['pos'] = [18, -4]"
   ]
  },
  {
   "cell_type": "code",
   "execution_count": 16,
   "metadata": {},
   "outputs": [],
   "source": [
    "# Create traces for plotly figure illustrating work flows\n",
    "edge_trace = go.Scatter(\n",
    "    x=[],\n",
    "    y=[],\n",
    "    text=[],\n",
    "    line=dict(width=1,color='#888'),\n",
    "    hoverinfo='none',\n",
    "    mode='lines')\n",
    "\n",
    "for edge in G.edges():\n",
    "    x0, y0 = G.node[edge[0]]['pos']\n",
    "    x1, y1 = G.node[edge[1]]['pos']\n",
    "    edge_trace['x'] += [x0, x1, None]\n",
    "    edge_trace['y'] += [y0, y1, None]\n",
    "    edge_trace['text'].append(edges[edge]/len(date))\n",
    "\n",
    "node_trace = go.Scatter(\n",
    "x=[],\n",
    "y=[],\n",
    "text=[],\n",
    "hovertext=[],\n",
    "mode='markers+text',\n",
    "hoverinfo='hovertext',\n",
    "textposition='bottom',\n",
    "marker=dict(\n",
    "    showscale=False,\n",
    "    # colorscale options\n",
    "    # 'Greys' | 'Greens' | 'Bluered' | 'Hot' | 'Picnic' | 'Portland' |\n",
    "    # Jet' | 'RdBu' | 'Blackbody' | 'Earth' | 'Electric' | 'YIOrRd' | 'YIGnBu'\n",
    "    colorscale='YIGnBu',\n",
    "    reversescale=True,\n",
    "    color=[],\n",
    "    size=10,\n",
    "#     colorbar=dict(\n",
    "#         thickness=15,\n",
    "#         title='Node Connections',\n",
    "#         xanchor='left',\n",
    "#         titleside='right'\n",
    "#     ),\n",
    "    line=dict(width=2)))\n",
    "\n",
    "for node in G.nodes():\n",
    "    x, y = G.node[node]['pos']\n",
    "    node_trace['x'].append(x)\n",
    "    node_trace['y'].append(y)\n",
    "    node_trace['text'].append(node)\n",
    "    node_trace['hovertext'].append(node_weights[node])\n"
   ]
  },
  {
   "cell_type": "code",
   "execution_count": 17,
   "metadata": {},
   "outputs": [
    {
     "data": {
      "text/html": [
       "<iframe id=\"igraph\" scrolling=\"no\" style=\"border:none;\" seamless=\"seamless\" src=\"https://plot.ly/~lygirona/96.embed\" height=\"525px\" width=\"100%\"></iframe>"
      ],
      "text/plain": [
       "<plotly.tools.PlotlyDisplay object>"
      ]
     },
     "execution_count": 17,
     "metadata": {},
     "output_type": "execute_result"
    }
   ],
   "source": [
    "# Plot the figure\n",
    "fig = go.Figure(data=[edge_trace, node_trace],\n",
    "             layout=go.Layout(\n",
    "                title='<br>Bosch Production Line',\n",
    "                titlefont=dict(size=16),\n",
    "                showlegend=False,\n",
    "                hovermode='closest',\n",
    "                margin=dict(b=20,l=5,r=5,t=40),\n",
    "                annotations=[ dict(\n",
    "                    showarrow=False,\n",
    "                    xref=\"paper\", yref=\"paper\",\n",
    "                    x=0.005, y=-0.002 ) ],\n",
    "                xaxis=dict(showgrid=False, zeroline=False, showticklabels=False),\n",
    "                yaxis=dict(showgrid=False, zeroline=False, showticklabels=False)))\n",
    "\n",
    "py.iplot(fig, filename='networkx')\n"
   ]
  },
  {
   "cell_type": "code",
   "execution_count": 18,
   "metadata": {},
   "outputs": [
    {
     "data": {
      "text/html": [
       "<iframe id=\"igraph\" scrolling=\"no\" style=\"border:none;\" seamless=\"seamless\" src=\"https://plot.ly/~lygirona/98.embed\" height=\"525px\" width=\"100%\"></iframe>"
      ],
      "text/plain": [
       "<plotly.tools.PlotlyDisplay object>"
      ]
     },
     "execution_count": 18,
     "metadata": {},
     "output_type": "execute_result"
    }
   ],
   "source": [
    "# Error probabilities of stations\n",
    "trace1 = go.Scatter(\n",
    "    x = list(node_weights.keys())[:-2],\n",
    "    y = list(node_weights.values())[:-2],\n",
    "    name='Error Probability'\n",
    ")\n",
    "\n",
    "trace2 = go.Scatter(\n",
    "    x = list(node_weights.keys())[:-2],\n",
    "    y = np.median(list(node_weights.values())[:-2])*np.ones(52),\n",
    "    name='Median Error Probability'\n",
    ")\n",
    "\n",
    "fig = go.Figure(data=[trace1, trace2],\n",
    "                layout=go.Layout(title='Error Probability',\n",
    "                                xaxis=dict(title='Station', range=[-1, 52]),\n",
    "                                yaxis=dict(title='Probability', range=[0, 0.05])))\n",
    "\n",
    "py.iplot(fig)"
   ]
  },
  {
   "cell_type": "code",
   "execution_count": 44,
   "metadata": {},
   "outputs": [
    {
     "ename": "PlotlyRequestError",
     "evalue": "Hi there, you've reached the threshold of 100 combined image exports and chart saves per day. If you need to raise your daily limit, consider upgrading to a Student or Personal Plan\nsee: https://plot.ly/products/cloud",
     "output_type": "error",
     "traceback": [
      "\u001b[0;31m---------------------------------------------------------------------------\u001b[0m",
      "\u001b[0;31mPlotlyRequestError\u001b[0m                        Traceback (most recent call last)",
      "\u001b[0;32m<ipython-input-44-76ccb19d7cc0>\u001b[0m in \u001b[0;36m<module>\u001b[0;34m()\u001b[0m\n\u001b[1;32m     44\u001b[0m                 ))\n\u001b[1;32m     45\u001b[0m \u001b[0;34m\u001b[0m\u001b[0m\n\u001b[0;32m---> 46\u001b[0;31m \u001b[0mpy\u001b[0m\u001b[0;34m.\u001b[0m\u001b[0miplot\u001b[0m\u001b[0;34m(\u001b[0m\u001b[0mfig\u001b[0m\u001b[0;34m)\u001b[0m\u001b[0;34m\u001b[0m\u001b[0m\n\u001b[0m",
      "\u001b[0;32m~/miniconda3/envs/kaggle/lib/python3.6/site-packages/plotly/plotly/plotly.py\u001b[0m in \u001b[0;36miplot\u001b[0;34m(figure_or_data, **plot_options)\u001b[0m\n\u001b[1;32m    138\u001b[0m     \u001b[0;32mif\u001b[0m \u001b[0;34m'auto_open'\u001b[0m \u001b[0;32mnot\u001b[0m \u001b[0;32min\u001b[0m \u001b[0mplot_options\u001b[0m\u001b[0;34m:\u001b[0m\u001b[0;34m\u001b[0m\u001b[0m\n\u001b[1;32m    139\u001b[0m         \u001b[0mplot_options\u001b[0m\u001b[0;34m[\u001b[0m\u001b[0;34m'auto_open'\u001b[0m\u001b[0;34m]\u001b[0m \u001b[0;34m=\u001b[0m \u001b[0;32mFalse\u001b[0m\u001b[0;34m\u001b[0m\u001b[0m\n\u001b[0;32m--> 140\u001b[0;31m     \u001b[0murl\u001b[0m \u001b[0;34m=\u001b[0m \u001b[0mplot\u001b[0m\u001b[0;34m(\u001b[0m\u001b[0mfigure_or_data\u001b[0m\u001b[0;34m,\u001b[0m \u001b[0;34m**\u001b[0m\u001b[0mplot_options\u001b[0m\u001b[0;34m)\u001b[0m\u001b[0;34m\u001b[0m\u001b[0m\n\u001b[0m\u001b[1;32m    141\u001b[0m \u001b[0;34m\u001b[0m\u001b[0m\n\u001b[1;32m    142\u001b[0m     \u001b[0;32mif\u001b[0m \u001b[0misinstance\u001b[0m\u001b[0;34m(\u001b[0m\u001b[0mfigure_or_data\u001b[0m\u001b[0;34m,\u001b[0m \u001b[0mdict\u001b[0m\u001b[0;34m)\u001b[0m\u001b[0;34m:\u001b[0m\u001b[0;34m\u001b[0m\u001b[0m\n",
      "\u001b[0;32m~/miniconda3/envs/kaggle/lib/python3.6/site-packages/plotly/plotly/plotly.py\u001b[0m in \u001b[0;36mplot\u001b[0;34m(figure_or_data, validate, **plot_options)\u001b[0m\n\u001b[1;32m    231\u001b[0m     \u001b[0mdata\u001b[0m \u001b[0;34m=\u001b[0m \u001b[0mfig\u001b[0m\u001b[0;34m.\u001b[0m\u001b[0mget\u001b[0m\u001b[0;34m(\u001b[0m\u001b[0;34m'data'\u001b[0m\u001b[0;34m,\u001b[0m \u001b[0;34m[\u001b[0m\u001b[0;34m]\u001b[0m\u001b[0;34m)\u001b[0m\u001b[0;34m\u001b[0m\u001b[0m\n\u001b[1;32m    232\u001b[0m     \u001b[0mplot_options\u001b[0m\u001b[0;34m[\u001b[0m\u001b[0;34m'layout'\u001b[0m\u001b[0;34m]\u001b[0m \u001b[0;34m=\u001b[0m \u001b[0mfig\u001b[0m\u001b[0;34m.\u001b[0m\u001b[0mget\u001b[0m\u001b[0;34m(\u001b[0m\u001b[0;34m'layout'\u001b[0m\u001b[0;34m,\u001b[0m \u001b[0;34m{\u001b[0m\u001b[0;34m}\u001b[0m\u001b[0;34m)\u001b[0m\u001b[0;34m\u001b[0m\u001b[0m\n\u001b[0;32m--> 233\u001b[0;31m     \u001b[0mresponse\u001b[0m \u001b[0;34m=\u001b[0m \u001b[0mv1\u001b[0m\u001b[0;34m.\u001b[0m\u001b[0mclientresp\u001b[0m\u001b[0;34m(\u001b[0m\u001b[0mdata\u001b[0m\u001b[0;34m,\u001b[0m \u001b[0;34m**\u001b[0m\u001b[0mplot_options\u001b[0m\u001b[0;34m)\u001b[0m\u001b[0;34m\u001b[0m\u001b[0m\n\u001b[0m\u001b[1;32m    234\u001b[0m \u001b[0;34m\u001b[0m\u001b[0m\n\u001b[1;32m    235\u001b[0m     \u001b[0;31m# Check if the url needs a secret key\u001b[0m\u001b[0;34m\u001b[0m\u001b[0;34m\u001b[0m\u001b[0m\n",
      "\u001b[0;32m~/miniconda3/envs/kaggle/lib/python3.6/site-packages/plotly/api/v1/clientresp.py\u001b[0m in \u001b[0;36mclientresp\u001b[0;34m(data, **kwargs)\u001b[0m\n\u001b[1;32m     33\u001b[0m \u001b[0;34m\u001b[0m\u001b[0m\n\u001b[1;32m     34\u001b[0m     \u001b[0murl\u001b[0m \u001b[0;34m=\u001b[0m \u001b[0;34m'{plotly_domain}/clientresp'\u001b[0m\u001b[0;34m.\u001b[0m\u001b[0mformat\u001b[0m\u001b[0;34m(\u001b[0m\u001b[0;34m**\u001b[0m\u001b[0mcfg\u001b[0m\u001b[0;34m)\u001b[0m\u001b[0;34m\u001b[0m\u001b[0m\n\u001b[0;32m---> 35\u001b[0;31m     \u001b[0mresponse\u001b[0m \u001b[0;34m=\u001b[0m \u001b[0mrequest\u001b[0m\u001b[0;34m(\u001b[0m\u001b[0;34m'post'\u001b[0m\u001b[0;34m,\u001b[0m \u001b[0murl\u001b[0m\u001b[0;34m,\u001b[0m \u001b[0mdata\u001b[0m\u001b[0;34m=\u001b[0m\u001b[0mpayload\u001b[0m\u001b[0;34m)\u001b[0m\u001b[0;34m\u001b[0m\u001b[0m\n\u001b[0m\u001b[1;32m     36\u001b[0m \u001b[0;34m\u001b[0m\u001b[0m\n\u001b[1;32m     37\u001b[0m     \u001b[0;31m# Old functionality, just keeping it around.\u001b[0m\u001b[0;34m\u001b[0m\u001b[0;34m\u001b[0m\u001b[0m\n",
      "\u001b[0;32m~/miniconda3/envs/kaggle/lib/python3.6/site-packages/plotly/api/v1/utils.py\u001b[0m in \u001b[0;36mrequest\u001b[0;34m(method, url, **kwargs)\u001b[0m\n\u001b[1;32m     84\u001b[0m         \u001b[0mcontent\u001b[0m \u001b[0;34m=\u001b[0m \u001b[0mresponse\u001b[0m\u001b[0;34m.\u001b[0m\u001b[0mcontent\u001b[0m \u001b[0;32mif\u001b[0m \u001b[0mresponse\u001b[0m \u001b[0;32melse\u001b[0m \u001b[0;34m'No content'\u001b[0m\u001b[0;34m\u001b[0m\u001b[0m\n\u001b[1;32m     85\u001b[0m         \u001b[0;32mraise\u001b[0m \u001b[0mexceptions\u001b[0m\u001b[0;34m.\u001b[0m\u001b[0mPlotlyRequestError\u001b[0m\u001b[0;34m(\u001b[0m\u001b[0mmessage\u001b[0m\u001b[0;34m,\u001b[0m \u001b[0mstatus_code\u001b[0m\u001b[0;34m,\u001b[0m \u001b[0mcontent\u001b[0m\u001b[0;34m)\u001b[0m\u001b[0;34m\u001b[0m\u001b[0m\n\u001b[0;32m---> 86\u001b[0;31m     \u001b[0mvalidate_response\u001b[0m\u001b[0;34m(\u001b[0m\u001b[0mresponse\u001b[0m\u001b[0;34m)\u001b[0m\u001b[0;34m\u001b[0m\u001b[0m\n\u001b[0m\u001b[1;32m     87\u001b[0m     \u001b[0;32mreturn\u001b[0m \u001b[0mresponse\u001b[0m\u001b[0;34m\u001b[0m\u001b[0m\n",
      "\u001b[0;32m~/miniconda3/envs/kaggle/lib/python3.6/site-packages/plotly/api/v1/utils.py\u001b[0m in \u001b[0;36mvalidate_response\u001b[0;34m(response)\u001b[0m\n\u001b[1;32m     36\u001b[0m         \u001b[0mmessage\u001b[0m \u001b[0;34m=\u001b[0m \u001b[0mcontent\u001b[0m \u001b[0;32mif\u001b[0m \u001b[0mcontent\u001b[0m \u001b[0;32melse\u001b[0m \u001b[0;34m'No Content'\u001b[0m\u001b[0;34m\u001b[0m\u001b[0m\n\u001b[1;32m     37\u001b[0m \u001b[0;34m\u001b[0m\u001b[0m\n\u001b[0;32m---> 38\u001b[0;31m     \u001b[0;32mraise\u001b[0m \u001b[0mexceptions\u001b[0m\u001b[0;34m.\u001b[0m\u001b[0mPlotlyRequestError\u001b[0m\u001b[0;34m(\u001b[0m\u001b[0mmessage\u001b[0m\u001b[0;34m,\u001b[0m \u001b[0mstatus_code\u001b[0m\u001b[0;34m,\u001b[0m \u001b[0mcontent\u001b[0m\u001b[0;34m)\u001b[0m\u001b[0;34m\u001b[0m\u001b[0m\n\u001b[0m\u001b[1;32m     39\u001b[0m \u001b[0;34m\u001b[0m\u001b[0m\n\u001b[1;32m     40\u001b[0m \u001b[0;34m\u001b[0m\u001b[0m\n",
      "\u001b[0;31mPlotlyRequestError\u001b[0m: Hi there, you've reached the threshold of 100 combined image exports and chart saves per day. If you need to raise your daily limit, consider upgrading to a Student or Personal Plan\nsee: https://plot.ly/products/cloud"
     ]
    }
   ],
   "source": [
    "# Error probabilities of station transitions\n",
    "edges_pos_rate_sorted = sorted(edges_pos_rate.items(), key=lambda x: x[1], reverse=True)\n",
    "\n",
    "trace_pos_rate = go.Scatter(\n",
    "    x = [],\n",
    "    y = [], \n",
    "    mode='lines',\n",
    "    hovertext=[],\n",
    "    hoverinfo='hovertext'\n",
    ")\n",
    "\n",
    "for n, x in enumerate(edges_pos_rate_sorted):\n",
    "    if n>2:\n",
    "        trace_pos_rate['x'].append(n)\n",
    "        trace_pos_rate['y'].append(x[1])\n",
    "        trace_pos_rate['hovertext'].append(x[0].__str__())\n",
    "        \n",
    "# Absolute error numbers of station transitions\n",
    "edges_pos_sorted = sorted(edges_pos.items(), key=lambda x: x[1], reverse=True)\n",
    "\n",
    "trace_pos_count = go.Scatter(\n",
    "    x = [],\n",
    "    y = [], \n",
    "    mode='lines',\n",
    "    hovertext=[],\n",
    "    hoverinfo='hovertext',\n",
    "    yaxis='y2'\n",
    ")\n",
    "\n",
    "for n, x in enumerate(edges_pos_sorted):\n",
    "    if n>2:\n",
    "        trace_pos_count['x'].append(n)\n",
    "        trace_pos_count['y'].append(x[1])\n",
    "        trace_pos_count['hovertext'].append(x[0].__str__())\n",
    "        \n",
    "fig = go.Figure(data=[trace_pos_rate, trace_pos_count], \n",
    "                layout=go.Layout(\n",
    "                legend=dict(orientation=\"h\"),\n",
    "                title='<br>Transition Error Probability',\n",
    "                xaxis=dict(range=[0, len(edges_pos_rate_sorted)+5], title='Transition Index'),\n",
    "                yaxis=dict(range=[0, 0.6], title='Probability', showgrid=False),\n",
    "                yaxis2=dict(range=[0, edges_pos_sorted[0][1]+10], title='Count',\n",
    "                           overlaying='y', side='right', showgrid=False, showline=True)\n",
    "                ))\n",
    "        \n",
    "py.iplot(fig)"
   ]
  },
  {
   "cell_type": "code",
   "execution_count": 20,
   "metadata": {},
   "outputs": [
    {
     "data": {
      "text/plain": [
       "99950"
      ]
     },
     "execution_count": 20,
     "metadata": {},
     "output_type": "execute_result"
    }
   ],
   "source": [
    "# Amount of data used in visualization\n",
    "# More data will be more accurate, and results may change as well.\n",
    "len(date)"
   ]
  },
  {
   "cell_type": "code",
   "execution_count": 37,
   "metadata": {},
   "outputs": [
    {
     "data": {
      "text/html": [
       "<iframe id=\"igraph\" scrolling=\"no\" style=\"border:none;\" seamless=\"seamless\" src=\"https://plot.ly/~lygirona/108.embed\" height=\"525px\" width=\"100%\"></iframe>"
      ],
      "text/plain": [
       "<plotly.tools.PlotlyDisplay object>"
      ]
     },
     "execution_count": 37,
     "metadata": {},
     "output_type": "execute_result"
    }
   ],
   "source": [
    "edges_pos_sorted = sorted(edges_pos.items(), key=lambda x: x[1], reverse=True)\n",
    "\n",
    "trace_pos_rate = go.Scatter(\n",
    "    x = [],\n",
    "    y = [], \n",
    "    mode='lines',\n",
    "    hovertext=[],\n",
    "    hoverinfo='hovertext'\n",
    ")\n",
    "\n",
    "for n, x in enumerate(edges_pos_sorted):\n",
    "    if n>2:\n",
    "        trace_pos_rate['x'].append(n)\n",
    "        trace_pos_rate['y'].append(x[1])\n",
    "        trace_pos_rate['hovertext'].append(x[0].__str__())\n",
    "        \n",
    "fig = go.Figure(data=[trace_pos_rate], \n",
    "                layout=go.Layout(\n",
    "                title='<br>Transition Error Probability',\n",
    "                xaxis=dict(range=[0, len(edges_pos_sorted)+5], title='Transition Index'),\n",
    "                yaxis=dict(range=[0, edges_pos_sorted[0][1]+10], title='Probability')\n",
    "                ))\n",
    "        \n",
    "py.iplot(fig)"
   ]
  },
  {
   "cell_type": "code",
   "execution_count": 61,
   "metadata": {},
   "outputs": [],
   "source": [
    "edges_pos_combine = {k: (edges_pos[k], edges_pos_rate[k]) for k in edges_pos.keys()}\n",
    "edges_name, edges_value = zip(*edges_pos_combine.items())\n",
    "edges_name = list(edges_name)\n",
    "edges_value = list(edges_value)\n",
    "x, y = zip(*edges_value)\n",
    "x, y = list(x), list(y)"
   ]
  },
  {
   "cell_type": "code",
   "execution_count": 80,
   "metadata": {},
   "outputs": [
    {
     "data": {
      "text/plain": [
       "<matplotlib.collections.PathCollection at 0x7fb5e251ea90>"
      ]
     },
     "execution_count": 80,
     "metadata": {},
     "output_type": "execute_result"
    },
    {
     "data": {
      "image/png": "[encoded data removed]",
      "text/plain": [
       "<Figure size 432x288 with 1 Axes>"
      ]
     },
     "metadata": {},
     "output_type": "display_data"
    }
   ],
   "source": [
    "fig, ax = plt.subplots()\n",
    "ax.scatter(x, y)\n",
    "\n",
    "#for i, txt in enumerate(edges_name):\n",
    "#    ax.annotate(txt, (x[i],y[i]))\n",
    "\n",
    "#ax.set_xlim([-0, 100])\n",
    "#ax.set_ylim([0.9, 1.05])"
   ]
  },
  {
   "cell_type": "code",
   "execution_count": null,
   "metadata": {},
   "outputs": [],
   "source": []
  }
 ],
 "metadata": {
  "kernelspec": {
   "display_name": "Python 3",
   "language": "python",
   "name": "python3"
  },
  "language_info": {
   "codemirror_mode": {
    "name": "ipython",
    "version": 3
   },
   "file_extension": ".py",
   "mimetype": "text/x-python",
   "name": "python",
   "nbconvert_exporter": "python",
   "pygments_lexer": "ipython3",
   "version": "3.6.5"
  }
 },
 "nbformat": 4,
 "nbformat_minor": 2
}
