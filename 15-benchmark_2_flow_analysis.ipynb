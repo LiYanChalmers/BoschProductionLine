{
 "cells": [
  {
   "cell_type": "markdown",
   "metadata": {},
   "source": [
    "## Benchmark for measuring performance of engineered features and models\n",
    "Add station flow to benchmark_1"
   ]
  },
  {
   "cell_type": "code",
   "execution_count": 1,
   "metadata": {},
   "outputs": [],
   "source": [
    "import os\n",
    "if os.name=='nt':\n",
    "    mingw_path = 'C:\\\\Program Files\\\\mingw-w64\\\\x86_64-8.1.0-posix-seh-rt_v6-rev0\\\\mingw64\\\\bin'\n",
    "    os.environ['PATH'] = mingw_path + ';' + os.environ['PATH']\n",
    "\n",
    "import numpy as np\n",
    "import pandas as pd\n",
    "from xgboost import XGBClassifier\n",
    "from sklearn.metrics import matthews_corrcoef, roc_auc_score\n",
    "from sklearn.model_selection import cross_val_score\n",
    "from sklearn.model_selection import train_test_split, RepeatedStratifiedKFold\n",
    "from sklearn.model_selection import cross_validate, cross_val_predict, StratifiedKFold\n",
    "from sklearn.metrics import roc_auc_score\n",
    "import matplotlib.pyplot as plt\n",
    "import seaborn as sns\n",
    "from sys import getsizeof\n",
    "import time\n",
    "import gc\n",
    "\n",
    "import warnings\n",
    "warnings.filterwarnings(\"ignore\")\n",
    "\n",
    "%matplotlib inline"
   ]
  },
  {
   "cell_type": "code",
   "execution_count": 2,
   "metadata": {},
   "outputs": [],
   "source": [
    "import pickle\n",
    "\n",
    "def save_pickle(x, filename):\n",
    "    with open(filename, 'wb') as handle:\n",
    "        pickle.dump(x, handle, protocol=pickle.HIGHEST_PROTOCOL)\n",
    "\n",
    "def read_pickle(filename):\n",
    "    with open(filename, 'rb') as handle:\n",
    "        x = pickle.load(handle)\n",
    "    return x"
   ]
  },
  {
   "cell_type": "code",
   "execution_count": 3,
   "metadata": {},
   "outputs": [],
   "source": [
    "from numba import jit\n",
    "\n",
    "@jit\n",
    "def mcc(tp, tn, fp, fn):\n",
    "    sup = tp * tn - fp * fn\n",
    "    inf = (tp + fp) * (tp + fn) * (tn + fp) * (tn + fn)\n",
    "    if inf==0:\n",
    "        return 0\n",
    "    else:\n",
    "        return sup / np.sqrt(inf)\n",
    "\n",
    "@jit\n",
    "def eval_mcc(y_true, y_prob, show=False):\n",
    "    idx = np.argsort(y_prob)\n",
    "    y_true_sort = y_true[idx]\n",
    "    n = y_true.shape[0]\n",
    "    nump = 1.0 * np.sum(y_true) # number of positive\n",
    "    numn = n - nump # number of negative\n",
    "    tp = nump\n",
    "    tn = 0.0\n",
    "    fp = numn\n",
    "    fn = 0.0\n",
    "    best_mcc = 0.0\n",
    "    best_id = -1\n",
    "    prev_proba = -1\n",
    "    best_proba = -1\n",
    "    mccs = np.zeros(n)\n",
    "    new_mcc = 0\n",
    "    for i in range(n):\n",
    "        # all items with idx < i are predicted negative while others are predicted positive\n",
    "        # only evaluate mcc when probability changes\n",
    "        proba = y_prob[idx[i]]\n",
    "        if proba != prev_proba:\n",
    "            prev_proba = proba\n",
    "            new_mcc = mcc(tp, tn, fp, fn)\n",
    "            if new_mcc >= best_mcc:\n",
    "                best_mcc = new_mcc\n",
    "                best_id = i\n",
    "                best_proba = proba\n",
    "        mccs[i] = new_mcc\n",
    "        if y_true_sort[i] == 1:\n",
    "            tp -= 1.0\n",
    "            fn += 1.0\n",
    "        else:\n",
    "            fp -= 1.0\n",
    "            tn += 1.0\n",
    "    if show:\n",
    "        y_pred = (y_prob >= best_proba).astype(int)\n",
    "        score = matthews_corrcoef(y_true, y_pred)\n",
    "        print(score, best_mcc)\n",
    "        plt.plot(mccs)\n",
    "        return best_proba, best_mcc, y_pred\n",
    "    else:\n",
    "        return best_mcc\n",
    "    \n",
    "def mcc_eval(y_prob, dtrain):\n",
    "    y_true = dtrain.get_label()\n",
    "    best_mcc = eval_mcc(y_true, y_prob)\n",
    "    return 'MCC', -best_mcc"
   ]
  },
  {
   "cell_type": "code",
   "execution_count": 4,
   "metadata": {},
   "outputs": [],
   "source": [
    "def cross_val_predict_rskf(clf, x_train, y_train, n_splits=3, \n",
    "                           n_repeats=2, random_state=42, verbose=False, early_stopping=None):\n",
    "    '''\n",
    "    Repeated stratified KFold CV, returns predictions for \n",
    "    each repeat and average score.\n",
    "    n_repeats: repetitions of CV\n",
    "    to disable erlay stopping, set early_stopping to None\n",
    "    '''\n",
    "    scores = []\n",
    "    n_trees = []\n",
    "    clfs = []\n",
    "    running_time = []\n",
    "    \n",
    "    rskf = RepeatedStratifiedKFold(n_repeats=n_repeats, n_splits=n_splits, \n",
    "                                   random_state=0)\n",
    "    np.random.seed(random_state)\n",
    "    for n, (train_index, test_index) in enumerate(rskf.split(x_train, y_train)):\n",
    "        print('Round {}'.format(n))\n",
    "        start_time = time.time()\n",
    "        x_train_tmp, x_test_tmp = x_train.iloc[train_index], x_train.iloc[test_index]\n",
    "        y_train_tmp, y_test_tmp = y_train.iloc[train_index], y_train.iloc[test_index]\n",
    "\n",
    "        clf.random_state = np.random.randint(10000000)\n",
    "        \n",
    "        if early_stopping is not None:\n",
    "            clf.fit(x_train_tmp, y_train_tmp, \n",
    "                    eval_set=[(x_test_tmp, y_test_tmp)], \n",
    "                    eval_metric=mcc_eval, early_stopping_rounds=early_stopping,\n",
    "                    verbose=verbose)\n",
    "            scores.append(-clf.best_score)\n",
    "            n_trees.append(clf.best_ntree_limit)\n",
    "        else:\n",
    "            clf.fit(x_train_tmp, y_train_tmp)\n",
    "            scores.append(eval_mcc(y_test_tmp.values, clf.predict_proba(x_test_tmp)[:, 1]))\n",
    "            n_trees.append(clf.n_estimators)\n",
    "        \n",
    "        clfs.append(clf)\n",
    "        running_time.append(time.time()-start_time)\n",
    "        print('Split {}, score = {:.3f}, best_ntree_limit = {}, total time = {:.3f} min'.format(n, scores[n], \n",
    "            n_trees[n], sum(running_time)/60))\n",
    "\n",
    "    print('Score mean = {:.3f}, std = {:.3f}'.format(np.mean(scores), np.std(scores)))\n",
    "    \n",
    "    return clfs, scores, n_trees, running_time"
   ]
  },
  {
   "cell_type": "code",
   "execution_count": 5,
   "metadata": {},
   "outputs": [],
   "source": [
    "def cross_val_predict_skf_rm(clf, x_train, y_train, n_splits=3, \n",
    "                           n_repeats=2, random_state=42, verbose=False, early_stopping=None):\n",
    "    '''\n",
    "    Stratified KFold CV with repeated models\n",
    "    to disable erlay stopping, set early_stopping to None\n",
    "    '''\n",
    "    scores = []\n",
    "    n_trees = []\n",
    "    clfs = []\n",
    "    running_time = []\n",
    "\n",
    "    skf = StratifiedKFold(n_splits=n_splits, random_state=0, shuffle=True)\n",
    "    np.random.seed(random_state)\n",
    "\n",
    "    for m in range(n_repeats):\n",
    "        print('Repeat {}'.format(m))\n",
    "        for n, (train_index, test_index) in enumerate(skf.split(x_train, y_train)):\n",
    "            start_time = time.time()\n",
    "            x_train_tmp, x_test_tmp = x_train.iloc[train_index], x_train.iloc[test_index]\n",
    "            y_train_tmp, y_test_tmp = y_train.iloc[train_index], y_train.iloc[test_index]\n",
    "\n",
    "            clf.random_state = np.random.randint(10000000)\n",
    "            # print(clf.random_state)\n",
    "\n",
    "            if early_stopping is not None:\n",
    "                clf.fit(x_train_tmp, y_train_tmp, \n",
    "                        eval_set=[(x_test_tmp, y_test_tmp)], \n",
    "                        eval_metric=mcc_eval, early_stopping_rounds=early_stopping,\n",
    "                        verbose=verbose)\n",
    "                scores.append(-clf.best_score)\n",
    "                n_trees.append(clf.best_ntree_limit)\n",
    "            else:\n",
    "                clf.fit(x_train_tmp, y_train_tmp)\n",
    "                scores.append(eval_mcc(y_test_tmp.values, clf.predict_proba(x_test_tmp)[:, 1]))\n",
    "                n_trees.append(clf.n_estimators)\n",
    "            \n",
    "            clfs.append(clf)\n",
    "            running_time.append(time.time() - start_time)\n",
    "            print('Split {}, score = {:.3f}, n_best_trees = {}, total time = {:.3f} min'.format(n, \n",
    "                scores[m*n_repeats+n], n_trees[m*n_repeats+n], sum(running_time)/60))\n",
    "\n",
    "    print('Score mean = {:.3f}, std = {:.3f}'.format(np.mean(scores), np.std(scores)))\n",
    "    \n",
    "    return clfs, scores, n_trees, running_time"
   ]
  },
  {
   "cell_type": "code",
   "execution_count": 6,
   "metadata": {},
   "outputs": [],
   "source": [
    "# y_train = read_pickle('y_train.pickle')\n",
    "\n",
    "# x_train = read_pickle('x_train_numeric_date_0.pickle')"
   ]
  },
  {
   "cell_type": "code",
   "execution_count": 7,
   "metadata": {},
   "outputs": [],
   "source": [
    "important_features = pd.read_csv('benchmark_features/benchmark_1/important_numeric_features.csv', \n",
    "                                 index_col=0, header=None)\n",
    "important_features = list(important_features.values.ravel())\n",
    "important_features.extend(['Id', 'Response'])"
   ]
  },
  {
   "cell_type": "code",
   "execution_count": 8,
   "metadata": {
    "scrolled": true
   },
   "outputs": [],
   "source": [
    "x_train_numeric = pd.read_csv('data/train_numeric.csv.zip', index_col=0, usecols=important_features, dtype=np.float32)\n",
    "\n",
    "y_train = x_train_numeric.Response\n",
    "x_train_numeric.drop(['Response'], axis=1, inplace=True)"
   ]
  },
  {
   "cell_type": "code",
   "execution_count": 9,
   "metadata": {},
   "outputs": [],
   "source": [
    "date_train = pd.read_csv('benchmark_features/benchmark_2/train_station_flow.csv.gz', index_col=0, header=None)"
   ]
  },
  {
   "cell_type": "code",
   "execution_count": 10,
   "metadata": {},
   "outputs": [],
   "source": [
    "x_train = x_train_numeric.join(date_train)\n",
    "\n",
    "columns = list(x_train.columns)\n",
    "columns[-1] = 'station_flow'\n",
    "x_train.columns = columns"
   ]
  },
  {
   "cell_type": "markdown",
   "metadata": {},
   "source": [
    "### CV score based on stratified KFold with repeated models"
   ]
  },
  {
   "cell_type": "code",
   "execution_count": 11,
   "metadata": {},
   "outputs": [
    {
     "name": "stdout",
     "output_type": "stream",
     "text": [
      "Repeat 0\n",
      "Split 0, score = 0.222, n_best_trees = 20, total time = 1.610 min\n",
      "Split 1, score = 0.226, n_best_trees = 20, total time = 3.201 min\n",
      "Split 2, score = 0.223, n_best_trees = 20, total time = 4.817 min\n",
      "Split 3, score = 0.216, n_best_trees = 20, total time = 6.407 min\n",
      "Split 4, score = 0.219, n_best_trees = 20, total time = 8.051 min\n",
      "Repeat 1\n",
      "Split 0, score = 0.216, n_best_trees = 20, total time = 9.674 min\n",
      "Split 1, score = 0.219, n_best_trees = 20, total time = 11.274 min\n",
      "Split 2, score = 0.218, n_best_trees = 20, total time = 12.878 min\n",
      "Split 3, score = 0.222, n_best_trees = 20, total time = 14.500 min\n",
      "Split 4, score = 0.224, n_best_trees = 20, total time = 16.088 min\n",
      "Repeat 2\n",
      "Split 0, score = 0.222, n_best_trees = 20, total time = 17.710 min\n",
      "Split 1, score = 0.224, n_best_trees = 20, total time = 19.305 min\n",
      "Split 2, score = 0.217, n_best_trees = 20, total time = 20.903 min\n",
      "Split 3, score = 0.221, n_best_trees = 20, total time = 22.480 min\n",
      "Split 4, score = 0.213, n_best_trees = 20, total time = 24.090 min\n",
      "Score mean = 0.220, std = 0.003\n"
     ]
    }
   ],
   "source": [
    "n_estimators = 20\n",
    "clf = XGBClassifier(max_depth=14, n_estimators=n_estimators, \n",
    "                    base_score=0.0058, n_jobs=20, colsample_bytree=0.6,\n",
    "                    min_child_weight=5, subsample=0.9,  \n",
    "                    reg_lambda=4, silent=False, learning_rate=0.03)\n",
    "\n",
    "# clfs, scores, n_trees, running_time = cross_val_predict_rskf(clf, x_train_numeric, \n",
    "#    y_train, n_splits=3, n_repeats=2, random_state=42, verbose=False)\n",
    "\n",
    "clfs, scores, n_trees, running_time = cross_val_predict_skf_rm(clf, x_train, \n",
    "    y_train, n_splits=5, n_repeats=3, random_state=4238457, early_stopping=None, verbose=False)\n",
    "# save_pickle(clfs, 'clfs_benchmark_2_flow_analysis.pickle')\n",
    "\n",
    "results = {'clfs': clfs, 'scores': scores, 'n_trees': n_trees, 'running_time': running_time}\n",
    "save_pickle(results, 'benchmark_features/benchmark_2/results_benchmark_2_flow_analysis.pickle')"
   ]
  },
  {
   "cell_type": "markdown",
   "metadata": {},
   "source": [
    "### Calculate `n_trees` for training the whole dataset"
   ]
  },
  {
   "cell_type": "code",
   "execution_count": 12,
   "metadata": {},
   "outputs": [
    {
     "data": {
      "text/plain": [
       "0.2197476668911593"
      ]
     },
     "execution_count": 12,
     "metadata": {},
     "output_type": "execute_result"
    }
   ],
   "source": [
    "results = read_pickle('benchmark_features/benchmark_2/results_benchmark_2_flow_analysis.pickle')\n",
    "n_rounds = np.ceil(np.mean(results['n_trees'])*5/4).astype(np.int)\n",
    "np.mean(results['scores'])"
   ]
  },
  {
   "cell_type": "markdown",
   "metadata": {},
   "source": [
    "### Train on the whole dataset"
   ]
  },
  {
   "cell_type": "code",
   "execution_count": 13,
   "metadata": {},
   "outputs": [
    {
     "name": "stdout",
     "output_type": "stream",
     "text": [
      "[0]\tvalidation_0-error:0.005811\tvalidation_0-MCC:-0.171849\n",
      "[1]\tvalidation_0-error:0.005811\tvalidation_0-MCC:-0.182925\n",
      "[2]\tvalidation_0-error:0.005811\tvalidation_0-MCC:-0.189521\n",
      "[3]\tvalidation_0-error:0.005811\tvalidation_0-MCC:-0.191187\n",
      "[4]\tvalidation_0-error:0.005811\tvalidation_0-MCC:-0.197343\n",
      "[5]\tvalidation_0-error:0.005811\tvalidation_0-MCC:-0.211479\n",
      "[6]\tvalidation_0-error:0.005811\tvalidation_0-MCC:-0.220939\n",
      "[7]\tvalidation_0-error:0.005811\tvalidation_0-MCC:-0.223311\n",
      "[8]\tvalidation_0-error:0.005811\tvalidation_0-MCC:-0.224485\n",
      "[9]\tvalidation_0-error:0.005811\tvalidation_0-MCC:-0.226756\n",
      "[10]\tvalidation_0-error:0.005811\tvalidation_0-MCC:-0.22919\n",
      "[11]\tvalidation_0-error:0.005811\tvalidation_0-MCC:-0.233556\n",
      "[12]\tvalidation_0-error:0.005811\tvalidation_0-MCC:-0.235394\n",
      "[13]\tvalidation_0-error:0.005811\tvalidation_0-MCC:-0.237844\n",
      "[14]\tvalidation_0-error:0.005811\tvalidation_0-MCC:-0.240382\n",
      "[15]\tvalidation_0-error:0.005811\tvalidation_0-MCC:-0.241101\n",
      "[16]\tvalidation_0-error:0.005811\tvalidation_0-MCC:-0.243172\n",
      "[17]\tvalidation_0-error:0.005811\tvalidation_0-MCC:-0.245266\n",
      "[18]\tvalidation_0-error:0.005811\tvalidation_0-MCC:-0.247986\n",
      "[19]\tvalidation_0-error:0.005811\tvalidation_0-MCC:-0.250197\n",
      "[20]\tvalidation_0-error:0.005811\tvalidation_0-MCC:-0.252497\n",
      "[21]\tvalidation_0-error:0.005811\tvalidation_0-MCC:-0.254428\n",
      "[22]\tvalidation_0-error:0.005808\tvalidation_0-MCC:-0.256665\n",
      "[23]\tvalidation_0-error:0.005802\tvalidation_0-MCC:-0.259918\n",
      "[24]\tvalidation_0-error:0.005802\tvalidation_0-MCC:-0.261804\n"
     ]
    },
    {
     "data": {
      "text/plain": [
       "XGBClassifier(base_score=0.0058, booster='gbtree', colsample_bylevel=1,\n",
       "       colsample_bytree=0.6, gamma=0, learning_rate=0.03, max_delta_step=0,\n",
       "       max_depth=14, min_child_weight=5, missing=None, n_estimators=25,\n",
       "       n_jobs=-1, nthread=None, objective='binary:logistic',\n",
       "       random_state=0, reg_alpha=0, reg_lambda=4, scale_pos_weight=1,\n",
       "       seed=None, silent=False, subsample=0.9)"
      ]
     },
     "execution_count": 13,
     "metadata": {},
     "output_type": "execute_result"
    }
   ],
   "source": [
    "clf = XGBClassifier(max_depth=14, n_estimators=n_rounds, \n",
    "                    base_score=0.0058, n_jobs=-1, colsample_bytree=0.6,\n",
    "                    min_child_weight=5, subsample=0.9,  \n",
    "                    reg_lambda=4, silent=False, learning_rate=0.03)\n",
    "clf.fit(x_train, y_train, \n",
    "        eval_set=[(x_train, y_train)], \n",
    "        eval_metric=mcc_eval, verbose=True)"
   ]
  },
  {
   "cell_type": "code",
   "execution_count": 14,
   "metadata": {},
   "outputs": [],
   "source": [
    "y_train_pred = clf.predict_proba(x_train)[:, 1]"
   ]
  },
  {
   "cell_type": "code",
   "execution_count": 15,
   "metadata": {},
   "outputs": [
    {
     "name": "stdout",
     "output_type": "stream",
     "text": [
      "0.26112222374809907\n"
     ]
    },
    {
     "data": {
      "image/png": "[encoded data removed]",
      "text/plain": [
       "<Figure size 432x288 with 1 Axes>"
      ]
     },
     "metadata": {},
     "output_type": "display_data"
    }
   ],
   "source": [
    "thresholds = np.linspace(0.01, 0.99, 400)\n",
    "mcc = np.array([matthews_corrcoef(y_train, y_train_pred>thr) for thr in thresholds])\n",
    "plt.plot(thresholds, mcc)\n",
    "best_threshold = thresholds[mcc.argmax()]\n",
    "print(mcc.max())"
   ]
  },
  {
   "cell_type": "code",
   "execution_count": 16,
   "metadata": {},
   "outputs": [
    {
     "data": {
      "text/plain": [
       "0.11315789473684211"
      ]
     },
     "execution_count": 16,
     "metadata": {},
     "output_type": "execute_result"
    }
   ],
   "source": [
    "best_threshold"
   ]
  },
  {
   "cell_type": "markdown",
   "metadata": {},
   "source": [
    "### Load test data and predict"
   ]
  },
  {
   "cell_type": "code",
   "execution_count": 17,
   "metadata": {},
   "outputs": [],
   "source": [
    "important_features = pd.read_csv('benchmark_features/benchmark_1/important_numeric_features.csv', \n",
    "                                 index_col=0, header=None).values.ravel().tolist()\n",
    "important_features.append('Id')\n",
    "\n",
    "x_test = pd.read_csv('data/test_numeric.csv.zip', index_col=0, usecols=important_features)\n",
    "\n",
    "date_test = pd.read_csv('benchmark_features/benchmark_2/test_station_flow.csv.gz', index_col=0, header=None)\n",
    "\n",
    "date_test.index.name = 'Id'\n",
    "date_test.columns = ['station_flow']\n",
    "\n",
    "x_test = x_test.join(date_test, on='Id')\n",
    "x_test.columns = columns"
   ]
  },
  {
   "cell_type": "code",
   "execution_count": 18,
   "metadata": {},
   "outputs": [],
   "source": [
    "y_test_pred = clf.predict_proba(x_test)[:, 1]\n",
    "y_test_pred_int = (y_test_pred>best_threshold).astype(int)"
   ]
  },
  {
   "cell_type": "code",
   "execution_count": 19,
   "metadata": {},
   "outputs": [],
   "source": [
    "sub = pd.read_csv(\"data/sample_submission.csv.zip\", index_col=0)\n",
    "sub[\"Response\"] = y_test_pred_int\n",
    "sub.to_csv(\"benchmark_features/benchmark_2/15-benchmark_2_flow_analysis_submission.csv.gz\", compression=\"gzip\")"
   ]
  },
  {
   "cell_type": "markdown",
   "metadata": {},
   "source": [
    "public MCC = 0.21714, private MCC = 0.20806\n",
    "\n",
    "CV MCC mean = 0.220, std = 0.003\n",
    "\n",
    "**Hyperparameter tuning is needed!**"
   ]
  },
  {
   "cell_type": "code",
   "execution_count": null,
   "metadata": {},
   "outputs": [],
   "source": []
  }
 ],
 "metadata": {
  "kernelspec": {
   "display_name": "Python 3",
   "language": "python",
   "name": "python3"
  },
  "language_info": {
   "codemirror_mode": {
    "name": "ipython",
    "version": 3
   },
   "file_extension": ".py",
   "mimetype": "text/x-python",
   "name": "python",
   "nbconvert_exporter": "python",
   "pygments_lexer": "ipython3",
   "version": "3.6.6"
  }
 },
 "nbformat": 4,
 "nbformat_minor": 2
}
