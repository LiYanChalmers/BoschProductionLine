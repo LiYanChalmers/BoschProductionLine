{
 "cells": [
  {
   "cell_type": "code",
   "execution_count": 1,
   "metadata": {},
   "outputs": [],
   "source": [
    "import numpy as np # linear algebra\n",
    "import pandas as pd # data processing, CSV file I/O (e.g. pd.read_csv)\n",
    "import matplotlib.pyplot as plt\n",
    "import gc \n",
    "import tqdm\n",
    "\n",
    "% matplotlib inline"
   ]
  },
  {
   "cell_type": "code",
   "execution_count": 2,
   "metadata": {},
   "outputs": [
    {
     "name": "stderr",
     "output_type": "stream",
     "text": [
      "C:\\Users\\home\\Anaconda3\\envs\\kaggle\\lib\\site-packages\\numpy\\lib\\arraysetops.py:472: FutureWarning: elementwise comparison failed; returning scalar instead, but in the future will perform elementwise comparison\n",
      "  mask |= (ar1 == a)\n"
     ]
    }
   ],
   "source": [
    "# Obtain all labels\n",
    "response = pd.read_csv('data/train_numeric.csv.zip', index_col=0, usecols=[0, 969])\n",
    "df = pd.read_csv('data/train_date.csv.zip', index_col=0)\n",
    "df = df.join(response)"
   ]
  },
  {
   "cell_type": "code",
   "execution_count": 3,
   "metadata": {},
   "outputs": [
    {
     "name": "stdout",
     "output_type": "stream",
     "text": [
      "1183747 1156\n"
     ]
    }
   ],
   "source": [
    "n_parts, n_columns = df.shape\n",
    "n_columns -= 1\n",
    "print(n_parts, n_columns)"
   ]
  },
  {
   "cell_type": "code",
   "execution_count": 4,
   "metadata": {},
   "outputs": [],
   "source": [
    "# stations and features in each station\n",
    "stations = list(set([f.split('_')[1] for f in df.columns.tolist() if f!='Response']))\n",
    "\n",
    "station_features = {s: [f for f in df.columns.tolist() if s in f] for s in stations }"
   ]
  },
  {
   "cell_type": "code",
   "execution_count": 5,
   "metadata": {},
   "outputs": [
    {
     "data": {
      "application/vnd.jupyter.widget-view+json": {
       "model_id": "c8392bd092d04f939fd22287f4039136",
       "version_major": 2,
       "version_minor": 0
      },
      "text/plain": [
       "HBox(children=(IntProgress(value=0, max=1157), HTML(value='')))"
      ]
     },
     "metadata": {},
     "output_type": "display_data"
    },
    {
     "name": "stdout",
     "output_type": "stream",
     "text": [
      "\n"
     ]
    }
   ],
   "source": [
    "# Calculate samples in each feature, if there is any station that every or almost every part flows by?\n",
    "columns = df.columns.tolist()\n",
    "feature_samples = {}\n",
    "for col in tqdm.tqdm_notebook(columns):\n",
    "    feature_samples[col] = len(df.loc[df[col].notna(), col])\n",
    "\n",
    "feature_samples = pd.Series(feature_samples)\n",
    "feature_samples.sort_values(ascending=False, inplace=True)\n",
    "feature_samples.drop('Response', inplace=True)"
   ]
  },
  {
   "cell_type": "code",
   "execution_count": 6,
   "metadata": {},
   "outputs": [],
   "source": [
    "s = {}\n",
    "p = {}\n",
    "for i, n in enumerate(feature_samples.unique()):\n",
    "    s[i] = (n, feature_samples.loc[feature_samples==n].index.tolist())\n",
    "    p[i] = (n, list(set([k.split('_')[1] for k in s[i][1]])))"
   ]
  },
  {
   "cell_type": "markdown",
   "metadata": {},
   "source": [
    "### The number of segments in production\n",
    "Productions with 3 segments or more tends to have different error distributions."
   ]
  },
  {
   "cell_type": "code",
   "execution_count": 7,
   "metadata": {},
   "outputs": [],
   "source": [
    "def segments(part_in, threshold=0.05):\n",
    "    '''Calculate number of segments in a part.'''\n",
    "    part_in.dropna(inplace=True)\n",
    "    part_in.drop('Response', inplace=True)\n",
    "    return sum(part_in.diff().fillna(0)>threshold) + 1\n",
    "\n",
    "# df['segment'] = df.apply(segments, axis=1)"
   ]
  },
  {
   "cell_type": "code",
   "execution_count": null,
   "metadata": {},
   "outputs": [],
   "source": [
    "threshold = 0.05\n",
    "N = 100\n",
    "segment = []\n",
    "for i in tqdm.tqdm_notebook(range(n_parts//N+1)):\n",
    "    tmp = df.iloc[i*N:min((i+1)*N, n_parts)].copy()\n",
    "    segment.append(tmp.apply(segments, axis=1))\n",
    "    \n",
    "# segment = pd.DataFrame.from_dict(segment, orient='index')\n",
    "# df.join(segment)\n",
    "\n",
    "# segment = [segment[k] for k in segment.keys()]\n",
    "\n",
    "segment = pd.concat(segment)\n",
    "\n",
    "segment.name = 'segment'\n",
    "\n",
    "df = df.join(segment)"
   ]
  },
  {
   "cell_type": "code",
   "execution_count": null,
   "metadata": {},
   "outputs": [],
   "source": [
    "# Since it takes so long to calculate segment, let me save it.\n",
    "segment = df['segment']\n",
    "segment.name = 'segment'\n",
    "segment.to_csv('train_segment.csv')"
   ]
  },
  {
   "cell_type": "markdown",
   "metadata": {},
   "source": [
    "Parts with 2 segments have slightly lower error rate (0.005 vs 0.0058 on average), 3 and 4 segments are slightly higher. 5-segments parts are significantly higher than average (0.013 vs 0.0058 on average)."
   ]
  },
  {
   "cell_type": "code",
   "execution_count": 52,
   "metadata": {},
   "outputs": [
    {
     "data": {
      "text/html": [
       "<div>\n",
       "<style scoped>\n",
       "    .dataframe tbody tr th:only-of-type {\n",
       "        vertical-align: middle;\n",
       "    }\n",
       "\n",
       "    .dataframe tbody tr th {\n",
       "        vertical-align: top;\n",
       "    }\n",
       "\n",
       "    .dataframe thead th {\n",
       "        text-align: right;\n",
       "    }\n",
       "</style>\n",
       "<table border=\"1\" class=\"dataframe\">\n",
       "  <thead>\n",
       "    <tr style=\"text-align: right;\">\n",
       "      <th></th>\n",
       "      <th>L0_S0_D1</th>\n",
       "      <th>L0_S0_D3</th>\n",
       "      <th>L0_S0_D5</th>\n",
       "      <th>L0_S0_D7</th>\n",
       "      <th>L0_S0_D9</th>\n",
       "      <th>L0_S0_D11</th>\n",
       "      <th>L0_S0_D13</th>\n",
       "      <th>L0_S0_D15</th>\n",
       "      <th>L0_S0_D17</th>\n",
       "      <th>L0_S0_D19</th>\n",
       "      <th>...</th>\n",
       "      <th>L3_S50_D4248</th>\n",
       "      <th>L3_S50_D4250</th>\n",
       "      <th>L3_S50_D4252</th>\n",
       "      <th>L3_S50_D4254</th>\n",
       "      <th>L3_S51_D4255</th>\n",
       "      <th>L3_S51_D4257</th>\n",
       "      <th>L3_S51_D4259</th>\n",
       "      <th>L3_S51_D4261</th>\n",
       "      <th>L3_S51_D4263</th>\n",
       "      <th>Response</th>\n",
       "    </tr>\n",
       "    <tr>\n",
       "      <th>Id</th>\n",
       "      <th></th>\n",
       "      <th></th>\n",
       "      <th></th>\n",
       "      <th></th>\n",
       "      <th></th>\n",
       "      <th></th>\n",
       "      <th></th>\n",
       "      <th></th>\n",
       "      <th></th>\n",
       "      <th></th>\n",
       "      <th></th>\n",
       "      <th></th>\n",
       "      <th></th>\n",
       "      <th></th>\n",
       "      <th></th>\n",
       "      <th></th>\n",
       "      <th></th>\n",
       "      <th></th>\n",
       "      <th></th>\n",
       "      <th></th>\n",
       "      <th></th>\n",
       "    </tr>\n",
       "  </thead>\n",
       "  <tbody>\n",
       "    <tr>\n",
       "      <th>4</th>\n",
       "      <td>82.24</td>\n",
       "      <td>82.24</td>\n",
       "      <td>82.24</td>\n",
       "      <td>82.24</td>\n",
       "      <td>82.24</td>\n",
       "      <td>82.24</td>\n",
       "      <td>82.24</td>\n",
       "      <td>82.24</td>\n",
       "      <td>82.24</td>\n",
       "      <td>82.24</td>\n",
       "      <td>...</td>\n",
       "      <td>NaN</td>\n",
       "      <td>NaN</td>\n",
       "      <td>NaN</td>\n",
       "      <td>NaN</td>\n",
       "      <td>NaN</td>\n",
       "      <td>NaN</td>\n",
       "      <td>NaN</td>\n",
       "      <td>NaN</td>\n",
       "      <td>NaN</td>\n",
       "      <td>0</td>\n",
       "    </tr>\n",
       "    <tr>\n",
       "      <th>6</th>\n",
       "      <td>NaN</td>\n",
       "      <td>NaN</td>\n",
       "      <td>NaN</td>\n",
       "      <td>NaN</td>\n",
       "      <td>NaN</td>\n",
       "      <td>NaN</td>\n",
       "      <td>NaN</td>\n",
       "      <td>NaN</td>\n",
       "      <td>NaN</td>\n",
       "      <td>NaN</td>\n",
       "      <td>...</td>\n",
       "      <td>NaN</td>\n",
       "      <td>NaN</td>\n",
       "      <td>NaN</td>\n",
       "      <td>NaN</td>\n",
       "      <td>NaN</td>\n",
       "      <td>NaN</td>\n",
       "      <td>NaN</td>\n",
       "      <td>NaN</td>\n",
       "      <td>NaN</td>\n",
       "      <td>0</td>\n",
       "    </tr>\n",
       "    <tr>\n",
       "      <th>7</th>\n",
       "      <td>1618.70</td>\n",
       "      <td>1618.70</td>\n",
       "      <td>1618.70</td>\n",
       "      <td>1618.70</td>\n",
       "      <td>1618.70</td>\n",
       "      <td>1618.70</td>\n",
       "      <td>1618.70</td>\n",
       "      <td>1618.70</td>\n",
       "      <td>1618.70</td>\n",
       "      <td>1618.70</td>\n",
       "      <td>...</td>\n",
       "      <td>NaN</td>\n",
       "      <td>NaN</td>\n",
       "      <td>NaN</td>\n",
       "      <td>NaN</td>\n",
       "      <td>NaN</td>\n",
       "      <td>NaN</td>\n",
       "      <td>NaN</td>\n",
       "      <td>NaN</td>\n",
       "      <td>NaN</td>\n",
       "      <td>0</td>\n",
       "    </tr>\n",
       "    <tr>\n",
       "      <th>9</th>\n",
       "      <td>1149.20</td>\n",
       "      <td>1149.20</td>\n",
       "      <td>1149.20</td>\n",
       "      <td>1149.20</td>\n",
       "      <td>1149.20</td>\n",
       "      <td>1149.20</td>\n",
       "      <td>1149.20</td>\n",
       "      <td>1149.20</td>\n",
       "      <td>1149.20</td>\n",
       "      <td>1149.20</td>\n",
       "      <td>...</td>\n",
       "      <td>NaN</td>\n",
       "      <td>NaN</td>\n",
       "      <td>NaN</td>\n",
       "      <td>NaN</td>\n",
       "      <td>NaN</td>\n",
       "      <td>NaN</td>\n",
       "      <td>NaN</td>\n",
       "      <td>NaN</td>\n",
       "      <td>NaN</td>\n",
       "      <td>0</td>\n",
       "    </tr>\n",
       "    <tr>\n",
       "      <th>11</th>\n",
       "      <td>602.64</td>\n",
       "      <td>602.64</td>\n",
       "      <td>602.64</td>\n",
       "      <td>602.64</td>\n",
       "      <td>602.64</td>\n",
       "      <td>602.64</td>\n",
       "      <td>602.64</td>\n",
       "      <td>602.64</td>\n",
       "      <td>602.64</td>\n",
       "      <td>602.64</td>\n",
       "      <td>...</td>\n",
       "      <td>NaN</td>\n",
       "      <td>NaN</td>\n",
       "      <td>NaN</td>\n",
       "      <td>NaN</td>\n",
       "      <td>NaN</td>\n",
       "      <td>NaN</td>\n",
       "      <td>NaN</td>\n",
       "      <td>NaN</td>\n",
       "      <td>NaN</td>\n",
       "      <td>0</td>\n",
       "    </tr>\n",
       "  </tbody>\n",
       "</table>\n",
       "<p>5 rows × 1157 columns</p>\n",
       "</div>"
      ],
      "text/plain": [
       "    L0_S0_D1  L0_S0_D3  L0_S0_D5  L0_S0_D7  L0_S0_D9  L0_S0_D11  L0_S0_D13  \\\n",
       "Id                                                                           \n",
       "4      82.24     82.24     82.24     82.24     82.24      82.24      82.24   \n",
       "6        NaN       NaN       NaN       NaN       NaN        NaN        NaN   \n",
       "7    1618.70   1618.70   1618.70   1618.70   1618.70    1618.70    1618.70   \n",
       "9    1149.20   1149.20   1149.20   1149.20   1149.20    1149.20    1149.20   \n",
       "11    602.64    602.64    602.64    602.64    602.64     602.64     602.64   \n",
       "\n",
       "    L0_S0_D15  L0_S0_D17  L0_S0_D19    ...     L3_S50_D4248  L3_S50_D4250  \\\n",
       "Id                                     ...                                  \n",
       "4       82.24      82.24      82.24    ...              NaN           NaN   \n",
       "6         NaN        NaN        NaN    ...              NaN           NaN   \n",
       "7     1618.70    1618.70    1618.70    ...              NaN           NaN   \n",
       "9     1149.20    1149.20    1149.20    ...              NaN           NaN   \n",
       "11     602.64     602.64     602.64    ...              NaN           NaN   \n",
       "\n",
       "    L3_S50_D4252  L3_S50_D4254  L3_S51_D4255  L3_S51_D4257  L3_S51_D4259  \\\n",
       "Id                                                                         \n",
       "4            NaN           NaN           NaN           NaN           NaN   \n",
       "6            NaN           NaN           NaN           NaN           NaN   \n",
       "7            NaN           NaN           NaN           NaN           NaN   \n",
       "9            NaN           NaN           NaN           NaN           NaN   \n",
       "11           NaN           NaN           NaN           NaN           NaN   \n",
       "\n",
       "    L3_S51_D4261  L3_S51_D4263  Response  \n",
       "Id                                        \n",
       "4            NaN           NaN         0  \n",
       "6            NaN           NaN         0  \n",
       "7            NaN           NaN         0  \n",
       "9            NaN           NaN         0  \n",
       "11           NaN           NaN         0  \n",
       "\n",
       "[5 rows x 1157 columns]"
      ]
     },
     "execution_count": 52,
     "metadata": {},
     "output_type": "execute_result"
    }
   ],
   "source": [
    "df.head()"
   ]
  },
  {
   "cell_type": "code",
   "execution_count": 12,
   "metadata": {},
   "outputs": [
    {
     "data": {
      "text/html": [
       "<div>\n",
       "<style scoped>\n",
       "    .dataframe tbody tr th:only-of-type {\n",
       "        vertical-align: middle;\n",
       "    }\n",
       "\n",
       "    .dataframe tbody tr th {\n",
       "        vertical-align: top;\n",
       "    }\n",
       "\n",
       "    .dataframe thead th {\n",
       "        text-align: right;\n",
       "    }\n",
       "</style>\n",
       "<table border=\"1\" class=\"dataframe\">\n",
       "  <thead>\n",
       "    <tr style=\"text-align: right;\">\n",
       "      <th></th>\n",
       "      <th>mean</th>\n",
       "      <th>sum</th>\n",
       "      <th>count</th>\n",
       "      <th>confidence</th>\n",
       "      <th>mean_plus</th>\n",
       "      <th>mean_minus</th>\n",
       "    </tr>\n",
       "    <tr>\n",
       "      <th>segment</th>\n",
       "      <th></th>\n",
       "      <th></th>\n",
       "      <th></th>\n",
       "      <th></th>\n",
       "      <th></th>\n",
       "      <th></th>\n",
       "    </tr>\n",
       "  </thead>\n",
       "  <tbody>\n",
       "    <tr>\n",
       "      <th>1</th>\n",
       "      <td>0.008777</td>\n",
       "      <td>29</td>\n",
       "      <td>3304</td>\n",
       "      <td>0.003181</td>\n",
       "      <td>0.011958</td>\n",
       "      <td>0.005597</td>\n",
       "    </tr>\n",
       "    <tr>\n",
       "      <th>2</th>\n",
       "      <td>0.004755</td>\n",
       "      <td>3424</td>\n",
       "      <td>720021</td>\n",
       "      <td>0.000159</td>\n",
       "      <td>0.004914</td>\n",
       "      <td>0.004597</td>\n",
       "    </tr>\n",
       "    <tr>\n",
       "      <th>3</th>\n",
       "      <td>0.007156</td>\n",
       "      <td>2518</td>\n",
       "      <td>351889</td>\n",
       "      <td>0.000278</td>\n",
       "      <td>0.007434</td>\n",
       "      <td>0.006877</td>\n",
       "    </tr>\n",
       "    <tr>\n",
       "      <th>4</th>\n",
       "      <td>0.007604</td>\n",
       "      <td>749</td>\n",
       "      <td>98495</td>\n",
       "      <td>0.000543</td>\n",
       "      <td>0.008147</td>\n",
       "      <td>0.007062</td>\n",
       "    </tr>\n",
       "    <tr>\n",
       "      <th>5</th>\n",
       "      <td>0.015485</td>\n",
       "      <td>142</td>\n",
       "      <td>9170</td>\n",
       "      <td>0.002527</td>\n",
       "      <td>0.018012</td>\n",
       "      <td>0.012958</td>\n",
       "    </tr>\n",
       "    <tr>\n",
       "      <th>6</th>\n",
       "      <td>0.017060</td>\n",
       "      <td>13</td>\n",
       "      <td>762</td>\n",
       "      <td>0.009195</td>\n",
       "      <td>0.026255</td>\n",
       "      <td>0.007866</td>\n",
       "    </tr>\n",
       "    <tr>\n",
       "      <th>7</th>\n",
       "      <td>0.031579</td>\n",
       "      <td>3</td>\n",
       "      <td>95</td>\n",
       "      <td>0.035166</td>\n",
       "      <td>0.066745</td>\n",
       "      <td>-0.003587</td>\n",
       "    </tr>\n",
       "    <tr>\n",
       "      <th>8</th>\n",
       "      <td>0.100000</td>\n",
       "      <td>1</td>\n",
       "      <td>10</td>\n",
       "      <td>0.185942</td>\n",
       "      <td>0.285942</td>\n",
       "      <td>-0.085942</td>\n",
       "    </tr>\n",
       "    <tr>\n",
       "      <th>9</th>\n",
       "      <td>0.000000</td>\n",
       "      <td>0</td>\n",
       "      <td>1</td>\n",
       "      <td>0.000000</td>\n",
       "      <td>0.000000</td>\n",
       "      <td>0.000000</td>\n",
       "    </tr>\n",
       "  </tbody>\n",
       "</table>\n",
       "</div>"
      ],
      "text/plain": [
       "             mean   sum   count  confidence  mean_plus  mean_minus\n",
       "segment                                                           \n",
       "1        0.008777    29    3304    0.003181   0.011958    0.005597\n",
       "2        0.004755  3424  720021    0.000159   0.004914    0.004597\n",
       "3        0.007156  2518  351889    0.000278   0.007434    0.006877\n",
       "4        0.007604   749   98495    0.000543   0.008147    0.007062\n",
       "5        0.015485   142    9170    0.002527   0.018012    0.012958\n",
       "6        0.017060    13     762    0.009195   0.026255    0.007866\n",
       "7        0.031579     3      95    0.035166   0.066745   -0.003587\n",
       "8        0.100000     1      10    0.185942   0.285942   -0.085942\n",
       "9        0.000000     0       1    0.000000   0.000000    0.000000"
      ]
     },
     "execution_count": 12,
     "metadata": {},
     "output_type": "execute_result"
    }
   ],
   "source": [
    "a = df.groupby('segment').Response.agg(['mean', 'sum', 'count'])\n",
    "a['confidence'] = 1.96 * np.sqrt(a['mean'] * (1 - a['mean']) / a['count'])\n",
    "a['mean_plus'] = a['mean'] + a['confidence']\n",
    "a['mean_minus'] = a['mean'] - a['confidence']\n",
    "a"
   ]
  },
  {
   "cell_type": "code",
   "execution_count": 14,
   "metadata": {},
   "outputs": [],
   "source": [
    "b = df.groupby(['Response', 'segment']).Response.agg(['mean', 'sum', 'count'])\n",
    "b.reset_index(level=1, inplace=True)"
   ]
  },
  {
   "cell_type": "code",
   "execution_count": 15,
   "metadata": {},
   "outputs": [
    {
     "data": {
      "image/png": "[encoded data removed]",
      "text/plain": [
       "<Figure size 1008x504 with 2 Axes>"
      ]
     },
     "metadata": {},
     "output_type": "display_data"
    }
   ],
   "source": [
    "fig, ax1 = plt.subplots(figsize=(14, 7))\n",
    "\n",
    "color = 'tab:red'\n",
    "ax1.set_xlabel('#segments')\n",
    "ax1.set_ylabel('negative distribution', color=color)\n",
    "#ax1.set_xlim([-0.5, Nxlim+0.5])\n",
    "#xticks = ['{:.1f}'.format(tmp) for tmp in ax1.get_xticks() * tbin + 0.5 * tbin]\n",
    "#ax1.set_xticklabels(xticks)\n",
    "ax1.bar(b.loc[0, 'segment'], b.loc[0, 'count']/b.loc[0, 'count'].sum(), alpha=0.8, color=color)\n",
    "ax1.tick_params(axis='y', labelcolor=color)\n",
    "\n",
    "ax2 = ax1.twinx()  # instantiate a second axes that shares the same x-axis\n",
    "\n",
    "color = 'tab:blue'\n",
    "ax2.set_ylabel('positive distribution', color=color)  # we already handled the x-label with ax1\n",
    "ax2.bar(b.loc[1, 'segment'], b.loc[1, 'count']/b.loc[1, 'count'].sum(), alpha=0.6, color=color)\n",
    "ax2.tick_params(axis='y', labelcolor=color)\n",
    "\n",
    "fig.tight_layout()  # otherwise the right y-label is slightly clipped\n",
    "plt.show()"
   ]
  },
  {
   "cell_type": "markdown",
   "metadata": {},
   "source": [
    "Does the segments corresponds to different lines? Actually no."
   ]
  },
  {
   "cell_type": "code",
   "execution_count": 37,
   "metadata": {},
   "outputs": [
    {
     "data": {
      "text/plain": [
       "[<matplotlib.lines.Line2D at 0x2846f1d2fd0>]"
      ]
     },
     "execution_count": 37,
     "metadata": {},
     "output_type": "execute_result"
    },
    {
     "data": {
      "image/png": "[encoded data removed]",
      "text/plain": [
       "<Figure size 432x288 with 1 Axes>"
      ]
     },
     "metadata": {},
     "output_type": "display_data"
    }
   ],
   "source": [
    "idx = df.loc[df.segment==4].index[0]\n",
    "\n",
    "plt.plot(df.loc[idx].dropna().iloc[:-2], '.')"
   ]
  },
  {
   "cell_type": "markdown",
   "metadata": {},
   "source": [
    "Some part can have 8 segments according to my calculation, 4 segments visually, and 3 production lines."
   ]
  },
  {
   "cell_type": "code",
   "execution_count": 38,
   "metadata": {},
   "outputs": [
    {
     "data": {
      "text/plain": [
       "{'L1', 'L2', 'L3'}"
      ]
     },
     "execution_count": 38,
     "metadata": {},
     "output_type": "execute_result"
    }
   ],
   "source": [
    "set([f.split('_')[0] for f in df.loc[idx].iloc[:-2].dropna().index.tolist()])"
   ]
  },
  {
   "cell_type": "markdown",
   "metadata": {},
   "source": [
    "### Start and end time on lines"
   ]
  },
  {
   "cell_type": "code",
   "execution_count": 195,
   "metadata": {},
   "outputs": [],
   "source": [
    "line_features = {k: [c for c in columns if c.split('_')[0]==k] for k in ['L0', 'L1', 'L2', 'L3']}"
   ]
  },
  {
   "cell_type": "code",
   "execution_count": 197,
   "metadata": {},
   "outputs": [],
   "source": [
    "def line_times(row_input):\n",
    "    x = row_input.copy()\n",
    "    x.dropna(inplace=True)\n",
    "    x.drop(['Response', 'segment'], inplace=True)\n",
    "    x_cols = x.index\n",
    "    l = [[f for f in x.index if f.split('_')[0]=='L'+str(i)] for i in range(4)]\n",
    "    for u, i in enumerate(l):\n",
    "        if not i:\n",
    "            x['L'+str(u)+'_start'] = np.nan\n",
    "            x['L'+str(u)+'_end'] = np.nan\n",
    "        else:\n",
    "            x['L'+str(u)+'_start'] = x.loc[i].min() \n",
    "            x['L'+str(u)+'_end'] = x.loc[i].max()\n",
    "    x.drop(x_cols, inplace=True)\n",
    "    return x"
   ]
  },
  {
   "cell_type": "code",
   "execution_count": null,
   "metadata": {},
   "outputs": [
    {
     "data": {
      "application/vnd.jupyter.widget-view+json": {
       "model_id": "1b71fd8b389d4175937fb5bf1da3ed91",
       "version_major": 2,
       "version_minor": 0
      },
      "text/plain": [
       "HBox(children=(IntProgress(value=0, max=5919), HTML(value='')))"
      ]
     },
     "metadata": {},
     "output_type": "display_data"
    }
   ],
   "source": [
    "N =200\n",
    "time_lines = []\n",
    "for i in tqdm.tqdm_notebook(range(n_parts//N+1)):\n",
    "    tmp = df.iloc[i*N:min((i+1)*N, n_parts)].copy()\n",
    "    time_lines.append(tmp.apply(line_times, axis=1))\n",
    "    \n",
    "time_lines = pd.concat(time_lines)\n",
    "time_lines.to_csv('train_time_lines.csv')\n",
    "#df = df.join(time_lines)"
   ]
  },
  {
   "cell_type": "code",
   "execution_count": 160,
   "metadata": {},
   "outputs": [
    {
     "data": {
      "text/html": [
       "<div>\n",
       "<style scoped>\n",
       "    .dataframe tbody tr th:only-of-type {\n",
       "        vertical-align: middle;\n",
       "    }\n",
       "\n",
       "    .dataframe tbody tr th {\n",
       "        vertical-align: top;\n",
       "    }\n",
       "\n",
       "    .dataframe thead th {\n",
       "        text-align: right;\n",
       "    }\n",
       "</style>\n",
       "<table border=\"1\" class=\"dataframe\">\n",
       "  <thead>\n",
       "    <tr style=\"text-align: right;\">\n",
       "      <th></th>\n",
       "      <th>L0_S0_D1</th>\n",
       "      <th>L0_S0_D3</th>\n",
       "      <th>L0_S0_D5</th>\n",
       "      <th>L0_S0_D7</th>\n",
       "      <th>L0_S0_D9</th>\n",
       "      <th>L0_S0_D11</th>\n",
       "      <th>L0_S0_D13</th>\n",
       "      <th>L0_S0_D15</th>\n",
       "      <th>L0_S0_D17</th>\n",
       "      <th>L0_S0_D19</th>\n",
       "      <th>...</th>\n",
       "      <th>L3_S50_D4250</th>\n",
       "      <th>L3_S50_D4252</th>\n",
       "      <th>L3_S50_D4254</th>\n",
       "      <th>L3_S51_D4255</th>\n",
       "      <th>L3_S51_D4257</th>\n",
       "      <th>L3_S51_D4259</th>\n",
       "      <th>L3_S51_D4261</th>\n",
       "      <th>L3_S51_D4263</th>\n",
       "      <th>Response</th>\n",
       "      <th>segment</th>\n",
       "    </tr>\n",
       "    <tr>\n",
       "      <th>Id</th>\n",
       "      <th></th>\n",
       "      <th></th>\n",
       "      <th></th>\n",
       "      <th></th>\n",
       "      <th></th>\n",
       "      <th></th>\n",
       "      <th></th>\n",
       "      <th></th>\n",
       "      <th></th>\n",
       "      <th></th>\n",
       "      <th></th>\n",
       "      <th></th>\n",
       "      <th></th>\n",
       "      <th></th>\n",
       "      <th></th>\n",
       "      <th></th>\n",
       "      <th></th>\n",
       "      <th></th>\n",
       "      <th></th>\n",
       "      <th></th>\n",
       "      <th></th>\n",
       "    </tr>\n",
       "  </thead>\n",
       "  <tbody>\n",
       "    <tr>\n",
       "      <th>4</th>\n",
       "      <td>82.24</td>\n",
       "      <td>82.24</td>\n",
       "      <td>82.24</td>\n",
       "      <td>82.24</td>\n",
       "      <td>82.24</td>\n",
       "      <td>82.24</td>\n",
       "      <td>82.24</td>\n",
       "      <td>82.24</td>\n",
       "      <td>82.24</td>\n",
       "      <td>82.24</td>\n",
       "      <td>...</td>\n",
       "      <td>NaN</td>\n",
       "      <td>NaN</td>\n",
       "      <td>NaN</td>\n",
       "      <td>NaN</td>\n",
       "      <td>NaN</td>\n",
       "      <td>NaN</td>\n",
       "      <td>NaN</td>\n",
       "      <td>NaN</td>\n",
       "      <td>0</td>\n",
       "      <td>2</td>\n",
       "    </tr>\n",
       "    <tr>\n",
       "      <th>6</th>\n",
       "      <td>NaN</td>\n",
       "      <td>NaN</td>\n",
       "      <td>NaN</td>\n",
       "      <td>NaN</td>\n",
       "      <td>NaN</td>\n",
       "      <td>NaN</td>\n",
       "      <td>NaN</td>\n",
       "      <td>NaN</td>\n",
       "      <td>NaN</td>\n",
       "      <td>NaN</td>\n",
       "      <td>...</td>\n",
       "      <td>NaN</td>\n",
       "      <td>NaN</td>\n",
       "      <td>NaN</td>\n",
       "      <td>NaN</td>\n",
       "      <td>NaN</td>\n",
       "      <td>NaN</td>\n",
       "      <td>NaN</td>\n",
       "      <td>NaN</td>\n",
       "      <td>0</td>\n",
       "      <td>2</td>\n",
       "    </tr>\n",
       "    <tr>\n",
       "      <th>7</th>\n",
       "      <td>1618.70</td>\n",
       "      <td>1618.70</td>\n",
       "      <td>1618.70</td>\n",
       "      <td>1618.70</td>\n",
       "      <td>1618.70</td>\n",
       "      <td>1618.70</td>\n",
       "      <td>1618.70</td>\n",
       "      <td>1618.70</td>\n",
       "      <td>1618.70</td>\n",
       "      <td>1618.70</td>\n",
       "      <td>...</td>\n",
       "      <td>NaN</td>\n",
       "      <td>NaN</td>\n",
       "      <td>NaN</td>\n",
       "      <td>NaN</td>\n",
       "      <td>NaN</td>\n",
       "      <td>NaN</td>\n",
       "      <td>NaN</td>\n",
       "      <td>NaN</td>\n",
       "      <td>0</td>\n",
       "      <td>2</td>\n",
       "    </tr>\n",
       "    <tr>\n",
       "      <th>9</th>\n",
       "      <td>1149.20</td>\n",
       "      <td>1149.20</td>\n",
       "      <td>1149.20</td>\n",
       "      <td>1149.20</td>\n",
       "      <td>1149.20</td>\n",
       "      <td>1149.20</td>\n",
       "      <td>1149.20</td>\n",
       "      <td>1149.20</td>\n",
       "      <td>1149.20</td>\n",
       "      <td>1149.20</td>\n",
       "      <td>...</td>\n",
       "      <td>NaN</td>\n",
       "      <td>NaN</td>\n",
       "      <td>NaN</td>\n",
       "      <td>NaN</td>\n",
       "      <td>NaN</td>\n",
       "      <td>NaN</td>\n",
       "      <td>NaN</td>\n",
       "      <td>NaN</td>\n",
       "      <td>0</td>\n",
       "      <td>2</td>\n",
       "    </tr>\n",
       "    <tr>\n",
       "      <th>11</th>\n",
       "      <td>602.64</td>\n",
       "      <td>602.64</td>\n",
       "      <td>602.64</td>\n",
       "      <td>602.64</td>\n",
       "      <td>602.64</td>\n",
       "      <td>602.64</td>\n",
       "      <td>602.64</td>\n",
       "      <td>602.64</td>\n",
       "      <td>602.64</td>\n",
       "      <td>602.64</td>\n",
       "      <td>...</td>\n",
       "      <td>NaN</td>\n",
       "      <td>NaN</td>\n",
       "      <td>NaN</td>\n",
       "      <td>NaN</td>\n",
       "      <td>NaN</td>\n",
       "      <td>NaN</td>\n",
       "      <td>NaN</td>\n",
       "      <td>NaN</td>\n",
       "      <td>0</td>\n",
       "      <td>2</td>\n",
       "    </tr>\n",
       "  </tbody>\n",
       "</table>\n",
       "<p>5 rows × 1158 columns</p>\n",
       "</div>"
      ],
      "text/plain": [
       "    L0_S0_D1  L0_S0_D3  L0_S0_D5  L0_S0_D7  L0_S0_D9  L0_S0_D11  L0_S0_D13  \\\n",
       "Id                                                                           \n",
       "4      82.24     82.24     82.24     82.24     82.24      82.24      82.24   \n",
       "6        NaN       NaN       NaN       NaN       NaN        NaN        NaN   \n",
       "7    1618.70   1618.70   1618.70   1618.70   1618.70    1618.70    1618.70   \n",
       "9    1149.20   1149.20   1149.20   1149.20   1149.20    1149.20    1149.20   \n",
       "11    602.64    602.64    602.64    602.64    602.64     602.64     602.64   \n",
       "\n",
       "    L0_S0_D15  L0_S0_D17  L0_S0_D19   ...     L3_S50_D4250  L3_S50_D4252  \\\n",
       "Id                                    ...                                  \n",
       "4       82.24      82.24      82.24   ...              NaN           NaN   \n",
       "6         NaN        NaN        NaN   ...              NaN           NaN   \n",
       "7     1618.70    1618.70    1618.70   ...              NaN           NaN   \n",
       "9     1149.20    1149.20    1149.20   ...              NaN           NaN   \n",
       "11     602.64     602.64     602.64   ...              NaN           NaN   \n",
       "\n",
       "    L3_S50_D4254  L3_S51_D4255  L3_S51_D4257  L3_S51_D4259  L3_S51_D4261  \\\n",
       "Id                                                                         \n",
       "4            NaN           NaN           NaN           NaN           NaN   \n",
       "6            NaN           NaN           NaN           NaN           NaN   \n",
       "7            NaN           NaN           NaN           NaN           NaN   \n",
       "9            NaN           NaN           NaN           NaN           NaN   \n",
       "11           NaN           NaN           NaN           NaN           NaN   \n",
       "\n",
       "    L3_S51_D4263  Response  segment  \n",
       "Id                                   \n",
       "4            NaN         0        2  \n",
       "6            NaN         0        2  \n",
       "7            NaN         0        2  \n",
       "9            NaN         0        2  \n",
       "11           NaN         0        2  \n",
       "\n",
       "[5 rows x 1158 columns]"
      ]
     },
     "execution_count": 160,
     "metadata": {},
     "output_type": "execute_result"
    }
   ],
   "source": [
    "df.head()"
   ]
  },
  {
   "cell_type": "markdown",
   "metadata": {},
   "source": [
    "### Order of productions on each station or feature"
   ]
  },
  {
   "cell_type": "markdown",
   "metadata": {},
   "source": [
    "Randomly pick one column `L3_S50_D4252`"
   ]
  },
  {
   "cell_type": "code",
   "execution_count": null,
   "metadata": {},
   "outputs": [],
   "source": [
    "x = df.loc[df['L3_S50_D4252'].notna(), ['L3_S50_D4252', 'Response']].copy()\n",
    "x.reset_index(inplace=True)\n",
    "x.reset_index(inplace=True)"
   ]
  },
  {
   "cell_type": "code",
   "execution_count": null,
   "metadata": {},
   "outputs": [],
   "source": [
    "x.sort_values('L3_S50_D4252', ascending=True, inplace=True)\n",
    "\n",
    "plt.figure(figsize=(14, 7))\n",
    "plt.plot(x['L3_S50_D4252'], x['Response'])"
   ]
  },
  {
   "cell_type": "markdown",
   "metadata": {},
   "source": [
    "Errors are not uniformly distributed in time. Calculate the distance to the nearest error on two sides."
   ]
  },
  {
   "cell_type": "code",
   "execution_count": null,
   "metadata": {},
   "outputs": [],
   "source": [
    "x.sort_values(['L3_S50_D4252', 'Id'], ascending=True, inplace=True)\n",
    "\n",
    "plt.figure(figsize=(14, 7))\n",
    "plt.plot(x['L3_S50_D4252'].values)"
   ]
  },
  {
   "cell_type": "code",
   "execution_count": null,
   "metadata": {},
   "outputs": [],
   "source": [
    "from mpl_toolkits.mplot3d import Axes3D\n",
    "\n",
    "fig = plt.figure()\n",
    "ax = fig.add_subplot(111, projection='3d')\n",
    "\n",
    "#for c, m, zlow, zhigh in [('r', 'o', -50, -25), ('b', '^', -30, -5)]:\n",
    "#   xs = randrange(n, 23, 32)\n",
    "#   ys = randrange(n, 0, 100)\n",
    "#   zs = randrange(n, zlow, zhigh)\n",
    "#   ax.scatter(xs, ys, zs, c=c, marker=m)\n",
    "\n",
    "ax.scatter(x.loc[x.Response==0, 'index'], x.loc[x.Response==0, 'Id'], x.loc[x.Response==0, 'L3_S50_D4252'], c='b')\n",
    "ax.scatter(x.loc[x.Response==1, 'index'], x.loc[x.Response==1, 'Id'], x.loc[x.Response==1, 'L3_S50_D4252'], c='r')\n",
    "\n",
    "ax.set_xlabel('index')\n",
    "ax.set_ylabel('Id')\n",
    "ax.set_zlabel('time')\n",
    "\n",
    "plt.show()"
   ]
  },
  {
   "cell_type": "markdown",
   "metadata": {},
   "source": [
    "Each part is determined by index after sorting, ID, and time. Plotting these 3d tuples in 3d space, find that ID and index are equivalent. Since ID is more general in testing set, index will not be used."
   ]
  },
  {
   "cell_type": "code",
   "execution_count": null,
   "metadata": {},
   "outputs": [],
   "source": [
    "# import plotly.plotly as py\n",
    "# import plotly.graph_objs as go\n",
    "\n",
    "# import numpy as np\n",
    "\n",
    "# trace1 = go.Scatter3d(\n",
    "#     x=x.loc[x.Response==0, 'index'], \n",
    "#     y=x.loc[x.Response==0, 'Id'], \n",
    "#     z=x.loc[x.Response==0, 'L3_S50_D4252'],\n",
    "#     mode='markers',\n",
    "#     marker=dict(\n",
    "#         size=0.5,\n",
    "#         line=dict(\n",
    "#             color='rgba(217, 217, 217, 0.14)',\n",
    "#             width=0.5\n",
    "#         ),\n",
    "#         opacity=0.8\n",
    "#     )\n",
    "# )\n",
    "\n",
    "# trace2 = go.Scatter3d(\n",
    "#     x=x.loc[x.Response==1, 'index'], \n",
    "#     y=x.loc[x.Response==1, 'Id'], \n",
    "#     z=x.loc[x.Response==1, 'L3_S50_D4252'],\n",
    "#     mode='markers',\n",
    "#     marker=dict(\n",
    "#         color='rgb(127, 127, 127)',\n",
    "#         size=2,\n",
    "#         symbol='circle',\n",
    "#         line=dict(\n",
    "#             color='rgb(255, 0, 0)',\n",
    "#             width=1\n",
    "#         ),\n",
    "#         opacity=0.9\n",
    "#     )\n",
    "# )\n",
    "# data = [trace1, trace2]\n",
    "# layout = go.Layout(\n",
    "#     margin=dict(\n",
    "#         l=0,\n",
    "#         r=0,\n",
    "#         b=0,\n",
    "#         t=0\n",
    "#     )\n",
    "# )\n",
    "# fig = go.Figure(data=data, layout=layout)\n",
    "# py.iplot(fig, filename='simple-3d-scatter')\n"
   ]
  },
  {
   "cell_type": "code",
   "execution_count": null,
   "metadata": {},
   "outputs": [],
   "source": [
    "plt.scatter(x=x.loc[x.Response==0, 'index']+ x.loc[x.Response==0, 'Id'], y=x.loc[x.Response==0, 'L3_S50_D4252'])\n",
    "plt.scatter(x=x.loc[x.Response==1, 'index']+ x.loc[x.Response==1, 'Id'], y=x.loc[x.Response==1, 'L3_S50_D4252'])"
   ]
  },
  {
   "cell_type": "code",
   "execution_count": null,
   "metadata": {},
   "outputs": [],
   "source": [
    "plt.scatter(x=x.loc[x.Response==0, 'Id'], y=x.loc[x.Response==0, 'L3_S50_D4252'])\n",
    "plt.scatter(x=x.loc[x.Response==1, 'Id'], y=x.loc[x.Response==1, 'L3_S50_D4252'])"
   ]
  },
  {
   "cell_type": "code",
   "execution_count": null,
   "metadata": {},
   "outputs": [],
   "source": []
  }
 ],
 "metadata": {
  "kernelspec": {
   "display_name": "Python 3",
   "language": "python",
   "name": "python3"
  },
  "language_info": {
   "codemirror_mode": {
    "name": "ipython",
    "version": 3
   },
   "file_extension": ".py",
   "mimetype": "text/x-python",
   "name": "python",
   "nbconvert_exporter": "python",
   "pygments_lexer": "ipython3",
   "version": "3.6.5"
  }
 },
 "nbformat": 4,
 "nbformat_minor": 2
}
