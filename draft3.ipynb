{
 "cells": [
  {
   "cell_type": "code",
   "execution_count": 1,
   "metadata": {},
   "outputs": [],
   "source": [
    "import pandas as pd\n",
    "import numpy as np\n",
    "import plotly.plotly as py\n",
    "import plotly.graph_objs as go\n",
    "import networkx as nx"
   ]
  },
  {
   "cell_type": "code",
   "execution_count": 2,
   "metadata": {},
   "outputs": [
    {
     "name": "stderr",
     "output_type": "stream",
     "text": [
      "/home/li/miniconda3/envs/kaggle/lib/python3.6/site-packages/numpy/lib/arraysetops.py:472: FutureWarning:\n",
      "\n",
      "elementwise comparison failed; returning scalar instead, but in the future will perform elementwise comparison\n",
      "\n"
     ]
    }
   ],
   "source": [
    "total_rows = None #100000\n",
    "date = pd.read_csv('data/train_date.csv.zip', index_col=0, nrows=total_rows)\n",
    "date.dropna(axis=0, how='all', inplace=True)\n",
    "date.dropna(axis=1, how='all', inplace=True)\n",
    "response = pd.read_csv('data/train_numeric.csv.zip', index_col=0, \n",
    "                       usecols=[0, 969], nrows=total_rows)"
   ]
  },
  {
   "cell_type": "code",
   "execution_count": 3,
   "metadata": {},
   "outputs": [],
   "source": [
    "new_columns = pd.MultiIndex.from_tuples([tuple([int(a[1:]) \n",
    "                                          for a in x[3:].split('_')])\n",
    "                                          for x in date.columns], \n",
    "                                          names=['station', 'feature'])\n",
    "date.columns = new_columns"
   ]
  },
  {
   "cell_type": "code",
   "execution_count": 4,
   "metadata": {},
   "outputs": [],
   "source": [
    "stations = sorted([x for x in date.columns.levels[0]])"
   ]
  },
  {
   "cell_type": "code",
   "execution_count": 5,
   "metadata": {},
   "outputs": [],
   "source": [
    "date_station0 = pd.DataFrame({i: date[i].apply(min, axis=1) \n",
    "                            for i in stations})"
   ]
  },
  {
   "cell_type": "code",
   "execution_count": 6,
   "metadata": {},
   "outputs": [],
   "source": [
    "response_p = response.Response.apply(lambda x: 'p' if x==1 else np.nan)\n",
    "response_n = response.Response.apply(lambda x: 'n' if x==0 else np.nan)"
   ]
  },
  {
   "cell_type": "code",
   "execution_count": 7,
   "metadata": {},
   "outputs": [],
   "source": [
    "date_station0['p'] = response_p\n",
    "date_station0['n'] = response_n"
   ]
  },
  {
   "cell_type": "code",
   "execution_count": 8,
   "metadata": {},
   "outputs": [],
   "source": [
    "neg_idx = date_station0[date_station0.n=='n'].index\n",
    "pos_idx = date_station0[date_station0.p=='p'].index"
   ]
  },
  {
   "cell_type": "code",
   "execution_count": 9,
   "metadata": {},
   "outputs": [],
   "source": [
    "date_station1 = date_station0.copy()\n",
    "# date_station1.n = date_station1.n.apply(lambda x: 1 if x=='n' else 0)\n",
    "# date_station1.p = date_station1.p.apply(lambda x: 1 if x=='p' else 0)\n",
    "\n",
    "node_weights = date_station1[date_station1.p=='p'].notna().sum(axis=0)/date_station1.notna().sum(axis=0)\n",
    "node_weights = node_weights.to_dict()"
   ]
  },
  {
   "cell_type": "code",
   "execution_count": 10,
   "metadata": {},
   "outputs": [],
   "source": [
    "date_station = date_station0.apply(lambda x: x.dropna().index.tolist(), axis=1)"
   ]
  },
  {
   "cell_type": "code",
   "execution_count": 11,
   "metadata": {},
   "outputs": [],
   "source": [
    "date_station_list = date_station.apply(lambda x: [(x[i], x[i+1]) for i in range(len(x)-1)]).values.tolist()\n",
    "date_station_list_pos = date_station.loc[pos_idx].apply(lambda x: [(x[i], x[i+1]) for i in range(len(x)-1)]).values.tolist()\n",
    "date_station_list_neg = date_station.loc[neg_idx].apply(lambda x: [(x[i], x[i+1]) for i in range(len(x)-1)]).values.tolist()"
   ]
  },
  {
   "cell_type": "code",
   "execution_count": 12,
   "metadata": {},
   "outputs": [],
   "source": [
    "date_station_list = [x for a in date_station_list for x in a]\n",
    "date_station_list_pos = [x for a in date_station_list_pos for x in a]\n",
    "date_station_list_neg = [x for a in date_station_list_neg for x in a]"
   ]
  },
  {
   "cell_type": "code",
   "execution_count": 13,
   "metadata": {},
   "outputs": [],
   "source": [
    "date_station_list = pd.Series(date_station_list)\n",
    "date_station_list_pos = pd.Series(date_station_list_pos)\n",
    "date_station_list_neg = pd.Series(date_station_list_neg)"
   ]
  },
  {
   "cell_type": "code",
   "execution_count": 14,
   "metadata": {},
   "outputs": [],
   "source": [
    "edges = date_station_list.value_counts().to_dict()"
   ]
  },
  {
   "cell_type": "code",
   "execution_count": 15,
   "metadata": {},
   "outputs": [],
   "source": [
    "edges_pos = date_station_list_pos.value_counts().to_dict()\n",
    "edges_neg = date_station_list_neg.value_counts().to_dict()"
   ]
  },
  {
   "cell_type": "code",
   "execution_count": 16,
   "metadata": {},
   "outputs": [],
   "source": [
    "edges_pos_rate = {k: edges_pos[k]/edges[k] for k in edges_pos.keys()}"
   ]
  },
  {
   "cell_type": "code",
   "execution_count": 17,
   "metadata": {},
   "outputs": [],
   "source": [
    "stations.extend(['n', 'p'])"
   ]
  },
  {
   "cell_type": "code",
   "execution_count": 18,
   "metadata": {},
   "outputs": [],
   "source": [
    "G = nx.Graph()\n",
    "G.add_nodes_from(stations)\n",
    "G.add_edges_from(edges.keys())"
   ]
  },
  {
   "cell_type": "code",
   "execution_count": 19,
   "metadata": {},
   "outputs": [],
   "source": [
    "pos = nx.spring_layout(G)\n",
    "for n, p in pos.items():\n",
    "    G.node[n]['pos'] = p\n",
    "G.node[0]['pos'] = [0, 1]\n",
    "G.node[1]['pos'] = [1, 1]\n",
    "G.node[2]['pos'] = [2, 2]\n",
    "G.node[3]['pos'] = [2, 0]\n",
    "G.node[4]['pos'] = [3, 2]\n",
    "G.node[5]['pos'] = [3, 0]\n",
    "G.node[6]['pos'] = [4, 2]\n",
    "G.node[7]['pos'] = [4, 0]\n",
    "G.node[8]['pos'] = [5, 1]\n",
    "G.node[9]['pos'] = [6, 2.5]\n",
    "G.node[10]['pos'] = [6, 1]\n",
    "G.node[11]['pos'] = [6, -0.5]\n",
    "\n",
    "G.node[12]['pos'] = [0, -3]\n",
    "G.node[13]['pos'] = [1, -3]\n",
    "G.node[14]['pos'] = [2, -2]\n",
    "G.node[15]['pos'] = [2, -4]\n",
    "G.node[16]['pos'] = [3, -2]\n",
    "G.node[17]['pos'] = [3, -4]\n",
    "G.node[18]['pos'] = [4, -2]\n",
    "G.node[19]['pos'] = [4, -4]\n",
    "G.node[20]['pos'] = [5, -3]\n",
    "G.node[21]['pos'] = [6, -1.5]\n",
    "G.node[22]['pos'] = [6, -3]\n",
    "G.node[23]['pos'] = [6, -4.5]\n",
    "\n",
    "G.node[24]['pos'] = [5, -6]\n",
    "G.node[25]['pos'] = [5, -7]\n",
    "G.node[26]['pos'] = [7, -6]\n",
    "G.node[27]['pos'] = [7, -7]\n",
    "G.node[28]['pos'] = [7, -8]\n",
    "\n",
    "\n",
    "G.node[29]['pos'] = [8, -1]\n",
    "G.node[30]['pos'] = [9, -1]\n",
    "G.node[31]['pos'] = [10, -2.5]\n",
    "G.node[32]['pos'] = [11, 0]\n",
    "G.node[33]['pos'] = [11, -2]\n",
    "G.node[34]['pos'] = [12, -2]\n",
    "G.node[35]['pos'] = [13, 0]\n",
    "G.node[36]['pos'] = [13, -2]\n",
    "G.node[37]['pos'] = [14, -1]\n",
    "G.node[38]['pos'] = [15, -1]\n",
    "\n",
    "G.node[39]['pos'] = [8, -4]\n",
    "G.node[40]['pos'] = [9, -4]\n",
    "G.node[41]['pos'] = [10, -4]\n",
    "G.node[43]['pos'] = [11, -3]\n",
    "G.node[44]['pos'] = [11, -5]\n",
    "G.node[45]['pos'] = [12, -4]\n",
    "G.node[47]['pos'] = [13, -4]\n",
    "G.node[48]['pos'] = [14, -4]\n",
    "G.node[49]['pos'] = [15, -3]\n",
    "G.node[50]['pos'] = [15, -5]\n",
    "G.node[51]['pos'] = [16, -4]\n",
    "\n",
    "G.node['n']['pos'] = [18, 1]\n",
    "G.node['p']['pos'] = [18, -4]"
   ]
  },
  {
   "cell_type": "code",
   "execution_count": 22,
   "metadata": {},
   "outputs": [],
   "source": [
    "edge_trace = go.Scatter(\n",
    "    x=[],\n",
    "    y=[],\n",
    "    text=[],\n",
    "    line=dict(width=1,color='#888'),\n",
    "    hoverinfo='none',\n",
    "    mode='lines')\n",
    "\n",
    "for edge in G.edges():\n",
    "    x0, y0 = G.node[edge[0]]['pos']\n",
    "    x1, y1 = G.node[edge[1]]['pos']\n",
    "    edge_trace['x'] += [x0, x1, None]\n",
    "    edge_trace['y'] += [y0, y1, None]\n",
    "    edge_trace['text'].append(edges[edge]/len(date))\n",
    "\n",
    "node_trace = go.Scatter(\n",
    "x=[],\n",
    "y=[],\n",
    "text=[],\n",
    "hovertext=[],\n",
    "mode='markers+text',\n",
    "hoverinfo='hovertext',\n",
    "textposition='bottom',\n",
    "marker=dict(\n",
    "    showscale=False,\n",
    "    # colorscale options\n",
    "    # 'Greys' | 'Greens' | 'Bluered' | 'Hot' | 'Picnic' | 'Portland' |\n",
    "    # Jet' | 'RdBu' | 'Blackbody' | 'Earth' | 'Electric' | 'YIOrRd' | 'YIGnBu'\n",
    "    colorscale='YIGnBu',\n",
    "    reversescale=True,\n",
    "    color=[],\n",
    "    size=10,\n",
    "#     colorbar=dict(\n",
    "#         thickness=15,\n",
    "#         title='Node Connections',\n",
    "#         xanchor='left',\n",
    "#         titleside='right'\n",
    "#     ),\n",
    "    line=dict(width=2)))\n",
    "\n",
    "for node in G.nodes():\n",
    "    x, y = G.node[node]['pos']\n",
    "    node_trace['x'].append(x)\n",
    "    node_trace['y'].append(y)\n",
    "    node_trace['text'].append(node)\n",
    "    node_trace['hovertext'].append(node_weights[node])\n"
   ]
  },
  {
   "cell_type": "code",
   "execution_count": 23,
   "metadata": {},
   "outputs": [
    {
     "data": {
      "text/html": [
       "<iframe id=\"igraph\" scrolling=\"no\" style=\"border:none;\" seamless=\"seamless\" src=\"https://plot.ly/~lygirona/78.embed\" height=\"525px\" width=\"100%\"></iframe>"
      ],
      "text/plain": [
       "<plotly.tools.PlotlyDisplay object>"
      ]
     },
     "execution_count": 23,
     "metadata": {},
     "output_type": "execute_result"
    }
   ],
   "source": [
    "fig = go.Figure(data=[edge_trace, node_trace],\n",
    "             layout=go.Layout(\n",
    "                title='<br>Bosch Production Line',\n",
    "                titlefont=dict(size=16),\n",
    "                showlegend=False,\n",
    "                hovermode='closest',\n",
    "                margin=dict(b=20,l=5,r=5,t=40),\n",
    "                annotations=[ dict(\n",
    "                    text=\"Python code: <a href='https://plot.ly/ipython-notebooks/network-graphs/'> https://plot.ly/ipython-notebooks/network-graphs/</a>\",\n",
    "                    showarrow=False,\n",
    "                    xref=\"paper\", yref=\"paper\",\n",
    "                    x=0.005, y=-0.002 ) ],\n",
    "                xaxis=dict(showgrid=False, zeroline=False, showticklabels=False),\n",
    "                yaxis=dict(showgrid=False, zeroline=False, showticklabels=False)))\n",
    "\n",
    "py.iplot(fig, filename='networkx')\n"
   ]
  },
  {
   "cell_type": "code",
   "execution_count": 24,
   "metadata": {},
   "outputs": [
    {
     "data": {
      "text/html": [
       "<iframe id=\"igraph\" scrolling=\"no\" style=\"border:none;\" seamless=\"seamless\" src=\"https://plot.ly/~lygirona/80.embed\" height=\"525px\" width=\"100%\"></iframe>"
      ],
      "text/plain": [
       "<plotly.tools.PlotlyDisplay object>"
      ]
     },
     "execution_count": 24,
     "metadata": {},
     "output_type": "execute_result"
    }
   ],
   "source": [
    "trace1 = go.Scatter(\n",
    "    x = list(node_weights.keys())[:-2],\n",
    "    y = list(node_weights.values())[:-2],\n",
    "    name='Error Probability'\n",
    ")\n",
    "\n",
    "trace2 = go.Scatter(\n",
    "    x = list(node_weights.keys())[:-2],\n",
    "    y = np.median(list(node_weights.values())[:-2])*np.ones(52),\n",
    "    name='Median Error Probability'\n",
    ")\n",
    "\n",
    "fig = go.Figure(data=[trace1, trace2],\n",
    "                layout=go.Layout(title='Error Probability',\n",
    "                                xaxis=dict(title='Station', range=[-1, 52]),\n",
    "                                yaxis=dict(title='Probability', range=[0, 0.05])))\n",
    "\n",
    "py.iplot(fig)"
   ]
  },
  {
   "cell_type": "code",
   "execution_count": 25,
   "metadata": {},
   "outputs": [
    {
     "data": {
      "text/html": [
       "<iframe id=\"igraph\" scrolling=\"no\" style=\"border:none;\" seamless=\"seamless\" src=\"https://plot.ly/~lygirona/82.embed\" height=\"525px\" width=\"100%\"></iframe>"
      ],
      "text/plain": [
       "<plotly.tools.PlotlyDisplay object>"
      ]
     },
     "execution_count": 25,
     "metadata": {},
     "output_type": "execute_result"
    }
   ],
   "source": [
    "edge_pos_rate_sorted = sorted(edges_pos_rate.items(), key=lambda x: x[1], reverse=True)\n",
    "\n",
    "trace_pos_rate = go.Scatter(\n",
    "    x = [],\n",
    "    y = [], \n",
    "    mode='lines',\n",
    "    hovertext=[],\n",
    "    hoverinfo='hovertext'\n",
    ")\n",
    "\n",
    "for n, x in enumerate(edge_pos_rate_sorted):\n",
    "    if n>2:\n",
    "        trace_pos_rate['x'].append(n)\n",
    "        trace_pos_rate['y'].append(x[1])\n",
    "        trace_pos_rate['hovertext'].append(x[0].__str__())\n",
    "        \n",
    "fig = go.Figure(data=[trace_pos_rate], \n",
    "                layout=go.Layout(\n",
    "                title='<br>Transition Error Probability',\n",
    "                xaxis=dict(range=[0, len(edge_pos_rate_sorted)+5], title='Transition Index'),\n",
    "                yaxis=dict(range=[0, 0.6], title='Probability')\n",
    "                ))\n",
    "        \n",
    "py.iplot(fig)"
   ]
  },
  {
   "cell_type": "code",
   "execution_count": 21,
   "metadata": {},
   "outputs": [
    {
     "data": {
      "text/plain": [
       "1183165"
      ]
     },
     "execution_count": 21,
     "metadata": {},
     "output_type": "execute_result"
    }
   ],
   "source": [
    "len(date)"
   ]
  }
 ],
 "metadata": {
  "kernelspec": {
   "display_name": "Python 3",
   "language": "python",
   "name": "python3"
  },
  "language_info": {
   "codemirror_mode": {
    "name": "ipython",
    "version": 3
   },
   "file_extension": ".py",
   "mimetype": "text/x-python",
   "name": "python",
   "nbconvert_exporter": "python",
   "pygments_lexer": "ipython3",
   "version": "3.6.5"
  }
 },
 "nbformat": 4,
 "nbformat_minor": 2
}
