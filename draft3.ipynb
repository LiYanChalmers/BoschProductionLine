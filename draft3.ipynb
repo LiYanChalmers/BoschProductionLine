{
 "cells": [
  {
   "cell_type": "code",
   "execution_count": 83,
   "metadata": {},
   "outputs": [],
   "source": [
    "import pandas as pd\n",
    "import numpy as np\n",
    "import plotly.plotly as py\n",
    "import plotly.graph_objs as go\n",
    "import networkx as nx"
   ]
  },
  {
   "cell_type": "code",
   "execution_count": 228,
   "metadata": {},
   "outputs": [],
   "source": [
    "total_rows = 10000\n",
    "date = pd.read_csv('data/train_date.csv.zip', index_col=0, nrows=total_rows)\n",
    "date.dropna(axis=0, how='all', inplace=True)\n",
    "date.dropna(axis=1, how='all', inplace=True)\n",
    "response = pd.read_csv('data/train_numeric.csv.zip', index_col=0, \n",
    "                       usecols=[0, 969], nrows=total_rows)"
   ]
  },
  {
   "cell_type": "code",
   "execution_count": 229,
   "metadata": {},
   "outputs": [],
   "source": [
    "new_columns = pd.MultiIndex.from_tuples([tuple([int(a[1:]) \n",
    "                                          for a in x[3:].split('_')])\n",
    "                                          for x in date.columns], \n",
    "                                          names=['station', 'feature'])\n",
    "date.columns = new_columns"
   ]
  },
  {
   "cell_type": "code",
   "execution_count": 230,
   "metadata": {},
   "outputs": [],
   "source": [
    "stations = sorted([x for x in date.columns.levels[0]])"
   ]
  },
  {
   "cell_type": "code",
   "execution_count": 231,
   "metadata": {},
   "outputs": [],
   "source": [
    "date_station0 = pd.DataFrame({i: date[i].apply(min, axis=1) \n",
    "                            for i in stations})"
   ]
  },
  {
   "cell_type": "code",
   "execution_count": 232,
   "metadata": {},
   "outputs": [],
   "source": [
    "response_p = response.Response.apply(lambda x: 'p' if x==1 else np.nan)\n",
    "response_n = response.Response.apply(lambda x: 'n' if x==0 else np.nan)"
   ]
  },
  {
   "cell_type": "code",
   "execution_count": 233,
   "metadata": {},
   "outputs": [],
   "source": [
    "date_station0['p'] = response_p\n",
    "date_station0['n'] = response_n"
   ]
  },
  {
   "cell_type": "code",
   "execution_count": 339,
   "metadata": {},
   "outputs": [],
   "source": [
    "neg_idx = date_station0[date_station0.n=='n'].index\n",
    "pos_idx = date_station0[date_station0.p=='p'].index"
   ]
  },
  {
   "cell_type": "code",
   "execution_count": 253,
   "metadata": {},
   "outputs": [],
   "source": [
    "date_station1 = date_station0.copy()\n",
    "# date_station1.n = date_station1.n.apply(lambda x: 1 if x=='n' else 0)\n",
    "# date_station1.p = date_station1.p.apply(lambda x: 1 if x=='p' else 0)\n",
    "\n",
    "node_weights = date_station1[date_station1.p=='p'].notna().sum(axis=0)/date_station1.notna().sum(axis=0)\n",
    "node_weights = node_weights.to_dict()"
   ]
  },
  {
   "cell_type": "code",
   "execution_count": 255,
   "metadata": {},
   "outputs": [],
   "source": [
    "date_station = date_station0.apply(lambda x: x.dropna().index.tolist(), axis=1)"
   ]
  },
  {
   "cell_type": "code",
   "execution_count": 341,
   "metadata": {},
   "outputs": [],
   "source": [
    "date_station_list = date_station.apply(lambda x: [(x[i], x[i+1]) for i in range(len(x)-1)]).values.tolist()\n",
    "date_station_list_pos = date_station.loc[pos_idx].apply(lambda x: [(x[i], x[i+1]) for i in range(len(x)-1)]).values.tolist()\n",
    "date_station_list_neg = date_station.loc[neg_idx].apply(lambda x: [(x[i], x[i+1]) for i in range(len(x)-1)]).values.tolist()"
   ]
  },
  {
   "cell_type": "code",
   "execution_count": 342,
   "metadata": {},
   "outputs": [],
   "source": [
    "date_station_list = [x for a in date_station_list for x in a]\n",
    "date_station_list_pos = [x for a in date_station_list_pos for x in a]\n",
    "date_station_list_neg = [x for a in date_station_list_neg for x in a]"
   ]
  },
  {
   "cell_type": "code",
   "execution_count": 346,
   "metadata": {},
   "outputs": [],
   "source": [
    "date_station_list = pd.Series(date_station_list)\n",
    "date_station_list_pos = pd.Series(date_station_list_pos)\n",
    "date_station_list_neg = pd.Series(date_station_list_neg)"
   ]
  },
  {
   "cell_type": "code",
   "execution_count": 259,
   "metadata": {},
   "outputs": [],
   "source": [
    "edges = date_station_list.value_counts().to_dict()"
   ]
  },
  {
   "cell_type": "code",
   "execution_count": 347,
   "metadata": {},
   "outputs": [],
   "source": [
    "edges_pos = date_station_list_pos.value_counts().to_dict()\n",
    "edges_neg = date_station_list_neg.value_counts().to_dict()"
   ]
  },
  {
   "cell_type": "code",
   "execution_count": 349,
   "metadata": {},
   "outputs": [],
   "source": [
    "edges_pos_rate = {k: edges_pos[k]/edges[k] for k in edges_pos.keys()}"
   ]
  },
  {
   "cell_type": "code",
   "execution_count": 260,
   "metadata": {},
   "outputs": [],
   "source": [
    "stations.extend(['n', 'p'])"
   ]
  },
  {
   "cell_type": "code",
   "execution_count": 261,
   "metadata": {},
   "outputs": [],
   "source": [
    "G = nx.Graph()\n",
    "G.add_nodes_from(stations)\n",
    "G.add_edges_from(edges.keys())"
   ]
  },
  {
   "cell_type": "code",
   "execution_count": 307,
   "metadata": {},
   "outputs": [],
   "source": [
    "pos = nx.spring_layout(G)\n",
    "for n, p in pos.items():\n",
    "    G.node[n]['pos'] = p\n",
    "G.node[0]['pos'] = [0, 1]\n",
    "G.node[1]['pos'] = [1, 1]\n",
    "G.node[2]['pos'] = [2, 2]\n",
    "G.node[3]['pos'] = [2, 0]\n",
    "G.node[4]['pos'] = [3, 2]\n",
    "G.node[5]['pos'] = [3, 0]\n",
    "G.node[6]['pos'] = [4, 2]\n",
    "G.node[7]['pos'] = [4, 0]\n",
    "G.node[8]['pos'] = [5, 1]\n",
    "G.node[9]['pos'] = [6, 2.5]\n",
    "G.node[10]['pos'] = [6, 1]\n",
    "G.node[11]['pos'] = [6, -0.5]\n",
    "\n",
    "G.node[12]['pos'] = [0, -3]\n",
    "G.node[13]['pos'] = [1, -3]\n",
    "G.node[14]['pos'] = [2, -2]\n",
    "G.node[15]['pos'] = [2, -4]\n",
    "G.node[16]['pos'] = [3, -2]\n",
    "G.node[17]['pos'] = [3, -4]\n",
    "G.node[18]['pos'] = [4, -2]\n",
    "G.node[19]['pos'] = [4, -4]\n",
    "G.node[20]['pos'] = [5, -3]\n",
    "G.node[21]['pos'] = [6, -1.5]\n",
    "G.node[22]['pos'] = [6, -3]\n",
    "G.node[23]['pos'] = [6, -4.5]\n",
    "\n",
    "G.node[24]['pos'] = [5, -6]\n",
    "G.node[25]['pos'] = [5, -7]\n",
    "G.node[26]['pos'] = [7, -6]\n",
    "G.node[27]['pos'] = [7, -7]\n",
    "G.node[28]['pos'] = [7, -8]\n",
    "\n",
    "\n",
    "G.node[29]['pos'] = [8, -1]\n",
    "G.node[30]['pos'] = [9, -1]\n",
    "G.node[31]['pos'] = [10, -2.5]\n",
    "G.node[32]['pos'] = [11, 0]\n",
    "G.node[33]['pos'] = [11, -2]\n",
    "G.node[34]['pos'] = [12, -2]\n",
    "G.node[35]['pos'] = [13, 0]\n",
    "G.node[36]['pos'] = [13, -2]\n",
    "G.node[37]['pos'] = [14, -1]\n",
    "G.node[38]['pos'] = [15, -1]\n",
    "\n",
    "G.node[39]['pos'] = [8, -4]\n",
    "G.node[40]['pos'] = [9, -4]\n",
    "G.node[41]['pos'] = [10, -4]\n",
    "G.node[43]['pos'] = [11, -3]\n",
    "G.node[44]['pos'] = [11, -5]\n",
    "G.node[45]['pos'] = [12, -4]\n",
    "G.node[47]['pos'] = [13, -4]\n",
    "G.node[48]['pos'] = [14, -4]\n",
    "G.node[49]['pos'] = [15, -3]\n",
    "G.node[50]['pos'] = [15, -5]\n",
    "G.node[51]['pos'] = [16, -4]\n",
    "\n",
    "G.node['n']['pos'] = [18, 1]\n",
    "G.node['p']['pos'] = [18, -4]"
   ]
  },
  {
   "cell_type": "code",
   "execution_count": 308,
   "metadata": {},
   "outputs": [],
   "source": [
    "edge_trace = go.Scatter(\n",
    "    x=[],\n",
    "    y=[],\n",
    "    text=[],\n",
    "    line=dict(width=1,color='#888'),\n",
    "    hoverinfo='none',\n",
    "    mode='lines')\n",
    "\n",
    "for edge in G.edges():\n",
    "    x0, y0 = G.node[edge[0]]['pos']\n",
    "    x1, y1 = G.node[edge[1]]['pos']\n",
    "    edge_trace['x'] += [x0, x1, None]\n",
    "    edge_trace['y'] += [y0, y1, None]\n",
    "    edge_trace['text'].append(edges[edge]/total_rows)\n",
    "\n",
    "node_trace = go.Scatter(\n",
    "x=[],\n",
    "y=[],\n",
    "text=[],\n",
    "hovertext=[],\n",
    "mode='markers+text',\n",
    "hoverinfo='hovertext',\n",
    "textposition='bottom',\n",
    "marker=dict(\n",
    "    showscale=False,\n",
    "    # colorscale options\n",
    "    # 'Greys' | 'Greens' | 'Bluered' | 'Hot' | 'Picnic' | 'Portland' |\n",
    "    # Jet' | 'RdBu' | 'Blackbody' | 'Earth' | 'Electric' | 'YIOrRd' | 'YIGnBu'\n",
    "    colorscale='YIGnBu',\n",
    "    reversescale=True,\n",
    "    color=[],\n",
    "    size=10,\n",
    "#     colorbar=dict(\n",
    "#         thickness=15,\n",
    "#         title='Node Connections',\n",
    "#         xanchor='left',\n",
    "#         titleside='right'\n",
    "#     ),\n",
    "    line=dict(width=2)))\n",
    "\n",
    "for node in G.nodes():\n",
    "    x, y = G.node[node]['pos']\n",
    "    node_trace['x'].append(x)\n",
    "    node_trace['y'].append(y)\n",
    "    node_trace['text'].append(node)\n",
    "    node_trace['hovertext'].append(node_weights[node])\n"
   ]
  },
  {
   "cell_type": "code",
   "execution_count": 309,
   "metadata": {},
   "outputs": [
    {
     "name": "stdout",
     "output_type": "stream",
     "text": [
      "High five! You successfully sent some data to your account on plotly. View your plot in your browser at https://plot.ly/~lygirona/0 or inside your plot.ly account where it is named 'networkx'\n"
     ]
    },
    {
     "data": {
      "text/html": [
       "<iframe id=\"igraph\" scrolling=\"no\" style=\"border:none;\" seamless=\"seamless\" src=\"https://plot.ly/~lygirona/0.embed\" height=\"525px\" width=\"100%\"></iframe>"
      ],
      "text/plain": [
       "<plotly.tools.PlotlyDisplay object>"
      ]
     },
     "execution_count": 309,
     "metadata": {},
     "output_type": "execute_result"
    }
   ],
   "source": [
    "fig = go.Figure(data=[edge_trace, node_trace],\n",
    "             layout=go.Layout(\n",
    "                title='<br>Bosch Production Line',\n",
    "                titlefont=dict(size=16),\n",
    "                showlegend=False,\n",
    "                hovermode='closest',\n",
    "                margin=dict(b=20,l=5,r=5,t=40),\n",
    "                annotations=[ dict(\n",
    "                    text=\"Python code: <a href='https://plot.ly/ipython-notebooks/network-graphs/'> https://plot.ly/ipython-notebooks/network-graphs/</a>\",\n",
    "                    showarrow=False,\n",
    "                    xref=\"paper\", yref=\"paper\",\n",
    "                    x=0.005, y=-0.002 ) ],\n",
    "                xaxis=dict(showgrid=False, zeroline=False, showticklabels=False),\n",
    "                yaxis=dict(showgrid=False, zeroline=False, showticklabels=False)))\n",
    "\n",
    "py.iplot(fig, filename='networkx')\n"
   ]
  },
  {
   "cell_type": "code",
   "execution_count": 295,
   "metadata": {},
   "outputs": [
    {
     "data": {
      "text/plain": [
       "[<matplotlib.lines.Line2D at 0x200abb13eb8>]"
      ]
     },
     "execution_count": 295,
     "metadata": {},
     "output_type": "execute_result"
    },
    {
     "data": {
      "image/png": "[encoded data removed]",
      "text/plain": [
       "<Figure size 432x288 with 1 Axes>"
      ]
     },
     "metadata": {},
     "output_type": "display_data"
    }
   ],
   "source": [
    "import matplotlib.pyplot as plt\n",
    "\n",
    "%matplotlib inline \n",
    "\n",
    "plt.plot(node_weights.index[:-2], node_weights.values[:-2])"
   ]
  },
  {
   "cell_type": "code",
   "execution_count": 304,
   "metadata": {},
   "outputs": [
    {
     "data": {
      "text/html": [
       "<iframe id=\"igraph\" scrolling=\"no\" style=\"border:none;\" seamless=\"seamless\" src=\"https://plot.ly/~lygirona/10.embed\" height=\"525px\" width=\"100%\"></iframe>"
      ],
      "text/plain": [
       "<plotly.tools.PlotlyDisplay object>"
      ]
     },
     "execution_count": 304,
     "metadata": {},
     "output_type": "execute_result"
    }
   ],
   "source": [
    "trace1 = go.Scatter(\n",
    "    x = node_weights.index[:-2],\n",
    "    y = node_weights.values[:-2]\n",
    ")\n",
    "\n",
    "trace2 = go.Scatter(\n",
    "    x = node_weights.index[:-2],\n",
    "    y = np.median(node_weights.values[:-2])*np.ones(52)\n",
    ")\n",
    "\n",
    "py.iplot([trace1, trace2])"
   ]
  },
  {
   "cell_type": "code",
   "execution_count": 390,
   "metadata": {},
   "outputs": [],
   "source": [
    "a = sorted(edges_pos_rate.items(), key=lambda x: x[1], reverse=True)"
   ]
  },
  {
   "cell_type": "code",
   "execution_count": 400,
   "metadata": {},
   "outputs": [
    {
     "data": {
      "text/html": [
       "<iframe id=\"igraph\" scrolling=\"no\" style=\"border:none;\" seamless=\"seamless\" src=\"https://plot.ly/~lygirona/34.embed\" height=\"525px\" width=\"100%\"></iframe>"
      ],
      "text/plain": [
       "<plotly.tools.PlotlyDisplay object>"
      ]
     },
     "execution_count": 400,
     "metadata": {},
     "output_type": "execute_result"
    }
   ],
   "source": [
    "trace_pos_rate = go.Scatter(\n",
    "    x = [],\n",
    "    y = [], \n",
    "    text = edge_name,\n",
    "    mode='lines',\n",
    "    hovertext=[],\n",
    "    hoverinfo='hovertext'\n",
    ")\n",
    "\n",
    "for n, x in enumerate(a):\n",
    "    if n>2:\n",
    "        trace_pos_rate['x'].append(n)\n",
    "        trace_pos_rate['y'].append(x[1])\n",
    "        trace_pos_rate['hovertext'].append(x[0].__str__())\n",
    "        \n",
    "trace_median = go.Scatter(\n",
    "    x = [],\n",
    "    y = [], \n",
    ")\n",
    "\n",
    "for n, x in enumerate(a):\n",
    "    if n>2:\n",
    "        trace_pos_rate['x'].append(n)\n",
    "        trace_pos_rate['y'].append(x[1])\n",
    "        trace_pos_rate['hovertext'].append(x[0].__str__())\n",
    "\n",
    "py.iplot([trace_pos_rate])"
   ]
  },
  {
   "cell_type": "code",
   "execution_count": 401,
   "metadata": {},
   "outputs": [
    {
     "data": {
      "text/plain": [
       "[((37, 'p'), 1.0),\n",
       " ((38, 'p'), 1.0),\n",
       " ((51, 'p'), 1.0),\n",
       " ((32, 35), 0.2222222222222222),\n",
       " ((9, 38), 0.2),\n",
       " ((32, 36), 0.13636363636363635),\n",
       " ((30, 32), 0.029411764705882353),\n",
       " ((22, 39), 0.029411764705882353),\n",
       " ((11, 26), 0.02564102564102564),\n",
       " ((10, 26), 0.017391304347826087),\n",
       " ((24, 26), 0.014492753623188406),\n",
       " ((37, 38), 0.013953488372093023),\n",
       " ((26, 29), 0.01001669449081803),\n",
       " ((11, 27), 0.008771929824561403),\n",
       " ((9, 39), 0.008547008547008548),\n",
       " ((9, 26), 0.008333333333333333),\n",
       " ((48, 49), 0.007905138339920948),\n",
       " ((49, 51), 0.007905138339920948),\n",
       " ((17, 18), 0.007874015748031496),\n",
       " ((9, 27), 0.007751937984496124),\n",
       " ((3, 5), 0.007348029392117568),\n",
       " ((1, 3), 0.006588072122052704),\n",
       " ((4, 6), 0.006324666198172874),\n",
       " ((6, 8), 0.005935754189944134),\n",
       " ((27, 29), 0.005928853754940711),\n",
       " ((35, 37), 0.00581145071028842),\n",
       " ((8, 9), 0.005798629414865577),\n",
       " ((15, 17), 0.005791505791505791),\n",
       " ((3, 4), 0.005751258087706686),\n",
       " ((14, 17), 0.005628517823639775),\n",
       " ((5, 6), 0.0055286800276434),\n",
       " ((34, 35), 0.005393743257820928),\n",
       " ((29, 30), 0.005289885738468049),\n",
       " ((8, 11), 0.005263157894736842),\n",
       " ((30, 33), 0.005012810515762504),\n",
       " ((0, 1), 0.004889975550122249),\n",
       " ((33, 34), 0.004776562997558646),\n",
       " ((36, 37), 0.004764864304951316),\n",
       " ((9, 29), 0.00461133069828722),\n",
       " ((20, 22), 0.0045385779122541605),\n",
       " ((41, 44), 0.004329004329004329),\n",
       " ((2, 4), 0.004240282685512367),\n",
       " ((25, 26), 0.0041841004184100415),\n",
       " ((44, 45), 0.0041841004184100415),\n",
       " ((34, 36), 0.00416579879191835),\n",
       " ((5, 7), 0.004037685060565276),\n",
       " ((47, 48), 0.003992015968063872),\n",
       " ((39, 40), 0.003992015968063872),\n",
       " ((45, 47), 0.003992015968063872),\n",
       " ((40, 41), 0.00398406374501992),\n",
       " ((18, 20), 0.0039603960396039604),\n",
       " ((7, 8), 0.0038381018841591066),\n",
       " ((13, 14), 0.003827751196172249),\n",
       " ((11, 29), 0.0038192234245703373),\n",
       " ((43, 45), 0.0038022813688212928),\n",
       " ((41, 43), 0.0036900369003690036),\n",
       " ((17, 19), 0.003669724770642202),\n",
       " ((8, 10), 0.0036213140196585617),\n",
       " ((4, 7), 0.0036127167630057803),\n",
       " ((22, 29), 0.0035460992907801418),\n",
       " ((21, 29), 0.003418803418803419),\n",
       " ((23, 29), 0.003372681281618887),\n",
       " ((12, 13), 0.003355704697986577),\n",
       " ((10, 29), 0.0031665611146295125),\n",
       " ((1, 2), 0.003163444639718805),\n",
       " ((13, 15), 0.0028846153846153848),\n",
       " ((20, 23), 0.002840909090909091),\n",
       " ((19, 20), 0.0027881040892193307),\n",
       " ((20, 21), 0.0027739251040221915),\n",
       " ((2, 5), 0.00209351011863224),\n",
       " ((14, 16), 0.001953125),\n",
       " ((16, 19), 0.0018832391713747645)]"
      ]
     },
     "execution_count": 401,
     "metadata": {},
     "output_type": "execute_result"
    }
   ],
   "source": [
    "a"
   ]
  },
  {
   "cell_type": "code",
   "execution_count": null,
   "metadata": {},
   "outputs": [],
   "source": []
  }
 ],
 "metadata": {
  "kernelspec": {
   "display_name": "Python 3",
   "language": "python",
   "name": "python3"
  },
  "language_info": {
   "codemirror_mode": {
    "name": "ipython",
    "version": 3
   },
   "file_extension": ".py",
   "mimetype": "text/x-python",
   "name": "python",
   "nbconvert_exporter": "python",
   "pygments_lexer": "ipython3",
   "version": "3.6.5"
  }
 },
 "nbformat": 4,
 "nbformat_minor": 2
}
