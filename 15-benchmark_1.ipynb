{
 "cells": [
  {
   "cell_type": "markdown",
   "metadata": {},
   "source": [
    "## Benchmark for measuring performance of engineered features and models\n",
    "When engineering new features and creating new models, I will need to compare new methods with benchmark to decide if there is any improvement."
   ]
  },
  {
   "cell_type": "code",
   "execution_count": 16,
   "metadata": {},
   "outputs": [],
   "source": [
    "import os\n",
    "if os.name=='nt':\n",
    "    mingw_path = 'C:\\\\Program Files\\\\mingw-w64\\\\x86_64-8.1.0-posix-seh-rt_v6-rev0\\\\mingw64\\\\bin'\n",
    "    os.environ['PATH'] = mingw_path + ';' + os.environ['PATH']\n",
    "\n",
    "import numpy as np\n",
    "import pandas as pd\n",
    "from xgboost import XGBClassifier\n",
    "from sklearn.metrics import matthews_corrcoef, roc_auc_score\n",
    "from sklearn.cross_validation import cross_val_score\n",
    "from sklearn.model_selection import train_test_split, RepeatedStratifiedKFold\n",
    "from sklearn.model_selection import cross_validate, cross_val_predict, StratifiedKFold\n",
    "from sklearn.metrics import roc_auc_score\n",
    "import matplotlib.pyplot as plt\n",
    "import seaborn as sns\n",
    "from sys import getsizeof\n",
    "import time\n",
    "import gc\n",
    "\n",
    "import warnings\n",
    "warnings.filterwarnings(\"ignore\")\n",
    "\n",
    "%matplotlib inline"
   ]
  },
  {
   "cell_type": "code",
   "execution_count": 17,
   "metadata": {},
   "outputs": [],
   "source": [
    "import pickle\n",
    "\n",
    "def save_pickle(x, filename):\n",
    "    with open(filename, 'wb') as handle:\n",
    "        pickle.dump(x, handle, protocol=pickle.HIGHEST_PROTOCOL)\n",
    "\n",
    "def read_pickle(filename):\n",
    "    with open(filename, 'rb') as handle:\n",
    "        x = pickle.load(handle)\n",
    "    return x"
   ]
  },
  {
   "cell_type": "code",
   "execution_count": 26,
   "metadata": {},
   "outputs": [],
   "source": [
    "from numba import jit\n",
    "\n",
    "@jit\n",
    "def mcc(tp, tn, fp, fn):\n",
    "    sup = tp * tn - fp * fn\n",
    "    inf = (tp + fp) * (tp + fn) * (tn + fp) * (tn + fn)\n",
    "    if inf==0:\n",
    "        return 0\n",
    "    else:\n",
    "        return sup / np.sqrt(inf)\n",
    "\n",
    "@jit\n",
    "def eval_mcc(y_true, y_prob, show=False):\n",
    "    idx = np.argsort(y_prob)\n",
    "    y_true_sort = y_true[idx]\n",
    "    n = y_true.shape[0]\n",
    "    nump = 1.0 * np.sum(y_true) # number of positive\n",
    "    numn = n - nump # number of negative\n",
    "    tp = nump\n",
    "    tn = 0.0\n",
    "    fp = numn\n",
    "    fn = 0.0\n",
    "    best_mcc = 0.0\n",
    "    best_id = -1\n",
    "    prev_proba = -1\n",
    "    best_proba = -1\n",
    "    mccs = np.zeros(n)\n",
    "    new_mcc = 0\n",
    "    for i in range(n):\n",
    "        # all items with idx < i are predicted negative while others are predicted positive\n",
    "        # only evaluate mcc when probability changes\n",
    "        proba = y_prob[idx[i]]\n",
    "        if proba != prev_proba:\n",
    "            prev_proba = proba\n",
    "            new_mcc = mcc(tp, tn, fp, fn)\n",
    "            if new_mcc >= best_mcc:\n",
    "                best_mcc = new_mcc\n",
    "                best_id = i\n",
    "                best_proba = proba\n",
    "        mccs[i] = new_mcc\n",
    "        if y_true_sort[i] == 1:\n",
    "            tp -= 1.0\n",
    "            fn += 1.0\n",
    "        else:\n",
    "            fp -= 1.0\n",
    "            tn += 1.0\n",
    "    if show:\n",
    "        y_pred = (y_prob >= best_proba).astype(int)\n",
    "        score = matthews_corrcoef(y_true, y_pred)\n",
    "        print(score, best_mcc)\n",
    "        plt.plot(mccs)\n",
    "        return best_proba, best_mcc, y_pred\n",
    "    else:\n",
    "        return best_mcc\n",
    "    \n",
    "def mcc_eval(y_prob, dtrain):\n",
    "    y_true = dtrain.get_label()\n",
    "    best_mcc = eval_mcc(y_true, y_prob)\n",
    "    return 'MCC', -best_mcc"
   ]
  },
  {
   "cell_type": "code",
   "execution_count": 4,
   "metadata": {},
   "outputs": [],
   "source": [
    "def cross_val_predict_rskf(clf, x_train, y_train, n_splits=3, \n",
    "                           n_repeats=2, random_state=42, verbose=False):\n",
    "    '''\n",
    "    Repeated stratified KFold CV, returns predictions for \n",
    "    each repeat and average score.\n",
    "    n_repeats: repetitions of CV\n",
    "    '''\n",
    "    scores = []\n",
    "    n_trees = []\n",
    "    clfs = []\n",
    "    running_time = []\n",
    "    \n",
    "    rskf = RepeatedStratifiedKFold(n_repeats=n_repeats, n_splits=n_splits, \n",
    "                                   random_state=0)\n",
    "    np.random.seed(random_state)\n",
    "    for n, (train_index, test_index) in enumerate(rskf.split(x_train, y_train)):\n",
    "        start_time = time.time()\n",
    "        x_train_tmp, x_test_tmp = x_train.iloc[train_index], x_train.iloc[test_index]\n",
    "        y_train_tmp, y_test_tmp = y_train.iloc[train_index], y_train.iloc[test_index]\n",
    "\n",
    "        clf.random_state = np.random.randint(10000000)\n",
    "\n",
    "        clf.fit(x_train_tmp, y_train_tmp, \n",
    "                eval_set=[(x_test_tmp, y_test_tmp)], \n",
    "                eval_metric=mcc_eval, early_stopping_rounds=10,\n",
    "                verbose=verbose)\n",
    "        scores.append(-clf.best_score)\n",
    "        n_trees.append(clf.best_ntree_limit)\n",
    "        clfs.append(clf)\n",
    "        running_time.append(time.time()-start_time)\n",
    "        print('Split {}, score = {:.3f}, best_ntree_limit = {}, total time = {:.3f} min'.format(n, scores[n], \n",
    "            clf.best_ntree_limit, sum(running_time)/60))\n",
    "\n",
    "    print('Score mean = {:.3f}, std = {:.3f}'.format(np.mean(scores), np.std(scores)))\n",
    "    \n",
    "    return clfs, scores, n_trees, running_time"
   ]
  },
  {
   "cell_type": "code",
   "execution_count": 5,
   "metadata": {},
   "outputs": [],
   "source": [
    "def cross_val_predict_skf_rm(clf, x_train, y_train, n_splits=3, \n",
    "                           n_repeats=2, random_state=42, verbose=False):\n",
    "    '''\n",
    "    Stratified KFold CV with repeated models\n",
    "    '''\n",
    "    scores = []\n",
    "    n_trees = []\n",
    "    clfs = []\n",
    "    running_time = []\n",
    "\n",
    "    skf = StratifiedKFold(n_splits=n_splits, random_state=0, shuffle=True)\n",
    "    np.random.seed(random_state)\n",
    "\n",
    "    for m in range(n_repeats):\n",
    "        print('Repeat {}'.format(m))\n",
    "        for n, (train_index, test_index) in enumerate(skf.split(x_train, y_train)):\n",
    "            start_time = time.time()\n",
    "            x_train_tmp, x_test_tmp = x_train.iloc[train_index], x_train.iloc[test_index]\n",
    "            y_train_tmp, y_test_tmp = y_train.iloc[train_index], y_train.iloc[test_index]\n",
    "\n",
    "            clf.random_state = np.random.randint(10000000)\n",
    "            # print(clf.random_state)\n",
    "\n",
    "            clf.fit(x_train_tmp, y_train_tmp, \n",
    "                    eval_set=[(x_test_tmp, y_test_tmp)], \n",
    "                    eval_metric=mcc_eval, early_stopping_rounds=10,\n",
    "                    verbose=verbose)\n",
    "            n_trees.append(clf.best_ntree_limit)\n",
    "            scores.append(-clf.best_score)\n",
    "            clfs.append(clf)\n",
    "            running_time.append(time.time() - start_time)\n",
    "            print('Split {}, score = {:.3f}, n_best_trees = {}, total time = {:.3f} min'.format(n, \n",
    "                scores[m*n_repeats+n], clf.best_ntree_limit, sum(running_time)/60))\n",
    "\n",
    "    print('Score mean = {:.3f}, std = {:.3f}'.format(np.mean(scores), np.std(scores)))\n",
    "    \n",
    "    return clfs, scores, n_trees, running_time"
   ]
  },
  {
   "cell_type": "code",
   "execution_count": 6,
   "metadata": {},
   "outputs": [],
   "source": [
    "# y_train = read_pickle('y_train.pickle')\n",
    "\n",
    "# x_train = read_pickle('x_train_numeric_date_0.pickle')"
   ]
  },
  {
   "cell_type": "code",
   "execution_count": 22,
   "metadata": {},
   "outputs": [],
   "source": [
    "important_features = pd.read_csv('important_numeric_features.csv', index_col=0, header=None)\n",
    "important_features = list(important_features.values.ravel())\n",
    "important_features.extend(['Id', 'Response'])"
   ]
  },
  {
   "cell_type": "code",
   "execution_count": 23,
   "metadata": {
    "scrolled": true
   },
   "outputs": [],
   "source": [
    "x_train_numeric = pd.read_csv('data/train_numeric.csv.zip', index_col=0, usecols=important_features)\n",
    "\n",
    "y_train = x_train_numeric.Response\n",
    "x_train_numeric.drop(['Response'], axis=1, inplace=True)"
   ]
  },
  {
   "cell_type": "markdown",
   "metadata": {},
   "source": [
    "### Compare variance of CV score between repeated stratified KFold and stratified KFold with repeated models"
   ]
  },
  {
   "cell_type": "code",
   "execution_count": 10,
   "metadata": {},
   "outputs": [],
   "source": [
    "n_estimators = 200\n",
    "clf = XGBClassifier(max_depth=4, n_estimators=n_estimators, \n",
    "                    base_score=0.0058, n_jobs=-1, colsample_bytree=0.6,\n",
    "                    min_child_weight=5, subsample=0.9,  \n",
    "                    reg_lambda=4, silent=False, learning_rate=0.03)"
   ]
  },
  {
   "cell_type": "code",
   "execution_count": 11,
   "metadata": {},
   "outputs": [],
   "source": [
    "# clfs, scores, n_trees, running_time = cross_val_predict_rskf(clf, x_train_numeric, \n",
    "#    y_train, n_splits=3, n_repeats=2, random_state=42, verbose=False)"
   ]
  },
  {
   "cell_type": "code",
   "execution_count": 12,
   "metadata": {},
   "outputs": [
    {
     "name": "stdout",
     "output_type": "stream",
     "text": [
      "Repeat 0\n",
      "Split 0, score = 0.215, n_best_trees = 5, total time = 0.240 min\n",
      "Split 1, score = 0.230, n_best_trees = 49, total time = 1.007 min\n",
      "Split 2, score = 0.224, n_best_trees = 18, total time = 1.389 min\n",
      "Split 3, score = 0.211, n_best_trees = 19, total time = 1.779 min\n",
      "Split 4, score = 0.217, n_best_trees = 17, total time = 2.146 min\n",
      "Repeat 1\n",
      "Split 0, score = 0.211, n_best_trees = 21, total time = 2.564 min\n",
      "Split 1, score = 0.217, n_best_trees = 28, total time = 3.060 min\n",
      "Split 2, score = 0.216, n_best_trees = 26, total time = 3.536 min\n",
      "Split 3, score = 0.227, n_best_trees = 18, total time = 3.912 min\n",
      "Split 4, score = 0.222, n_best_trees = 56, total time = 4.737 min\n",
      "Repeat 2\n",
      "Split 0, score = 0.227, n_best_trees = 33, total time = 5.292 min\n",
      "Split 1, score = 0.222, n_best_trees = 68, total time = 6.275 min\n",
      "Split 2, score = 0.212, n_best_trees = 56, total time = 7.103 min\n",
      "Split 3, score = 0.222, n_best_trees = 55, total time = 7.923 min\n",
      "Split 4, score = 0.214, n_best_trees = 45, total time = 8.620 min\n",
      "Score mean = 0.220, std = 0.006\n"
     ]
    }
   ],
   "source": [
    "clfs, scores, n_trees, running_time = cross_val_predict_skf_rm(clf, x_train_numeric, \n",
    "    y_train, n_splits=5, n_repeats=3, random_state=42)\n",
    "save_pickle(clfs, 'clfs_benchmark.pickle')"
   ]
  },
  {
   "cell_type": "markdown",
   "metadata": {},
   "source": [
    "### Calculate `n_trees` for training the whole dataset"
   ]
  },
  {
   "cell_type": "code",
   "execution_count": 18,
   "metadata": {},
   "outputs": [],
   "source": [
    "results = read_pickle('results_benchmark.pickle')"
   ]
  },
  {
   "cell_type": "code",
   "execution_count": 21,
   "metadata": {},
   "outputs": [
    {
     "data": {
      "text/plain": [
       "59.25"
      ]
     },
     "execution_count": 21,
     "metadata": {},
     "output_type": "execute_result"
    }
   ],
   "source": [
    "np.mean(results['n_trees'])*5/4"
   ]
  },
  {
   "cell_type": "code",
   "execution_count": 75,
   "metadata": {},
   "outputs": [
    {
     "data": {
      "text/plain": [
       "0.22889219999999993"
      ]
     },
     "execution_count": 75,
     "metadata": {},
     "output_type": "execute_result"
    }
   ],
   "source": [
    "np.mean(results['scores'])"
   ]
  },
  {
   "cell_type": "markdown",
   "metadata": {},
   "source": [
    "### Train on the whole dataset"
   ]
  },
  {
   "cell_type": "code",
   "execution_count": 78,
   "metadata": {},
   "outputs": [
    {
     "name": "stdout",
     "output_type": "stream",
     "text": [
      "[0]\tvalidation_0-error:0.005811\tvalidation_0-MCC:-0.172025\n",
      "[1]\tvalidation_0-error:0.005811\tvalidation_0-MCC:-0.186038\n",
      "[2]\tvalidation_0-error:0.005811\tvalidation_0-MCC:-0.205032\n",
      "[3]\tvalidation_0-error:0.005811\tvalidation_0-MCC:-0.212484\n",
      "[4]\tvalidation_0-error:0.005811\tvalidation_0-MCC:-0.213678\n",
      "[5]\tvalidation_0-error:0.005811\tvalidation_0-MCC:-0.216577\n",
      "[6]\tvalidation_0-error:0.005811\tvalidation_0-MCC:-0.221166\n",
      "[7]\tvalidation_0-error:0.005811\tvalidation_0-MCC:-0.223749\n",
      "[8]\tvalidation_0-error:0.005811\tvalidation_0-MCC:-0.228559\n",
      "[9]\tvalidation_0-error:0.005811\tvalidation_0-MCC:-0.231866\n",
      "[10]\tvalidation_0-error:0.005811\tvalidation_0-MCC:-0.23456\n",
      "[11]\tvalidation_0-error:0.005811\tvalidation_0-MCC:-0.241056\n",
      "[12]\tvalidation_0-error:0.005811\tvalidation_0-MCC:-0.239444\n",
      "[13]\tvalidation_0-error:0.005811\tvalidation_0-MCC:-0.244551\n",
      "[14]\tvalidation_0-error:0.005811\tvalidation_0-MCC:-0.244088\n",
      "[15]\tvalidation_0-error:0.005811\tvalidation_0-MCC:-0.24475\n",
      "[16]\tvalidation_0-error:0.005811\tvalidation_0-MCC:-0.245252\n",
      "[17]\tvalidation_0-error:0.005811\tvalidation_0-MCC:-0.249616\n",
      "[18]\tvalidation_0-error:0.005811\tvalidation_0-MCC:-0.252353\n",
      "[19]\tvalidation_0-error:0.005811\tvalidation_0-MCC:-0.252702\n",
      "[20]\tvalidation_0-error:0.005811\tvalidation_0-MCC:-0.253804\n",
      "[21]\tvalidation_0-error:0.005811\tvalidation_0-MCC:-0.256869\n",
      "[22]\tvalidation_0-error:0.005811\tvalidation_0-MCC:-0.262695\n",
      "[23]\tvalidation_0-error:0.005811\tvalidation_0-MCC:-0.263161\n",
      "[24]\tvalidation_0-error:0.005811\tvalidation_0-MCC:-0.265977\n",
      "[25]\tvalidation_0-error:0.005811\tvalidation_0-MCC:-0.26852\n",
      "[26]\tvalidation_0-error:0.005811\tvalidation_0-MCC:-0.270622\n",
      "[27]\tvalidation_0-error:0.005811\tvalidation_0-MCC:-0.272626\n",
      "[28]\tvalidation_0-error:0.005811\tvalidation_0-MCC:-0.274379\n",
      "[29]\tvalidation_0-error:0.005811\tvalidation_0-MCC:-0.278303\n",
      "[30]\tvalidation_0-error:0.005804\tvalidation_0-MCC:-0.281282\n",
      "[31]\tvalidation_0-error:0.005797\tvalidation_0-MCC:-0.281379\n",
      "[32]\tvalidation_0-error:0.005791\tvalidation_0-MCC:-0.284057\n",
      "[33]\tvalidation_0-error:0.005787\tvalidation_0-MCC:-0.286173\n",
      "[34]\tvalidation_0-error:0.005782\tvalidation_0-MCC:-0.288138\n",
      "[35]\tvalidation_0-error:0.005776\tvalidation_0-MCC:-0.290374\n",
      "[36]\tvalidation_0-error:0.005774\tvalidation_0-MCC:-0.291364\n",
      "[37]\tvalidation_0-error:0.005766\tvalidation_0-MCC:-0.293991\n",
      "[38]\tvalidation_0-error:0.005755\tvalidation_0-MCC:-0.295234\n",
      "[39]\tvalidation_0-error:0.005736\tvalidation_0-MCC:-0.29677\n",
      "[40]\tvalidation_0-error:0.005723\tvalidation_0-MCC:-0.298438\n",
      "[41]\tvalidation_0-error:0.005717\tvalidation_0-MCC:-0.300891\n",
      "[42]\tvalidation_0-error:0.005695\tvalidation_0-MCC:-0.301037\n",
      "[43]\tvalidation_0-error:0.00569\tvalidation_0-MCC:-0.303313\n",
      "[44]\tvalidation_0-error:0.00568\tvalidation_0-MCC:-0.304573\n",
      "[45]\tvalidation_0-error:0.005679\tvalidation_0-MCC:-0.307395\n",
      "[46]\tvalidation_0-error:0.005669\tvalidation_0-MCC:-0.307901\n",
      "[47]\tvalidation_0-error:0.005663\tvalidation_0-MCC:-0.309326\n",
      "[48]\tvalidation_0-error:0.005662\tvalidation_0-MCC:-0.310274\n",
      "[49]\tvalidation_0-error:0.005646\tvalidation_0-MCC:-0.312873\n",
      "[50]\tvalidation_0-error:0.005639\tvalidation_0-MCC:-0.314163\n",
      "[51]\tvalidation_0-error:0.00563\tvalidation_0-MCC:-0.314747\n",
      "[52]\tvalidation_0-error:0.005619\tvalidation_0-MCC:-0.316341\n",
      "[53]\tvalidation_0-error:0.005615\tvalidation_0-MCC:-0.317128\n",
      "[54]\tvalidation_0-error:0.005614\tvalidation_0-MCC:-0.318615\n",
      "[55]\tvalidation_0-error:0.005607\tvalidation_0-MCC:-0.319792\n",
      "[56]\tvalidation_0-error:0.005602\tvalidation_0-MCC:-0.320952\n",
      "[57]\tvalidation_0-error:0.005599\tvalidation_0-MCC:-0.32162\n",
      "[58]\tvalidation_0-error:0.005589\tvalidation_0-MCC:-0.322671\n",
      "[59]\tvalidation_0-error:0.005578\tvalidation_0-MCC:-0.324758\n"
     ]
    },
    {
     "data": {
      "text/plain": [
       "XGBClassifier(base_score=0.0058, booster='gbtree', colsample_bylevel=1,\n",
       "       colsample_bytree=0.6, gamma=0, learning_rate=0.03, max_delta_step=0,\n",
       "       max_depth=14, min_child_weight=5, missing=None, n_estimators=60,\n",
       "       n_jobs=-1, nthread=None, objective='binary:logistic',\n",
       "       random_state=0, reg_alpha=0, reg_lambda=4, scale_pos_weight=1,\n",
       "       seed=None, silent=False, subsample=0.9)"
      ]
     },
     "execution_count": 78,
     "metadata": {},
     "output_type": "execute_result"
    }
   ],
   "source": [
    "n_estimators = 60\n",
    "clf = XGBClassifier(max_depth=14, n_estimators=n_estimators, \n",
    "                    base_score=0.0058, n_jobs=-1, colsample_bytree=0.6,\n",
    "                    min_child_weight=5, subsample=0.9,  \n",
    "                    reg_lambda=4, silent=False, learning_rate=0.03)\n",
    "clf.fit(x_train_numeric, y_train, \n",
    "        eval_set=[(x_train_numeric, y_train)], \n",
    "        eval_metric=mcc_eval, verbose=True)"
   ]
  },
  {
   "cell_type": "code",
   "execution_count": 79,
   "metadata": {},
   "outputs": [],
   "source": [
    "y_train_pred = clf.predict_proba(x_train_numeric)[:, 1]"
   ]
  },
  {
   "cell_type": "code",
   "execution_count": 80,
   "metadata": {},
   "outputs": [
    {
     "name": "stdout",
     "output_type": "stream",
     "text": [
      "0.3235454067254871\n"
     ]
    },
    {
     "data": {
      "image/png": "[encoded data removed]",
      "text/plain": [
       "<Figure size 432x288 with 1 Axes>"
      ]
     },
     "metadata": {},
     "output_type": "display_data"
    }
   ],
   "source": [
    "thresholds = np.linspace(0.01, 0.99, 200)\n",
    "mcc = np.array([matthews_corrcoef(y_train, y_train_pred>thr) for thr in thresholds])\n",
    "plt.plot(thresholds, mcc)\n",
    "best_threshold = thresholds[mcc.argmax()]\n",
    "print(mcc.max())"
   ]
  },
  {
   "cell_type": "code",
   "execution_count": 81,
   "metadata": {},
   "outputs": [
    {
     "data": {
      "text/plain": [
       "0.2020603015075377"
      ]
     },
     "execution_count": 81,
     "metadata": {},
     "output_type": "execute_result"
    }
   ],
   "source": [
    "best_threshold"
   ]
  },
  {
   "cell_type": "code",
   "execution_count": 82,
   "metadata": {},
   "outputs": [],
   "source": [
    "y_test_pred = clf.predict_proba(x_test)[:, 1]\n",
    "y_test_pred_int = (y_test_pred>best_threshold).astype(int)"
   ]
  },
  {
   "cell_type": "code",
   "execution_count": 83,
   "metadata": {},
   "outputs": [],
   "source": [
    "sub = pd.read_csv(\"data/sample_submission.csv.zip\", index_col=0)\n",
    "sub[\"Response\"] = y_test_pred_int\n",
    "sub.to_csv(\"15-benchmark_1_submission.csv.gz\", compression=\"gzip\")"
   ]
  },
  {
   "cell_type": "markdown",
   "metadata": {},
   "source": [
    "public MCC = 0.22810, private MCC = 0.22194\n",
    "\n",
    "CV MCC mean = 0.229, std = 0.007"
   ]
  },
  {
   "cell_type": "markdown",
   "metadata": {},
   "source": [
    "### Another threshold\n",
    "It is expected that 0.58% of the samples are positive, let's try such a threshold."
   ]
  },
  {
   "cell_type": "code",
   "execution_count": 61,
   "metadata": {},
   "outputs": [],
   "source": [
    "n_pos = np.array([sum(y_train_pred>thr) for thr in thresholds])"
   ]
  },
  {
   "cell_type": "code",
   "execution_count": 64,
   "metadata": {},
   "outputs": [
    {
     "data": {
      "text/plain": [
       "[<matplotlib.lines.Line2D at 0x1f4a316f240>]"
      ]
     },
     "execution_count": 64,
     "metadata": {},
     "output_type": "execute_result"
    },
    {
     "data": {
      "image/png": "[encoded data removed]",
      "text/plain": [
       "<Figure size 432x288 with 1 Axes>"
      ]
     },
     "metadata": {},
     "output_type": "display_data"
    }
   ],
   "source": [
    "plt.plot(n_pos/len(y_train_pred))"
   ]
  },
  {
   "cell_type": "code",
   "execution_count": 68,
   "metadata": {},
   "outputs": [],
   "source": [
    "a = np.where(n_pos/len(y_train_pred)<=0.0058)"
   ]
  },
  {
   "cell_type": "code",
   "execution_count": 70,
   "metadata": {},
   "outputs": [],
   "source": [
    "thr = thresholds[a[0][0]]"
   ]
  },
  {
   "cell_type": "code",
   "execution_count": 71,
   "metadata": {},
   "outputs": [
    {
     "data": {
      "text/plain": [
       "0.03462311557788945"
      ]
     },
     "execution_count": 71,
     "metadata": {},
     "output_type": "execute_result"
    }
   ],
   "source": [
    "thr"
   ]
  },
  {
   "cell_type": "code",
   "execution_count": 76,
   "metadata": {},
   "outputs": [],
   "source": [
    "y_test_pred_int = (y_test_pred>thr).astype(int)"
   ]
  },
  {
   "cell_type": "code",
   "execution_count": 77,
   "metadata": {},
   "outputs": [],
   "source": [
    "sub = pd.read_csv(\"data/sample_submission.csv.zip\", index_col=0)\n",
    "sub[\"Response\"] = y_test_pred_int\n",
    "sub.to_csv(\"15-benchmark_1_submission.csv.gz\", compression=\"gzip\")"
   ]
  },
  {
   "cell_type": "markdown",
   "metadata": {},
   "source": [
    "public MCC = 0.20236, private MCC = 0.19508"
   ]
  }
 ],
 "metadata": {
  "kernelspec": {
   "display_name": "Python 3",
   "language": "python",
   "name": "python3"
  },
  "language_info": {
   "codemirror_mode": {
    "name": "ipython",
    "version": 3
   },
   "file_extension": ".py",
   "mimetype": "text/x-python",
   "name": "python",
   "nbconvert_exporter": "python",
   "pygments_lexer": "ipython3",
   "version": "3.6.6"
  }
 },
 "nbformat": 4,
 "nbformat_minor": 2
}
