{
 "cells": [
  {
   "cell_type": "code",
   "execution_count": 1,
   "metadata": {},
   "outputs": [
    {
     "name": "stderr",
     "output_type": "stream",
     "text": [
      "C:\\Users\\home\\Anaconda3\\envs\\kaggle\\lib\\site-packages\\sklearn\\cross_validation.py:41: DeprecationWarning: This module was deprecated in version 0.18 in favor of the model_selection module into which all the refactored classes and functions are moved. Also note that the interface of the new CV iterators are different from that of this module. This module will be removed in 0.20.\n",
      "  \"This module will be removed in 0.20.\", DeprecationWarning)\n"
     ]
    }
   ],
   "source": [
    "import numpy as np\n",
    "import pandas as pd\n",
    "from sklearn.metrics import matthews_corrcoef, roc_auc_score\n",
    "from sklearn.cross_validation import cross_val_score, StratifiedKFold\n",
    "import matplotlib.pyplot as plt\n",
    "import seaborn as sns\n",
    "from sys import getsizeof\n",
    "import time\n",
    "import gc\n",
    "import tqdm\n",
    "\n",
    "%matplotlib inline"
   ]
  },
  {
   "cell_type": "code",
   "execution_count": 2,
   "metadata": {},
   "outputs": [],
   "source": [
    "import pickle\n",
    "\n",
    "def save_pickle(x, filename):\n",
    "    with open(filename, 'wb') as handle:\n",
    "        pickle.dump(x, handle, protocol=pickle.HIGHEST_PROTOCOL)\n",
    "\n",
    "def read_pickle(filename):\n",
    "    with open(filename, 'rb') as handle:\n",
    "        x = pickle.load(handle)\n",
    "    return x"
   ]
  },
  {
   "cell_type": "code",
   "execution_count": 15,
   "metadata": {},
   "outputs": [
    {
     "name": "stderr",
     "output_type": "stream",
     "text": [
      "C:\\Users\\home\\Anaconda3\\envs\\kaggle\\lib\\site-packages\\numpy\\lib\\arraysetops.py:472: FutureWarning: elementwise comparison failed; returning scalar instead, but in the future will perform elementwise comparison\n",
      "  mask |= (ar1 == a)\n"
     ]
    }
   ],
   "source": [
    "train_date = pd.read_csv('data/train_date.csv.zip', index_col=0, dtype=np.float16)"
   ]
  },
  {
   "cell_type": "markdown",
   "metadata": {},
   "source": [
    "### It turns out that numpy array is not more memory efficient than pandas dataframe"
   ]
  },
  {
   "cell_type": "code",
   "execution_count": 17,
   "metadata": {},
   "outputs": [],
   "source": [
    "x_train = read_pickle('x_train_numeric_date_0.pickle')"
   ]
  },
  {
   "cell_type": "code",
   "execution_count": 22,
   "metadata": {},
   "outputs": [
    {
     "data": {
      "text/plain": [
       "(1.44417134, (1183747, 610))"
      ]
     },
     "execution_count": 22,
     "metadata": {},
     "output_type": "execute_result"
    }
   ],
   "source": [
    "x_train.nbytes*10**-9, x_train.shape"
   ]
  },
  {
   "cell_type": "code",
   "execution_count": 23,
   "metadata": {},
   "outputs": [
    {
     "data": {
      "text/plain": [
       "(2.7462930400000003, (1183747, 1156))"
      ]
     },
     "execution_count": 23,
     "metadata": {},
     "output_type": "execute_result"
    }
   ],
   "source": [
    "train_date.memory_usage(deep=True).sum()*10**-9, train_date.shape"
   ]
  },
  {
   "cell_type": "code",
   "execution_count": null,
   "metadata": {},
   "outputs": [],
   "source": []
  },
  {
   "cell_type": "code",
   "execution_count": null,
   "metadata": {},
   "outputs": [],
   "source": [
    "def bayesian_time_diff(x_train, x_test, suffix, shift, feat):\n",
    "    '''\n",
    "    Calculate bayesian mean time difference between neighboring failures.\n",
    "    shift=n, n>0: n next failures\n",
    "    shift=n, n<0: n previous failures\n",
    "    x_train: has Response column\n",
    "    x_test: does not have Response column, other columns should be the same as x_train\n",
    "    feat: feature used for sorting and calculating distance\n",
    "    '''\n",
    "    assert(shift!=0), 'shift cannot equal 0!'\n",
    "    \n",
    "    # calculate 1st distance\n",
    "    x = pd.concat([x_train, x_test]).fillna(0)\n",
    "    x['idx'] = np.arange(len(x), dtype=np.int32)\n",
    "    n_train = len(x_train)\n",
    "    x['Response'] = x['Response'].astype(int)\n",
    "    x.sort_values(feat, axis=0, inplace=True)\n",
    "    \n",
    "    x['res1'] = x['Response']\n",
    "    x.loc[x['Response']==1, 'res1'] = x.loc[x['Response']==1, feat]\n",
    "    if shift<0:\n",
    "        x['res1'] = x[feat] - x['res1'].shift(1).fillna(0).replace(0, method='ffill')\n",
    "    elif shift>0:\n",
    "        x['res1'] = x['res1'].shift(-1).fillna(9999).replace(0, method='bfill') - x[feat]\n",
    "        \n",
    "    shift_abs = np.abs(shift)\n",
    "    if shift_abs>1:\n",
    "        for n in range(2, shift_abs+1):\n",
    "            x['res'+str(n)] = x['Response']\n",
    "            x.loc[x['Response']==1, 'res'+str(n)] = x.loc[x['Response']==1, 'res'+str(n-1)]\n",
    "            if shift<0:\n",
    "                x['res'+str(n)] = x['res'+str(n)].shift(1).fillna(0).replace(0, method='ffill') + x['res'+str(n-1)]\n",
    "            elif shift>0:\n",
    "                x['res'+str(n)] = x['res'+str(n)].shift(-1).fillna(9999).replace(0, method='bfill') + x['res'+str(n-1)]\n",
    "\n",
    "    x[feat+suffix] = x[['res'+str(n) for n in range(1, shift_abs+1)]].mean(axis=1)\n",
    "    x.drop(['res'+str(n) for n in range(1, shift_abs+1)], axis=1, inplace=True)\n",
    "    x.sort_values('idx', axis=0, inplace=True)\n",
    "    x.drop('idx', axis=1, inplace=True)\n",
    "    x_train0 = x.iloc[:n_train]\n",
    "    x_test0 = x.iloc[n_train:]\n",
    "    x_test0.drop('Response', axis=1, inplace=True)\n",
    "    \n",
    "    return x_train0, x_test0"
   ]
  }
 ],
 "metadata": {
  "kernelspec": {
   "display_name": "Python 3",
   "language": "python",
   "name": "python3"
  },
  "language_info": {
   "codemirror_mode": {
    "name": "ipython",
    "version": 3
   },
   "file_extension": ".py",
   "mimetype": "text/x-python",
   "name": "python",
   "nbconvert_exporter": "python",
   "pygments_lexer": "ipython3",
   "version": "3.6.5"
  }
 },
 "nbformat": 4,
 "nbformat_minor": 2
}
