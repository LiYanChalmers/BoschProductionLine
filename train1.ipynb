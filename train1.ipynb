{
 "cells": [
  {
   "cell_type": "markdown",
   "metadata": {},
   "source": [
    "## Train\n",
    "\n",
    "- Input:\n",
    "    - Numerical data with important features\n",
    "    - Engineered time features\n",
    "- Output:\n",
    "    - submission\n",
    "- Model:\n",
    "    - XGBoost\n",
    "    \n",
    "Time features:\n",
    "1. Together with test data\n",
    "    1. ID difference to the previous and next row when sorted by date_start and ID, Time_analysis.ipynb.\n",
    "    2. ID difference to the previous and next row when sorted by date_end and ID, Time_analysis.ipynb.\n",
    "    3. ID difference to the previous and next row when sorted by line start time and ID, Time_analysis.ipynb.\n",
    "    \n",
    "2. Independent of test data\n",
    "    4. Duration of whole production binned by 8 or 12 hours, e.g., Time_analysis.ipynb.\n",
    "    5. The binned day of a week, hour of a week, and hour of a day for date_start and date_end, e.g., Time_analysis.ipynb\n",
    "    6. Binned date_start, date_end, and duration on each station and line, e.g., station_time.ipynb and line_time.ipynb. \n",
    "        - **The bin edges should be saved for test data.**\n",
    "    7. Station flows converted to a number. \n",
    "        - **This is actually a categorical feature, should make XGBoost tree deep.**\n",
    "    8. Segments of production duration\n",
    "    \n",
    "3. Out of fold features\n",
    "    9. Row distance to the previous error when sorted by ID\n",
    "    10. Row distance to the previous error when sorted by date_start and ID\n",
    "    11. Row distance to the previous error when sorted by date_end and ID\n",
    "    12. The bayesian mean of (E) \n",
    "    13. The bayesian mean of (F) \n",
    "    14. The bayesian mean of (G)\n",
    "    "
   ]
  },
  {
   "cell_type": "code",
   "execution_count": 60,
   "metadata": {},
   "outputs": [],
   "source": [
    "import numpy as np\n",
    "import pandas as pd\n",
    "from xgboost import XGBClassifier\n",
    "from sklearn.metrics import matthews_corrcoef, roc_auc_score\n",
    "from sklearn.cross_validation import cross_val_score, StratifiedKFold\n",
    "import matplotlib.pyplot as plt\n",
    "import seaborn as sns\n",
    "from sys import getsizeof\n",
    "import time\n",
    "import gc\n",
    "\n",
    "%matplotlib inline"
   ]
  },
  {
   "cell_type": "markdown",
   "metadata": {},
   "source": [
    "Load numerical data"
   ]
  },
  {
   "cell_type": "code",
   "execution_count": 7,
   "metadata": {},
   "outputs": [
    {
     "name": "stderr",
     "output_type": "stream",
     "text": [
      "/home/li/miniconda3/envs/kaggle/lib/python3.6/site-packages/numpy/lib/arraysetops.py:472: FutureWarning: elementwise comparison failed; returning scalar instead, but in the future will perform elementwise comparison\n",
      "  mask |= (ar1 == a)\n"
     ]
    }
   ],
   "source": [
    "x_num = pd.read_csv('data/train_numeric.csv.zip', index_col=0, dtype=np.float16)\n",
    "y = x_num['Response']\n",
    "x_num.drop('Response', axis=1, inplace=True)\n",
    "y = y.astype(int)"
   ]
  },
  {
   "cell_type": "markdown",
   "metadata": {},
   "source": [
    "Load time data"
   ]
  },
  {
   "cell_type": "code",
   "execution_count": 11,
   "metadata": {},
   "outputs": [
    {
     "name": "stderr",
     "output_type": "stream",
     "text": [
      "/home/li/miniconda3/envs/kaggle/lib/python3.6/site-packages/numpy/lib/arraysetops.py:472: FutureWarning: elementwise comparison failed; returning scalar instead, but in the future will perform elementwise comparison\n",
      "  mask |= (ar1 == a)\n"
     ]
    }
   ],
   "source": [
    "x_date = pd.read_csv('data/train_date.csv.zip', index_col=0, dtype=np.float16)"
   ]
  },
  {
   "cell_type": "code",
   "execution_count": 23,
   "metadata": {},
   "outputs": [],
   "source": [
    "n_train, n_num = x_num.shape"
   ]
  },
  {
   "cell_type": "markdown",
   "metadata": {},
   "source": [
    "Sample numerical data, obtain feature importance"
   ]
  },
  {
   "cell_type": "code",
   "execution_count": 35,
   "metadata": {},
   "outputs": [],
   "source": [
    "# sample a subset of numerical data, obtain importance of features\n",
    "idx = np.random.randint(0, n_train, 200000)\n",
    "\n",
    "x_sample = x_num.iloc[idx].values\n",
    "y_sample = y.iloc[idx].values"
   ]
  },
  {
   "cell_type": "markdown",
   "metadata": {},
   "source": [
    "Train XGBoost"
   ]
  },
  {
   "cell_type": "code",
   "execution_count": 39,
   "metadata": {},
   "outputs": [
    {
     "data": {
      "text/plain": [
       "XGBClassifier(base_score=0.0058, booster='gbtree', colsample_bylevel=1,\n",
       "       colsample_bytree=1, gamma=0, learning_rate=0.1, max_delta_step=0,\n",
       "       max_depth=6, min_child_weight=1, missing=None, n_estimators=100,\n",
       "       n_jobs=6, nthread=None, objective='binary:logistic', random_state=0,\n",
       "       reg_alpha=0, reg_lambda=1, scale_pos_weight=1, seed=None,\n",
       "       silent=True, subsample=1)"
      ]
     },
     "execution_count": 39,
     "metadata": {},
     "output_type": "execute_result"
    }
   ],
   "source": [
    "clf = XGBClassifier(base_score=0.0058, max_depth=6, n_jobs=6)\n",
    "clf.fit(x_sample, y_sample, verbose=True)"
   ]
  },
  {
   "cell_type": "markdown",
   "metadata": {},
   "source": [
    "Plot feature importance"
   ]
  },
  {
   "cell_type": "code",
   "execution_count": 40,
   "metadata": {},
   "outputs": [
    {
     "data": {
      "text/plain": [
       "[<matplotlib.lines.Line2D at 0x7f1503b4f470>]"
      ]
     },
     "execution_count": 40,
     "metadata": {},
     "output_type": "execute_result"
    },
    {
     "data": {
      "image/png": "[encoded data removed]",
      "text/plain": [
       "<Figure size 432x288 with 1 Axes>"
      ]
     },
     "metadata": {},
     "output_type": "display_data"
    }
   ],
   "source": [
    "important_indices = np.where(clf.feature_importances_>0.001)[0]\n",
    "plt.plot(sorted(clf.feature_importances_))\n",
    "plt.plot(0.001*np.ones(len(clf.feature_importances_)))"
   ]
  },
  {
   "cell_type": "markdown",
   "metadata": {},
   "source": [
    "We have selected 242 important features"
   ]
  },
  {
   "cell_type": "code",
   "execution_count": 44,
   "metadata": {},
   "outputs": [
    {
     "name": "stdout",
     "output_type": "stream",
     "text": [
      "Index(['L0_S0_F0', 'L0_S0_F2', 'L0_S0_F4', 'L0_S0_F6', 'L0_S0_F8', 'L0_S0_F12',\n",
      "       'L0_S0_F14', 'L0_S0_F16', 'L0_S0_F18', 'L0_S0_F20',\n",
      "       ...\n",
      "       'L3_S35_F3896', 'L3_S36_F3920', 'L3_S38_F3952', 'L3_S41_F4016',\n",
      "       'L3_S41_F4020', 'L3_S41_F4026', 'L3_S44_F4121', 'L3_S45_F4124',\n",
      "       'L3_S47_F4153', 'L3_S47_F4158'],\n",
      "      dtype='object', length=242)\n"
     ]
    }
   ],
   "source": [
    "important_numerical_features = x_num.columns[important_indices]\n",
    "print(important_numerical_features)"
   ]
  },
  {
   "cell_type": "code",
   "execution_count": 45,
   "metadata": {},
   "outputs": [
    {
     "data": {
      "text/plain": [
       "242"
      ]
     },
     "execution_count": 45,
     "metadata": {},
     "output_type": "execute_result"
    }
   ],
   "source": [
    "len(important_numerical_features)"
   ]
  },
  {
   "cell_type": "markdown",
   "metadata": {},
   "source": [
    "Save names of the important features. Remove other features for the time being to save memory."
   ]
  },
  {
   "cell_type": "code",
   "execution_count": 47,
   "metadata": {},
   "outputs": [],
   "source": [
    "important_numerical_features = pd.DataFrame(important_numerical_features)\n",
    "\n",
    "important_numerical_features.to_csv('important_numerical_features_samples_2e4.csv')"
   ]
  },
  {
   "cell_type": "code",
   "execution_count": 57,
   "metadata": {},
   "outputs": [],
   "source": [
    "x_num = x_num[[c[0] for c in important_numerical_features.values]]"
   ]
  },
  {
   "cell_type": "code",
   "execution_count": 66,
   "metadata": {},
   "outputs": [
    {
     "name": "stdout",
     "output_type": "stream",
     "text": [
      "Memory usage of x_num is 0.582G.\n"
     ]
    }
   ],
   "source": [
    "print('Memory usage of x_num is {:.3f}G.'.format(x_num.memory_usage(deep=True).sum()*10**-9))"
   ]
  },
  {
   "cell_type": "markdown",
   "metadata": {},
   "source": [
    "### Time features: Together with test data"
   ]
  },
  {
   "cell_type": "code",
   "execution_count": 67,
   "metadata": {},
   "outputs": [
    {
     "name": "stdout",
     "output_type": "stream",
     "text": [
      "Memory usage of x_date is 2.746G.\n"
     ]
    }
   ],
   "source": [
    "print('Memory usage of x_date is {:.3f}G.'.format(x_date.memory_usage(deep=True).sum()*10**-9))"
   ]
  },
  {
   "cell_type": "code",
   "execution_count": 68,
   "metadata": {},
   "outputs": [
    {
     "data": {
      "text/plain": [
       "'posix'"
      ]
     },
     "execution_count": 68,
     "metadata": {},
     "output_type": "execute_result"
    }
   ],
   "source": [
    "import os\n",
    "os.name"
   ]
  },
  {
   "cell_type": "code",
   "execution_count": null,
   "metadata": {},
   "outputs": [],
   "source": []
  },
  {
   "cell_type": "code",
   "execution_count": null,
   "metadata": {},
   "outputs": [],
   "source": []
  }
 ],
 "metadata": {
  "kernelspec": {
   "display_name": "Python 3",
   "language": "python",
   "name": "python3"
  },
  "language_info": {
   "codemirror_mode": {
    "name": "ipython",
    "version": 3
   },
   "file_extension": ".py",
   "mimetype": "text/x-python",
   "name": "python",
   "nbconvert_exporter": "python",
   "pygments_lexer": "ipython3",
   "version": "3.6.5"
  }
 },
 "nbformat": 4,
 "nbformat_minor": 2
}
