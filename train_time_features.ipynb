{
 "cells": [
  {
   "cell_type": "code",
   "execution_count": 1,
   "metadata": {},
   "outputs": [
    {
     "name": "stderr",
     "output_type": "stream",
     "text": [
      "C:\\Users\\home\\Anaconda3\\envs\\kaggle\\lib\\site-packages\\sklearn\\cross_validation.py:41: DeprecationWarning: This module was deprecated in version 0.18 in favor of the model_selection module into which all the refactored classes and functions are moved. Also note that the interface of the new CV iterators are different from that of this module. This module will be removed in 0.20.\n",
      "  \"This module will be removed in 0.20.\", DeprecationWarning)\n"
     ]
    }
   ],
   "source": [
    "import os\n",
    "if os.name=='nt':\n",
    "    mingw_path = 'C:\\\\Program Files\\\\mingw-w64\\\\x86_64-8.1.0-posix-seh-rt_v6-rev0\\\\mingw64\\\\bin'\n",
    "    os.environ['PATH'] = mingw_path + ';' + os.environ['PATH']\n",
    "\n",
    "import numpy as np\n",
    "import pandas as pd\n",
    "from xgboost import XGBClassifier\n",
    "from sklearn.metrics import matthews_corrcoef, roc_auc_score\n",
    "from sklearn.cross_validation import cross_val_score, StratifiedKFold\n",
    "from sklearn.model_selection import train_test_split\n",
    "import matplotlib.pyplot as plt\n",
    "import seaborn as sns\n",
    "from sys import getsizeof\n",
    "import time\n",
    "\n",
    "%matplotlib inline"
   ]
  },
  {
   "cell_type": "code",
   "execution_count": 2,
   "metadata": {},
   "outputs": [],
   "source": [
    "import pickle\n",
    "\n",
    "def save_pickle(x, filename):\n",
    "    with open(filename, 'wb') as handle:\n",
    "        pickle.dump(x, handle, protocol=pickle.HIGHEST_PROTOCOL)\n",
    "\n",
    "def read_pickle(filename):\n",
    "    with open(filename, 'rb') as handle:\n",
    "        x = pickle.load(handle)\n",
    "    return x"
   ]
  },
  {
   "cell_type": "code",
   "execution_count": 3,
   "metadata": {},
   "outputs": [
    {
     "name": "stderr",
     "output_type": "stream",
     "text": [
      "C:\\Users\\home\\Anaconda3\\envs\\kaggle\\lib\\site-packages\\numpy\\lib\\arraysetops.py:472: FutureWarning: elementwise comparison failed; returning scalar instead, but in the future will perform elementwise comparison\n",
      "  mask |= (ar1 == a)\n"
     ]
    }
   ],
   "source": [
    "def bayesian_time_diff(x_train, x_test, suffix, shift, feat):\n",
    "    '''\n",
    "    Calculate bayesian mean time difference between neighboring failures.\n",
    "    shift=n, n>0: n next failures\n",
    "    shift=n, n<0: n previous failures\n",
    "    x_train: has Response column\n",
    "    x_test: does not have Response column, other columns should be the same as x_train\n",
    "    feat: feature used for sorting and calculating distance\n",
    "    '''\n",
    "    assert(shift!=0), 'shift cannot equal 0!'\n",
    "    \n",
    "    # calculate 1st distance\n",
    "    x = pd.concat([x_train, x_test]).fillna(0)\n",
    "    x['idx'] = np.arange(len(x), dtype=np.int32)\n",
    "    n_train = len(x_train)\n",
    "    x['Response'] = x['Response'].astype(int)\n",
    "    x.sort_values(feat, axis=0, inplace=True)\n",
    "    \n",
    "    x['res1'] = x['Response']\n",
    "    x.loc[x['Response']==1, 'res1'] = x.loc[x['Response']==1, feat]\n",
    "    if shift<0:\n",
    "        x['res1'] = x[feat] - x['res1'].shift(1).fillna(0).replace(0, method='ffill')\n",
    "    elif shift>0:\n",
    "        x['res1'] = x['res1'].shift(-1).fillna(9999).replace(0, method='bfill') - x[feat]\n",
    "        \n",
    "    shift_abs = np.abs(shift)\n",
    "    if shift_abs>1:\n",
    "        for n in range(2, shift_abs+1):\n",
    "            x['res'+str(n)] = x['Response']\n",
    "            x.loc[x['Response']==1, 'res'+str(n)] = x.loc[x['Response']==1, 'res'+str(n-1)]\n",
    "            if shift<0:\n",
    "                x['res'+str(n)] = x['res'+str(n)].shift(1).fillna(0).replace(0, method='ffill') + x['res'+str(n-1)]\n",
    "            elif shift>0:\n",
    "                x['res'+str(n)] = x['res'+str(n)].shift(-1).fillna(9999).replace(0, method='bfill') + x['res'+str(n-1)]\n",
    "\n",
    "    x[feat+suffix] = x[['res'+str(n) for n in range(1, shift_abs+1)]].mean(axis=1)\n",
    "    x.drop(['res'+str(n) for n in range(1, shift_abs+1)], axis=1, inplace=True)\n",
    "    x.sort_values('idx', axis=0, inplace=True)\n",
    "    x.drop('idx', axis=1, inplace=True)\n",
    "    x_train0 = x.iloc[:n_train]\n",
    "    x_test0 = x.iloc[n_train:]\n",
    "    x_test0.drop('Response', axis=1, inplace=True)\n",
    "    \n",
    "    return x_train0, x_test0\n",
    "\n",
    "\n",
    "#suffix = ['_{}_{}{}'.format(f.split('_')[1], 'p' if s>0 else 'm', abs(s)) for f in feats for s in shifts]\n",
    "\n",
    "def bayesian_generate_all(x_train, x_test):\n",
    "    shifts = [-10, -5, -1, 1, 5, 10]\n",
    "    feats = ['time_min', 'time_max']\n",
    "    x_train_new = []\n",
    "    x_test_new = []\n",
    "    for s in shifts:\n",
    "        for f in feats:\n",
    "            suffix = '_{}_{}{}'.format(f.split('_')[1], 'p' if s>0 else 'm', abs(s))\n",
    "            tmp_train, tmp_test = bayesian_time_diff(x_train, x_test, suffix, s, f)\n",
    "            tmp_train.drop(['time_min', 'time_max', 'Response'], axis=1, inplace=True)\n",
    "            tmp_test.drop(['time_min', 'time_max'], axis=1, inplace=True)\n",
    "            x_train_new.append(tmp_train)\n",
    "            x_test_new.append(tmp_test)\n",
    "    \n",
    "    x_train_new = x_train_new[0].join(x_train_new[1:])\n",
    "    x_test_new = x_test_new[0].join(x_test_new[1:])\n",
    "    \n",
    "    return x_train_new.values, x_test_new.values\n",
    "\n",
    "time_all = pd.read_csv('time_all.csv.gz', index_col=0)"
   ]
  },
  {
   "cell_type": "markdown",
   "metadata": {},
   "source": [
    "u = time_all.iloc[:1183747].copy()\n",
    "u.drop(['idx'], axis=1, inplace=True)\n",
    "v = time_all.iloc[1183747:].copy()\n",
    "v.drop(['idx', 'Response'], axis=1, inplace=True)\n",
    "\n",
    "u0, v0 = bayesian_generate_all(u, v)"
   ]
  },
  {
   "cell_type": "code",
   "execution_count": 4,
   "metadata": {},
   "outputs": [],
   "source": [
    "x_train0 = read_pickle('x_train_date_feats_0.pickle')\n",
    "x_test = read_pickle('x_test_date_feats_0.pickle')"
   ]
  },
  {
   "cell_type": "code",
   "execution_count": 5,
   "metadata": {},
   "outputs": [
    {
     "name": "stderr",
     "output_type": "stream",
     "text": [
      "C:\\Users\\home\\Anaconda3\\envs\\kaggle\\lib\\site-packages\\numpy\\lib\\arraysetops.py:472: FutureWarning: elementwise comparison failed; returning scalar instead, but in the future will perform elementwise comparison\n",
      "  mask |= (ar1 == a)\n"
     ]
    }
   ],
   "source": [
    "response = pd.read_csv('data/train_numeric.csv.zip', index_col=0, usecols=[0, 969])"
   ]
  },
  {
   "cell_type": "code",
   "execution_count": 6,
   "metadata": {},
   "outputs": [],
   "source": [
    "y_train0 = response.values.ravel()"
   ]
  },
  {
   "cell_type": "code",
   "execution_count": 7,
   "metadata": {},
   "outputs": [],
   "source": [
    "idx0 = np.arange(x_train0.shape[0])\n",
    "x_train, x_val, y_train, y_val, idx_train, idx_val = train_test_split(x_train0, y_train0, idx0, \n",
    "                                                                      test_size=0.2, random_state=0)"
   ]
  },
  {
   "cell_type": "markdown",
   "metadata": {},
   "source": [
    "time_train = time_all.iloc[idx_train].copy()\n",
    "time_train.drop(['idx'], axis=1, inplace=True)\n",
    "time_val = time_all.iloc[idx_val].copy()\n",
    "time_val.drop(['idx', 'Response'], axis=1, inplace=True)\n",
    "\n",
    "time_train, time_val = bayesian_generate_all(time_train, time_val)\n",
    "\n",
    "x_train = np.concatenate((x_train, time_train), axis=1)\n",
    "x_val = np.concatenate((x_val, time_val), axis=1)"
   ]
  },
  {
   "cell_type": "markdown",
   "metadata": {},
   "source": [
    "time_train0 = time_all.iloc[:1183747].copy()\n",
    "time_train0.drop(['idx'], axis=1, inplace=True)\n",
    "time_test = time_all.iloc[1183747:].copy()\n",
    "time_test.drop(['idx', 'Response'], axis=1, inplace=True)\n",
    "\n",
    "time_train0, time_test = bayesian_generate_all(time_train0, time_test)\n",
    "\n",
    "x_train0 = np.concatenate((x_train0, time_train0), axis=1)\n",
    "x_test = np.concatenate((x_test, time_test), axis=1)"
   ]
  },
  {
   "cell_type": "markdown",
   "metadata": {},
   "source": [
    "cv = StratifiedKFold(y_train, n_folds=5, shuffle=True, random_state=0)"
   ]
  },
  {
   "cell_type": "markdown",
   "metadata": {},
   "source": [
    "preds = np.ones(y_train.shape[0])\n",
    "for i, (train, test) in enumerate(cv):\n",
    "    clf.fit(x_train[train], y_train[train], \n",
    "                          eval_set=[(x_val, y_val)], eval_metric='auc', \n",
    "                          early_stopping_rounds=10)\n",
    "    models.append(clf)\n",
    "    preds[test] = clf.predict_proba(x_train[test])[:,1]\n",
    "    print(\"fold {}, ROC AUC: {:.3f}\".format(i, roc_auc_score(y_train[test], preds[test])))\n",
    "print(roc_auc_score(y_train, preds))"
   ]
  },
  {
   "cell_type": "code",
   "execution_count": 8,
   "metadata": {},
   "outputs": [
    {
     "name": "stdout",
     "output_type": "stream",
     "text": [
      "[0]\tvalidation_0-auc:0.901478\n",
      "Will train until validation_0-auc hasn't improved in 10 rounds.\n",
      "[1]\tvalidation_0-auc:0.909342\n",
      "[2]\tvalidation_0-auc:0.909574\n",
      "[3]\tvalidation_0-auc:0.910124\n",
      "[4]\tvalidation_0-auc:0.909923\n",
      "[5]\tvalidation_0-auc:0.910136\n",
      "[6]\tvalidation_0-auc:0.909746\n",
      "[7]\tvalidation_0-auc:0.910451\n",
      "[8]\tvalidation_0-auc:0.910542\n",
      "[9]\tvalidation_0-auc:0.91101\n",
      "[10]\tvalidation_0-auc:0.911564\n",
      "[11]\tvalidation_0-auc:0.912002\n",
      "[12]\tvalidation_0-auc:0.912208\n",
      "[13]\tvalidation_0-auc:0.912422\n",
      "[14]\tvalidation_0-auc:0.912492\n",
      "[15]\tvalidation_0-auc:0.911956\n",
      "[16]\tvalidation_0-auc:0.912148\n",
      "[17]\tvalidation_0-auc:0.912039\n",
      "[18]\tvalidation_0-auc:0.912362\n",
      "[19]\tvalidation_0-auc:0.912529\n",
      "[20]\tvalidation_0-auc:0.912205\n",
      "[21]\tvalidation_0-auc:0.912521\n",
      "[22]\tvalidation_0-auc:0.912363\n",
      "[23]\tvalidation_0-auc:0.912758\n",
      "[24]\tvalidation_0-auc:0.912801\n",
      "[25]\tvalidation_0-auc:0.912811\n",
      "[26]\tvalidation_0-auc:0.912952\n",
      "[27]\tvalidation_0-auc:0.913199\n",
      "[28]\tvalidation_0-auc:0.913133\n",
      "[29]\tvalidation_0-auc:0.913153\n",
      "[30]\tvalidation_0-auc:0.912629\n",
      "[31]\tvalidation_0-auc:0.912912\n",
      "[32]\tvalidation_0-auc:0.913016\n",
      "[33]\tvalidation_0-auc:0.913238\n",
      "[34]\tvalidation_0-auc:0.913353\n",
      "[35]\tvalidation_0-auc:0.913413\n",
      "[36]\tvalidation_0-auc:0.91351\n",
      "[37]\tvalidation_0-auc:0.913351\n",
      "[38]\tvalidation_0-auc:0.913453\n",
      "[39]\tvalidation_0-auc:0.91399\n",
      "[40]\tvalidation_0-auc:0.913993\n",
      "[41]\tvalidation_0-auc:0.914114\n",
      "[42]\tvalidation_0-auc:0.914348\n",
      "[43]\tvalidation_0-auc:0.914314\n",
      "[44]\tvalidation_0-auc:0.914643\n",
      "[45]\tvalidation_0-auc:0.914688\n",
      "[46]\tvalidation_0-auc:0.914701\n",
      "[47]\tvalidation_0-auc:0.914991\n",
      "[48]\tvalidation_0-auc:0.914707\n",
      "[49]\tvalidation_0-auc:0.914804\n",
      "[50]\tvalidation_0-auc:0.914875\n",
      "[51]\tvalidation_0-auc:0.914861\n",
      "[52]\tvalidation_0-auc:0.914831\n",
      "[53]\tvalidation_0-auc:0.914827\n",
      "[54]\tvalidation_0-auc:0.914898\n",
      "[55]\tvalidation_0-auc:0.914983\n",
      "[56]\tvalidation_0-auc:0.915028\n",
      "[57]\tvalidation_0-auc:0.915025\n",
      "[58]\tvalidation_0-auc:0.914939\n",
      "[59]\tvalidation_0-auc:0.914991\n",
      "[60]\tvalidation_0-auc:0.914832\n",
      "[61]\tvalidation_0-auc:0.914858\n",
      "[62]\tvalidation_0-auc:0.914847\n",
      "[63]\tvalidation_0-auc:0.914878\n",
      "[64]\tvalidation_0-auc:0.914886\n",
      "[65]\tvalidation_0-auc:0.91477\n",
      "[66]\tvalidation_0-auc:0.914631\n",
      "Stopping. Best iteration:\n",
      "[56]\tvalidation_0-auc:0.915028\n",
      "\n"
     ]
    },
    {
     "data": {
      "text/plain": [
       "XGBClassifier(base_score=0.0058, booster='gbtree', colsample_bylevel=1,\n",
       "       colsample_bytree=0.6, gamma=0, learning_rate=0.03, max_delta_step=0,\n",
       "       max_depth=14, min_child_weight=5, missing=None, n_estimators=400,\n",
       "       n_jobs=8, nthread=None, objective='binary:logistic', random_state=0,\n",
       "       reg_alpha=0, reg_lambda=4, scale_pos_weight=1, seed=None,\n",
       "       silent=False, subsample=0.9)"
      ]
     },
     "execution_count": 8,
     "metadata": {},
     "output_type": "execute_result"
    }
   ],
   "source": [
    "n_estimators = 400\n",
    "clf = XGBClassifier(max_depth=14, n_estimators=n_estimators, base_score=0.0058, n_jobs=8, colsample_bytree=0.6,\n",
    "                   min_child_weight=5, subsample=0.9,  reg_lambda=4, silent=False, learning_rate=0.03)\n",
    "\n",
    "clf.fit(x_train, y_train, eval_set=[(x_val, y_val)], eval_metric='auc', early_stopping_rounds=10)"
   ]
  },
  {
   "cell_type": "code",
   "execution_count": 9,
   "metadata": {},
   "outputs": [],
   "source": [
    "if clf.best_ntree_limit:\n",
    "    n_estimators = int(clf.best_ntree_limit * 1.2)\n",
    "\n",
    "clf.n_estimators = n_estimators"
   ]
  },
  {
   "cell_type": "code",
   "execution_count": 10,
   "metadata": {},
   "outputs": [
    {
     "data": {
      "text/plain": [
       "68"
      ]
     },
     "execution_count": 10,
     "metadata": {},
     "output_type": "execute_result"
    }
   ],
   "source": [
    "n_estimators"
   ]
  },
  {
   "cell_type": "code",
   "execution_count": 11,
   "metadata": {},
   "outputs": [
    {
     "name": "stdout",
     "output_type": "stream",
     "text": [
      "[0]\tvalidation_0-auc:0.913031\n",
      "[1]\tvalidation_0-auc:0.919905\n",
      "[2]\tvalidation_0-auc:0.922025\n",
      "[3]\tvalidation_0-auc:0.92578\n",
      "[4]\tvalidation_0-auc:0.928106\n",
      "[5]\tvalidation_0-auc:0.929548\n",
      "[6]\tvalidation_0-auc:0.931259\n",
      "[7]\tvalidation_0-auc:0.931919\n",
      "[8]\tvalidation_0-auc:0.93235\n",
      "[9]\tvalidation_0-auc:0.932781\n",
      "[10]\tvalidation_0-auc:0.933455\n",
      "[11]\tvalidation_0-auc:0.933735\n",
      "[12]\tvalidation_0-auc:0.934449\n",
      "[13]\tvalidation_0-auc:0.934831\n",
      "[14]\tvalidation_0-auc:0.935131\n",
      "[15]\tvalidation_0-auc:0.935541\n",
      "[16]\tvalidation_0-auc:0.936281\n",
      "[17]\tvalidation_0-auc:0.93704\n",
      "[18]\tvalidation_0-auc:0.937273\n",
      "[19]\tvalidation_0-auc:0.937478\n",
      "[20]\tvalidation_0-auc:0.93757\n",
      "[21]\tvalidation_0-auc:0.938655\n",
      "[22]\tvalidation_0-auc:0.939063\n",
      "[23]\tvalidation_0-auc:0.939149\n",
      "[24]\tvalidation_0-auc:0.939592\n",
      "[25]\tvalidation_0-auc:0.939906\n",
      "[26]\tvalidation_0-auc:0.940635\n",
      "[27]\tvalidation_0-auc:0.941493\n",
      "[28]\tvalidation_0-auc:0.941921\n",
      "[29]\tvalidation_0-auc:0.943086\n",
      "[30]\tvalidation_0-auc:0.944009\n",
      "[31]\tvalidation_0-auc:0.944326\n",
      "[32]\tvalidation_0-auc:0.944411\n",
      "[33]\tvalidation_0-auc:0.94449\n",
      "[34]\tvalidation_0-auc:0.944672\n",
      "[35]\tvalidation_0-auc:0.945456\n",
      "[36]\tvalidation_0-auc:0.945839\n",
      "[37]\tvalidation_0-auc:0.946562\n",
      "[38]\tvalidation_0-auc:0.946845\n",
      "[39]\tvalidation_0-auc:0.947718\n",
      "[40]\tvalidation_0-auc:0.948101\n",
      "[41]\tvalidation_0-auc:0.948539\n",
      "[42]\tvalidation_0-auc:0.948949\n",
      "[43]\tvalidation_0-auc:0.949145\n",
      "[44]\tvalidation_0-auc:0.949586\n",
      "[45]\tvalidation_0-auc:0.949958\n",
      "[46]\tvalidation_0-auc:0.950786\n",
      "[47]\tvalidation_0-auc:0.951077\n",
      "[48]\tvalidation_0-auc:0.951359\n",
      "[49]\tvalidation_0-auc:0.951854\n",
      "[50]\tvalidation_0-auc:0.952038\n",
      "[51]\tvalidation_0-auc:0.95242\n",
      "[52]\tvalidation_0-auc:0.953118\n",
      "[53]\tvalidation_0-auc:0.953432\n",
      "[54]\tvalidation_0-auc:0.953686\n",
      "[55]\tvalidation_0-auc:0.953915\n",
      "[56]\tvalidation_0-auc:0.954615\n",
      "[57]\tvalidation_0-auc:0.955124\n",
      "[58]\tvalidation_0-auc:0.955577\n",
      "[59]\tvalidation_0-auc:0.956104\n",
      "[60]\tvalidation_0-auc:0.956256\n",
      "[61]\tvalidation_0-auc:0.956486\n",
      "[62]\tvalidation_0-auc:0.956822\n",
      "[63]\tvalidation_0-auc:0.957499\n",
      "[64]\tvalidation_0-auc:0.957875\n",
      "[65]\tvalidation_0-auc:0.958297\n",
      "[66]\tvalidation_0-auc:0.958783\n",
      "[67]\tvalidation_0-auc:0.959201\n"
     ]
    },
    {
     "data": {
      "text/plain": [
       "XGBClassifier(base_score=0.0058, booster='gbtree', colsample_bylevel=1,\n",
       "       colsample_bytree=0.6, gamma=0, learning_rate=0.03, max_delta_step=0,\n",
       "       max_depth=14, min_child_weight=5, missing=None, n_estimators=68,\n",
       "       n_jobs=8, nthread=None, objective='binary:logistic', random_state=0,\n",
       "       reg_alpha=0, reg_lambda=4, scale_pos_weight=1, seed=None,\n",
       "       silent=False, subsample=0.9)"
      ]
     },
     "execution_count": 11,
     "metadata": {},
     "output_type": "execute_result"
    }
   ],
   "source": [
    "clf.fit(x_train0, y_train0, eval_set=[(x_train0, y_train0)], eval_metric='auc')"
   ]
  },
  {
   "cell_type": "code",
   "execution_count": 12,
   "metadata": {},
   "outputs": [],
   "source": [
    "preds = clf.predict_proba(x_train0)\n",
    "preds = preds[:, 1]"
   ]
  },
  {
   "cell_type": "code",
   "execution_count": 13,
   "metadata": {},
   "outputs": [
    {
     "name": "stderr",
     "output_type": "stream",
     "text": [
      "C:\\Users\\home\\Anaconda3\\envs\\kaggle\\lib\\site-packages\\sklearn\\metrics\\classification.py:538: RuntimeWarning: invalid value encountered in double_scalars\n",
      "  mcc = cov_ytyp / np.sqrt(cov_ytyt * cov_ypyp)\n"
     ]
    },
    {
     "name": "stdout",
     "output_type": "stream",
     "text": [
      "0.47318754151177095\n"
     ]
    },
    {
     "data": {
      "image/png": "[encoded data removed]",
      "text/plain": [
       "<Figure size 432x288 with 1 Axes>"
      ]
     },
     "metadata": {},
     "output_type": "display_data"
    }
   ],
   "source": [
    "thresholds = np.linspace(0.01, 0.99, 50)\n",
    "mcc = np.array([matthews_corrcoef(y_train0, preds>thr) for thr in thresholds])\n",
    "plt.plot(thresholds, mcc)\n",
    "best_threshold = thresholds[mcc.argmax()]\n",
    "print(mcc.max())"
   ]
  },
  {
   "cell_type": "code",
   "execution_count": 14,
   "metadata": {},
   "outputs": [
    {
     "name": "stderr",
     "output_type": "stream",
     "text": [
      "C:\\Users\\home\\Anaconda3\\envs\\kaggle\\lib\\site-packages\\numpy\\lib\\arraysetops.py:472: FutureWarning: elementwise comparison failed; returning scalar instead, but in the future will perform elementwise comparison\n",
      "  mask |= (ar1 == a)\n"
     ]
    }
   ],
   "source": [
    "preds = (clf.predict_proba(x_test)[:, 1]>best_threshold).astype(np.int8)\n",
    "sub = pd.read_csv('data/sample_submission.csv.zip', index_col=0)\n",
    "sub['Response'] = preds\n",
    "sub.to_csv('submission_train_time_features.csv.gz', compression='gzip')"
   ]
  },
  {
   "cell_type": "code",
   "execution_count": null,
   "metadata": {},
   "outputs": [],
   "source": []
  }
 ],
 "metadata": {
  "kernelspec": {
   "display_name": "Python 3",
   "language": "python",
   "name": "python3"
  },
  "language_info": {
   "codemirror_mode": {
    "name": "ipython",
    "version": 3
   },
   "file_extension": ".py",
   "mimetype": "text/x-python",
   "name": "python",
   "nbconvert_exporter": "python",
   "pygments_lexer": "ipython3",
   "version": "3.6.5"
  }
 },
 "nbformat": 4,
 "nbformat_minor": 2
}
