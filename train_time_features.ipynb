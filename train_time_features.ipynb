{
 "cells": [
  {
   "cell_type": "code",
   "execution_count": 1,
   "metadata": {},
   "outputs": [
    {
     "name": "stderr",
     "output_type": "stream",
     "text": [
      "/home/li/miniconda3/envs/kaggle/lib/python3.6/site-packages/sklearn/cross_validation.py:41: DeprecationWarning: This module was deprecated in version 0.18 in favor of the model_selection module into which all the refactored classes and functions are moved. Also note that the interface of the new CV iterators are different from that of this module. This module will be removed in 0.20.\n",
      "  \"This module will be removed in 0.20.\", DeprecationWarning)\n"
     ]
    }
   ],
   "source": [
    "import os\n",
    "if os.name=='nt':\n",
    "    mingw_path = 'C:\\\\Program Files\\\\mingw-w64\\\\x86_64-8.1.0-posix-seh-rt_v6-rev0\\\\mingw64\\\\bin'\n",
    "    os.environ['PATH'] = mingw_path + ';' + os.environ['PATH']\n",
    "\n",
    "import numpy as np\n",
    "import pandas as pd\n",
    "from xgboost import XGBClassifier\n",
    "from sklearn.metrics import matthews_corrcoef, roc_auc_score\n",
    "from sklearn.cross_validation import cross_val_score, StratifiedKFold\n",
    "from sklearn.model_selection import train_test_split\n",
    "import matplotlib.pyplot as plt\n",
    "import seaborn as sns\n",
    "from sys import getsizeof\n",
    "import time\n",
    "\n",
    "%matplotlib inline"
   ]
  },
  {
   "cell_type": "code",
   "execution_count": 2,
   "metadata": {},
   "outputs": [],
   "source": [
    "import pickle\n",
    "\n",
    "def save_pickle(x, filename):\n",
    "    with open(filename, 'wb') as handle:\n",
    "        pickle.dump(x, handle, protocol=pickle.HIGHEST_PROTOCOL)\n",
    "\n",
    "def read_pickle(filename):\n",
    "    with open(filename, 'rb') as handle:\n",
    "        x = pickle.load(handle)\n",
    "    return x"
   ]
  },
  {
   "cell_type": "code",
   "execution_count": 3,
   "metadata": {},
   "outputs": [],
   "source": [
    "x_train0 = read_pickle('x_train_date_feats_0.pickle')\n",
    "x_test = read_pickle('x_test_date_feats_0.pickle')"
   ]
  },
  {
   "cell_type": "code",
   "execution_count": 4,
   "metadata": {},
   "outputs": [
    {
     "name": "stderr",
     "output_type": "stream",
     "text": [
      "/home/li/miniconda3/envs/kaggle/lib/python3.6/site-packages/numpy/lib/arraysetops.py:472: FutureWarning: elementwise comparison failed; returning scalar instead, but in the future will perform elementwise comparison\n",
      "  mask |= (ar1 == a)\n"
     ]
    }
   ],
   "source": [
    "y_train0 = pd.read_csv('data/train_numeric.csv.zip', index_col=0, usecols=[0, 969])"
   ]
  },
  {
   "cell_type": "code",
   "execution_count": 5,
   "metadata": {},
   "outputs": [],
   "source": [
    "y_train0 = y_train0.values.ravel()"
   ]
  },
  {
   "cell_type": "code",
   "execution_count": 6,
   "metadata": {},
   "outputs": [],
   "source": [
    "n_estimators = 400\n",
    "clf = XGBClassifier(max_depth=14, n_estimators=n_estimators, base_score=0.0058, n_jobs=8, colsample_bytree=0.6,\n",
    "                   min_child_weight=5, subsample=0.9,  reg_lambda=4, silent=False, learning_rate=0.03)"
   ]
  },
  {
   "cell_type": "code",
   "execution_count": 7,
   "metadata": {},
   "outputs": [],
   "source": [
    "x_train, x_val, y_train, y_val = train_test_split(x_train0, y_train0, test_size=0.2, random_state=0)"
   ]
  },
  {
   "cell_type": "markdown",
   "metadata": {},
   "source": [
    "cv = StratifiedKFold(y_train, n_folds=5, shuffle=True, random_state=0)"
   ]
  },
  {
   "cell_type": "markdown",
   "metadata": {},
   "source": [
    "preds = np.ones(y_train.shape[0])\n",
    "for i, (train, test) in enumerate(cv):\n",
    "    clf.fit(x_train[train], y_train[train], \n",
    "                          eval_set=[(x_val, y_val)], eval_metric='auc', \n",
    "                          early_stopping_rounds=10)\n",
    "    models.append(clf)\n",
    "    preds[test] = clf.predict_proba(x_train[test])[:,1]\n",
    "    print(\"fold {}, ROC AUC: {:.3f}\".format(i, roc_auc_score(y_train[test], preds[test])))\n",
    "print(roc_auc_score(y_train, preds))"
   ]
  },
  {
   "cell_type": "code",
   "execution_count": 8,
   "metadata": {},
   "outputs": [
    {
     "name": "stdout",
     "output_type": "stream",
     "text": [
      "[0]\tvalidation_0-auc:0.899906\n",
      "Will train until validation_0-auc hasn't improved in 10 rounds.\n",
      "[1]\tvalidation_0-auc:0.903168\n",
      "[2]\tvalidation_0-auc:0.904874\n",
      "[3]\tvalidation_0-auc:0.906514\n",
      "[4]\tvalidation_0-auc:0.906739\n",
      "[5]\tvalidation_0-auc:0.907584\n",
      "[6]\tvalidation_0-auc:0.90761\n",
      "[7]\tvalidation_0-auc:0.90887\n",
      "[8]\tvalidation_0-auc:0.909282\n",
      "[9]\tvalidation_0-auc:0.909709\n",
      "[10]\tvalidation_0-auc:0.91008\n",
      "[11]\tvalidation_0-auc:0.910309\n",
      "[12]\tvalidation_0-auc:0.911002\n",
      "[13]\tvalidation_0-auc:0.911195\n",
      "[14]\tvalidation_0-auc:0.911674\n",
      "[15]\tvalidation_0-auc:0.91245\n",
      "[16]\tvalidation_0-auc:0.912231\n",
      "[17]\tvalidation_0-auc:0.912312\n",
      "[18]\tvalidation_0-auc:0.912421\n",
      "[19]\tvalidation_0-auc:0.912445\n",
      "[20]\tvalidation_0-auc:0.91249\n",
      "[21]\tvalidation_0-auc:0.912505\n",
      "[22]\tvalidation_0-auc:0.912538\n",
      "[23]\tvalidation_0-auc:0.912424\n",
      "[24]\tvalidation_0-auc:0.912562\n",
      "[25]\tvalidation_0-auc:0.912762\n",
      "[26]\tvalidation_0-auc:0.913011\n",
      "[27]\tvalidation_0-auc:0.912999\n",
      "[28]\tvalidation_0-auc:0.913269\n",
      "[29]\tvalidation_0-auc:0.913505\n",
      "[30]\tvalidation_0-auc:0.913354\n",
      "[31]\tvalidation_0-auc:0.91354\n",
      "[32]\tvalidation_0-auc:0.913618\n",
      "[33]\tvalidation_0-auc:0.913489\n",
      "[34]\tvalidation_0-auc:0.913619\n",
      "[35]\tvalidation_0-auc:0.913426\n",
      "[36]\tvalidation_0-auc:0.913432\n",
      "[37]\tvalidation_0-auc:0.913471\n",
      "[38]\tvalidation_0-auc:0.91355\n",
      "[39]\tvalidation_0-auc:0.913553\n",
      "[40]\tvalidation_0-auc:0.913483\n",
      "[41]\tvalidation_0-auc:0.91358\n",
      "[42]\tvalidation_0-auc:0.913802\n",
      "[43]\tvalidation_0-auc:0.913876\n",
      "[44]\tvalidation_0-auc:0.913527\n",
      "[45]\tvalidation_0-auc:0.913426\n",
      "[46]\tvalidation_0-auc:0.913476\n",
      "[47]\tvalidation_0-auc:0.913812\n",
      "[48]\tvalidation_0-auc:0.913595\n",
      "[49]\tvalidation_0-auc:0.913648\n",
      "[50]\tvalidation_0-auc:0.913859\n",
      "[51]\tvalidation_0-auc:0.913943\n",
      "[52]\tvalidation_0-auc:0.914076\n",
      "[53]\tvalidation_0-auc:0.91421\n",
      "[54]\tvalidation_0-auc:0.914244\n",
      "[55]\tvalidation_0-auc:0.914245\n",
      "[56]\tvalidation_0-auc:0.914076\n",
      "[57]\tvalidation_0-auc:0.914053\n",
      "[58]\tvalidation_0-auc:0.91402\n",
      "[59]\tvalidation_0-auc:0.914237\n",
      "[60]\tvalidation_0-auc:0.914291\n",
      "[61]\tvalidation_0-auc:0.91443\n",
      "[62]\tvalidation_0-auc:0.91451\n",
      "[63]\tvalidation_0-auc:0.914461\n",
      "[64]\tvalidation_0-auc:0.914423\n",
      "[65]\tvalidation_0-auc:0.914321\n",
      "[66]\tvalidation_0-auc:0.914294\n",
      "[67]\tvalidation_0-auc:0.914267\n",
      "[68]\tvalidation_0-auc:0.914154\n",
      "[69]\tvalidation_0-auc:0.913834\n",
      "[70]\tvalidation_0-auc:0.913803\n",
      "[71]\tvalidation_0-auc:0.914042\n",
      "[72]\tvalidation_0-auc:0.914364\n",
      "Stopping. Best iteration:\n",
      "[62]\tvalidation_0-auc:0.91451\n",
      "\n"
     ]
    },
    {
     "data": {
      "text/plain": [
       "XGBClassifier(base_score=0.0058, booster='gbtree', colsample_bylevel=1,\n",
       "       colsample_bytree=0.6, gamma=0, learning_rate=0.03, max_delta_step=0,\n",
       "       max_depth=14, min_child_weight=5, missing=None, n_estimators=400,\n",
       "       n_jobs=8, nthread=None, objective='binary:logistic', random_state=0,\n",
       "       reg_alpha=0, reg_lambda=4, scale_pos_weight=1, seed=None,\n",
       "       silent=False, subsample=0.9)"
      ]
     },
     "execution_count": 8,
     "metadata": {},
     "output_type": "execute_result"
    }
   ],
   "source": [
    "clf.fit(x_train, y_train, eval_set=[(x_val, y_val)], eval_metric='auc', early_stopping_rounds=10)"
   ]
  },
  {
   "cell_type": "code",
   "execution_count": 12,
   "metadata": {},
   "outputs": [],
   "source": [
    "if clf.best_ntree_limit:\n",
    "    n_estimators = int(clf.best_ntree_limit * 1.2)\n",
    "\n",
    "clf.n_estimators = n_estimators"
   ]
  },
  {
   "cell_type": "code",
   "execution_count": 13,
   "metadata": {},
   "outputs": [
    {
     "data": {
      "text/plain": [
       "75"
      ]
     },
     "execution_count": 13,
     "metadata": {},
     "output_type": "execute_result"
    }
   ],
   "source": [
    "n_estimators"
   ]
  },
  {
   "cell_type": "code",
   "execution_count": 15,
   "metadata": {},
   "outputs": [
    {
     "name": "stdout",
     "output_type": "stream",
     "text": [
      "[0]\tvalidation_0-auc:0.914406\n",
      "[1]\tvalidation_0-auc:0.919529\n",
      "[2]\tvalidation_0-auc:0.924183\n",
      "[3]\tvalidation_0-auc:0.92736\n",
      "[4]\tvalidation_0-auc:0.928957\n",
      "[5]\tvalidation_0-auc:0.930066\n",
      "[6]\tvalidation_0-auc:0.930779\n",
      "[7]\tvalidation_0-auc:0.931674\n",
      "[8]\tvalidation_0-auc:0.932192\n",
      "[9]\tvalidation_0-auc:0.932589\n",
      "[10]\tvalidation_0-auc:0.932887\n",
      "[11]\tvalidation_0-auc:0.933132\n",
      "[12]\tvalidation_0-auc:0.934319\n",
      "[13]\tvalidation_0-auc:0.934464\n",
      "[14]\tvalidation_0-auc:0.934629\n",
      "[15]\tvalidation_0-auc:0.93512\n",
      "[16]\tvalidation_0-auc:0.935177\n",
      "[17]\tvalidation_0-auc:0.936828\n",
      "[18]\tvalidation_0-auc:0.937576\n",
      "[19]\tvalidation_0-auc:0.93877\n",
      "[20]\tvalidation_0-auc:0.939004\n",
      "[21]\tvalidation_0-auc:0.939757\n",
      "[22]\tvalidation_0-auc:0.939941\n",
      "[23]\tvalidation_0-auc:0.940283\n",
      "[24]\tvalidation_0-auc:0.940562\n",
      "[25]\tvalidation_0-auc:0.941295\n",
      "[26]\tvalidation_0-auc:0.941605\n",
      "[27]\tvalidation_0-auc:0.941951\n",
      "[28]\tvalidation_0-auc:0.942517\n",
      "[29]\tvalidation_0-auc:0.942549\n",
      "[30]\tvalidation_0-auc:0.943067\n",
      "[31]\tvalidation_0-auc:0.943438\n",
      "[32]\tvalidation_0-auc:0.944073\n",
      "[33]\tvalidation_0-auc:0.944492\n",
      "[34]\tvalidation_0-auc:0.944863\n",
      "[35]\tvalidation_0-auc:0.945472\n",
      "[36]\tvalidation_0-auc:0.946446\n",
      "[37]\tvalidation_0-auc:0.946797\n",
      "[38]\tvalidation_0-auc:0.947836\n",
      "[39]\tvalidation_0-auc:0.948598\n",
      "[40]\tvalidation_0-auc:0.948935\n",
      "[41]\tvalidation_0-auc:0.949544\n",
      "[42]\tvalidation_0-auc:0.950009\n",
      "[43]\tvalidation_0-auc:0.950608\n",
      "[44]\tvalidation_0-auc:0.950883\n",
      "[45]\tvalidation_0-auc:0.951572\n",
      "[46]\tvalidation_0-auc:0.952089\n",
      "[47]\tvalidation_0-auc:0.952324\n",
      "[48]\tvalidation_0-auc:0.952641\n",
      "[49]\tvalidation_0-auc:0.953023\n",
      "[50]\tvalidation_0-auc:0.953323\n",
      "[51]\tvalidation_0-auc:0.953622\n",
      "[52]\tvalidation_0-auc:0.954297\n",
      "[53]\tvalidation_0-auc:0.955114\n",
      "[54]\tvalidation_0-auc:0.95539\n",
      "[55]\tvalidation_0-auc:0.955602\n",
      "[56]\tvalidation_0-auc:0.955753\n",
      "[57]\tvalidation_0-auc:0.955936\n",
      "[58]\tvalidation_0-auc:0.95642\n",
      "[59]\tvalidation_0-auc:0.956812\n",
      "[60]\tvalidation_0-auc:0.956919\n",
      "[61]\tvalidation_0-auc:0.957233\n",
      "[62]\tvalidation_0-auc:0.957621\n",
      "[63]\tvalidation_0-auc:0.957903\n",
      "[64]\tvalidation_0-auc:0.958445\n",
      "[65]\tvalidation_0-auc:0.958998\n",
      "[66]\tvalidation_0-auc:0.959456\n",
      "[67]\tvalidation_0-auc:0.959639\n",
      "[68]\tvalidation_0-auc:0.960101\n",
      "[69]\tvalidation_0-auc:0.960372\n",
      "[70]\tvalidation_0-auc:0.96081\n",
      "[71]\tvalidation_0-auc:0.961198\n",
      "[72]\tvalidation_0-auc:0.961706\n",
      "[73]\tvalidation_0-auc:0.961916\n",
      "[74]\tvalidation_0-auc:0.962159\n"
     ]
    },
    {
     "data": {
      "text/plain": [
       "XGBClassifier(base_score=0.0058, booster='gbtree', colsample_bylevel=1,\n",
       "       colsample_bytree=0.6, gamma=0, learning_rate=0.03, max_delta_step=0,\n",
       "       max_depth=14, min_child_weight=5, missing=None, n_estimators=75,\n",
       "       n_jobs=8, nthread=None, objective='binary:logistic', random_state=0,\n",
       "       reg_alpha=0, reg_lambda=4, scale_pos_weight=1, seed=None,\n",
       "       silent=False, subsample=0.9)"
      ]
     },
     "execution_count": 15,
     "metadata": {},
     "output_type": "execute_result"
    }
   ],
   "source": [
    "clf.fit(x_train0, y_train0, eval_set=[(x_train0, y_train0)], eval_metric='auc')"
   ]
  },
  {
   "cell_type": "code",
   "execution_count": 23,
   "metadata": {},
   "outputs": [],
   "source": [
    "preds = clf.predict_proba(x_train0)\n",
    "preds = preds[:, 1]"
   ]
  },
  {
   "cell_type": "code",
   "execution_count": 24,
   "metadata": {},
   "outputs": [
    {
     "name": "stderr",
     "output_type": "stream",
     "text": [
      "/home/li/miniconda3/envs/kaggle/lib/python3.6/site-packages/sklearn/metrics/classification.py:538: RuntimeWarning: invalid value encountered in double_scalars\n",
      "  mcc = cov_ytyp / np.sqrt(cov_ytyt * cov_ypyp)\n"
     ]
    },
    {
     "name": "stdout",
     "output_type": "stream",
     "text": [
      "0.4782430045488553\n"
     ]
    },
    {
     "name": "stderr",
     "output_type": "stream",
     "text": [
      "Exception ignored in: <bound method DMatrix.__del__ of <xgboost.core.DMatrix object at 0x7f42dd9264a8>>\n",
      "Traceback (most recent call last):\n",
      "  File \"/home/li/xgboost/python-package/xgboost/core.py\", line 369, in __del__\n",
      "    if self.handle is not None:\n",
      "AttributeError: 'DMatrix' object has no attribute 'handle'\n"
     ]
    },
    {
     "data": {
      "image/png": "[encoded data removed]",
      "text/plain": [
       "<Figure size 432x288 with 1 Axes>"
      ]
     },
     "metadata": {},
     "output_type": "display_data"
    }
   ],
   "source": [
    "thresholds = np.linspace(0.01, 0.99, 50)\n",
    "mcc = np.array([matthews_corrcoef(y_train0, preds>thr) for thr in thresholds])\n",
    "plt.plot(thresholds, mcc)\n",
    "best_threshold = thresholds[mcc.argmax()]\n",
    "print(mcc.max())"
   ]
  },
  {
   "cell_type": "code",
   "execution_count": 25,
   "metadata": {},
   "outputs": [
    {
     "name": "stderr",
     "output_type": "stream",
     "text": [
      "/home/li/miniconda3/envs/kaggle/lib/python3.6/site-packages/numpy/lib/arraysetops.py:472: FutureWarning: elementwise comparison failed; returning scalar instead, but in the future will perform elementwise comparison\n",
      "  mask |= (ar1 == a)\n"
     ]
    }
   ],
   "source": [
    "preds = (clf.predict_proba(x_test)[:, 1]>best_threshold).astype(np.int8)\n",
    "sub = pd.read_csv('data/sample_submission.csv.zip', index_col=0)\n",
    "sub['Response'] = preds\n",
    "sub.to_csv('submission_train_time_features.csv.gz', compression='gzip')"
   ]
  },
  {
   "cell_type": "code",
   "execution_count": null,
   "metadata": {},
   "outputs": [],
   "source": []
  }
 ],
 "metadata": {
  "kernelspec": {
   "display_name": "Python 3",
   "language": "python",
   "name": "python3"
  },
  "language_info": {
   "codemirror_mode": {
    "name": "ipython",
    "version": 3
   },
   "file_extension": ".py",
   "mimetype": "text/x-python",
   "name": "python",
   "nbconvert_exporter": "python",
   "pygments_lexer": "ipython3",
   "version": "3.6.5"
  }
 },
 "nbformat": 4,
 "nbformat_minor": 2
}
