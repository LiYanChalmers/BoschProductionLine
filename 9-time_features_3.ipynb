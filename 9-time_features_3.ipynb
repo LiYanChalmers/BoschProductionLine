{
 "cells": [
  {
   "cell_type": "code",
   "execution_count": 1,
   "metadata": {},
   "outputs": [
    {
     "name": "stderr",
     "output_type": "stream",
     "text": [
      "C:\\Users\\home\\Anaconda3\\envs\\kaggle\\lib\\site-packages\\sklearn\\cross_validation.py:41: DeprecationWarning: This module was deprecated in version 0.18 in favor of the model_selection module into which all the refactored classes and functions are moved. Also note that the interface of the new CV iterators are different from that of this module. This module will be removed in 0.20.\n",
      "  \"This module will be removed in 0.20.\", DeprecationWarning)\n"
     ]
    }
   ],
   "source": [
    "import numpy as np\n",
    "import pandas as pd\n",
    "from sklearn.metrics import matthews_corrcoef, roc_auc_score\n",
    "from sklearn.cross_validation import cross_val_score, StratifiedKFold\n",
    "import matplotlib.pyplot as plt\n",
    "import seaborn as sns\n",
    "from sys import getsizeof\n",
    "import time\n",
    "import gc\n",
    "import tqdm\n",
    "\n",
    "%matplotlib inline"
   ]
  },
  {
   "cell_type": "code",
   "execution_count": 2,
   "metadata": {},
   "outputs": [],
   "source": [
    "import pickle\n",
    "\n",
    "def save_pickle(x, filename):\n",
    "    with open(filename, 'wb') as handle:\n",
    "        pickle.dump(x, handle, protocol=pickle.HIGHEST_PROTOCOL)\n",
    "\n",
    "def read_pickle(filename):\n",
    "    with open(filename, 'rb') as handle:\n",
    "        x = pickle.load(handle)\n",
    "    return x"
   ]
  },
  {
   "cell_type": "markdown",
   "metadata": {},
   "source": [
    "### Concatenate train date features with engineered features"
   ]
  },
  {
   "cell_type": "code",
   "execution_count": null,
   "metadata": {},
   "outputs": [],
   "source": [
    "# Load date data\n",
    "date = pd.read_csv('data/train_date.csv.zip', index_col=0)\n",
    "\n",
    "# Load engineered features\n",
    "x_train1 = read_pickle('x_train_date_feats_1.pickle')\n"
   ]
  },
  {
   "cell_type": "code",
   "execution_count": 4,
   "metadata": {},
   "outputs": [
    {
     "name": "stderr",
     "output_type": "stream",
     "text": [
      "C:\\Users\\home\\Anaconda3\\envs\\kaggle\\lib\\site-packages\\numpy\\lib\\arraysetops.py:472: FutureWarning: elementwise comparison failed; returning scalar instead, but in the future will perform elementwise comparison\n",
      "  mask |= (ar1 == a)\n"
     ]
    }
   ],
   "source": [
    "date = pd.read_csv('data/train_date.csv.zip', index_col=0)\n",
    "#date = pd.read_csv('data/test_date.csv.zip', index_col=0)"
   ]
  },
  {
   "cell_type": "code",
   "execution_count": null,
   "metadata": {},
   "outputs": [],
   "source": [
    "\n",
    "x_test1 = read_pickle('x_test_date_feats_1.pickle')"
   ]
  },
  {
   "cell_type": "code",
   "execution_count": 5,
   "metadata": {},
   "outputs": [],
   "source": [
    "# Extract station and feature names, and build a new pandas MultiIndex object\n",
    "new_columns = pd.MultiIndex.from_tuples([tuple([int(a[1:]) \n",
    "                                          for a in x[3:].split('_')])\n",
    "                                          for x in date.columns], \n",
    "                                          names=['station', 'feature'])\n",
    "date.columns = new_columns\n",
    "\n",
    "# Extract station names\n",
    "stations = sorted([x for x in date.columns.levels[0]])\n",
    "\n",
    "# Create station flow as strings\n",
    "date_station = date.groupby(level=0, axis=1).sum().apply(\n",
    "    lambda x: (x>0).astype(int).astype(str), raw=True).apply(\n",
    "    lambda x: ''.join(x.values), axis=1)\n",
    "\n",
    "date_station = date_station.apply(lambda x: hash(x) % 2**15)\n",
    "\n",
    "#x_test = np.concatenate((x_test, date_station.values.reshape((-1, 1))), axis=1)\n",
    "#save_pickle(x_test, 'x_test_date_feats_1.pickle')\n",
    "\n",
    "x_train0 = np.concatenate((x_train0, date_station.values.reshape((-1, 1))), axis=1)\n",
    "save_pickle(x_train0, 'x_train_date_feats_1.pickle')"
   ]
  }
 ],
 "metadata": {
  "kernelspec": {
   "display_name": "Python 3",
   "language": "python",
   "name": "python3"
  },
  "language_info": {
   "codemirror_mode": {
    "name": "ipython",
    "version": 3
   },
   "file_extension": ".py",
   "mimetype": "text/x-python",
   "name": "python",
   "nbconvert_exporter": "python",
   "pygments_lexer": "ipython3",
   "version": "3.6.5"
  }
 },
 "nbformat": 4,
 "nbformat_minor": 2
}
