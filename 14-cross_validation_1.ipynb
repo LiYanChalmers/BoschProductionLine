{
 "cells": [
  {
   "cell_type": "code",
   "execution_count": 1,
   "metadata": {},
   "outputs": [
    {
     "name": "stderr",
     "output_type": "stream",
     "text": [
      "C:\\Users\\home\\Anaconda3\\envs\\kaggle\\lib\\site-packages\\sklearn\\cross_validation.py:41: DeprecationWarning: This module was deprecated in version 0.18 in favor of the model_selection module into which all the refactored classes and functions are moved. Also note that the interface of the new CV iterators are different from that of this module. This module will be removed in 0.20.\n",
      "  \"This module will be removed in 0.20.\", DeprecationWarning)\n"
     ]
    }
   ],
   "source": [
    "import os\n",
    "if os.name=='nt':\n",
    "    mingw_path = 'C:\\\\Program Files\\\\mingw-w64\\\\x86_64-8.1.0-posix-seh-rt_v6-rev0\\\\mingw64\\\\bin'\n",
    "    os.environ['PATH'] = mingw_path + ';' + os.environ['PATH']\n",
    "\n",
    "import numpy as np\n",
    "import pandas as pd\n",
    "from xgboost import XGBClassifier\n",
    "from sklearn.metrics import matthews_corrcoef, roc_auc_score\n",
    "from sklearn.cross_validation import cross_val_score\n",
    "from sklearn.model_selection import train_test_split, RepeatedStratifiedKFold\n",
    "from sklearn.model_selection import cross_validate, cross_val_predict, StratifiedKFold\n",
    "from sklearn.metrics import roc_auc_score\n",
    "import matplotlib.pyplot as plt\n",
    "import seaborn as sns\n",
    "from sys import getsizeof\n",
    "import time\n",
    "import gc\n",
    "\n",
    "%matplotlib inline"
   ]
  },
  {
   "cell_type": "code",
   "execution_count": 2,
   "metadata": {},
   "outputs": [],
   "source": [
    "import pickle\n",
    "\n",
    "def save_pickle(x, filename):\n",
    "    with open(filename, 'wb') as handle:\n",
    "        pickle.dump(x, handle, protocol=pickle.HIGHEST_PROTOCOL)\n",
    "\n",
    "def read_pickle(filename):\n",
    "    with open(filename, 'rb') as handle:\n",
    "        x = pickle.load(handle)\n",
    "    return x"
   ]
  },
  {
   "cell_type": "code",
   "execution_count": 3,
   "metadata": {},
   "outputs": [],
   "source": [
    "def cross_val_predict_rskf(clf, x_train, y_train, score_callable, n_splits=3, \n",
    "                           n_repeats=2, random_state=42):\n",
    "    '''\n",
    "    Repeated stratified KFold CV, returns predictions for \n",
    "    each repeat and average score.\n",
    "    n_repeats: repetitions of CV\n",
    "    '''\n",
    "    y_pred = []\n",
    "    scores = []\n",
    "\n",
    "    n_splits = 3\n",
    "    n_repeats = 2\n",
    "\n",
    "    rskf = RepeatedStratifiedKFold(n_repeats=n_repeats, n_splits=n_splits, \n",
    "                                   random_state=0)\n",
    "    np.random.seed(random_state)\n",
    "    for n, (train_index, test_index) in enumerate(rskf.split(x_train, y_train)):\n",
    "        x_train_tmp, x_test_tmp = x_train[train_index], x_train[test_index]\n",
    "        y_train_tmp, y_test_tmp = y_train[train_index], y_train[test_index]\n",
    "\n",
    "        clf.random_state = np.random.randint(10000000)\n",
    "\n",
    "        clf.fit(x_train_tmp, y_train_tmp)\n",
    "        y_pred_tmp = clf.predict_proba(x_test_tmp)[:, 1]\n",
    "        y_pred.append(y_pred_tmp)\n",
    "        scores.append(score_callable(y_test_tmp, y_pred_tmp))\n",
    "        # print('Split {}, score = {:.3f}'.format(n, scores[n]))\n",
    "\n",
    "    y_pred = np.concatenate([np.concatenate([y_pred[n_splits*i+j] \n",
    "                             for j in range(n_splits)]).reshape((-1, 1))\n",
    "                             for i in range(n_repeats)], axis=1)\n",
    "    \n",
    "    score = np.mean(scores)\n",
    "    \n",
    "    return y_pred, score"
   ]
  },
  {
   "cell_type": "code",
   "execution_count": 21,
   "metadata": {},
   "outputs": [],
   "source": [
    "def cross_val_predict_skf_rm(clf, x_train, y_train, score_callable, n_splits=3, \n",
    "                           n_repeats=2, random_state=42):\n",
    "    '''\n",
    "    Stratified KFold CV with repeated models\n",
    "    '''\n",
    "    y_pred_all = []\n",
    "    scores = []\n",
    "\n",
    "    n_splits = 3\n",
    "    n_repeats = 2\n",
    "\n",
    "    skf = StratifiedKFold(n_splits=n_splits, random_state=0, shuffle=True)\n",
    "    np.random.seed(random_state)\n",
    "\n",
    "    for m in range(n_repeats):\n",
    "        y_pred = []\n",
    "        print('Repeat {}'.format(m))\n",
    "        for n, (train_index, test_index) in enumerate(skf.split(x_train, y_train)):\n",
    "            x_train_tmp, x_test_tmp = x_train[train_index], x_train[test_index]\n",
    "            y_train_tmp, y_test_tmp = y_train[train_index], y_train[test_index]\n",
    "\n",
    "            clf.random_state = np.random.randint(10000000)\n",
    "            # print(clf.random_state)\n",
    "\n",
    "            clf.fit(x_train_tmp, y_train_tmp)\n",
    "            y_pred_tmp = clf.predict_proba(x_test_tmp)[:, 1]\n",
    "            y_pred.append(y_pred_tmp)\n",
    "            scores.append(score_callable(y_test_tmp, y_pred_tmp))\n",
    "            print('Split {}, score = {:.3f}'.format(n, scores[m*n_repeats+n]))\n",
    "        y_pred_all.append(np.concatenate(y_pred).reshape((-1, 1)))\n",
    "        \n",
    "    y_pred_all = np.concatenate(y_pred_all, axis=1)\n",
    "    score = np.mean(scores)\n",
    "    print('Mean score {:.3f}'.format(score))\n",
    "    \n",
    "    return y_pred_all, score"
   ]
  },
  {
   "cell_type": "code",
   "execution_count": 5,
   "metadata": {},
   "outputs": [],
   "source": [
    "y_train = read_pickle('y_train.pickle')\n",
    "\n",
    "x_train = read_pickle('x_train_numeric_date_1.pickle')"
   ]
  },
  {
   "cell_type": "code",
   "execution_count": 22,
   "metadata": {},
   "outputs": [],
   "source": [
    "n_estimators = 100\n",
    "clf = XGBClassifier(max_depth=14, n_estimators=n_estimators, \n",
    "                    base_score=0.0058, n_jobs=-1, colsample_bytree=0.6,\n",
    "                   min_child_weight=5, subsample=0.9,  \n",
    "                    reg_lambda=4, silent=False, learning_rate=0.03)"
   ]
  },
  {
   "cell_type": "code",
   "execution_count": null,
   "metadata": {},
   "outputs": [
    {
     "name": "stdout",
     "output_type": "stream",
     "text": [
      "Repeat 0\n"
     ]
    }
   ],
   "source": [
    "y_pred, score = cross_val_predict_skf_rm(clf, x_train, y_train, \n",
    "                                         roc_auc_score, n_splits=5, \n",
    "                                         n_repeats=3, random_state=42)"
   ]
  },
  {
   "cell_type": "code",
   "execution_count": null,
   "metadata": {},
   "outputs": [],
   "source": []
  }
 ],
 "metadata": {
  "kernelspec": {
   "display_name": "Python 3",
   "language": "python",
   "name": "python3"
  },
  "language_info": {
   "codemirror_mode": {
    "name": "ipython",
    "version": 3
   },
   "file_extension": ".py",
   "mimetype": "text/x-python",
   "name": "python",
   "nbconvert_exporter": "python",
   "pygments_lexer": "ipython3",
   "version": "3.6.5"
  }
 },
 "nbformat": 4,
 "nbformat_minor": 2
}
