{
 "cells": [
  {
   "cell_type": "markdown",
   "metadata": {},
   "source": [
    "## Benchmark for measuring performance of engineered features and models\n",
    "Add time analysis features to benchmark_2"
   ]
  },
  {
   "cell_type": "code",
   "execution_count": 1,
   "metadata": {},
   "outputs": [
    {
     "name": "stderr",
     "output_type": "stream",
     "text": [
      "/c3se/NOBACKUP/users/lyaa/conda_dir/miniconda/envs/kaggle/lib/python3.7/site-packages/sklearn/utils/__init__.py:4: DeprecationWarning: Using or importing the ABCs from 'collections' instead of from 'collections.abc' is deprecated, and in 3.8 it will stop working\n",
      "  from collections import Sequence\n"
     ]
    }
   ],
   "source": [
    "import os\n",
    "if os.name=='nt':\n",
    "    try:\n",
    "        mingw_path = 'C:\\\\Program Files\\\\mingw-w64\\\\x86_64-8.1.0-posix-seh-rt_v6-rev0\\\\mingw64\\\\bin'\n",
    "        os.environ['PATH'] = mingw_path + ';' + os.environ['PATH']\n",
    "    except:\n",
    "        pass\n",
    "\n",
    "import numpy as np\n",
    "import pandas as pd\n",
    "from xgboost import XGBClassifier\n",
    "from sklearn.metrics import matthews_corrcoef, roc_auc_score\n",
    "from sklearn.model_selection import cross_val_score\n",
    "from sklearn.model_selection import train_test_split, RepeatedStratifiedKFold\n",
    "from sklearn.model_selection import cross_validate, cross_val_predict, StratifiedKFold\n",
    "from sklearn.metrics import roc_auc_score\n",
    "import matplotlib.pyplot as plt\n",
    "import seaborn as sns\n",
    "from sys import getsizeof\n",
    "import time\n",
    "import gc\n",
    "\n",
    "import warnings\n",
    "warnings.filterwarnings(\"ignore\")\n",
    "\n",
    "%matplotlib inline"
   ]
  },
  {
   "cell_type": "code",
   "execution_count": 2,
   "metadata": {},
   "outputs": [],
   "source": [
    "import pickle\n",
    "\n",
    "def save_pickle(x, filename):\n",
    "    with open(filename, 'wb') as handle:\n",
    "        pickle.dump(x, handle, protocol=pickle.HIGHEST_PROTOCOL)\n",
    "\n",
    "def read_pickle(filename):\n",
    "    with open(filename, 'rb') as handle:\n",
    "        x = pickle.load(handle)\n",
    "    return x"
   ]
  },
  {
   "cell_type": "code",
   "execution_count": 3,
   "metadata": {},
   "outputs": [],
   "source": [
    "from numba import jit\n",
    "\n",
    "@jit\n",
    "def mcc(tp, tn, fp, fn):\n",
    "    sup = tp * tn - fp * fn\n",
    "    inf = (tp + fp) * (tp + fn) * (tn + fp) * (tn + fn)\n",
    "    if inf==0:\n",
    "        return 0\n",
    "    else:\n",
    "        return sup / np.sqrt(inf)\n",
    "\n",
    "@jit\n",
    "def eval_mcc(y_true, y_prob, show=False):\n",
    "    idx = np.argsort(y_prob)\n",
    "    y_true_sort = y_true[idx]\n",
    "    n = y_true.shape[0]\n",
    "    nump = 1.0 * np.sum(y_true) # number of positive\n",
    "    numn = n - nump # number of negative\n",
    "    tp = nump\n",
    "    tn = 0.0\n",
    "    fp = numn\n",
    "    fn = 0.0\n",
    "    best_mcc = 0.0\n",
    "    best_id = -1\n",
    "    prev_proba = -1\n",
    "    best_proba = -1\n",
    "    mccs = np.zeros(n)\n",
    "    new_mcc = 0\n",
    "    for i in range(n):\n",
    "        # all items with idx < i are predicted negative while others are predicted positive\n",
    "        # only evaluate mcc when probability changes\n",
    "        proba = y_prob[idx[i]]\n",
    "        if proba != prev_proba:\n",
    "            prev_proba = proba\n",
    "            new_mcc = mcc(tp, tn, fp, fn)\n",
    "            if new_mcc >= best_mcc:\n",
    "                best_mcc = new_mcc\n",
    "                best_id = i\n",
    "                best_proba = proba\n",
    "        mccs[i] = new_mcc\n",
    "        if y_true_sort[i] == 1:\n",
    "            tp -= 1.0\n",
    "            fn += 1.0\n",
    "        else:\n",
    "            fp -= 1.0\n",
    "            tn += 1.0\n",
    "    if show:\n",
    "        y_pred = (y_prob >= best_proba).astype(int)\n",
    "        score = matthews_corrcoef(y_true, y_pred)\n",
    "        print(score, best_mcc)\n",
    "        plt.plot(mccs)\n",
    "        return best_proba, best_mcc, y_pred\n",
    "    else:\n",
    "        return best_mcc\n",
    "    \n",
    "def mcc_eval(y_prob, dtrain):\n",
    "    y_true = dtrain.get_label()\n",
    "    best_mcc = eval_mcc(y_true, y_prob)\n",
    "    return 'MCC', -best_mcc"
   ]
  },
  {
   "cell_type": "code",
   "execution_count": 4,
   "metadata": {},
   "outputs": [],
   "source": [
    "def cross_val_predict_rskf(clf, x_train, y_train, n_splits=3, \n",
    "                           n_repeats=2, random_state=42, verbose=False):\n",
    "    '''\n",
    "    Repeated stratified KFold CV, returns predictions for \n",
    "    each repeat and average score.\n",
    "    n_repeats: repetitions of CV\n",
    "    '''\n",
    "    scores = []\n",
    "    n_trees = []\n",
    "    clfs = []\n",
    "    running_time = []\n",
    "    \n",
    "    rskf = RepeatedStratifiedKFold(n_repeats=n_repeats, n_splits=n_splits, \n",
    "                                   random_state=0)\n",
    "    np.random.seed(random_state)\n",
    "    for n, (train_index, test_index) in enumerate(rskf.split(x_train, y_train)):\n",
    "        start_time = time.time()\n",
    "        x_train_tmp, x_test_tmp = x_train.iloc[train_index], x_train.iloc[test_index]\n",
    "        y_train_tmp, y_test_tmp = y_train.iloc[train_index], y_train.iloc[test_index]\n",
    "\n",
    "        clf.random_state = np.random.randint(10000000)\n",
    "\n",
    "        clf.fit(x_train_tmp, y_train_tmp, \n",
    "                eval_set=[(x_test_tmp, y_test_tmp)], \n",
    "                eval_metric=mcc_eval, early_stopping_rounds=10,\n",
    "                verbose=verbose)\n",
    "        scores.append(-clf.best_score)\n",
    "        n_trees.append(clf.best_ntree_limit)\n",
    "        clfs.append(clf)\n",
    "        running_time.append(time.time()-start_time)\n",
    "        print('Split {}, score = {:.3f}, best_ntree_limit = {}, total time = {:.3f} min'.format(n, scores[n], \n",
    "            clf.best_ntree_limit, sum(running_time)/60))\n",
    "\n",
    "    print('Score mean = {:.3f}, std = {:.3f}'.format(np.mean(scores), np.std(scores)))\n",
    "    \n",
    "    return clfs, scores, n_trees, running_time"
   ]
  },
  {
   "cell_type": "code",
   "execution_count": 5,
   "metadata": {},
   "outputs": [],
   "source": [
    "def cross_val_predict_skf_rm(clf, x_train, y_train, n_splits=3, \n",
    "                           n_repeats=2, random_state=42, verbose=False):\n",
    "    '''\n",
    "    Stratified KFold CV with repeated models\n",
    "    '''\n",
    "    scores = []\n",
    "    n_trees = []\n",
    "    clfs = []\n",
    "    running_time = []\n",
    "\n",
    "    skf = StratifiedKFold(n_splits=n_splits, random_state=0, shuffle=True)\n",
    "    np.random.seed(random_state)\n",
    "\n",
    "    for m in range(n_repeats):\n",
    "        print('Repeat {}'.format(m))\n",
    "        for n, (train_index, test_index) in enumerate(skf.split(x_train, y_train)):\n",
    "            start_time = time.time()\n",
    "            x_train_tmp, x_test_tmp = x_train.iloc[train_index], x_train.iloc[test_index]\n",
    "            y_train_tmp, y_test_tmp = y_train.iloc[train_index], y_train.iloc[test_index]\n",
    "\n",
    "            clf.random_state = np.random.randint(10000000)\n",
    "            # print(clf.random_state)\n",
    "\n",
    "            clf.fit(x_train_tmp, y_train_tmp, \n",
    "                    eval_set=[(x_test_tmp, y_test_tmp)], \n",
    "                    eval_metric=mcc_eval, early_stopping_rounds=10,\n",
    "                    verbose=verbose)\n",
    "            n_trees.append(clf.best_ntree_limit)\n",
    "            scores.append(-clf.best_score)\n",
    "            clfs.append(clf)\n",
    "            running_time.append(time.time() - start_time)\n",
    "            print('Split {}, score = {:.3f}, n_best_trees = {}, total time = {:.3f} min'.format(n, \n",
    "                scores[m*n_repeats+n], clf.best_ntree_limit, sum(running_time)/60))\n",
    "\n",
    "    print('Score mean = {:.3f}, std = {:.3f}'.format(np.mean(scores), np.std(scores)))\n",
    "    \n",
    "    return clfs, scores, n_trees, running_time"
   ]
  },
  {
   "cell_type": "code",
   "execution_count": 6,
   "metadata": {},
   "outputs": [],
   "source": [
    "# y_train = read_pickle('y_train.pickle')\n",
    "\n",
    "# x_train = read_pickle('x_train_numeric_date_0.pickle')"
   ]
  },
  {
   "cell_type": "markdown",
   "metadata": {},
   "source": [
    "### Load train and test data"
   ]
  },
  {
   "cell_type": "code",
   "execution_count": 7,
   "metadata": {},
   "outputs": [],
   "source": [
    "# important numeric features are imported\n",
    "important_features = pd.read_csv('important_numeric_features.csv', index_col=0, header=None)\n",
    "important_features = list(important_features.values.ravel())\n",
    "important_features.extend(['Id', 'Response'])"
   ]
  },
  {
   "cell_type": "code",
   "execution_count": 8,
   "metadata": {
    "scrolled": true
   },
   "outputs": [],
   "source": [
    "x_train_numeric = pd.read_csv('data/train_numeric.csv.zip', index_col=0, usecols=important_features, dtype=np.float32)\n",
    "\n",
    "y_train = x_train_numeric.Response\n",
    "x_train_numeric.drop(['Response'], axis=1, inplace=True)"
   ]
  },
  {
   "cell_type": "code",
   "execution_count": 9,
   "metadata": {},
   "outputs": [],
   "source": [
    "date_train = pd.read_csv('train_station_flow.csv.gz', index_col=0, header=None)"
   ]
  },
  {
   "cell_type": "code",
   "execution_count": 10,
   "metadata": {},
   "outputs": [],
   "source": [
    "x_train = x_train_numeric.join(date_train)\n",
    "\n",
    "columns = list(x_train.columns)\n",
    "columns[-1] = 'station_flow'\n",
    "x_train.columns = columns"
   ]
  },
  {
   "cell_type": "code",
   "execution_count": 11,
   "metadata": {},
   "outputs": [],
   "source": [
    "x_test_numeric = pd.read_csv('data/test_numeric.csv.zip', index_col=0, usecols=important_features[:-1], dtype=np.float32)\n",
    "\n",
    "date_test = pd.read_csv('test_station_flow.csv.gz', index_col=0, header=None)\n",
    "\n",
    "x_test = x_test_numeric.join(date_test)\n",
    "x_test.columns = columns"
   ]
  },
  {
   "cell_type": "code",
   "execution_count": 12,
   "metadata": {},
   "outputs": [],
   "source": [
    "x_train.index = x_train.index.astype(np.int64)\n",
    "x_test.index = x_test.index.astype(np.int64)"
   ]
  },
  {
   "cell_type": "code",
   "execution_count": 13,
   "metadata": {},
   "outputs": [
    {
     "data": {
      "text/plain": [
       "516"
      ]
     },
     "execution_count": 13,
     "metadata": {},
     "output_type": "execute_result"
    }
   ],
   "source": [
    "del x_train_numeric, x_test_numeric\n",
    "gc.collect()"
   ]
  },
  {
   "cell_type": "markdown",
   "metadata": {},
   "source": [
    "### Add time analysis features"
   ]
  },
  {
   "cell_type": "code",
   "execution_count": 14,
   "metadata": {},
   "outputs": [],
   "source": [
    "chunk = pd.read_csv('start_chunk.csv.gz', nrows=None, index_col=0, dtype={'start': np.float32, 'chunk_rank_asc': np.int8,\n",
    "                                                                        'chunk_rank_des': np.int8, 'chunk_size': np.int8})\n",
    "\n",
    "chunk_test = chunk.loc[chunk.Response==-1]\n",
    "chunk_test.drop(['Response'], axis=1, inplace=True)\n",
    "\n",
    "chunk_train = chunk.loc[chunk.Response!=-1]\n",
    "chunk_train.drop(['Response'], axis=1, inplace=True)"
   ]
  },
  {
   "cell_type": "code",
   "execution_count": 15,
   "metadata": {},
   "outputs": [],
   "source": [
    "x_train = x_train.join(chunk_train, on='Id')\n",
    "# x_train.head()"
   ]
  },
  {
   "cell_type": "code",
   "execution_count": 16,
   "metadata": {},
   "outputs": [],
   "source": [
    "x_test = x_test.join(chunk_test, on='Id')\n",
    "# x_test.head()"
   ]
  },
  {
   "cell_type": "markdown",
   "metadata": {},
   "source": [
    "### CV score based on stratified KFold with repeated models"
   ]
  },
  {
   "cell_type": "code",
   "execution_count": 17,
   "metadata": {},
   "outputs": [],
   "source": [
    "n_estimators = 200\n",
    "clf = XGBClassifier(max_depth=14, n_estimators=n_estimators, \n",
    "                    base_score=0.0058, n_jobs=20, colsample_bytree=0.6,\n",
    "                    min_child_weight=5, subsample=0.9,  \n",
    "                    reg_lambda=4, silent=False, learning_rate=0.03)"
   ]
  },
  {
   "cell_type": "code",
   "execution_count": 18,
   "metadata": {},
   "outputs": [],
   "source": [
    "# clfs, scores, n_trees, running_time = cross_val_predict_rskf(clf, x_train_numeric, \n",
    "#    y_train, n_splits=3, n_repeats=2, random_state=42, verbose=False)"
   ]
  },
  {
   "cell_type": "code",
   "execution_count": 19,
   "metadata": {},
   "outputs": [
    {
     "name": "stdout",
     "output_type": "stream",
     "text": [
      "Repeat 0\n",
      "Split 0, score = 0.396, n_best_trees = 14, total time = 0.679 min\n",
      "Split 1, score = 0.385, n_best_trees = 25, total time = 1.552 min\n",
      "Split 2, score = 0.410, n_best_trees = 78, total time = 3.658 min\n",
      "Split 3, score = 0.387, n_best_trees = 43, total time = 4.928 min\n",
      "Split 4, score = 0.402, n_best_trees = 71, total time = 6.858 min\n",
      "Repeat 1\n",
      "Split 0, score = 0.387, n_best_trees = 112, total time = 9.733 min\n",
      "Split 1, score = 0.402, n_best_trees = 49, total time = 11.161 min\n",
      "Split 2, score = 0.408, n_best_trees = 68, total time = 13.022 min\n",
      "Split 3, score = 0.388, n_best_trees = 34, total time = 13.979 min\n",
      "Split 4, score = 0.410, n_best_trees = 51, total time = 15.267 min\n",
      "Repeat 2\n",
      "Split 0, score = 0.388, n_best_trees = 26, total time = 16.045 min\n",
      "Split 1, score = 0.410, n_best_trees = 35, total time = 17.000 min\n",
      "Split 2, score = 0.388, n_best_trees = 56, total time = 18.379 min\n",
      "Split 3, score = 0.397, n_best_trees = 37, total time = 19.397 min\n",
      "Split 4, score = 0.396, n_best_trees = 49, total time = 20.640 min\n",
      "Score mean = 0.396, std = 0.009\n"
     ]
    }
   ],
   "source": [
    "clfs, scores, n_trees, running_time = cross_val_predict_skf_rm(clf, x_train, \n",
    "    y_train, n_splits=5, n_repeats=3, random_state=42)\n",
    "# save_pickle(clfs, 'clfs_benchmark_3_time_analysis.pickle')"
   ]
  },
  {
   "cell_type": "code",
   "execution_count": 20,
   "metadata": {},
   "outputs": [],
   "source": [
    "results = {'clfs': clfs, 'scores': scores, 'n_trees': n_trees, 'running_time': running_time}\n",
    "save_pickle(results, 'results_benchmark_3_time_analysis.pickle')"
   ]
  },
  {
   "cell_type": "markdown",
   "metadata": {},
   "source": [
    "### Calculate `n_trees` for training the whole dataset"
   ]
  },
  {
   "cell_type": "code",
   "execution_count": 21,
   "metadata": {},
   "outputs": [],
   "source": [
    "results = read_pickle('results_benchmark_3_time_analysis.pickle')"
   ]
  },
  {
   "cell_type": "code",
   "execution_count": 22,
   "metadata": {},
   "outputs": [],
   "source": [
    "n_rounds = np.ceil(np.mean(results['n_trees'])*5/4).astype(np.int)"
   ]
  },
  {
   "cell_type": "code",
   "execution_count": 23,
   "metadata": {},
   "outputs": [
    {
     "data": {
      "text/plain": [
       "0.3961531999999999"
      ]
     },
     "execution_count": 23,
     "metadata": {},
     "output_type": "execute_result"
    }
   ],
   "source": [
    "np.mean(results['scores'])"
   ]
  },
  {
   "cell_type": "markdown",
   "metadata": {},
   "source": [
    "### Train on the whole dataset"
   ]
  },
  {
   "cell_type": "code",
   "execution_count": 24,
   "metadata": {},
   "outputs": [
    {
     "name": "stdout",
     "output_type": "stream",
     "text": [
      "[0]\tvalidation_0-error:0.005811\tvalidation_0-MCC:-0.325813\n",
      "[1]\tvalidation_0-error:0.005811\tvalidation_0-MCC:-0.353376\n",
      "[2]\tvalidation_0-error:0.005811\tvalidation_0-MCC:-0.366625\n",
      "[3]\tvalidation_0-error:0.005811\tvalidation_0-MCC:-0.366811\n",
      "[4]\tvalidation_0-error:0.005811\tvalidation_0-MCC:-0.374386\n",
      "[5]\tvalidation_0-error:0.005811\tvalidation_0-MCC:-0.377242\n",
      "[6]\tvalidation_0-error:0.005811\tvalidation_0-MCC:-0.378124\n",
      "[7]\tvalidation_0-error:0.005811\tvalidation_0-MCC:-0.379862\n",
      "[8]\tvalidation_0-error:0.005811\tvalidation_0-MCC:-0.380078\n",
      "[9]\tvalidation_0-error:0.005811\tvalidation_0-MCC:-0.38339\n",
      "[10]\tvalidation_0-error:0.005811\tvalidation_0-MCC:-0.384762\n",
      "[11]\tvalidation_0-error:0.00581\tvalidation_0-MCC:-0.386057\n",
      "[12]\tvalidation_0-error:0.005808\tvalidation_0-MCC:-0.387008\n",
      "[13]\tvalidation_0-error:0.005808\tvalidation_0-MCC:-0.388424\n",
      "[14]\tvalidation_0-error:0.005807\tvalidation_0-MCC:-0.389154\n",
      "[15]\tvalidation_0-error:0.005807\tvalidation_0-MCC:-0.389846\n",
      "[16]\tvalidation_0-error:0.005806\tvalidation_0-MCC:-0.390788\n",
      "[17]\tvalidation_0-error:0.005805\tvalidation_0-MCC:-0.390974\n",
      "[18]\tvalidation_0-error:0.005801\tvalidation_0-MCC:-0.392234\n",
      "[19]\tvalidation_0-error:0.005801\tvalidation_0-MCC:-0.392595\n",
      "[20]\tvalidation_0-error:0.005801\tvalidation_0-MCC:-0.392595\n",
      "[21]\tvalidation_0-error:0.005772\tvalidation_0-MCC:-0.393145\n",
      "[22]\tvalidation_0-error:0.005764\tvalidation_0-MCC:-0.393506\n",
      "[23]\tvalidation_0-error:0.005761\tvalidation_0-MCC:-0.394273\n",
      "[24]\tvalidation_0-error:0.005698\tvalidation_0-MCC:-0.395013\n",
      "[25]\tvalidation_0-error:0.005635\tvalidation_0-MCC:-0.395433\n",
      "[26]\tvalidation_0-error:0.005547\tvalidation_0-MCC:-0.395897\n",
      "[27]\tvalidation_0-error:0.005423\tvalidation_0-MCC:-0.399007\n",
      "[28]\tvalidation_0-error:0.005325\tvalidation_0-MCC:-0.401572\n",
      "[29]\tvalidation_0-error:0.005248\tvalidation_0-MCC:-0.401525\n",
      "[30]\tvalidation_0-error:0.005187\tvalidation_0-MCC:-0.404922\n",
      "[31]\tvalidation_0-error:0.005134\tvalidation_0-MCC:-0.405821\n",
      "[32]\tvalidation_0-error:0.005093\tvalidation_0-MCC:-0.408248\n",
      "[33]\tvalidation_0-error:0.005059\tvalidation_0-MCC:-0.409264\n",
      "[34]\tvalidation_0-error:0.005027\tvalidation_0-MCC:-0.410042\n",
      "[35]\tvalidation_0-error:0.005008\tvalidation_0-MCC:-0.414249\n",
      "[36]\tvalidation_0-error:0.00498\tvalidation_0-MCC:-0.416006\n",
      "[37]\tvalidation_0-error:0.004963\tvalidation_0-MCC:-0.418567\n",
      "[38]\tvalidation_0-error:0.004946\tvalidation_0-MCC:-0.419533\n",
      "[39]\tvalidation_0-error:0.004933\tvalidation_0-MCC:-0.420764\n",
      "[40]\tvalidation_0-error:0.004927\tvalidation_0-MCC:-0.421922\n",
      "[41]\tvalidation_0-error:0.004916\tvalidation_0-MCC:-0.423817\n",
      "[42]\tvalidation_0-error:0.004912\tvalidation_0-MCC:-0.426127\n",
      "[43]\tvalidation_0-error:0.004906\tvalidation_0-MCC:-0.428173\n",
      "[44]\tvalidation_0-error:0.004901\tvalidation_0-MCC:-0.430069\n",
      "[45]\tvalidation_0-error:0.004895\tvalidation_0-MCC:-0.431417\n",
      "[46]\tvalidation_0-error:0.004893\tvalidation_0-MCC:-0.433596\n",
      "[47]\tvalidation_0-error:0.00489\tvalidation_0-MCC:-0.435217\n",
      "[48]\tvalidation_0-error:0.004889\tvalidation_0-MCC:-0.435051\n",
      "[49]\tvalidation_0-error:0.004886\tvalidation_0-MCC:-0.436702\n",
      "[50]\tvalidation_0-error:0.004884\tvalidation_0-MCC:-0.437218\n",
      "[51]\tvalidation_0-error:0.004882\tvalidation_0-MCC:-0.437666\n",
      "[52]\tvalidation_0-error:0.004879\tvalidation_0-MCC:-0.439168\n",
      "[53]\tvalidation_0-error:0.004879\tvalidation_0-MCC:-0.439824\n",
      "[54]\tvalidation_0-error:0.004876\tvalidation_0-MCC:-0.441013\n",
      "[55]\tvalidation_0-error:0.004876\tvalidation_0-MCC:-0.441533\n",
      "[56]\tvalidation_0-error:0.004879\tvalidation_0-MCC:-0.442865\n",
      "[57]\tvalidation_0-error:0.004875\tvalidation_0-MCC:-0.443838\n",
      "[58]\tvalidation_0-error:0.004874\tvalidation_0-MCC:-0.445124\n",
      "[59]\tvalidation_0-error:0.004868\tvalidation_0-MCC:-0.447232\n",
      "[60]\tvalidation_0-error:0.004866\tvalidation_0-MCC:-0.44979\n",
      "[61]\tvalidation_0-error:0.004868\tvalidation_0-MCC:-0.45064\n",
      "[62]\tvalidation_0-error:0.004866\tvalidation_0-MCC:-0.451688\n"
     ]
    },
    {
     "data": {
      "text/plain": [
       "XGBClassifier(base_score=0.0058, booster='gbtree', colsample_bylevel=1,\n",
       "       colsample_bytree=0.6, gamma=0, learning_rate=0.03, max_delta_step=0,\n",
       "       max_depth=14, min_child_weight=5, missing=None, n_estimators=63,\n",
       "       n_jobs=20, nthread=None, objective='binary:logistic',\n",
       "       random_state=0, reg_alpha=0, reg_lambda=4, scale_pos_weight=1,\n",
       "       seed=None, silent=False, subsample=0.9)"
      ]
     },
     "execution_count": 24,
     "metadata": {},
     "output_type": "execute_result"
    }
   ],
   "source": [
    "clf = XGBClassifier(max_depth=14, n_estimators=n_rounds, \n",
    "                    base_score=0.0058, n_jobs=20, colsample_bytree=0.6,\n",
    "                    min_child_weight=5, subsample=0.9,  \n",
    "                    reg_lambda=4, silent=False, learning_rate=0.03)\n",
    "clf.fit(x_train, y_train, \n",
    "        eval_set=[(x_train, y_train)], \n",
    "        eval_metric=mcc_eval, verbose=True)"
   ]
  },
  {
   "cell_type": "code",
   "execution_count": 25,
   "metadata": {},
   "outputs": [],
   "source": [
    "y_train_pred = clf.predict_proba(x_train)[:, 1]"
   ]
  },
  {
   "cell_type": "code",
   "execution_count": 26,
   "metadata": {},
   "outputs": [
    {
     "name": "stdout",
     "output_type": "stream",
     "text": [
      "0.4502413602103561\n"
     ]
    },
    {
     "data": {
      "image/png": "[encoded data removed]",
      "text/plain": [
       "<Figure size 432x288 with 1 Axes>"
      ]
     },
     "metadata": {},
     "output_type": "display_data"
    }
   ],
   "source": [
    "thresholds = np.linspace(0.01, 0.99, 200)\n",
    "mcc = np.array([matthews_corrcoef(y_train, y_train_pred>thr) for thr in thresholds])\n",
    "plt.plot(thresholds, mcc)\n",
    "best_threshold = thresholds[mcc.argmax()]\n",
    "print(mcc.max())"
   ]
  },
  {
   "cell_type": "code",
   "execution_count": 27,
   "metadata": {},
   "outputs": [
    {
     "data": {
      "text/plain": [
       "0.12326633165829146"
      ]
     },
     "execution_count": 27,
     "metadata": {},
     "output_type": "execute_result"
    }
   ],
   "source": [
    "best_threshold"
   ]
  },
  {
   "cell_type": "markdown",
   "metadata": {},
   "source": [
    "### Load test data and predict"
   ]
  },
  {
   "cell_type": "code",
   "execution_count": 28,
   "metadata": {},
   "outputs": [],
   "source": [
    "# important_features = important_features.remove('Response') if 'Response' in important_features else important_features"
   ]
  },
  {
   "cell_type": "code",
   "execution_count": 29,
   "metadata": {},
   "outputs": [],
   "source": [
    "# x_test = pd.read_csv('data/test_numeric.csv.zip', index_col=0, usecols=important_features)\n",
    "\n",
    "# date_test = pd.read_csv('test_station_flow.csv.gz', index_col=0, header=None)\n",
    "# x_test = x_test.join(date_test)\n",
    "# x_test.columns = columns"
   ]
  },
  {
   "cell_type": "code",
   "execution_count": 30,
   "metadata": {},
   "outputs": [],
   "source": [
    "y_test_pred = clf.predict_proba(x_test)[:, 1]\n",
    "y_test_pred_int = (y_test_pred>best_threshold).astype(int)"
   ]
  },
  {
   "cell_type": "code",
   "execution_count": 31,
   "metadata": {},
   "outputs": [],
   "source": [
    "sub = pd.read_csv(\"data/sample_submission.csv.zip\", index_col=0)\n",
    "sub[\"Response\"] = y_test_pred_int\n",
    "sub.to_csv(\"15-benchmark_3_time_analysis_submission.csv.gz\", compression=\"gzip\")"
   ]
  },
  {
   "cell_type": "markdown",
   "metadata": {},
   "source": [
    "public MCC = 0.22579, private MCC = 0.21225\n",
    "\n",
    "CV MCC mean = 0.396, std = 0.009\n",
    "\n",
    "**Hyperparameter tuning is needed!**"
   ]
  }
 ],
 "metadata": {
  "kernelspec": {
   "display_name": "Python 3",
   "language": "python",
   "name": "python3"
  },
  "language_info": {
   "codemirror_mode": {
    "name": "ipython",
    "version": 3
   },
   "file_extension": ".py",
   "mimetype": "text/x-python",
   "name": "python",
   "nbconvert_exporter": "python",
   "pygments_lexer": "ipython3",
   "version": "3.7.0"
  }
 },
 "nbformat": 4,
 "nbformat_minor": 2
}
