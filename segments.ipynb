{
 "cells": [
  {
   "cell_type": "code",
   "execution_count": null,
   "metadata": {},
   "outputs": [],
   "source": [
    "import numpy as np # linear algebra\n",
    "import pandas as pd # data processing, CSV file I/O (e.g. pd.read_csv)\n",
    "import matplotlib.pyplot as plt\n",
    "import gc \n",
    "import tqdm\n",
    "\n",
    "% matplotlib inline"
   ]
  },
  {
   "cell_type": "code",
   "execution_count": null,
   "metadata": {},
   "outputs": [],
   "source": [
    "# Obtain all labels\n",
    "response = pd.read_csv('data/train_numeric.csv.zip', index_col=0, usecols=[0, 969])\n",
    "df = pd.read_csv('data/train_date.csv.zip', index_col=0)\n",
    "df = df.join(response)"
   ]
  },
  {
   "cell_type": "code",
   "execution_count": null,
   "metadata": {},
   "outputs": [],
   "source": [
    "del response\n",
    "gc.collect()\n",
    "\n",
    "n_parts, n_columns = df.shape\n",
    "n_columns -= 1\n",
    "print(n_parts, n_columns)"
   ]
  },
  {
   "cell_type": "code",
   "execution_count": null,
   "metadata": {},
   "outputs": [],
   "source": [
    "# stations and features in each station\n",
    "stations = list(set([f.split('_')[1] for f in df.columns.tolist() if f!='Response']))\n",
    "\n",
    "station_features = {s: [f for f in df.columns.tolist() if s in f] for s in stations }"
   ]
  },
  {
   "cell_type": "code",
   "execution_count": null,
   "metadata": {},
   "outputs": [],
   "source": [
    "# Calculate samples in each feature, if there is any station that every or almost every part flows by?\n",
    "columns = df.columns.tolist()\n",
    "feature_samples = {}\n",
    "for col in tqdm.tqdm_notebook(columns):\n",
    "    feature_samples[col] = len(df.loc[df[col].notna(), col])\n",
    "\n",
    "feature_samples = pd.Series(feature_samples)\n",
    "feature_samples.sort_values(ascending=False, inplace=True)\n",
    "feature_samples.drop('Response', inplace=True)"
   ]
  },
  {
   "cell_type": "markdown",
   "metadata": {},
   "source": [
    "### The number of segments in production\n",
    "Productions with 3 segments or more tends to have different error distributions."
   ]
  },
  {
   "cell_type": "code",
   "execution_count": null,
   "metadata": {},
   "outputs": [],
   "source": [
    "s = {}\n",
    "p = {}\n",
    "for i, n in tqdm.tqdm_notebook(enumerate(feature_samples.unique())):\n",
    "    s[i] = (n, feature_samples.loc[feature_samples==n].index.tolist())\n",
    "    p[i] = (n, list(set([k.split('_')[1] for k in s[i][1]])))"
   ]
  },
  {
   "cell_type": "code",
   "execution_count": null,
   "metadata": {},
   "outputs": [],
   "source": [
    "def segments(part_in, threshold=0.05):\n",
    "    '''Calculate number of segments in a part.'''\n",
    "    part_in.dropna(inplace=True)\n",
    "    part_in.drop('Response', inplace=True)\n",
    "    return sum(part_in.diff().fillna(0)>threshold) + 1\n",
    "\n",
    "# df['segment'] = df.apply(segments, axis=1)"
   ]
  },
  {
   "cell_type": "code",
   "execution_count": null,
   "metadata": {},
   "outputs": [],
   "source": [
    "threshold = 0.05\n",
    "N = 1000\n",
    "segment = []\n",
    "for i in tqdm.tqdm_notebook(range(n_parts//N+1)):\n",
    "    tmp = df.iloc[i*N:min((i+1)*N, n_parts)].copy()\n",
    "#     segment.append(tmp.apply(segments, axis=1))\n",
    "    segment.append(tmp.apply(lambda u: sum(u.dropna().drop('Response').diff().fillna(0)>threshold)+1, axis=1))"
   ]
  },
  {
   "cell_type": "code",
   "execution_count": null,
   "metadata": {},
   "outputs": [],
   "source": [
    "# segment = pd.DataFrame.from_dict(segment, orient='index')\n",
    "# df.join(segment)\n",
    "\n",
    "# segment = [segment[k] for k in segment.keys()]\n",
    "\n",
    "segment = pd.concat(segment)\n",
    "\n",
    "segment.name = 'segment'\n",
    "\n",
    "df = df.join(segment)"
   ]
  },
  {
   "cell_type": "code",
   "execution_count": null,
   "metadata": {},
   "outputs": [],
   "source": [
    "# Since it takes so long to calculate segment, let me save it.\n",
    "segment = df['segment']\n",
    "segment.name = 'segment'\n",
    "segment.to_csv('train_segment.csv')"
   ]
  },
  {
   "cell_type": "code",
   "execution_count": null,
   "metadata": {},
   "outputs": [],
   "source": [
    "df.head()"
   ]
  },
  {
   "cell_type": "code",
   "execution_count": null,
   "metadata": {},
   "outputs": [],
   "source": [
    "a = df.groupby('segment').Response.agg(['mean', 'sum', 'count'])\n",
    "a['confidence'] = 1.96 * np.sqrt(a['mean'] * (1 - a['mean']) / a['count'])\n",
    "a['mean_plus'] = a['mean'] + a['confidence']\n",
    "a['mean_minus'] = a['mean'] - a['confidence']\n",
    "a"
   ]
  },
  {
   "cell_type": "code",
   "execution_count": null,
   "metadata": {},
   "outputs": [],
   "source": [
    "b = df.groupby(['Response', 'segment']).Response.agg(['mean', 'sum', 'count'])\n",
    "b.reset_index(level=1, inplace=True)"
   ]
  },
  {
   "cell_type": "code",
   "execution_count": null,
   "metadata": {},
   "outputs": [],
   "source": [
    "fig, ax1 = plt.subplots(figsize=(14, 7))\n",
    "\n",
    "color = 'tab:red'\n",
    "ax1.set_xlabel('#segments')\n",
    "ax1.set_ylabel('negative distribution', color=color)\n",
    "#ax1.set_xlim([-0.5, Nxlim+0.5])\n",
    "#xticks = ['{:.1f}'.format(tmp) for tmp in ax1.get_xticks() * tbin + 0.5 * tbin]\n",
    "#ax1.set_xticklabels(xticks)\n",
    "ax1.bar(b.loc[0, 'segment'], b.loc[0, 'count']/b.loc[0, 'count'].sum(), alpha=0.8, color=color)\n",
    "ax1.tick_params(axis='y', labelcolor=color)\n",
    "\n",
    "ax2 = ax1.twinx()  # instantiate a second axes that shares the same x-axis\n",
    "\n",
    "color = 'tab:blue'\n",
    "ax2.set_ylabel('positive distribution', color=color)  # we already handled the x-label with ax1\n",
    "ax2.bar(b.loc[1, 'segment'], b.loc[1, 'count']/b.loc[1, 'count'].sum(), alpha=0.6, color=color)\n",
    "ax2.tick_params(axis='y', labelcolor=color)\n",
    "\n",
    "fig.tight_layout()  # otherwise the right y-label is slightly clipped\n",
    "plt.show()"
   ]
  },
  {
   "cell_type": "code",
   "execution_count": null,
   "metadata": {},
   "outputs": [],
   "source": [
    "idx = df.loc[df.segment==4].index[0]\n",
    "\n",
    "plt.plot(df.loc[idx].dropna().iloc[:-2], '.')"
   ]
  },
  {
   "cell_type": "code",
   "execution_count": null,
   "metadata": {},
   "outputs": [],
   "source": [
    "set([f.split('_')[0] for f in df.loc[idx].iloc[:-2].dropna().index.tolist()])"
   ]
  },
  {
   "cell_type": "code",
   "execution_count": null,
   "metadata": {},
   "outputs": [],
   "source": []
  }
 ],
 "metadata": {
  "kernelspec": {
   "display_name": "Python 3",
   "language": "python",
   "name": "python3"
  },
  "language_info": {
   "codemirror_mode": {
    "name": "ipython",
    "version": 3
   },
   "file_extension": ".py",
   "mimetype": "text/x-python",
   "name": "python",
   "nbconvert_exporter": "python",
   "pygments_lexer": "ipython3",
   "version": "3.6.5"
  }
 },
 "nbformat": 4,
 "nbformat_minor": 2
}
