{
 "cells": [
  {
   "cell_type": "code",
   "execution_count": 1,
   "metadata": {},
   "outputs": [
    {
     "name": "stderr",
     "output_type": "stream",
     "text": [
      "C:\\Users\\home\\Anaconda3\\envs\\kaggle\\lib\\site-packages\\sklearn\\cross_validation.py:41: DeprecationWarning: This module was deprecated in version 0.18 in favor of the model_selection module into which all the refactored classes and functions are moved. Also note that the interface of the new CV iterators are different from that of this module. This module will be removed in 0.20.\n",
      "  \"This module will be removed in 0.20.\", DeprecationWarning)\n"
     ]
    }
   ],
   "source": [
    "import os\n",
    "if os.name=='nt':\n",
    "    mingw_path = 'C:\\\\Program Files\\\\mingw-w64\\\\x86_64-8.1.0-posix-seh-rt_v6-rev0\\\\mingw64\\\\bin'\n",
    "    os.environ['PATH'] = mingw_path + ';' + os.environ['PATH']\n",
    "\n",
    "import numpy as np\n",
    "import pandas as pd\n",
    "from xgboost import XGBClassifier\n",
    "from sklearn.metrics import matthews_corrcoef, roc_auc_score\n",
    "from sklearn.cross_validation import cross_val_score, StratifiedKFold\n",
    "from sklearn.model_selection import train_test_split\n",
    "import matplotlib.pyplot as plt\n",
    "import seaborn as sns\n",
    "from sys import getsizeof\n",
    "import time\n",
    "\n",
    "%matplotlib inline"
   ]
  },
  {
   "cell_type": "code",
   "execution_count": 2,
   "metadata": {},
   "outputs": [],
   "source": [
    "import pickle\n",
    "\n",
    "def save_pickle(x, filename):\n",
    "    with open(filename, 'wb') as handle:\n",
    "        pickle.dump(x, handle, protocol=pickle.HIGHEST_PROTOCOL)\n",
    "\n",
    "def read_pickle(filename):\n",
    "    with open(filename, 'rb') as handle:\n",
    "        x = pickle.load(handle)\n",
    "    return x"
   ]
  },
  {
   "cell_type": "code",
   "execution_count": 3,
   "metadata": {},
   "outputs": [
    {
     "name": "stderr",
     "output_type": "stream",
     "text": [
      "C:\\Users\\home\\Anaconda3\\envs\\kaggle\\lib\\site-packages\\numpy\\lib\\arraysetops.py:472: FutureWarning: elementwise comparison failed; returning scalar instead, but in the future will perform elementwise comparison\n",
      "  mask |= (ar1 == a)\n"
     ]
    }
   ],
   "source": [
    "x_train_numeric = pd.read_csv('data/train_numeric.csv.zip', index_col=0).sample(frac=0.1, random_state=0)"
   ]
  },
  {
   "cell_type": "code",
   "execution_count": 4,
   "metadata": {},
   "outputs": [],
   "source": [
    "y = x_train_numeric['Response'].values\n",
    "x_train_numeric = x_train_numeric.iloc[:, :-1].values"
   ]
  },
  {
   "cell_type": "code",
   "execution_count": 5,
   "metadata": {},
   "outputs": [
    {
     "data": {
      "text/plain": [
       "(118375, 968)"
      ]
     },
     "execution_count": 5,
     "metadata": {},
     "output_type": "execute_result"
    }
   ],
   "source": [
    "x_train_numeric.shape"
   ]
  },
  {
   "cell_type": "code",
   "execution_count": 7,
   "metadata": {},
   "outputs": [
    {
     "name": "stdout",
     "output_type": "stream",
     "text": [
      "[0]\tvalidation_0-auc:0.774182\n",
      "[1]\tvalidation_0-auc:0.799594\n",
      "[2]\tvalidation_0-auc:0.813334\n",
      "[3]\tvalidation_0-auc:0.833794\n",
      "[4]\tvalidation_0-auc:0.848527\n",
      "[5]\tvalidation_0-auc:0.855995\n",
      "[6]\tvalidation_0-auc:0.860135\n",
      "[7]\tvalidation_0-auc:0.863198\n",
      "[8]\tvalidation_0-auc:0.867966\n",
      "[9]\tvalidation_0-auc:0.867272\n",
      "[10]\tvalidation_0-auc:0.874655\n",
      "[11]\tvalidation_0-auc:0.875129\n",
      "[12]\tvalidation_0-auc:0.878062\n",
      "[13]\tvalidation_0-auc:0.878859\n",
      "[14]\tvalidation_0-auc:0.883139\n",
      "[15]\tvalidation_0-auc:0.885627\n",
      "[16]\tvalidation_0-auc:0.885395\n",
      "[17]\tvalidation_0-auc:0.887114\n",
      "[18]\tvalidation_0-auc:0.891048\n",
      "[19]\tvalidation_0-auc:0.893624\n",
      "[20]\tvalidation_0-auc:0.8945\n",
      "[21]\tvalidation_0-auc:0.895241\n",
      "[22]\tvalidation_0-auc:0.8955\n",
      "[23]\tvalidation_0-auc:0.897085\n",
      "[24]\tvalidation_0-auc:0.89751\n",
      "[25]\tvalidation_0-auc:0.899504\n",
      "[26]\tvalidation_0-auc:0.900527\n",
      "[27]\tvalidation_0-auc:0.90137\n",
      "[28]\tvalidation_0-auc:0.902425\n",
      "[29]\tvalidation_0-auc:0.903819\n",
      "[30]\tvalidation_0-auc:0.904694\n",
      "[31]\tvalidation_0-auc:0.904644\n",
      "[32]\tvalidation_0-auc:0.905473\n",
      "[33]\tvalidation_0-auc:0.908223\n",
      "[34]\tvalidation_0-auc:0.909856\n",
      "[35]\tvalidation_0-auc:0.909892\n",
      "[36]\tvalidation_0-auc:0.910614\n",
      "[37]\tvalidation_0-auc:0.912917\n",
      "[38]\tvalidation_0-auc:0.913406\n",
      "[39]\tvalidation_0-auc:0.914455\n",
      "[40]\tvalidation_0-auc:0.915039\n",
      "[41]\tvalidation_0-auc:0.916844\n",
      "[42]\tvalidation_0-auc:0.917663\n",
      "[43]\tvalidation_0-auc:0.91838\n",
      "[44]\tvalidation_0-auc:0.920572\n",
      "[45]\tvalidation_0-auc:0.922172\n",
      "[46]\tvalidation_0-auc:0.923027\n",
      "[47]\tvalidation_0-auc:0.923706\n",
      "[48]\tvalidation_0-auc:0.924861\n",
      "[49]\tvalidation_0-auc:0.926132\n",
      "[50]\tvalidation_0-auc:0.927306\n",
      "[51]\tvalidation_0-auc:0.927864\n",
      "[52]\tvalidation_0-auc:0.928831\n",
      "[53]\tvalidation_0-auc:0.929506\n",
      "[54]\tvalidation_0-auc:0.929915\n",
      "[55]\tvalidation_0-auc:0.931352\n",
      "[56]\tvalidation_0-auc:0.932331\n",
      "[57]\tvalidation_0-auc:0.93413\n",
      "[58]\tvalidation_0-auc:0.93477\n",
      "[59]\tvalidation_0-auc:0.935329\n",
      "[60]\tvalidation_0-auc:0.935722\n",
      "[61]\tvalidation_0-auc:0.936351\n",
      "[62]\tvalidation_0-auc:0.937371\n",
      "[63]\tvalidation_0-auc:0.939092\n",
      "[64]\tvalidation_0-auc:0.93997\n",
      "[65]\tvalidation_0-auc:0.940009\n",
      "[66]\tvalidation_0-auc:0.940786\n",
      "[67]\tvalidation_0-auc:0.942019\n",
      "[68]\tvalidation_0-auc:0.942379\n",
      "[69]\tvalidation_0-auc:0.94306\n",
      "[70]\tvalidation_0-auc:0.943866\n",
      "[71]\tvalidation_0-auc:0.944218\n",
      "[72]\tvalidation_0-auc:0.944601\n",
      "[73]\tvalidation_0-auc:0.945369\n",
      "[74]\tvalidation_0-auc:0.946135\n",
      "[75]\tvalidation_0-auc:0.947197\n",
      "[76]\tvalidation_0-auc:0.948652\n",
      "[77]\tvalidation_0-auc:0.94927\n",
      "[78]\tvalidation_0-auc:0.94989\n",
      "[79]\tvalidation_0-auc:0.950317\n",
      "[80]\tvalidation_0-auc:0.951024\n",
      "[81]\tvalidation_0-auc:0.951552\n",
      "[82]\tvalidation_0-auc:0.952284\n",
      "[83]\tvalidation_0-auc:0.953112\n",
      "[84]\tvalidation_0-auc:0.953508\n",
      "[85]\tvalidation_0-auc:0.954247\n",
      "[86]\tvalidation_0-auc:0.95461\n",
      "[87]\tvalidation_0-auc:0.954914\n",
      "[88]\tvalidation_0-auc:0.955276\n",
      "[89]\tvalidation_0-auc:0.956396\n",
      "[90]\tvalidation_0-auc:0.956645\n",
      "[91]\tvalidation_0-auc:0.957329\n",
      "[92]\tvalidation_0-auc:0.95774\n",
      "[93]\tvalidation_0-auc:0.958164\n",
      "[94]\tvalidation_0-auc:0.958923\n",
      "[95]\tvalidation_0-auc:0.959328\n",
      "[96]\tvalidation_0-auc:0.959775\n",
      "[97]\tvalidation_0-auc:0.960226\n",
      "[98]\tvalidation_0-auc:0.961137\n",
      "[99]\tvalidation_0-auc:0.961358\n"
     ]
    },
    {
     "data": {
      "text/plain": [
       "XGBClassifier(base_score=0.0058, booster='gbtree', colsample_bylevel=1,\n",
       "       colsample_bytree=0.6, gamma=0, learning_rate=0.03, max_delta_step=0,\n",
       "       max_depth=9, min_child_weight=5, missing=None, n_estimators=100,\n",
       "       n_jobs=8, nthread=None, objective='binary:logistic', random_state=0,\n",
       "       reg_alpha=0, reg_lambda=4, scale_pos_weight=1, seed=None,\n",
       "       silent=False, subsample=0.9)"
      ]
     },
     "execution_count": 7,
     "metadata": {},
     "output_type": "execute_result"
    }
   ],
   "source": [
    "clf = XGBClassifier(max_depth=9, n_estimators=100, base_score=0.0058, n_jobs=8, colsample_bytree=0.6,\n",
    "                   min_child_weight=5, subsample=0.9,  reg_lambda=4, silent=False, learning_rate=0.03)\n",
    "clf.fit(x_train_numeric, y, eval_set=[(x_train_numeric, y)], eval_metric='auc', verbose=True)"
   ]
  },
  {
   "cell_type": "code",
   "execution_count": 8,
   "metadata": {},
   "outputs": [],
   "source": [
    "important_feature_index = np.argsort(clf.feature_importances_)[::-1]"
   ]
  },
  {
   "cell_type": "code",
   "execution_count": 9,
   "metadata": {},
   "outputs": [
    {
     "data": {
      "text/plain": [
       "[<matplotlib.lines.Line2D at 0x27e3c0de668>]"
      ]
     },
     "execution_count": 9,
     "metadata": {},
     "output_type": "execute_result"
    },
    {
     "data": {
      "image/png": "[encoded data removed]",
      "text/plain": [
       "<Figure size 432x288 with 1 Axes>"
      ]
     },
     "metadata": {},
     "output_type": "display_data"
    }
   ],
   "source": [
    "plt.plot(clf.feature_importances_[important_feature_index])"
   ]
  },
  {
   "cell_type": "code",
   "execution_count": 29,
   "metadata": {},
   "outputs": [],
   "source": [
    "important_feature_index = np.where(clf.feature_importances_>0.002)[0]\n",
    "x_train_numeric = pd.read_csv('data/train_numeric.csv.zip', index_col=0, nrows=0)\n",
    "important_features = x_train_numeric.columns[important_feature_index]\n",
    "\n",
    "important_features = pd.Series(important_features)\n",
    "\n",
    "important_features.to_csv('important_numeric_features.csv')"
   ]
  },
  {
   "cell_type": "code",
   "execution_count": null,
   "metadata": {},
   "outputs": [],
   "source": []
  }
 ],
 "metadata": {
  "kernelspec": {
   "display_name": "Python 3",
   "language": "python",
   "name": "python3"
  },
  "language_info": {
   "codemirror_mode": {
    "name": "ipython",
    "version": 3
   },
   "file_extension": ".py",
   "mimetype": "text/x-python",
   "name": "python",
   "nbconvert_exporter": "python",
   "pygments_lexer": "ipython3",
   "version": "3.6.5"
  }
 },
 "nbformat": 4,
 "nbformat_minor": 2
}
