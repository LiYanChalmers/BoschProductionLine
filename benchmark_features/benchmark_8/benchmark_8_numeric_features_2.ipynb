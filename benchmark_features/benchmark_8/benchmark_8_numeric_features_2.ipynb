{
 "cells": [
  {
   "cell_type": "markdown",
   "metadata": {},
   "source": [
    "## Benchmark for measuring performance of engineered features and models\n",
    "\n",
    "Prepare data for later analysis"
   ]
  },
  {
   "cell_type": "code",
   "execution_count": 1,
   "metadata": {},
   "outputs": [],
   "source": [
    "import sys\n",
    "sys.path.insert(0, '../../bosch_helper')\n",
    "from bosch_helper import *\n",
    "\n",
    "from sklearn.preprocessing import LabelEncoder\n",
    "import h5py\n",
    "\n",
    "%matplotlib inline"
   ]
  },
  {
   "cell_type": "markdown",
   "metadata": {},
   "source": [
    "### Reload data"
   ]
  },
  {
   "cell_type": "code",
   "execution_count": 2,
   "metadata": {},
   "outputs": [],
   "source": [
    "x = pd.read_hdf('benchmark_8_numeric_features_1.hdf', 'x')"
   ]
  },
  {
   "cell_type": "markdown",
   "metadata": {},
   "source": [
    "### Hash value of all numeric rows and `LabelEncode` hash values"
   ]
  },
  {
   "cell_type": "code",
   "execution_count": 102,
   "metadata": {},
   "outputs": [],
   "source": [
    "if os.path.exists('benchmark_8_numeric_features_2.hdf'):\n",
    "    hash_numeric = pd.read_hdf('benchmark_8_numeric_features_2.hdf', 'hash_numeric')\n",
    "else:\n",
    "    hash_numeric = [x.iloc[(n-1)*10**5:n*10**5,:-5].apply(lambda u: hash(tuple(u)), axis=1) for n in range(25)]\n",
    "    hash_numeric = pd.concat(hash_numeric)\n",
    "    hash_numeric = pd.Series(hash_numeric)\n",
    "    hash_numeric.name = 'hash_numeric'\n",
    "\n",
    "    le = LabelEncoder()\n",
    "    le_results = le.fit_transform(hash_numeric)\n",
    "    hash_numeric = pd.DataFrame(hash_numeric)\n",
    "    hash_numeric['hash_encoded'] = le_results\n",
    "\n",
    "    hash_numeric.drop(['hash_numeric'], axis=1, inplace=True)\n",
    "\n",
    "    hash_value_counts = hash_numeric['hash_encoded'].value_counts()\n",
    "\n",
    "    hash_numeric['count_hash'] = hash_numeric['hash_encoded'].map(hash_value_counts)\n",
    "\n",
    "    # hash_numeric.to_csv('hash_numeric.csv.gz', compression='gzip')\n",
    "\n",
    "    hash_numeric.to_hdf('benchmark_8_numeric_features_2.hdf', 'hash_numeric', complib='blosc:lz4', complevel=9)"
   ]
  },
  {
   "cell_type": "markdown",
   "metadata": {},
   "source": [
    "### Unique value and vlaue counts of each column"
   ]
  },
  {
   "cell_type": "code",
   "execution_count": 17,
   "metadata": {},
   "outputs": [],
   "source": [
    "column_numeric = x.columns[:-5]"
   ]
  },
  {
   "cell_type": "markdown",
   "metadata": {},
   "source": [
    "#### Nubmer of unique values for each column"
   ]
  },
  {
   "cell_type": "markdown",
   "metadata": {},
   "source": [
    "#### Value counts of each column"
   ]
  },
  {
   "cell_type": "code",
   "execution_count": 19,
   "metadata": {},
   "outputs": [],
   "source": [
    "unique_counts = {c: x.loc[:, c].value_counts() for c in column_numeric}"
   ]
  },
  {
   "cell_type": "markdown",
   "metadata": {},
   "source": [
    "Plot one example"
   ]
  },
  {
   "cell_type": "code",
   "execution_count": 20,
   "metadata": {},
   "outputs": [
    {
     "data": {
      "text/plain": [
       "[<matplotlib.lines.Line2D at 0x22f9e20a4e0>]"
      ]
     },
     "execution_count": 20,
     "metadata": {},
     "output_type": "execute_result"
    },
    {
     "data": {
      "image/png": "[encoded data removed]",
      "text/plain": [
       "<Figure size 432x288 with 1 Axes>"
      ]
     },
     "metadata": {},
     "output_type": "display_data"
    }
   ],
   "source": [
    "plt.plot(unique_counts['L0_S0_F0'].sort_index().index, unique_counts['L0_S0_F0'].sort_index().values)"
   ]
  },
  {
   "cell_type": "markdown",
   "metadata": {},
   "source": [
    "### Z-scaled features for each column"
   ]
  },
  {
   "cell_type": "markdown",
   "metadata": {},
   "source": [
    "##### Directly calculating Z-score has memory error, I will not continue with it to speed up my progress."
   ]
  },
  {
   "cell_type": "markdown",
   "metadata": {},
   "source": [
    "### Z-scale for each week"
   ]
  },
  {
   "cell_type": "code",
   "execution_count": 19,
   "metadata": {},
   "outputs": [],
   "source": [
    "x.drop(['week_number'],axis=1,inplace=True)"
   ]
  },
  {
   "cell_type": "code",
   "execution_count": 20,
   "metadata": {},
   "outputs": [],
   "source": [
    "count_per_time_unit = x.groupby('time_start')['time_start'].count()\n",
    "count_per_time_unit = pd.DataFrame(count_per_time_unit)\n",
    "# count_per_time_unit['mod1680'] = np.mod(count_per_time_unit.index, 1680)\n",
    "count_per_time_unit['week_number'] = np.around(count_per_time_unit.index/1680, 0)\n",
    "count_per_time_unit.drop(['time_start'], axis=1, inplace=True)\n",
    "\n",
    "x = x.join(count_per_time_unit, on='time_start')\n",
    "x_zscore_per_week = x.groupby('week_number').transform(lambda u: (u-u.mean())/u.std())\n",
    "x_zscore_per_week.drop(['Response', 'station_start', 'station_end', 'time_start', 'time_end'], axis=1, inplace=True)\n",
    "\n",
    "x_zscore_per_week.to_hdf('benchmark_8_numeric_features_2.hdf', 'zscore_per_week', complib='blosc:lz4', complevel=9)"
   ]
  },
  {
   "cell_type": "code",
   "execution_count": 21,
   "metadata": {},
   "outputs": [],
   "source": [
    "x_zscore_per_week = pd.read_hdf('benchmark_8_numeric_features_2.hdf', 'zscore_per_week')"
   ]
  },
  {
   "cell_type": "markdown",
   "metadata": {},
   "source": [
    "### Count encoding of each value"
   ]
  },
  {
   "cell_type": "code",
   "execution_count": 22,
   "metadata": {},
   "outputs": [
    {
     "data": {
      "text/plain": [
       "136"
      ]
     },
     "execution_count": 22,
     "metadata": {},
     "output_type": "execute_result"
    }
   ],
   "source": [
    "del x_zscore_per_week\n",
    "gc.collect()"
   ]
  },
  {
   "cell_type": "code",
   "execution_count": 24,
   "metadata": {},
   "outputs": [
    {
     "data": {
      "text/plain": [
       "Index(['L0_S0_F0', 'L0_S0_F10', 'L0_S0_F12', 'L0_S0_F14', 'L0_S0_F16',\n",
       "       'L0_S0_F18', 'L0_S0_F2', 'L0_S0_F20', 'L0_S0_F22', 'L0_S0_F4',\n",
       "       ...\n",
       "       'L3_S51_F4256', 'L3_S51_F4258', 'L3_S51_F4260', 'L3_S51_F4262',\n",
       "       'Response', 'station_start', 'station_end', 'time_start', 'time_end',\n",
       "       'week_number'],\n",
       "      dtype='object', length=974)"
      ]
     },
     "execution_count": 24,
     "metadata": {},
     "output_type": "execute_result"
    }
   ],
   "source": [
    "x.columns"
   ]
  },
  {
   "cell_type": "code",
   "execution_count": 25,
   "metadata": {},
   "outputs": [],
   "source": [
    "column_numeric = x.columns[:-6]\n",
    "number_unique_values = {c: x.loc[:, c].unique().shape[0] for c in column_numeric}\n",
    "number_unique_values = pd.Series(number_unique_values, index=column_numeric)\n",
    "number_unique_values.sort_values(inplace=True)\n",
    "\n",
    "unique_counts = {c: x.loc[:, c].value_counts() for c in column_numeric}"
   ]
  },
  {
   "cell_type": "code",
   "execution_count": 28,
   "metadata": {},
   "outputs": [
    {
     "data": {
      "application/vnd.jupyter.widget-view+json": {
       "model_id": "5dd33180b63e4cc592b236ac8144a371",
       "version_major": 2,
       "version_minor": 0
      },
      "text/plain": [
       "HBox(children=(IntProgress(value=0, max=968), HTML(value='')))"
      ]
     },
     "metadata": {},
     "output_type": "display_data"
    },
    {
     "name": "stdout",
     "output_type": "stream",
     "text": [
      "\n"
     ]
    }
   ],
   "source": [
    "import tqdm\n",
    "\n",
    "x_count_encode = {}\n",
    "\n",
    "for c in tqdm.tqdm_notebook(column_numeric):\n",
    "    x_count_encode['count_'+c] = x[c].map(unique_counts[c])"
   ]
  },
  {
   "cell_type": "code",
   "execution_count": 30,
   "metadata": {},
   "outputs": [],
   "source": [
    "e = pd.DataFrame(x_count_encode)"
   ]
  },
  {
   "cell_type": "code",
   "execution_count": 44,
   "metadata": {},
   "outputs": [],
   "source": [
    "e.to_hdf('benchmark_8_numeric_features_2.hdf', 'count_encoded', complib='blosc:lz4', complevel=9)"
   ]
  },
  {
   "cell_type": "code",
   "execution_count": 43,
   "metadata": {},
   "outputs": [
    {
     "data": {
      "text/plain": [
       "380"
      ]
     },
     "execution_count": 43,
     "metadata": {},
     "output_type": "execute_result"
    }
   ],
   "source": [
    "del x, x_count_encode\n",
    "gc.collect()"
   ]
  },
  {
   "cell_type": "markdown",
   "metadata": {},
   "source": [
    "### Obtain keys of a HDF file"
   ]
  },
  {
   "cell_type": "code",
   "execution_count": 4,
   "metadata": {},
   "outputs": [],
   "source": [
    "u = pd.HDFStore('benchmark_8_numeric_features_2.hdf')"
   ]
  },
  {
   "cell_type": "code",
   "execution_count": 5,
   "metadata": {},
   "outputs": [
    {
     "data": {
      "text/plain": [
       "<class 'pandas.io.pytables.HDFStore'>\n",
       "File path: benchmark_8_numeric_features_2.hdf"
      ]
     },
     "execution_count": 5,
     "metadata": {},
     "output_type": "execute_result"
    }
   ],
   "source": [
    "u"
   ]
  },
  {
   "cell_type": "code",
   "execution_count": 6,
   "metadata": {},
   "outputs": [
    {
     "data": {
      "text/plain": [
       "['/count_encoded', '/hash_numeric', '/zscore_per_week']"
      ]
     },
     "execution_count": 6,
     "metadata": {},
     "output_type": "execute_result"
    }
   ],
   "source": [
    "u.keys()"
   ]
  },
  {
   "cell_type": "markdown",
   "metadata": {},
   "source": [
    "### Test hdf, is it possible to add more keys to the hdf file?\n",
    "\n",
    "Answer is yes."
   ]
  },
  {
   "cell_type": "code",
   "execution_count": 1,
   "metadata": {},
   "outputs": [],
   "source": [
    "import numpy as np\n",
    "import pandas as pd"
   ]
  },
  {
   "cell_type": "code",
   "execution_count": 2,
   "metadata": {},
   "outputs": [],
   "source": [
    "x = pd.DataFrame(np.random.randn(100))\n",
    "x.to_hdf('test.hdf', 'x', format='t', compllib='blocs:lz4', complevel=9)"
   ]
  },
  {
   "cell_type": "code",
   "execution_count": 3,
   "metadata": {},
   "outputs": [],
   "source": [
    "y = pd.DataFrame(np.random.randn(200))\n",
    "y.to_hdf('test.hdf', 'y', format='t', compllib='blocs:lz4', complevel=9)"
   ]
  },
  {
   "cell_type": "code",
   "execution_count": 4,
   "metadata": {},
   "outputs": [],
   "source": [
    "x = pd.read_hdf('test.hdf', 'x')"
   ]
  },
  {
   "cell_type": "code",
   "execution_count": 5,
   "metadata": {},
   "outputs": [],
   "source": [
    "y = pd.read_hdf('test.hdf', 'y')"
   ]
  },
  {
   "cell_type": "code",
   "execution_count": null,
   "metadata": {},
   "outputs": [],
   "source": []
  }
 ],
 "metadata": {
  "kernelspec": {
   "display_name": "Python 3",
   "language": "python",
   "name": "python3"
  },
  "language_info": {
   "codemirror_mode": {
    "name": "ipython",
    "version": 3
   },
   "file_extension": ".py",
   "mimetype": "text/x-python",
   "name": "python",
   "nbconvert_exporter": "python",
   "pygments_lexer": "ipython3",
   "version": "3.6.6"
  }
 },
 "nbformat": 4,
 "nbformat_minor": 2
}
