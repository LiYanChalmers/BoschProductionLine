{
 "cells": [
  {
   "cell_type": "markdown",
   "metadata": {},
   "source": [
    "## Benchmark for measuring performance of engineered features and models\n",
    "\n",
    "Test benchmark 8, z-score per week"
   ]
  },
  {
   "cell_type": "code",
   "execution_count": 1,
   "metadata": {},
   "outputs": [
    {
     "name": "stderr",
     "output_type": "stream",
     "text": [
      "/c3se/NOBACKUP/users/lyaa/conda_dir/miniconda/envs/kaggle/lib/python3.7/site-packages/sklearn/utils/__init__.py:4: DeprecationWarning: Using or importing the ABCs from 'collections' instead of from 'collections.abc' is deprecated, and in 3.8 it will stop working\n",
      "  from collections import Sequence\n"
     ]
    }
   ],
   "source": [
    "import sys\n",
    "sys.path.insert(0, '../../bosch_helper')\n",
    "from bosch_helper import *\n",
    "\n",
    "%matplotlib inline"
   ]
  },
  {
   "cell_type": "code",
   "execution_count": 2,
   "metadata": {},
   "outputs": [
    {
     "data": {
      "text/plain": [
       "finfo(resolution=0.001, min=-6.55040e+04, max=6.55040e+04, dtype=float16)"
      ]
     },
     "execution_count": 2,
     "metadata": {},
     "output_type": "execute_result"
    }
   ],
   "source": [
    "np.finfo(np.float16)"
   ]
  },
  {
   "cell_type": "markdown",
   "metadata": {},
   "source": [
    "### Load train and test data"
   ]
  },
  {
   "cell_type": "code",
   "execution_count": 3,
   "metadata": {},
   "outputs": [],
   "source": [
    "# important numeric features are imported\n",
    "important_features = pd.read_csv('../benchmark_1/important_numeric_features.csv', index_col=0, header=None)\n",
    "important_features = list(important_features.values.ravel())\n",
    "important_features.extend(['Id', 'Response'])"
   ]
  },
  {
   "cell_type": "code",
   "execution_count": 4,
   "metadata": {
    "scrolled": true
   },
   "outputs": [],
   "source": [
    "x_train_numeric = pd.read_csv('../../data/train_numeric.csv.zip', index_col=0, usecols=important_features, dtype=np.float32)\n",
    "\n",
    "y_train = x_train_numeric.Response\n",
    "x_train_numeric.drop(['Response'], axis=1, inplace=True)"
   ]
  },
  {
   "cell_type": "code",
   "execution_count": 5,
   "metadata": {},
   "outputs": [],
   "source": [
    "date_train = pd.read_csv('../benchmark_2/train_station_flow.csv.gz', index_col=0, header=None)"
   ]
  },
  {
   "cell_type": "code",
   "execution_count": 6,
   "metadata": {},
   "outputs": [],
   "source": [
    "x_train = x_train_numeric.join(date_train)\n",
    "\n",
    "columns = list(x_train.columns)\n",
    "columns[-1] = 'station_flow'\n",
    "x_train.columns = columns"
   ]
  },
  {
   "cell_type": "code",
   "execution_count": 7,
   "metadata": {},
   "outputs": [],
   "source": [
    "x_test_numeric = pd.read_csv('../../data/test_numeric.csv.zip', index_col=0, usecols=important_features[:-1], dtype=np.float32)\n",
    "\n",
    "date_test = pd.read_csv('../benchmark_2/test_station_flow.csv.gz', index_col=0, header=None)\n",
    "\n",
    "x_test = x_test_numeric.join(date_test)\n",
    "x_test.columns = columns"
   ]
  },
  {
   "cell_type": "code",
   "execution_count": 8,
   "metadata": {},
   "outputs": [],
   "source": [
    "x_train.index = x_train.index.astype(np.int64)\n",
    "x_test.index = x_test.index.astype(np.int64)"
   ]
  },
  {
   "cell_type": "code",
   "execution_count": 9,
   "metadata": {},
   "outputs": [
    {
     "data": {
      "text/plain": [
       "60"
      ]
     },
     "execution_count": 9,
     "metadata": {},
     "output_type": "execute_result"
    }
   ],
   "source": [
    "del x_train_numeric, x_test_numeric\n",
    "gc.collect()"
   ]
  },
  {
   "cell_type": "markdown",
   "metadata": {},
   "source": [
    "### Load benchmark_3 features"
   ]
  },
  {
   "cell_type": "code",
   "execution_count": 10,
   "metadata": {},
   "outputs": [],
   "source": [
    "start_chunk = pd.read_csv('../benchmark_3/start_chunk.csv.gz', index_col=0)\n",
    "\n",
    "start_chunk_train = start_chunk.loc[start_chunk.Response!=-1].drop(['Response'], axis=1)\n",
    "start_chunk_test = start_chunk.loc[start_chunk.Response==-1].drop(['Response'], axis=1)"
   ]
  },
  {
   "cell_type": "code",
   "execution_count": 11,
   "metadata": {},
   "outputs": [
    {
     "data": {
      "text/plain": [
       "35"
      ]
     },
     "execution_count": 11,
     "metadata": {},
     "output_type": "execute_result"
    }
   ],
   "source": [
    "x_train = x_train.join(start_chunk_train, on='Id')\n",
    "x_test = x_test.join(start_chunk_test, on='Id')\n",
    "\n",
    "gc.collect()"
   ]
  },
  {
   "cell_type": "markdown",
   "metadata": {},
   "source": [
    "### Load benchmark_4 features"
   ]
  },
  {
   "cell_type": "code",
   "execution_count": 12,
   "metadata": {},
   "outputs": [
    {
     "name": "stdout",
     "output_type": "stream",
     "text": [
      "(1183748, 14) (1183747, 14)\n"
     ]
    },
    {
     "data": {
      "text/plain": [
       "28"
      ]
     },
     "execution_count": 12,
     "metadata": {},
     "output_type": "execute_result"
    }
   ],
   "source": [
    "n = pd.read_csv('../benchmark_4/benchmark_4_neighbors.csv.gz', index_col=0)\n",
    "\n",
    "neighbor_train = n.loc[n.Response!=-1]\n",
    "neighbor_train.drop(['Response'], axis=1, inplace=True)\n",
    "\n",
    "neighbor_test = n.loc[n.Response==-1]\n",
    "neighbor_test.drop(['Response'], axis=1, inplace=True)\n",
    "\n",
    "print(neighbor_test.shape, neighbor_train.shape)\n",
    "\n",
    "x_train = x_train.join(neighbor_train, on='Id')\n",
    "x_test = x_test.join(neighbor_test, on='Id')\n",
    "\n",
    "gc.collect()"
   ]
  },
  {
   "cell_type": "markdown",
   "metadata": {},
   "source": [
    "### Add neighbor numeric features\n",
    "The important numeric features selected from previous and next records"
   ]
  },
  {
   "cell_type": "code",
   "execution_count": 13,
   "metadata": {},
   "outputs": [],
   "source": [
    "# Date + station flow data will be added to x\n",
    "x = pd.concat([x_train, x_test], keys=['train', 'test'])\n",
    "x.sort_index(axis=0, level='Id', inplace=True)"
   ]
  },
  {
   "cell_type": "code",
   "execution_count": 14,
   "metadata": {},
   "outputs": [],
   "source": [
    "from sklearn.preprocessing import LabelEncoder\n",
    "le = LabelEncoder()\n",
    "x['station_flow'] = le.fit_transform(x['station_flow'])"
   ]
  },
  {
   "cell_type": "code",
   "execution_count": 15,
   "metadata": {},
   "outputs": [],
   "source": [
    "# Add the neighbor records\n",
    "x = x.join(x.iloc[:, :150].shift(), rsuffix='_previous')\n",
    "x = x.join(x.iloc[:, :150].shift(-1), rsuffix='_next')"
   ]
  },
  {
   "cell_type": "code",
   "execution_count": 16,
   "metadata": {},
   "outputs": [
    {
     "data": {
      "text/plain": [
       "63"
      ]
     },
     "execution_count": 16,
     "metadata": {},
     "output_type": "execute_result"
    }
   ],
   "source": [
    "x_train = x.loc['train']\n",
    "x_test = x.loc['test']\n",
    "\n",
    "del x\n",
    "gc.collect()"
   ]
  },
  {
   "cell_type": "markdown",
   "metadata": {},
   "source": [
    "### Load benchmark_7 features\n",
    "\n",
    "Time series features"
   ]
  },
  {
   "cell_type": "code",
   "execution_count": 17,
   "metadata": {},
   "outputs": [],
   "source": [
    "time_features = pd.read_hdf('../benchmark_7/time_features_diff.hdf', 'time_features')\n",
    "time_features.drop(['time_start', 'time_end', 'time_duration', 'Response'], axis=1, inplace=True)"
   ]
  },
  {
   "cell_type": "code",
   "execution_count": 18,
   "metadata": {},
   "outputs": [],
   "source": [
    "time_feature_names = time_features.iloc[:, :-40].columns.tolist()"
   ]
  },
  {
   "cell_type": "code",
   "execution_count": 19,
   "metadata": {},
   "outputs": [],
   "source": [
    "# Do not use MeanTimeDiff features\n",
    "x_train = x_train.join(time_features.loc['train', time_feature_names])\n",
    "x_test = x_test.join(time_features.loc['test', time_feature_names])"
   ]
  },
  {
   "cell_type": "code",
   "execution_count": 20,
   "metadata": {},
   "outputs": [
    {
     "name": "stdout",
     "output_type": "stream",
     "text": [
      "(1183747, 754) (1183748, 754)\n"
     ]
    }
   ],
   "source": [
    "print(x_train.shape, x_test.shape)"
   ]
  },
  {
   "cell_type": "code",
   "execution_count": 21,
   "metadata": {},
   "outputs": [
    {
     "data": {
      "text/plain": [
       "121"
      ]
     },
     "execution_count": 21,
     "metadata": {},
     "output_type": "execute_result"
    }
   ],
   "source": [
    "del time_features\n",
    "gc.collect()"
   ]
  },
  {
   "cell_type": "markdown",
   "metadata": {},
   "source": [
    "### zscore each week"
   ]
  },
  {
   "cell_type": "code",
   "execution_count": 31,
   "metadata": {},
   "outputs": [
    {
     "data": {
      "text/html": [
       "<div>\n",
       "<style scoped>\n",
       "    .dataframe tbody tr th:only-of-type {\n",
       "        vertical-align: middle;\n",
       "    }\n",
       "\n",
       "    .dataframe tbody tr th {\n",
       "        vertical-align: top;\n",
       "    }\n",
       "\n",
       "    .dataframe thead th {\n",
       "        text-align: right;\n",
       "    }\n",
       "</style>\n",
       "<table border=\"1\" class=\"dataframe\">\n",
       "  <thead>\n",
       "    <tr style=\"text-align: right;\">\n",
       "      <th></th>\n",
       "      <th></th>\n",
       "      <th>L0_S0_F0</th>\n",
       "      <th>L0_S0_F10</th>\n",
       "      <th>L0_S0_F12</th>\n",
       "      <th>L0_S0_F14</th>\n",
       "      <th>L0_S0_F16</th>\n",
       "      <th>L0_S0_F18</th>\n",
       "      <th>L0_S0_F2</th>\n",
       "      <th>L0_S0_F20</th>\n",
       "      <th>L0_S0_F22</th>\n",
       "      <th>L0_S0_F4</th>\n",
       "      <th>...</th>\n",
       "      <th>L3_S50_F4243</th>\n",
       "      <th>L3_S50_F4245</th>\n",
       "      <th>L3_S50_F4247</th>\n",
       "      <th>L3_S50_F4249</th>\n",
       "      <th>L3_S50_F4251</th>\n",
       "      <th>L3_S50_F4253</th>\n",
       "      <th>L3_S51_F4256</th>\n",
       "      <th>L3_S51_F4258</th>\n",
       "      <th>L3_S51_F4260</th>\n",
       "      <th>L3_S51_F4262</th>\n",
       "    </tr>\n",
       "    <tr>\n",
       "      <th></th>\n",
       "      <th>Id</th>\n",
       "      <th></th>\n",
       "      <th></th>\n",
       "      <th></th>\n",
       "      <th></th>\n",
       "      <th></th>\n",
       "      <th></th>\n",
       "      <th></th>\n",
       "      <th></th>\n",
       "      <th></th>\n",
       "      <th></th>\n",
       "      <th></th>\n",
       "      <th></th>\n",
       "      <th></th>\n",
       "      <th></th>\n",
       "      <th></th>\n",
       "      <th></th>\n",
       "      <th></th>\n",
       "      <th></th>\n",
       "      <th></th>\n",
       "      <th></th>\n",
       "      <th></th>\n",
       "    </tr>\n",
       "  </thead>\n",
       "  <tbody>\n",
       "    <tr>\n",
       "      <th rowspan=\"3\" valign=\"top\">test</th>\n",
       "      <th>1</th>\n",
       "      <td>NaN</td>\n",
       "      <td>NaN</td>\n",
       "      <td>NaN</td>\n",
       "      <td>NaN</td>\n",
       "      <td>NaN</td>\n",
       "      <td>NaN</td>\n",
       "      <td>NaN</td>\n",
       "      <td>NaN</td>\n",
       "      <td>NaN</td>\n",
       "      <td>NaN</td>\n",
       "      <td>...</td>\n",
       "      <td>NaN</td>\n",
       "      <td>NaN</td>\n",
       "      <td>NaN</td>\n",
       "      <td>NaN</td>\n",
       "      <td>NaN</td>\n",
       "      <td>NaN</td>\n",
       "      <td>NaN</td>\n",
       "      <td>NaN</td>\n",
       "      <td>NaN</td>\n",
       "      <td>NaN</td>\n",
       "    </tr>\n",
       "    <tr>\n",
       "      <th>2</th>\n",
       "      <td>NaN</td>\n",
       "      <td>NaN</td>\n",
       "      <td>NaN</td>\n",
       "      <td>NaN</td>\n",
       "      <td>NaN</td>\n",
       "      <td>NaN</td>\n",
       "      <td>NaN</td>\n",
       "      <td>NaN</td>\n",
       "      <td>NaN</td>\n",
       "      <td>NaN</td>\n",
       "      <td>...</td>\n",
       "      <td>NaN</td>\n",
       "      <td>NaN</td>\n",
       "      <td>NaN</td>\n",
       "      <td>NaN</td>\n",
       "      <td>NaN</td>\n",
       "      <td>NaN</td>\n",
       "      <td>NaN</td>\n",
       "      <td>NaN</td>\n",
       "      <td>NaN</td>\n",
       "      <td>NaN</td>\n",
       "    </tr>\n",
       "    <tr>\n",
       "      <th>3</th>\n",
       "      <td>NaN</td>\n",
       "      <td>NaN</td>\n",
       "      <td>NaN</td>\n",
       "      <td>NaN</td>\n",
       "      <td>NaN</td>\n",
       "      <td>NaN</td>\n",
       "      <td>NaN</td>\n",
       "      <td>NaN</td>\n",
       "      <td>NaN</td>\n",
       "      <td>NaN</td>\n",
       "      <td>...</td>\n",
       "      <td>NaN</td>\n",
       "      <td>NaN</td>\n",
       "      <td>NaN</td>\n",
       "      <td>NaN</td>\n",
       "      <td>NaN</td>\n",
       "      <td>NaN</td>\n",
       "      <td>NaN</td>\n",
       "      <td>NaN</td>\n",
       "      <td>NaN</td>\n",
       "      <td>NaN</td>\n",
       "    </tr>\n",
       "    <tr>\n",
       "      <th>train</th>\n",
       "      <th>4</th>\n",
       "      <td>0.445557</td>\n",
       "      <td>1.416992</td>\n",
       "      <td>-0.343506</td>\n",
       "      <td>0.793945</td>\n",
       "      <td>-0.671875</td>\n",
       "      <td>-0.125977</td>\n",
       "      <td>-0.801270</td>\n",
       "      <td>-1.272461</td>\n",
       "      <td>-1.272461</td>\n",
       "      <td>-0.39209</td>\n",
       "      <td>...</td>\n",
       "      <td>NaN</td>\n",
       "      <td>NaN</td>\n",
       "      <td>NaN</td>\n",
       "      <td>NaN</td>\n",
       "      <td>NaN</td>\n",
       "      <td>NaN</td>\n",
       "      <td>NaN</td>\n",
       "      <td>NaN</td>\n",
       "      <td>NaN</td>\n",
       "      <td>NaN</td>\n",
       "    </tr>\n",
       "    <tr>\n",
       "      <th>test</th>\n",
       "      <th>5</th>\n",
       "      <td>0.701172</td>\n",
       "      <td>-0.612305</td>\n",
       "      <td>-0.835449</td>\n",
       "      <td>-0.766602</td>\n",
       "      <td>1.463867</td>\n",
       "      <td>1.358398</td>\n",
       "      <td>0.578613</td>\n",
       "      <td>-0.429199</td>\n",
       "      <td>-0.429199</td>\n",
       "      <td>-0.50000</td>\n",
       "      <td>...</td>\n",
       "      <td>NaN</td>\n",
       "      <td>NaN</td>\n",
       "      <td>NaN</td>\n",
       "      <td>NaN</td>\n",
       "      <td>NaN</td>\n",
       "      <td>NaN</td>\n",
       "      <td>NaN</td>\n",
       "      <td>NaN</td>\n",
       "      <td>NaN</td>\n",
       "      <td>NaN</td>\n",
       "    </tr>\n",
       "  </tbody>\n",
       "</table>\n",
       "<p>5 rows × 968 columns</p>\n",
       "</div>"
      ],
      "text/plain": [
       "          L0_S0_F0  L0_S0_F10  L0_S0_F12  L0_S0_F14  L0_S0_F16  L0_S0_F18  \\\n",
       "      Id                                                                    \n",
       "test  1        NaN        NaN        NaN        NaN        NaN        NaN   \n",
       "      2        NaN        NaN        NaN        NaN        NaN        NaN   \n",
       "      3        NaN        NaN        NaN        NaN        NaN        NaN   \n",
       "train 4   0.445557   1.416992  -0.343506   0.793945  -0.671875  -0.125977   \n",
       "test  5   0.701172  -0.612305  -0.835449  -0.766602   1.463867   1.358398   \n",
       "\n",
       "          L0_S0_F2  L0_S0_F20  L0_S0_F22  L0_S0_F4      ...       \\\n",
       "      Id                                                ...        \n",
       "test  1        NaN        NaN        NaN       NaN      ...        \n",
       "      2        NaN        NaN        NaN       NaN      ...        \n",
       "      3        NaN        NaN        NaN       NaN      ...        \n",
       "train 4  -0.801270  -1.272461  -1.272461  -0.39209      ...        \n",
       "test  5   0.578613  -0.429199  -0.429199  -0.50000      ...        \n",
       "\n",
       "          L3_S50_F4243  L3_S50_F4245  L3_S50_F4247  L3_S50_F4249  \\\n",
       "      Id                                                           \n",
       "test  1            NaN           NaN           NaN           NaN   \n",
       "      2            NaN           NaN           NaN           NaN   \n",
       "      3            NaN           NaN           NaN           NaN   \n",
       "train 4            NaN           NaN           NaN           NaN   \n",
       "test  5            NaN           NaN           NaN           NaN   \n",
       "\n",
       "          L3_S50_F4251  L3_S50_F4253  L3_S51_F4256  L3_S51_F4258  \\\n",
       "      Id                                                           \n",
       "test  1            NaN           NaN           NaN           NaN   \n",
       "      2            NaN           NaN           NaN           NaN   \n",
       "      3            NaN           NaN           NaN           NaN   \n",
       "train 4            NaN           NaN           NaN           NaN   \n",
       "test  5            NaN           NaN           NaN           NaN   \n",
       "\n",
       "          L3_S51_F4260  L3_S51_F4262  \n",
       "      Id                              \n",
       "test  1            NaN           NaN  \n",
       "      2            NaN           NaN  \n",
       "      3            NaN           NaN  \n",
       "train 4            NaN           NaN  \n",
       "test  5            NaN           NaN  \n",
       "\n",
       "[5 rows x 968 columns]"
      ]
     },
     "execution_count": 31,
     "metadata": {},
     "output_type": "execute_result"
    }
   ],
   "source": [
    "x_zscore_per_week = pd.read_hdf('benchmark_8_numeric_features_2.hdf', 'zscore_per_week')\n",
    "x_zscore_per_week.sort_index(by=['Id'], inplace=True)\n",
    "x_zscore_per_week.head()"
   ]
  },
  {
   "cell_type": "code",
   "execution_count": 32,
   "metadata": {},
   "outputs": [
    {
     "data": {
      "text/html": [
       "<div>\n",
       "<style scoped>\n",
       "    .dataframe tbody tr th:only-of-type {\n",
       "        vertical-align: middle;\n",
       "    }\n",
       "\n",
       "    .dataframe tbody tr th {\n",
       "        vertical-align: top;\n",
       "    }\n",
       "\n",
       "    .dataframe thead th {\n",
       "        text-align: right;\n",
       "    }\n",
       "</style>\n",
       "<table border=\"1\" class=\"dataframe\">\n",
       "  <thead>\n",
       "    <tr style=\"text-align: right;\">\n",
       "      <th></th>\n",
       "      <th>L0_S0_F0</th>\n",
       "      <th>L0_S0_F2</th>\n",
       "      <th>L0_S0_F4</th>\n",
       "      <th>L0_S0_F6</th>\n",
       "      <th>L0_S0_F10</th>\n",
       "      <th>L0_S0_F12</th>\n",
       "      <th>L0_S0_F14</th>\n",
       "      <th>L0_S0_F16</th>\n",
       "      <th>L0_S0_F18</th>\n",
       "      <th>L0_S0_F20</th>\n",
       "      <th>...</th>\n",
       "      <th>L3_S33_F3857_zscore</th>\n",
       "      <th>L3_S33_F3859_zscore</th>\n",
       "      <th>L3_S33_F3865_zscore</th>\n",
       "      <th>L3_S34_F3882_zscore</th>\n",
       "      <th>L3_S35_F3889_zscore</th>\n",
       "      <th>L3_S35_F3896_zscore</th>\n",
       "      <th>L3_S36_F3920_zscore</th>\n",
       "      <th>L3_S36_F3924_zscore</th>\n",
       "      <th>L3_S38_F3952_zscore</th>\n",
       "      <th>L3_S48_F4196_zscore</th>\n",
       "    </tr>\n",
       "    <tr>\n",
       "      <th>Id</th>\n",
       "      <th></th>\n",
       "      <th></th>\n",
       "      <th></th>\n",
       "      <th></th>\n",
       "      <th></th>\n",
       "      <th></th>\n",
       "      <th></th>\n",
       "      <th></th>\n",
       "      <th></th>\n",
       "      <th></th>\n",
       "      <th></th>\n",
       "      <th></th>\n",
       "      <th></th>\n",
       "      <th></th>\n",
       "      <th></th>\n",
       "      <th></th>\n",
       "      <th></th>\n",
       "      <th></th>\n",
       "      <th></th>\n",
       "      <th></th>\n",
       "      <th></th>\n",
       "    </tr>\n",
       "  </thead>\n",
       "  <tbody>\n",
       "    <tr>\n",
       "      <th>4</th>\n",
       "      <td>0.030</td>\n",
       "      <td>-0.034</td>\n",
       "      <td>-0.197</td>\n",
       "      <td>-0.179</td>\n",
       "      <td>0.116</td>\n",
       "      <td>-0.015</td>\n",
       "      <td>-0.032</td>\n",
       "      <td>0.020</td>\n",
       "      <td>0.083</td>\n",
       "      <td>-0.273</td>\n",
       "      <td>...</td>\n",
       "      <td>-2.185547</td>\n",
       "      <td>-0.652344</td>\n",
       "      <td>0.367920</td>\n",
       "      <td>-0.030670</td>\n",
       "      <td>0.283691</td>\n",
       "      <td>0.291992</td>\n",
       "      <td>NaN</td>\n",
       "      <td>NaN</td>\n",
       "      <td>NaN</td>\n",
       "      <td>NaN</td>\n",
       "    </tr>\n",
       "    <tr>\n",
       "      <th>6</th>\n",
       "      <td>NaN</td>\n",
       "      <td>NaN</td>\n",
       "      <td>NaN</td>\n",
       "      <td>NaN</td>\n",
       "      <td>NaN</td>\n",
       "      <td>NaN</td>\n",
       "      <td>NaN</td>\n",
       "      <td>NaN</td>\n",
       "      <td>NaN</td>\n",
       "      <td>NaN</td>\n",
       "      <td>...</td>\n",
       "      <td>0.579590</td>\n",
       "      <td>-0.741699</td>\n",
       "      <td>-0.345947</td>\n",
       "      <td>-0.021423</td>\n",
       "      <td>-0.528809</td>\n",
       "      <td>-0.528320</td>\n",
       "      <td>NaN</td>\n",
       "      <td>NaN</td>\n",
       "      <td>NaN</td>\n",
       "      <td>NaN</td>\n",
       "    </tr>\n",
       "    <tr>\n",
       "      <th>7</th>\n",
       "      <td>0.088</td>\n",
       "      <td>0.086</td>\n",
       "      <td>0.003</td>\n",
       "      <td>-0.052</td>\n",
       "      <td>0.025</td>\n",
       "      <td>-0.015</td>\n",
       "      <td>-0.072</td>\n",
       "      <td>-0.225</td>\n",
       "      <td>-0.147</td>\n",
       "      <td>0.250</td>\n",
       "      <td>...</td>\n",
       "      <td>2.005859</td>\n",
       "      <td>1.958008</td>\n",
       "      <td>0.841309</td>\n",
       "      <td>-0.034668</td>\n",
       "      <td>-0.023499</td>\n",
       "      <td>-0.016174</td>\n",
       "      <td>NaN</td>\n",
       "      <td>NaN</td>\n",
       "      <td>NaN</td>\n",
       "      <td>NaN</td>\n",
       "    </tr>\n",
       "    <tr>\n",
       "      <th>9</th>\n",
       "      <td>-0.036</td>\n",
       "      <td>-0.064</td>\n",
       "      <td>0.294</td>\n",
       "      <td>0.330</td>\n",
       "      <td>0.161</td>\n",
       "      <td>0.022</td>\n",
       "      <td>0.128</td>\n",
       "      <td>-0.026</td>\n",
       "      <td>-0.046</td>\n",
       "      <td>-0.253</td>\n",
       "      <td>...</td>\n",
       "      <td>0.217651</td>\n",
       "      <td>1.295898</td>\n",
       "      <td>0.473145</td>\n",
       "      <td>-0.046051</td>\n",
       "      <td>NaN</td>\n",
       "      <td>NaN</td>\n",
       "      <td>-0.049255</td>\n",
       "      <td>-0.049255</td>\n",
       "      <td>NaN</td>\n",
       "      <td>NaN</td>\n",
       "    </tr>\n",
       "    <tr>\n",
       "      <th>11</th>\n",
       "      <td>-0.055</td>\n",
       "      <td>-0.086</td>\n",
       "      <td>0.294</td>\n",
       "      <td>0.330</td>\n",
       "      <td>0.025</td>\n",
       "      <td>0.030</td>\n",
       "      <td>0.168</td>\n",
       "      <td>-0.169</td>\n",
       "      <td>-0.099</td>\n",
       "      <td>0.042</td>\n",
       "      <td>...</td>\n",
       "      <td>-0.182495</td>\n",
       "      <td>0.943848</td>\n",
       "      <td>-0.286865</td>\n",
       "      <td>-0.039459</td>\n",
       "      <td>NaN</td>\n",
       "      <td>NaN</td>\n",
       "      <td>1.396484</td>\n",
       "      <td>1.396484</td>\n",
       "      <td>NaN</td>\n",
       "      <td>NaN</td>\n",
       "    </tr>\n",
       "  </tbody>\n",
       "</table>\n",
       "<p>5 rows × 903 columns</p>\n",
       "</div>"
      ],
      "text/plain": [
       "    L0_S0_F0  L0_S0_F2  L0_S0_F4  L0_S0_F6  L0_S0_F10  L0_S0_F12  L0_S0_F14  \\\n",
       "Id                                                                            \n",
       "4      0.030    -0.034    -0.197    -0.179      0.116     -0.015     -0.032   \n",
       "6        NaN       NaN       NaN       NaN        NaN        NaN        NaN   \n",
       "7      0.088     0.086     0.003    -0.052      0.025     -0.015     -0.072   \n",
       "9     -0.036    -0.064     0.294     0.330      0.161      0.022      0.128   \n",
       "11    -0.055    -0.086     0.294     0.330      0.025      0.030      0.168   \n",
       "\n",
       "    L0_S0_F16  L0_S0_F18  L0_S0_F20         ...           L3_S33_F3857_zscore  \\\n",
       "Id                                          ...                                 \n",
       "4       0.020      0.083     -0.273         ...                     -2.185547   \n",
       "6         NaN        NaN        NaN         ...                      0.579590   \n",
       "7      -0.225     -0.147      0.250         ...                      2.005859   \n",
       "9      -0.026     -0.046     -0.253         ...                      0.217651   \n",
       "11     -0.169     -0.099      0.042         ...                     -0.182495   \n",
       "\n",
       "    L3_S33_F3859_zscore  L3_S33_F3865_zscore  L3_S34_F3882_zscore  \\\n",
       "Id                                                                  \n",
       "4             -0.652344             0.367920            -0.030670   \n",
       "6             -0.741699            -0.345947            -0.021423   \n",
       "7              1.958008             0.841309            -0.034668   \n",
       "9              1.295898             0.473145            -0.046051   \n",
       "11             0.943848            -0.286865            -0.039459   \n",
       "\n",
       "    L3_S35_F3889_zscore  L3_S35_F3896_zscore  L3_S36_F3920_zscore  \\\n",
       "Id                                                                  \n",
       "4              0.283691             0.291992                  NaN   \n",
       "6             -0.528809            -0.528320                  NaN   \n",
       "7             -0.023499            -0.016174                  NaN   \n",
       "9                   NaN                  NaN            -0.049255   \n",
       "11                  NaN                  NaN             1.396484   \n",
       "\n",
       "    L3_S36_F3924_zscore  L3_S38_F3952_zscore  L3_S48_F4196_zscore  \n",
       "Id                                                                 \n",
       "4                   NaN                  NaN                  NaN  \n",
       "6                   NaN                  NaN                  NaN  \n",
       "7                   NaN                  NaN                  NaN  \n",
       "9             -0.049255                  NaN                  NaN  \n",
       "11             1.396484                  NaN                  NaN  \n",
       "\n",
       "[5 rows x 903 columns]"
      ]
     },
     "execution_count": 32,
     "metadata": {},
     "output_type": "execute_result"
    }
   ],
   "source": [
    "x_train.head()"
   ]
  },
  {
   "cell_type": "code",
   "execution_count": 26,
   "metadata": {},
   "outputs": [],
   "source": [
    "tmp = important_features.copy()\n",
    "tmp.remove('Response')\n",
    "tmp.remove('Id')"
   ]
  },
  {
   "cell_type": "code",
   "execution_count": 28,
   "metadata": {},
   "outputs": [
    {
     "data": {
      "text/plain": [
       "88"
      ]
     },
     "execution_count": 28,
     "metadata": {},
     "output_type": "execute_result"
    }
   ],
   "source": [
    "x_zscore_per_week_if = x_zscore_per_week[tmp]\n",
    "\n",
    "x_train = x_train.join(x_zscore_per_week_if.loc['train'], rsuffix='_zscore')\n",
    "x_test = x_test.join(x_zscore_per_week_if.loc['test'], rsuffix='_zscore')\n",
    "\n",
    "del x_zscore_per_week, x_zscore_per_week_if\n",
    "gc.collect()"
   ]
  },
  {
   "cell_type": "markdown",
   "metadata": {},
   "source": [
    "### CV score based on stratified KFold with repeated models"
   ]
  },
  {
   "cell_type": "code",
   "execution_count": 30,
   "metadata": {},
   "outputs": [
    {
     "name": "stdout",
     "output_type": "stream",
     "text": [
      "[0]\ttrain-error:0.005811\ttest-error:0.005812\ttrain-MCC:0.280293\ttest-MCC:0.257913\n",
      "[1]\ttrain-error:0.005811\ttest-error:0.005812\ttrain-MCC:0.329268\ttest-MCC:0.31285\n",
      "[2]\ttrain-error:0.005811\ttest-error:0.005812\ttrain-MCC:0.35113\ttest-MCC:0.341077\n",
      "[3]\ttrain-error:0.005811\ttest-error:0.005812\ttrain-MCC:0.363343\ttest-MCC:0.357184\n",
      "[4]\ttrain-error:0.005811\ttest-error:0.005812\ttrain-MCC:0.384067\ttest-MCC:0.362402\n",
      "[5]\ttrain-error:0.005811\ttest-error:0.005812\ttrain-MCC:0.391983\ttest-MCC:0.362593\n",
      "[6]\ttrain-error:0.005811\ttest-error:0.005812\ttrain-MCC:0.402009\ttest-MCC:0.368709\n",
      "[7]\ttrain-error:0.005811\ttest-error:0.005812\ttrain-MCC:0.41533\ttest-MCC:0.375617\n",
      "[8]\ttrain-error:0.005811\ttest-error:0.005812\ttrain-MCC:0.42549\ttest-MCC:0.37867\n",
      "[9]\ttrain-error:0.005811\ttest-error:0.005812\ttrain-MCC:0.435589\ttest-MCC:0.383508\n",
      "[10]\ttrain-error:0.005811\ttest-error:0.005812\ttrain-MCC:0.442813\ttest-MCC:0.39121\n",
      "[11]\ttrain-error:0.005811\ttest-error:0.005812\ttrain-MCC:0.451443\ttest-MCC:0.399592\n",
      "[12]\ttrain-error:0.005811\ttest-error:0.005812\ttrain-MCC:0.459278\ttest-MCC:0.407314\n",
      "[13]\ttrain-error:0.005811\ttest-error:0.005812\ttrain-MCC:0.461318\ttest-MCC:0.410383\n",
      "[14]\ttrain-error:0.005811\ttest-error:0.005808\ttrain-MCC:0.465609\ttest-MCC:0.412569\n",
      "[15]\ttrain-error:0.005811\ttest-error:0.005808\ttrain-MCC:0.470299\ttest-MCC:0.409581\n",
      "[16]\ttrain-error:0.005809\ttest-error:0.005808\ttrain-MCC:0.475218\ttest-MCC:0.411648\n",
      "[17]\ttrain-error:0.005807\ttest-error:0.005808\ttrain-MCC:0.47799\ttest-MCC:0.417287\n",
      "[18]\ttrain-error:0.005791\ttest-error:0.005804\ttrain-MCC:0.479423\ttest-MCC:0.415899\n",
      "[19]\ttrain-error:0.005772\ttest-error:0.005787\ttrain-MCC:0.480856\ttest-MCC:0.416127\n",
      "[20]\ttrain-error:0.005735\ttest-error:0.005757\ttrain-MCC:0.48234\ttest-MCC:0.421474\n",
      "[21]\ttrain-error:0.005653\ttest-error:0.005673\ttrain-MCC:0.485835\ttest-MCC:0.422402\n",
      "[22]\ttrain-error:0.005597\ttest-error:0.005576\ttrain-MCC:0.487101\ttest-MCC:0.422761\n",
      "[23]\ttrain-error:0.005506\ttest-error:0.005504\ttrain-MCC:0.488436\ttest-MCC:0.424749\n",
      "[24]\ttrain-error:0.005436\ttest-error:0.005449\ttrain-MCC:0.490879\ttest-MCC:0.424468\n",
      "[25]\ttrain-error:0.005361\ttest-error:0.005402\ttrain-MCC:0.492047\ttest-MCC:0.42605\n",
      "[26]\ttrain-error:0.005296\ttest-error:0.005356\ttrain-MCC:0.494568\ttest-MCC:0.426725\n",
      "[27]\ttrain-error:0.00524\ttest-error:0.005309\ttrain-MCC:0.495967\ttest-MCC:0.427387\n",
      "[28]\ttrain-error:0.005195\ttest-error:0.005254\ttrain-MCC:0.497099\ttest-MCC:0.429315\n",
      "[29]\ttrain-error:0.005171\ttest-error:0.005233\ttrain-MCC:0.498538\ttest-MCC:0.430365\n",
      "[30]\ttrain-error:0.005134\ttest-error:0.005204\ttrain-MCC:0.501386\ttest-MCC:0.429935\n",
      "[31]\ttrain-error:0.005105\ttest-error:0.005178\ttrain-MCC:0.503368\ttest-MCC:0.429597\n",
      "[32]\ttrain-error:0.005074\ttest-error:0.00517\ttrain-MCC:0.50551\ttest-MCC:0.429424\n",
      "[33]\ttrain-error:0.005042\ttest-error:0.005149\ttrain-MCC:0.506304\ttest-MCC:0.43228\n",
      "[34]\ttrain-error:0.005019\ttest-error:0.005119\ttrain-MCC:0.506847\ttest-MCC:0.431533\n",
      "[35]\ttrain-error:0.004984\ttest-error:0.005115\ttrain-MCC:0.50835\ttest-MCC:0.432798\n",
      "[36]\ttrain-error:0.004964\ttest-error:0.005102\ttrain-MCC:0.509376\ttest-MCC:0.433841\n",
      "[37]\ttrain-error:0.004942\ttest-error:0.005086\ttrain-MCC:0.510728\ttest-MCC:0.432843\n",
      "[38]\ttrain-error:0.004926\ttest-error:0.005064\ttrain-MCC:0.512296\ttest-MCC:0.435949\n",
      "[39]\ttrain-error:0.004902\ttest-error:0.005048\ttrain-MCC:0.512905\ttest-MCC:0.435949\n",
      "[40]\ttrain-error:0.004885\ttest-error:0.005035\ttrain-MCC:0.513248\ttest-MCC:0.435687\n",
      "[41]\ttrain-error:0.004875\ttest-error:0.005022\ttrain-MCC:0.51385\ttest-MCC:0.435419\n",
      "[42]\ttrain-error:0.004866\ttest-error:0.005001\ttrain-MCC:0.516146\ttest-MCC:0.435949\n",
      "[43]\ttrain-error:0.004852\ttest-error:0.005001\ttrain-MCC:0.516686\ttest-MCC:0.435957\n",
      "[44]\ttrain-error:0.004838\ttest-error:0.004993\ttrain-MCC:0.519912\ttest-MCC:0.435162\n",
      "[45]\ttrain-error:0.004824\ttest-error:0.004988\ttrain-MCC:0.521462\ttest-MCC:0.435152\n",
      "[46]\ttrain-error:0.004804\ttest-error:0.004988\ttrain-MCC:0.522624\ttest-MCC:0.435159\n",
      "[47]\ttrain-error:0.00479\ttest-error:0.004984\ttrain-MCC:0.523949\ttest-MCC:0.434556\n",
      "[48]\ttrain-error:0.004778\ttest-error:0.004976\ttrain-MCC:0.525335\ttest-MCC:0.435225\n",
      "[49]\ttrain-error:0.004765\ttest-error:0.004959\ttrain-MCC:0.52618\ttest-MCC:0.435739\n",
      "[50]\ttrain-error:0.004746\ttest-error:0.004955\ttrain-MCC:0.527916\ttest-MCC:0.437045\n",
      "[51]\ttrain-error:0.004724\ttest-error:0.004946\ttrain-MCC:0.528489\ttest-MCC:0.43653\n",
      "[52]\ttrain-error:0.004711\ttest-error:0.004933\ttrain-MCC:0.530177\ttest-MCC:0.438491\n",
      "[53]\ttrain-error:0.004694\ttest-error:0.004925\ttrain-MCC:0.531181\ttest-MCC:0.438565\n",
      "[54]\ttrain-error:0.004678\ttest-error:0.004921\ttrain-MCC:0.532021\ttest-MCC:0.439633\n",
      "[55]\ttrain-error:0.004661\ttest-error:0.004921\ttrain-MCC:0.534877\ttest-MCC:0.440708\n",
      "[56]\ttrain-error:0.004645\ttest-error:0.004891\ttrain-MCC:0.535144\ttest-MCC:0.440305\n",
      "[57]\ttrain-error:0.004637\ttest-error:0.004887\ttrain-MCC:0.53805\ttest-MCC:0.440598\n",
      "[58]\ttrain-error:0.004623\ttest-error:0.004887\ttrain-MCC:0.539925\ttest-MCC:0.440412\n",
      "[59]\ttrain-error:0.004618\ttest-error:0.004874\ttrain-MCC:0.54153\ttest-MCC:0.440622\n",
      "[60]\ttrain-error:0.004612\ttest-error:0.004857\ttrain-MCC:0.544301\ttest-MCC:0.445421\n",
      "[61]\ttrain-error:0.004602\ttest-error:0.004845\ttrain-MCC:0.546284\ttest-MCC:0.445421\n",
      "[62]\ttrain-error:0.004593\ttest-error:0.004849\ttrain-MCC:0.549082\ttest-MCC:0.445155\n",
      "[63]\ttrain-error:0.004587\ttest-error:0.004832\ttrain-MCC:0.551257\ttest-MCC:0.445667\n",
      "[64]\ttrain-error:0.004574\ttest-error:0.004828\ttrain-MCC:0.552195\ttest-MCC:0.445155\n",
      "[65]\ttrain-error:0.004568\ttest-error:0.004828\ttrain-MCC:0.55413\ttest-MCC:0.445931\n",
      "[66]\ttrain-error:0.004561\ttest-error:0.004815\ttrain-MCC:0.55626\ttest-MCC:0.446957\n",
      "[67]\ttrain-error:0.004552\ttest-error:0.004824\ttrain-MCC:0.557808\ttest-MCC:0.445403\n",
      "[68]\ttrain-error:0.004542\ttest-error:0.004824\ttrain-MCC:0.563245\ttest-MCC:0.445958\n",
      "[69]\ttrain-error:0.004536\ttest-error:0.004819\ttrain-MCC:0.566598\ttest-MCC:0.443237\n",
      "[70]\ttrain-error:0.004535\ttest-error:0.004824\ttrain-MCC:0.569858\ttest-MCC:0.443055\n",
      "[71]\ttrain-error:0.004528\ttest-error:0.004815\ttrain-MCC:0.571234\ttest-MCC:0.442744\n",
      "[72]\ttrain-error:0.004522\ttest-error:0.004815\ttrain-MCC:0.574186\ttest-MCC:0.442826\n",
      "[73]\ttrain-error:0.004516\ttest-error:0.004811\ttrain-MCC:0.57605\ttest-MCC:0.443519\n",
      "[74]\ttrain-error:0.004507\ttest-error:0.004798\ttrain-MCC:0.579198\ttest-MCC:0.443064\n",
      "[75]\ttrain-error:0.004506\ttest-error:0.004798\ttrain-MCC:0.580736\ttest-MCC:0.443237\n",
      "[76]\ttrain-error:0.004499\ttest-error:0.004803\ttrain-MCC:0.583431\ttest-MCC:0.44475\n",
      "[77]\ttrain-error:0.004491\ttest-error:0.004803\ttrain-MCC:0.58589\ttest-MCC:0.444951\n",
      "[78]\ttrain-error:0.004479\ttest-error:0.004794\ttrain-MCC:0.588508\ttest-MCC:0.444175\n",
      "[79]\ttrain-error:0.004474\ttest-error:0.004803\ttrain-MCC:0.590522\ttest-MCC:0.445002\n",
      "Repeat 0, split 0, test MCC = 0.445, running time = 9.881 min\n",
      "[0]\ttrain-error:0.005811\ttest-error:0.005812\ttrain-MCC:0.303233\ttest-MCC:0.293888\n",
      "[1]\ttrain-error:0.005811\ttest-error:0.005812\ttrain-MCC:0.370052\ttest-MCC:0.363392\n",
      "[2]\ttrain-error:0.005811\ttest-error:0.005812\ttrain-MCC:0.379003\ttest-MCC:0.36882\n",
      "[3]\ttrain-error:0.005811\ttest-error:0.005812\ttrain-MCC:0.379208\ttest-MCC:0.369446\n",
      "[4]\ttrain-error:0.005811\ttest-error:0.005812\ttrain-MCC:0.389028\ttest-MCC:0.37927\n",
      "[5]\ttrain-error:0.005811\ttest-error:0.005812\ttrain-MCC:0.393831\ttest-MCC:0.380559\n",
      "[6]\ttrain-error:0.005811\ttest-error:0.005812\ttrain-MCC:0.409339\ttest-MCC:0.384532\n",
      "[7]\ttrain-error:0.005811\ttest-error:0.005812\ttrain-MCC:0.427059\ttest-MCC:0.396411\n",
      "[8]\ttrain-error:0.005811\ttest-error:0.005812\ttrain-MCC:0.436508\ttest-MCC:0.402423\n",
      "[9]\ttrain-error:0.005811\ttest-error:0.005812\ttrain-MCC:0.442048\ttest-MCC:0.404532\n",
      "[10]\ttrain-error:0.005811\ttest-error:0.005812\ttrain-MCC:0.445897\ttest-MCC:0.403979\n",
      "[11]\ttrain-error:0.005811\ttest-error:0.005812\ttrain-MCC:0.454084\ttest-MCC:0.412054\n",
      "[12]\ttrain-error:0.005811\ttest-error:0.005812\ttrain-MCC:0.456722\ttest-MCC:0.415942\n",
      "[13]\ttrain-error:0.005811\ttest-error:0.005812\ttrain-MCC:0.461436\ttest-MCC:0.416684\n",
      "[14]\ttrain-error:0.005811\ttest-error:0.005812\ttrain-MCC:0.466525\ttest-MCC:0.418087\n",
      "[15]\ttrain-error:0.005811\ttest-error:0.005812\ttrain-MCC:0.467932\ttest-MCC:0.421795\n",
      "[16]\ttrain-error:0.005804\ttest-error:0.005799\ttrain-MCC:0.471347\ttest-MCC:0.421678\n",
      "[17]\ttrain-error:0.005798\ttest-error:0.005795\ttrain-MCC:0.474888\ttest-MCC:0.422903\n",
      "[18]\ttrain-error:0.005797\ttest-error:0.005791\ttrain-MCC:0.478138\ttest-MCC:0.424425\n"
     ]
    },
    {
     "name": "stdout",
     "output_type": "stream",
     "text": [
      "[19]\ttrain-error:0.005773\ttest-error:0.00577\ttrain-MCC:0.478851\ttest-MCC:0.424677\n",
      "[20]\ttrain-error:0.005763\ttest-error:0.005757\ttrain-MCC:0.481965\ttest-MCC:0.426839\n",
      "[21]\ttrain-error:0.005701\ttest-error:0.005719\ttrain-MCC:0.485196\ttest-MCC:0.425701\n",
      "[22]\ttrain-error:0.005609\ttest-error:0.005677\ttrain-MCC:0.487108\ttest-MCC:0.426001\n",
      "[23]\ttrain-error:0.005564\ttest-error:0.005618\ttrain-MCC:0.490929\ttest-MCC:0.429012\n",
      "[24]\ttrain-error:0.005527\ttest-error:0.005592\ttrain-MCC:0.492113\ttest-MCC:0.433269\n",
      "[25]\ttrain-error:0.005471\ttest-error:0.005508\ttrain-MCC:0.493404\ttest-MCC:0.433456\n",
      "[26]\ttrain-error:0.005399\ttest-error:0.005432\ttrain-MCC:0.496035\ttest-MCC:0.432891\n",
      "[27]\ttrain-error:0.005306\ttest-error:0.00536\ttrain-MCC:0.497576\ttest-MCC:0.434713\n",
      "[28]\ttrain-error:0.005247\ttest-error:0.005318\ttrain-MCC:0.500192\ttest-MCC:0.434733\n",
      "[29]\ttrain-error:0.005187\ttest-error:0.005267\ttrain-MCC:0.501783\ttest-MCC:0.435923\n",
      "[30]\ttrain-error:0.005142\ttest-error:0.005229\ttrain-MCC:0.504623\ttest-MCC:0.437139\n",
      "[31]\ttrain-error:0.005092\ttest-error:0.0052\ttrain-MCC:0.505763\ttest-MCC:0.435519\n",
      "[32]\ttrain-error:0.005067\ttest-error:0.005149\ttrain-MCC:0.507118\ttest-MCC:0.439044\n",
      "[33]\ttrain-error:0.005035\ttest-error:0.005124\ttrain-MCC:0.509793\ttest-MCC:0.438496\n",
      "[34]\ttrain-error:0.005012\ttest-error:0.005107\ttrain-MCC:0.510036\ttest-MCC:0.440708\n",
      "[35]\ttrain-error:0.00498\ttest-error:0.005081\ttrain-MCC:0.511513\ttest-MCC:0.442919\n",
      "[36]\ttrain-error:0.004961\ttest-error:0.005069\ttrain-MCC:0.5126\ttest-MCC:0.441901\n",
      "[37]\ttrain-error:0.004947\ttest-error:0.005073\ttrain-MCC:0.513721\ttest-MCC:0.442549\n",
      "[38]\ttrain-error:0.004929\ttest-error:0.005073\ttrain-MCC:0.514441\ttest-MCC:0.442179\n",
      "[39]\ttrain-error:0.00491\ttest-error:0.005056\ttrain-MCC:0.515811\ttest-MCC:0.441602\n",
      "[40]\ttrain-error:0.004891\ttest-error:0.005052\ttrain-MCC:0.516565\ttest-MCC:0.440057\n",
      "[41]\ttrain-error:0.00487\ttest-error:0.005052\ttrain-MCC:0.517769\ttest-MCC:0.439235\n",
      "[42]\ttrain-error:0.004862\ttest-error:0.005039\ttrain-MCC:0.519031\ttest-MCC:0.439838\n",
      "[43]\ttrain-error:0.00484\ttest-error:0.005035\ttrain-MCC:0.520876\ttest-MCC:0.441224\n",
      "[44]\ttrain-error:0.004824\ttest-error:0.005031\ttrain-MCC:0.523185\ttest-MCC:0.441666\n",
      "[45]\ttrain-error:0.004806\ttest-error:0.005022\ttrain-MCC:0.524375\ttest-MCC:0.442876\n",
      "[46]\ttrain-error:0.004779\ttest-error:0.004997\ttrain-MCC:0.525623\ttest-MCC:0.442876\n",
      "[47]\ttrain-error:0.004765\ttest-error:0.004993\ttrain-MCC:0.527771\ttest-MCC:0.443966\n",
      "[48]\ttrain-error:0.004746\ttest-error:0.004993\ttrain-MCC:0.531311\ttest-MCC:0.44273\n",
      "[49]\ttrain-error:0.004731\ttest-error:0.004971\ttrain-MCC:0.533967\ttest-MCC:0.442826\n",
      "[50]\ttrain-error:0.004721\ttest-error:0.004963\ttrain-MCC:0.535766\ttest-MCC:0.443599\n",
      "[51]\ttrain-error:0.004713\ttest-error:0.00495\ttrain-MCC:0.538005\ttest-MCC:0.443802\n",
      "[52]\ttrain-error:0.004695\ttest-error:0.004938\ttrain-MCC:0.540937\ttest-MCC:0.444371\n",
      "[53]\ttrain-error:0.004682\ttest-error:0.004921\ttrain-MCC:0.544758\ttest-MCC:0.445347\n",
      "[54]\ttrain-error:0.004675\ttest-error:0.004933\ttrain-MCC:0.549333\ttest-MCC:0.447271\n",
      "[55]\ttrain-error:0.004662\ttest-error:0.004917\ttrain-MCC:0.55143\ttest-MCC:0.445725\n",
      "[56]\ttrain-error:0.004657\ttest-error:0.004912\ttrain-MCC:0.554769\ttest-MCC:0.443673\n",
      "[57]\ttrain-error:0.004646\ttest-error:0.004908\ttrain-MCC:0.555987\ttest-MCC:0.443452\n",
      "[58]\ttrain-error:0.004639\ttest-error:0.0049\ttrain-MCC:0.559046\ttest-MCC:0.443578\n",
      "[59]\ttrain-error:0.00463\ttest-error:0.004904\ttrain-MCC:0.560053\ttest-MCC:0.443398\n",
      "[60]\ttrain-error:0.004618\ttest-error:0.004887\ttrain-MCC:0.563965\ttest-MCC:0.444506\n",
      "[61]\ttrain-error:0.004602\ttest-error:0.004883\ttrain-MCC:0.568902\ttest-MCC:0.44387\n",
      "[62]\ttrain-error:0.00459\ttest-error:0.004879\ttrain-MCC:0.57405\ttest-MCC:0.444135\n",
      "[63]\ttrain-error:0.004573\ttest-error:0.004866\ttrain-MCC:0.577954\ttest-MCC:0.444023\n",
      "[64]\ttrain-error:0.004564\ttest-error:0.004857\ttrain-MCC:0.580778\ttest-MCC:0.445565\n",
      "[65]\ttrain-error:0.004558\ttest-error:0.004849\ttrain-MCC:0.583331\ttest-MCC:0.445565\n",
      "[66]\ttrain-error:0.004546\ttest-error:0.004828\ttrain-MCC:0.584335\ttest-MCC:0.445914\n",
      "[67]\ttrain-error:0.004534\ttest-error:0.004811\ttrain-MCC:0.587366\ttest-MCC:0.44493\n",
      "[68]\ttrain-error:0.004528\ttest-error:0.004794\ttrain-MCC:0.58907\ttest-MCC:0.445237\n",
      "[69]\ttrain-error:0.004526\ttest-error:0.004781\ttrain-MCC:0.589946\ttest-MCC:0.445622\n",
      "[70]\ttrain-error:0.004524\ttest-error:0.004786\ttrain-MCC:0.593368\ttest-MCC:0.445442\n",
      "[71]\ttrain-error:0.004521\ttest-error:0.004786\ttrain-MCC:0.595719\ttest-MCC:0.445622\n",
      "[72]\ttrain-error:0.004512\ttest-error:0.004777\ttrain-MCC:0.59946\ttest-MCC:0.445914\n",
      "[73]\ttrain-error:0.004508\ttest-error:0.004777\ttrain-MCC:0.601704\ttest-MCC:0.44648\n",
      "[74]\ttrain-error:0.004502\ttest-error:0.004769\ttrain-MCC:0.603979\ttest-MCC:0.445622\n",
      "[75]\ttrain-error:0.004502\ttest-error:0.004756\ttrain-MCC:0.605378\ttest-MCC:0.446822\n",
      "[76]\ttrain-error:0.004492\ttest-error:0.00476\ttrain-MCC:0.608876\ttest-MCC:0.445427\n",
      "[77]\ttrain-error:0.004491\ttest-error:0.004756\ttrain-MCC:0.6112\ttest-MCC:0.446766\n",
      "[78]\ttrain-error:0.00448\ttest-error:0.004752\ttrain-MCC:0.612821\ttest-MCC:0.446499\n",
      "[79]\ttrain-error:0.004472\ttest-error:0.004748\ttrain-MCC:0.615021\ttest-MCC:0.445958\n",
      "Repeat 0, split 1, test MCC = 0.446, running time = 9.614 min\n",
      "[0]\ttrain-error:0.005811\ttest-error:0.005812\ttrain-MCC:0.303398\ttest-MCC:0.309044\n",
      "[1]\ttrain-error:0.005811\ttest-error:0.005812\ttrain-MCC:0.34406\ttest-MCC:0.349709\n",
      "[2]\ttrain-error:0.005811\ttest-error:0.005812\ttrain-MCC:0.359318\ttest-MCC:0.362572\n",
      "[3]\ttrain-error:0.005811\ttest-error:0.005812\ttrain-MCC:0.374722\ttest-MCC:0.371554\n",
      "[4]\ttrain-error:0.005811\ttest-error:0.005812\ttrain-MCC:0.380815\ttest-MCC:0.382252\n",
      "[5]\ttrain-error:0.005811\ttest-error:0.005812\ttrain-MCC:0.394104\ttest-MCC:0.389064\n",
      "[6]\ttrain-error:0.005811\ttest-error:0.005812\ttrain-MCC:0.396717\ttest-MCC:0.393794\n",
      "[7]\ttrain-error:0.005811\ttest-error:0.005812\ttrain-MCC:0.40834\ttest-MCC:0.401094\n",
      "[8]\ttrain-error:0.005811\ttest-error:0.005812\ttrain-MCC:0.4164\ttest-MCC:0.405543\n",
      "[9]\ttrain-error:0.005811\ttest-error:0.005812\ttrain-MCC:0.420791\ttest-MCC:0.409247\n",
      "[10]\ttrain-error:0.005811\ttest-error:0.005812\ttrain-MCC:0.428725\ttest-MCC:0.418395\n",
      "[11]\ttrain-error:0.005811\ttest-error:0.005812\ttrain-MCC:0.437999\ttest-MCC:0.423423\n",
      "[12]\ttrain-error:0.005811\ttest-error:0.005812\ttrain-MCC:0.444794\ttest-MCC:0.426957\n",
      "[13]\ttrain-error:0.005811\ttest-error:0.005804\ttrain-MCC:0.450479\ttest-MCC:0.430829\n",
      "[14]\ttrain-error:0.005808\ttest-error:0.005799\ttrain-MCC:0.453109\ttest-MCC:0.432\n",
      "[15]\ttrain-error:0.005803\ttest-error:0.005791\ttrain-MCC:0.456152\ttest-MCC:0.43286\n",
      "[16]\ttrain-error:0.005795\ttest-error:0.005782\ttrain-MCC:0.460638\ttest-MCC:0.436109\n",
      "[17]\ttrain-error:0.005782\ttest-error:0.005774\ttrain-MCC:0.462869\ttest-MCC:0.437926\n",
      "[18]\ttrain-error:0.005766\ttest-error:0.005753\ttrain-MCC:0.466469\ttest-MCC:0.438287\n",
      "[19]\ttrain-error:0.005705\ttest-error:0.005711\ttrain-MCC:0.468484\ttest-MCC:0.438924\n",
      "[20]\ttrain-error:0.005627\ttest-error:0.005626\ttrain-MCC:0.473497\ttest-MCC:0.440305\n",
      "[21]\ttrain-error:0.005561\ttest-error:0.005597\ttrain-MCC:0.477601\ttest-MCC:0.440701\n",
      "[22]\ttrain-error:0.005492\ttest-error:0.00555\ttrain-MCC:0.4796\ttest-MCC:0.443569\n",
      "[23]\ttrain-error:0.00545\ttest-error:0.005516\ttrain-MCC:0.48377\ttest-MCC:0.44753\n",
      "[24]\ttrain-error:0.005416\ttest-error:0.005478\ttrain-MCC:0.484103\ttest-MCC:0.447627\n",
      "[25]\ttrain-error:0.005383\ttest-error:0.005432\ttrain-MCC:0.485951\ttest-MCC:0.447247\n",
      "[26]\ttrain-error:0.005308\ttest-error:0.005407\ttrain-MCC:0.488014\ttest-MCC:0.448296\n",
      "[27]\ttrain-error:0.005251\ttest-error:0.005356\ttrain-MCC:0.488726\ttest-MCC:0.448296\n",
      "[28]\ttrain-error:0.005213\ttest-error:0.005318\ttrain-MCC:0.489525\ttest-MCC:0.448905\n",
      "[29]\ttrain-error:0.005183\ttest-error:0.005271\ttrain-MCC:0.492002\ttest-MCC:0.448635\n",
      "[30]\ttrain-error:0.005142\ttest-error:0.005242\ttrain-MCC:0.49258\ttest-MCC:0.451154\n",
      "[31]\ttrain-error:0.005107\ttest-error:0.005216\ttrain-MCC:0.492729\ttest-MCC:0.448583\n",
      "[32]\ttrain-error:0.005082\ttest-error:0.005187\ttrain-MCC:0.494188\ttest-MCC:0.448495\n",
      "[33]\ttrain-error:0.005055\ttest-error:0.005162\ttrain-MCC:0.496038\ttest-MCC:0.449266\n",
      "[34]\ttrain-error:0.005038\ttest-error:0.005128\ttrain-MCC:0.497231\ttest-MCC:0.449208\n",
      "[35]\ttrain-error:0.005007\ttest-error:0.005094\ttrain-MCC:0.499414\ttest-MCC:0.448495\n",
      "[36]\ttrain-error:0.004983\ttest-error:0.005081\ttrain-MCC:0.501185\ttest-MCC:0.449081\n",
      "[37]\ttrain-error:0.004959\ttest-error:0.005073\ttrain-MCC:0.502341\ttest-MCC:0.449628\n"
     ]
    },
    {
     "name": "stdout",
     "output_type": "stream",
     "text": [
      "[38]\ttrain-error:0.004943\ttest-error:0.005048\ttrain-MCC:0.503816\ttest-MCC:0.450023\n",
      "[39]\ttrain-error:0.004923\ttest-error:0.005048\ttrain-MCC:0.505885\ttest-MCC:0.449957\n",
      "[40]\ttrain-error:0.004909\ttest-error:0.005039\ttrain-MCC:0.507034\ttest-MCC:0.454176\n",
      "[41]\ttrain-error:0.004886\ttest-error:0.005043\ttrain-MCC:0.510592\ttest-MCC:0.451595\n",
      "[42]\ttrain-error:0.004861\ttest-error:0.005026\ttrain-MCC:0.510992\ttest-MCC:0.453327\n",
      "[43]\ttrain-error:0.004848\ttest-error:0.005018\ttrain-MCC:0.513681\ttest-MCC:0.453342\n",
      "[44]\ttrain-error:0.004825\ttest-error:0.004997\ttrain-MCC:0.514839\ttest-MCC:0.453327\n",
      "[45]\ttrain-error:0.004808\ttest-error:0.004984\ttrain-MCC:0.51526\ttest-MCC:0.453342\n",
      "[46]\ttrain-error:0.004793\ttest-error:0.004976\ttrain-MCC:0.515963\ttest-MCC:0.453619\n",
      "[47]\ttrain-error:0.004766\ttest-error:0.004959\ttrain-MCC:0.518489\ttest-MCC:0.453996\n",
      "[48]\ttrain-error:0.004749\ttest-error:0.004933\ttrain-MCC:0.518539\ttest-MCC:0.453557\n",
      "[49]\ttrain-error:0.004739\ttest-error:0.004912\ttrain-MCC:0.520087\ttest-MCC:0.454572\n",
      "[50]\ttrain-error:0.004732\ttest-error:0.004904\ttrain-MCC:0.520573\ttest-MCC:0.453529\n",
      "[51]\ttrain-error:0.004717\ttest-error:0.0049\ttrain-MCC:0.522326\ttest-MCC:0.453897\n",
      "[52]\ttrain-error:0.004704\ttest-error:0.00487\ttrain-MCC:0.524123\ttest-MCC:0.454697\n",
      "[53]\ttrain-error:0.004695\ttest-error:0.004857\ttrain-MCC:0.525457\ttest-MCC:0.454469\n",
      "[54]\ttrain-error:0.004683\ttest-error:0.004845\ttrain-MCC:0.527364\ttest-MCC:0.454033\n",
      "[55]\ttrain-error:0.004662\ttest-error:0.004841\ttrain-MCC:0.530145\ttest-MCC:0.456301\n",
      "[56]\ttrain-error:0.004639\ttest-error:0.004836\ttrain-MCC:0.530766\ttest-MCC:0.456032\n",
      "[57]\ttrain-error:0.004626\ttest-error:0.004819\ttrain-MCC:0.532899\ttest-MCC:0.456436\n",
      "[58]\ttrain-error:0.004624\ttest-error:0.004803\ttrain-MCC:0.535285\ttest-MCC:0.456637\n",
      "[59]\ttrain-error:0.004619\ttest-error:0.004794\ttrain-MCC:0.536421\ttest-MCC:0.456521\n",
      "[60]\ttrain-error:0.00461\ttest-error:0.004773\ttrain-MCC:0.537252\ttest-MCC:0.456801\n",
      "[61]\ttrain-error:0.004598\ttest-error:0.004765\ttrain-MCC:0.538136\ttest-MCC:0.456333\n",
      "[62]\ttrain-error:0.004589\ttest-error:0.004773\ttrain-MCC:0.538873\ttest-MCC:0.456051\n",
      "[63]\ttrain-error:0.004579\ttest-error:0.004773\ttrain-MCC:0.542446\ttest-MCC:0.4553\n",
      "[64]\ttrain-error:0.004573\ttest-error:0.004756\ttrain-MCC:0.546232\ttest-MCC:0.45622\n",
      "[65]\ttrain-error:0.004568\ttest-error:0.004752\ttrain-MCC:0.547989\ttest-MCC:0.456214\n",
      "[66]\ttrain-error:0.004569\ttest-error:0.004752\ttrain-MCC:0.550235\ttest-MCC:0.456787\n",
      "[67]\ttrain-error:0.004564\ttest-error:0.004739\ttrain-MCC:0.55127\ttest-MCC:0.455928\n",
      "[68]\ttrain-error:0.00456\ttest-error:0.004743\ttrain-MCC:0.552646\ttest-MCC:0.457128\n",
      "[69]\ttrain-error:0.004559\ttest-error:0.004735\ttrain-MCC:0.554498\ttest-MCC:0.45845\n",
      "[70]\ttrain-error:0.004551\ttest-error:0.004735\ttrain-MCC:0.555819\ttest-MCC:0.458161\n",
      "[71]\ttrain-error:0.004546\ttest-error:0.004727\ttrain-MCC:0.557402\ttest-MCC:0.458615\n",
      "[72]\ttrain-error:0.00454\ttest-error:0.004735\ttrain-MCC:0.560508\ttest-MCC:0.457999\n",
      "[73]\ttrain-error:0.004538\ttest-error:0.004727\ttrain-MCC:0.561884\ttest-MCC:0.458903\n",
      "[74]\ttrain-error:0.004529\ttest-error:0.004722\ttrain-MCC:0.563793\ttest-MCC:0.459192\n",
      "[75]\ttrain-error:0.004525\ttest-error:0.004718\ttrain-MCC:0.56716\ttest-MCC:0.458766\n",
      "[76]\ttrain-error:0.004523\ttest-error:0.004718\ttrain-MCC:0.568637\ttest-MCC:0.458784\n",
      "[77]\ttrain-error:0.004516\ttest-error:0.004714\ttrain-MCC:0.570033\ttest-MCC:0.45907\n",
      "[78]\ttrain-error:0.004514\ttest-error:0.004714\ttrain-MCC:0.57167\ttest-MCC:0.460269\n",
      "[79]\ttrain-error:0.004509\ttest-error:0.004714\ttrain-MCC:0.573261\ttest-MCC:0.459481\n",
      "Repeat 0, split 2, test MCC = 0.459, running time = 9.547 min\n",
      "[0]\ttrain-error:0.005811\ttest-error:0.005812\ttrain-MCC:0.310801\ttest-MCC:0.291954\n",
      "[1]\ttrain-error:0.005811\ttest-error:0.005812\ttrain-MCC:0.340955\ttest-MCC:0.332718\n",
      "[2]\ttrain-error:0.005811\ttest-error:0.005812\ttrain-MCC:0.348266\ttest-MCC:0.333201\n",
      "[3]\ttrain-error:0.005811\ttest-error:0.005812\ttrain-MCC:0.365764\ttest-MCC:0.355088\n",
      "[4]\ttrain-error:0.005811\ttest-error:0.005812\ttrain-MCC:0.38143\ttest-MCC:0.370203\n",
      "[5]\ttrain-error:0.005811\ttest-error:0.005812\ttrain-MCC:0.389602\ttest-MCC:0.380354\n",
      "[6]\ttrain-error:0.005811\ttest-error:0.005812\ttrain-MCC:0.409171\ttest-MCC:0.402108\n",
      "[7]\ttrain-error:0.005811\ttest-error:0.005812\ttrain-MCC:0.422692\ttest-MCC:0.415605\n",
      "[8]\ttrain-error:0.005811\ttest-error:0.005812\ttrain-MCC:0.429973\ttest-MCC:0.421157\n",
      "[9]\ttrain-error:0.005811\ttest-error:0.005812\ttrain-MCC:0.432181\ttest-MCC:0.420069\n",
      "[10]\ttrain-error:0.005811\ttest-error:0.005812\ttrain-MCC:0.439691\ttest-MCC:0.425854\n",
      "[11]\ttrain-error:0.005811\ttest-error:0.005812\ttrain-MCC:0.446019\ttest-MCC:0.428473\n"
     ]
    },
    {
     "ename": "KeyboardInterrupt",
     "evalue": "",
     "output_type": "error",
     "traceback": [
      "\u001b[0;31m---------------------------------------------------------------------------\u001b[0m",
      "\u001b[0;31mKeyboardInterrupt\u001b[0m                         Traceback (most recent call last)",
      "\u001b[0;32m<ipython-input-30-0eabfb28485a>\u001b[0m in \u001b[0;36m<module>\u001b[0;34m()\u001b[0m\n\u001b[1;32m     15\u001b[0m                                                               \u001b[0mnum_boost_round\u001b[0m\u001b[0;34m=\u001b[0m\u001b[0;36m80\u001b[0m\u001b[0;34m,\u001b[0m \u001b[0mn_splits\u001b[0m\u001b[0;34m=\u001b[0m\u001b[0;36m5\u001b[0m\u001b[0;34m,\u001b[0m\u001b[0;34m\u001b[0m\u001b[0m\n\u001b[1;32m     16\u001b[0m                                                               \u001b[0mn_repeats\u001b[0m\u001b[0;34m=\u001b[0m\u001b[0;36m3\u001b[0m\u001b[0;34m,\u001b[0m \u001b[0mrandom_state\u001b[0m\u001b[0;34m=\u001b[0m\u001b[0;36m5870577\u001b[0m\u001b[0;34m,\u001b[0m\u001b[0;34m\u001b[0m\u001b[0m\n\u001b[0;32m---> 17\u001b[0;31m                                                               verbose_eval=True)\n\u001b[0m\u001b[1;32m     18\u001b[0m \u001b[0;34m\u001b[0m\u001b[0m\n\u001b[1;32m     19\u001b[0m \u001b[0mresults\u001b[0m \u001b[0;34m=\u001b[0m \u001b[0;34m{\u001b[0m\u001b[0;34m'clfs'\u001b[0m\u001b[0;34m:\u001b[0m \u001b[0mclfs\u001b[0m\u001b[0;34m,\u001b[0m \u001b[0;34m'cv_results'\u001b[0m\u001b[0;34m:\u001b[0m \u001b[0mcv_results\u001b[0m\u001b[0;34m,\u001b[0m \u001b[0;34m'running_time'\u001b[0m\u001b[0;34m:\u001b[0m \u001b[0mrunning_time\u001b[0m\u001b[0;34m}\u001b[0m\u001b[0;34m\u001b[0m\u001b[0m\n",
      "\u001b[0;32m/c3se/NOBACKUP/users/lyaa/Hebbe/bosch/bosch_helper/bosch_helper.py\u001b[0m in \u001b[0;36mcross_val_predict_skf_rm_xgb\u001b[0;34m(params, x_train, y_train, num_boost_round, n_splits, n_repeats, random_state, verbose_eval)\u001b[0m\n\u001b[1;32m    224\u001b[0m                                    \u001b[0mevals\u001b[0m\u001b[0;34m=\u001b[0m\u001b[0;34m[\u001b[0m\u001b[0;34m(\u001b[0m\u001b[0mdtrain\u001b[0m\u001b[0;34m,\u001b[0m \u001b[0;34m'train'\u001b[0m\u001b[0;34m)\u001b[0m\u001b[0;34m,\u001b[0m \u001b[0;34m(\u001b[0m\u001b[0mdtest\u001b[0m\u001b[0;34m,\u001b[0m \u001b[0;34m'test'\u001b[0m\u001b[0;34m)\u001b[0m\u001b[0;34m]\u001b[0m\u001b[0;34m,\u001b[0m\u001b[0;34m\u001b[0m\u001b[0m\n\u001b[1;32m    225\u001b[0m                                   \u001b[0mfeval\u001b[0m\u001b[0;34m=\u001b[0m\u001b[0mmcc_eval\u001b[0m\u001b[0;34m,\u001b[0m \u001b[0mmaximize\u001b[0m\u001b[0;34m=\u001b[0m\u001b[0;32mTrue\u001b[0m\u001b[0;34m,\u001b[0m \u001b[0mearly_stopping_rounds\u001b[0m\u001b[0;34m=\u001b[0m\u001b[0;32mNone\u001b[0m\u001b[0;34m,\u001b[0m\u001b[0;34m\u001b[0m\u001b[0m\n\u001b[0;32m--> 226\u001b[0;31m                                   evals_result=cv_results[m, n], verbose_eval=verbose_eval)\n\u001b[0m\u001b[1;32m    227\u001b[0m \u001b[0;34m\u001b[0m\u001b[0m\n\u001b[1;32m    228\u001b[0m             \u001b[0mrunning_time\u001b[0m\u001b[0;34m[\u001b[0m\u001b[0mm\u001b[0m\u001b[0;34m,\u001b[0m \u001b[0mn\u001b[0m\u001b[0;34m]\u001b[0m \u001b[0;34m=\u001b[0m \u001b[0mtime\u001b[0m\u001b[0;34m.\u001b[0m\u001b[0mtime\u001b[0m\u001b[0;34m(\u001b[0m\u001b[0;34m)\u001b[0m \u001b[0;34m-\u001b[0m \u001b[0mstart_time\u001b[0m\u001b[0;34m\u001b[0m\u001b[0m\n",
      "\u001b[0;32m/c3se/NOBACKUP/users/lyaa/conda_dir/miniconda/envs/kaggle/lib/python3.7/site-packages/xgboost/training.py\u001b[0m in \u001b[0;36mtrain\u001b[0;34m(params, dtrain, num_boost_round, evals, obj, feval, maximize, early_stopping_rounds, evals_result, verbose_eval, xgb_model, callbacks, learning_rates)\u001b[0m\n\u001b[1;32m    202\u001b[0m                            \u001b[0mevals\u001b[0m\u001b[0;34m=\u001b[0m\u001b[0mevals\u001b[0m\u001b[0;34m,\u001b[0m\u001b[0;34m\u001b[0m\u001b[0m\n\u001b[1;32m    203\u001b[0m                            \u001b[0mobj\u001b[0m\u001b[0;34m=\u001b[0m\u001b[0mobj\u001b[0m\u001b[0;34m,\u001b[0m \u001b[0mfeval\u001b[0m\u001b[0;34m=\u001b[0m\u001b[0mfeval\u001b[0m\u001b[0;34m,\u001b[0m\u001b[0;34m\u001b[0m\u001b[0m\n\u001b[0;32m--> 204\u001b[0;31m                            xgb_model=xgb_model, callbacks=callbacks)\n\u001b[0m\u001b[1;32m    205\u001b[0m \u001b[0;34m\u001b[0m\u001b[0m\n\u001b[1;32m    206\u001b[0m \u001b[0;34m\u001b[0m\u001b[0m\n",
      "\u001b[0;32m/c3se/NOBACKUP/users/lyaa/conda_dir/miniconda/envs/kaggle/lib/python3.7/site-packages/xgboost/training.py\u001b[0m in \u001b[0;36m_train_internal\u001b[0;34m(params, dtrain, num_boost_round, evals, obj, feval, xgb_model, callbacks)\u001b[0m\n\u001b[1;32m     72\u001b[0m         \u001b[0;31m# Skip the first update if it is a recovery step.\u001b[0m\u001b[0;34m\u001b[0m\u001b[0;34m\u001b[0m\u001b[0m\n\u001b[1;32m     73\u001b[0m         \u001b[0;32mif\u001b[0m \u001b[0mversion\u001b[0m \u001b[0;34m%\u001b[0m \u001b[0;36m2\u001b[0m \u001b[0;34m==\u001b[0m \u001b[0;36m0\u001b[0m\u001b[0;34m:\u001b[0m\u001b[0;34m\u001b[0m\u001b[0m\n\u001b[0;32m---> 74\u001b[0;31m             \u001b[0mbst\u001b[0m\u001b[0;34m.\u001b[0m\u001b[0mupdate\u001b[0m\u001b[0;34m(\u001b[0m\u001b[0mdtrain\u001b[0m\u001b[0;34m,\u001b[0m \u001b[0mi\u001b[0m\u001b[0;34m,\u001b[0m \u001b[0mobj\u001b[0m\u001b[0;34m)\u001b[0m\u001b[0;34m\u001b[0m\u001b[0m\n\u001b[0m\u001b[1;32m     75\u001b[0m             \u001b[0mbst\u001b[0m\u001b[0;34m.\u001b[0m\u001b[0msave_rabit_checkpoint\u001b[0m\u001b[0;34m(\u001b[0m\u001b[0;34m)\u001b[0m\u001b[0;34m\u001b[0m\u001b[0m\n\u001b[1;32m     76\u001b[0m             \u001b[0mversion\u001b[0m \u001b[0;34m+=\u001b[0m \u001b[0;36m1\u001b[0m\u001b[0;34m\u001b[0m\u001b[0m\n",
      "\u001b[0;32m/c3se/NOBACKUP/users/lyaa/conda_dir/miniconda/envs/kaggle/lib/python3.7/site-packages/xgboost/core.py\u001b[0m in \u001b[0;36mupdate\u001b[0;34m(self, dtrain, iteration, fobj)\u001b[0m\n\u001b[1;32m    892\u001b[0m         \u001b[0;32mif\u001b[0m \u001b[0mfobj\u001b[0m \u001b[0;32mis\u001b[0m \u001b[0;32mNone\u001b[0m\u001b[0;34m:\u001b[0m\u001b[0;34m\u001b[0m\u001b[0m\n\u001b[1;32m    893\u001b[0m             _check_call(_LIB.XGBoosterUpdateOneIter(self.handle, ctypes.c_int(iteration),\n\u001b[0;32m--> 894\u001b[0;31m                                                     dtrain.handle))\n\u001b[0m\u001b[1;32m    895\u001b[0m         \u001b[0;32melse\u001b[0m\u001b[0;34m:\u001b[0m\u001b[0;34m\u001b[0m\u001b[0m\n\u001b[1;32m    896\u001b[0m             \u001b[0mpred\u001b[0m \u001b[0;34m=\u001b[0m \u001b[0mself\u001b[0m\u001b[0;34m.\u001b[0m\u001b[0mpredict\u001b[0m\u001b[0;34m(\u001b[0m\u001b[0mdtrain\u001b[0m\u001b[0;34m)\u001b[0m\u001b[0;34m\u001b[0m\u001b[0m\n",
      "\u001b[0;31mKeyboardInterrupt\u001b[0m: "
     ]
    }
   ],
   "source": [
    "# CV\n",
    "# specify parameters \n",
    "# 'booster':'gbtree'\n",
    "params = {'max_depth':14, 'eta':0.03, 'silent':1, 'objective':'binary:logistic', 'nthread':20,\n",
    "         'lambda':4, 'subsample':0.9, 'min_child_weight':5, 'booster':'gbtree', 'alpha':0,\n",
    "         'base_score':0.0058, 'colsample_bytree':0.6}\n",
    "\n",
    "# 'booster':'dart'\n",
    "# params = {'max_depth':14, 'eta':0.03, 'silent':1, 'objective':'binary:logistic', 'nthread':20,\n",
    "#         'lambda':4, 'subsample':0.9, 'min_child_weight':5, 'booster':'dart', 'alpha':0,\n",
    "#         'base_score':0.0058, 'nthread':20, 'colsample_bytree':0.6, \n",
    "#         'sample_type':'uniform', 'normalize_type':'tree', 'rate_drop':0.1, 'skip_drop':0.2, 'one_drop':True}\n",
    "\n",
    "cv_results, clfs, running_time = cross_val_predict_skf_rm_xgb(params, x_train, y_train, \n",
    "                                                              num_boost_round=80, n_splits=5, \n",
    "                                                              n_repeats=3, random_state=5870577, \n",
    "                                                              verbose_eval=True)\n",
    "\n",
    "results = {'clfs': clfs, 'cv_results': cv_results, 'running_time': running_time}\n",
    "save_pickle(results, 'results_benchmark_8_cv_4.pickle')"
   ]
  },
  {
   "cell_type": "code",
   "execution_count": null,
   "metadata": {},
   "outputs": [],
   "source": [
    "cv_train_mean = cv_results['train'].mean(axis=1)\n",
    "cv_train_std = cv_results['train'].std(axis=1)\n",
    "cv_test_mean = cv_results['test'].mean(axis=1)\n",
    "cv_test_std = cv_results['test'].std(axis=1)"
   ]
  },
  {
   "cell_type": "code",
   "execution_count": null,
   "metadata": {},
   "outputs": [],
   "source": [
    "plt.figure(figsize=(14, 7))\n",
    "plt.plot(np.arange(len(cv_train_mean)), cv_train_mean)\n",
    "plt.fill_between(np.arange(len(cv_train_mean)), cv_train_mean-cv_train_std, cv_train_mean+cv_train_std, alpha=0.5)\n",
    "plt.plot(np.arange(len(cv_train_mean)), cv_test_mean)\n",
    "plt.fill_between(np.arange(len(cv_test_mean)), cv_test_mean-cv_test_std, cv_test_mean+cv_test_std, alpha=0.5)\n",
    "plt.legend(['train', 'test'])"
   ]
  },
  {
   "cell_type": "code",
   "execution_count": null,
   "metadata": {},
   "outputs": [],
   "source": [
    "# Train the model\n",
    "dtrain = xgb.DMatrix(x_train, label=y_train)\n",
    "params['seed'] = 28537894\n",
    "clf = xgb.train(params, dtrain, num_boost_round=60,\n",
    "               feval=mcc_eval, evals=[(dtrain, 'train')])\n",
    "\n",
    "y_train_pred = clf.predict(dtrain)\n",
    "\n",
    "# Find best threshold \n",
    "thresholds = np.linspace(0.01, 0.99, 400)\n",
    "mcc = np.array([matthews_corrcoef(y_train, y_train_pred>thr) for thr in thresholds])\n",
    "plt.plot(thresholds, mcc)\n",
    "best_threshold = thresholds[mcc.argmax()]\n",
    "\n",
    "print('Optimal MCC = {:.3f}'.format(mcc.max()))\n",
    "print('Optimal threshold = {:.3f}'.format(best_threshold))"
   ]
  },
  {
   "cell_type": "markdown",
   "metadata": {},
   "source": [
    "### Predict on test data"
   ]
  },
  {
   "cell_type": "code",
   "execution_count": null,
   "metadata": {},
   "outputs": [],
   "source": [
    "dtest = xgb.DMatrix(x_test)\n",
    "y_test_pred = clf.predict(dtest)\n",
    "y_test_pred_int = (y_test_pred>best_threshold).astype(int)\n",
    "\n",
    "sub = pd.read_csv(\"../../data/sample_submission.csv.zip\", index_col=0)\n",
    "sub[\"Response\"] = y_test_pred_int\n",
    "sub.to_csv(\"benchmark_8_submission_cv_5.csv.gz\", compression=\"gzip\")"
   ]
  },
  {
   "cell_type": "markdown",
   "metadata": {},
   "source": [
    "Only With MeanTimeDiff Features:\n",
    "- LB: `n_estimators=60`: Private MCC = 0.44401, public MCC = 0.43569\n",
    "- CV: `n_estimators=80`: Score mean = 0.448, std = 0.013\n",
    "- CV: `n_estimators=60`: Score mean = 0.445491, std = 0.0133, MCC~[0.43218, 0.45880]\n",
    "\n",
    "Time series features, excluding MeanTimeDiff:\n",
    "- LB: `n_estimators=60`: Private MCC = 0.46212, public MCC = 0.44761\n",
    "- CV: `n_estimators=80`: Score mean = 0.454509, std = 0.00586\n",
    "- CV: `n_estimators=60`: Score mean = 0.4534794, std = 0.0067, MCC~[0.44682, 0.46014]\n",
    "\n",
    "Time series features, including MeanTimeDiff:\n",
    "- LB: `n_estimators=60`: Private MCC = 0.43169, public MCC = 0.42776\n",
    "- CV: `n_estimators=80`: Score mean = 0.452, std = 0.009\n",
    "- CV: `n_estimators=60`: Score mean = 0.449, std = 0.009, MCC~[0.440109, 0.458029]\n",
    "- Apparently overfitting since CV is higher than LB"
   ]
  },
  {
   "cell_type": "code",
   "execution_count": 28,
   "metadata": {
    "scrolled": false
   },
   "outputs": [
    {
     "data": {
      "text/plain": [
       "0.008573770361371"
      ]
     },
     "execution_count": 28,
     "metadata": {},
     "output_type": "execute_result"
    }
   ],
   "source": [
    "cv_test_mean[60]+cv_test_std[60]\n",
    "\n",
    "cv_test_mean[60]-cv_test_std[60]\n",
    "\n",
    "cv_test_mean[79]\n",
    "\n",
    "cv_test_std[60]"
   ]
  },
  {
   "cell_type": "code",
   "execution_count": null,
   "metadata": {},
   "outputs": [],
   "source": []
  }
 ],
 "metadata": {
  "kernelspec": {
   "display_name": "Python 3",
   "language": "python",
   "name": "python3"
  },
  "language_info": {
   "codemirror_mode": {
    "name": "ipython",
    "version": 3
   },
   "file_extension": ".py",
   "mimetype": "text/x-python",
   "name": "python",
   "nbconvert_exporter": "python",
   "pygments_lexer": "ipython3",
   "version": "3.7.0"
  }
 },
 "nbformat": 4,
 "nbformat_minor": 2
}
