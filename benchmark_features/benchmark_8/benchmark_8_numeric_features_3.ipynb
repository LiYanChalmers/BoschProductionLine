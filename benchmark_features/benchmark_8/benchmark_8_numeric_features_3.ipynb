{
 "cells": [
  {
   "cell_type": "markdown",
   "metadata": {},
   "source": [
    "#### Start and end stations and times\n",
    "\n",
    "Save numeric and date data to `'../../data/data.hdf'` with `np.float32` accuracy.\n",
    "\n",
    "Create the following features for each part\n",
    "- ~~Start station~~\n",
    "- ~~End station~~\n",
    "- ~~Start time in each station (6min is 1 (int) instead of 0.01)~~\n",
    "- ~~End time in each station~~\n",
    "- ~~Week number of start time~~\n",
    "- ~~Week number of end time~~\n",
    "\n",
    "DataFrames are always sorted by `Id`, the index names are `set` and `Id`.\n",
    "\n",
    "#### Hash of all numeric features\n",
    "- ~~Label encode of hash values~~\n",
    "- ~~Counts of same hash values~~"
   ]
  },
  {
   "cell_type": "code",
   "execution_count": 2,
   "metadata": {},
   "outputs": [
    {
     "name": "stderr",
     "output_type": "stream",
     "text": [
      "/c3se/NOBACKUP/users/lyaa/conda_dir/miniconda/envs/kaggle/lib/python3.7/site-packages/sklearn/utils/__init__.py:4: DeprecationWarning: Using or importing the ABCs from 'collections' instead of from 'collections.abc' is deprecated, and in 3.8 it will stop working\n",
      "  from collections import Sequence\n"
     ]
    }
   ],
   "source": [
    "import sys\n",
    "sys.path.insert(0, '../../bosch_helper')\n",
    "from bosch_helper import *\n",
    "\n",
    "%matplotlib inline"
   ]
  },
  {
   "cell_type": "markdown",
   "metadata": {},
   "source": [
    "### Load original numeric features\n",
    "\n",
    "NOTE: `x` has `Response`"
   ]
  },
  {
   "cell_type": "code",
   "execution_count": 3,
   "metadata": {},
   "outputs": [],
   "source": [
    "col_train = pd.read_csv('../../data/train_numeric.csv.zip', index_col=0, nrows=10)\n",
    "col_train = {k: np.float32 for k in col_train.columns}\n",
    "col_train['Id'] = np.int64\n",
    "\n",
    "col_test = pd.read_csv('../../data/test_numeric.csv.zip', index_col=0, nrows=10)\n",
    "col_test = {k: np.float32 for k in col_test.columns}\n",
    "col_test['Id'] = np.int64\n",
    "\n",
    "train = pd.read_csv('../../data/train_numeric.csv.zip', index_col=0, dtype=col_train)\n",
    "test = pd.read_csv('../../data/test_numeric.csv.zip', index_col=0, dtype=col_test)\n",
    "\n",
    "x = pd.concat((train, test), keys=['train', 'test'])"
   ]
  },
  {
   "cell_type": "code",
   "execution_count": 6,
   "metadata": {},
   "outputs": [],
   "source": [
    "x.index.names = ['set', 'Id']"
   ]
  },
  {
   "cell_type": "code",
   "execution_count": 8,
   "metadata": {},
   "outputs": [],
   "source": [
    "x.sort_index(level=1, inplace=True)"
   ]
  },
  {
   "cell_type": "code",
   "execution_count": 10,
   "metadata": {},
   "outputs": [],
   "source": [
    "x.to_hdf('../../data/data.hdf', 'numeric', complib='blosc:lz4', complevel=9, format='t')"
   ]
  },
  {
   "cell_type": "code",
   "execution_count": 13,
   "metadata": {},
   "outputs": [
    {
     "data": {
      "text/plain": [
       "53"
      ]
     },
     "execution_count": 13,
     "metadata": {},
     "output_type": "execute_result"
    }
   ],
   "source": [
    "del train, test\n",
    "gc.collect()"
   ]
  },
  {
   "cell_type": "markdown",
   "metadata": {},
   "source": [
    "#### Load date data"
   ]
  },
  {
   "cell_type": "code",
   "execution_count": 14,
   "metadata": {},
   "outputs": [],
   "source": [
    "col_train = pd.read_csv('../../data/train_date.csv.zip', index_col=0, nrows=10)\n",
    "col_train = {k: np.float32 for k in col_train.columns}\n",
    "col_train['Id'] = np.int64\n",
    "\n",
    "col_test = pd.read_csv('../../data/test_date.csv.zip', index_col=0, nrows=10)\n",
    "col_test = {k: np.float32 for k in col_test.columns}\n",
    "col_test['Id'] = np.int64\n",
    "\n",
    "date_train = pd.read_csv('../../data/train_date.csv.zip', index_col=0, dtype=col_train)\n",
    "date_test = pd.read_csv('../../data/test_date.csv.zip', index_col=0, dtype=col_test)"
   ]
  },
  {
   "cell_type": "code",
   "execution_count": 15,
   "metadata": {},
   "outputs": [],
   "source": [
    "date = pd.concat((date_train, date_test), keys=['train', 'test'])"
   ]
  },
  {
   "cell_type": "code",
   "execution_count": 17,
   "metadata": {},
   "outputs": [],
   "source": [
    "date.index.names = ['set', 'Id']"
   ]
  },
  {
   "cell_type": "code",
   "execution_count": 19,
   "metadata": {},
   "outputs": [],
   "source": [
    "date.sort_index(level=1, inplace=True)"
   ]
  },
  {
   "cell_type": "code",
   "execution_count": 25,
   "metadata": {},
   "outputs": [],
   "source": [
    "date.to_hdf('../../data/data.hdf', 'date', complib='blosc:lz4', complevel=9, format='t')"
   ]
  },
  {
   "cell_type": "code",
   "execution_count": 26,
   "metadata": {},
   "outputs": [
    {
     "data": {
      "text/plain": [
       "344"
      ]
     },
     "execution_count": 26,
     "metadata": {},
     "output_type": "execute_result"
    }
   ],
   "source": [
    "del date_train, date_test\n",
    "gc.collect()"
   ]
  },
  {
   "cell_type": "code",
   "execution_count": null,
   "metadata": {},
   "outputs": [],
   "source": [
    "date.columns = pd.MultiIndex.from_tuples([tuple(c.split('_')) for c in date.columns])"
   ]
  },
  {
   "cell_type": "code",
   "execution_count": 27,
   "metadata": {},
   "outputs": [],
   "source": [
    "def find_first_nonnan(row):\n",
    "    v = np.where(~np.isnan(row))[0]\n",
    "    if len(v)==0:\n",
    "        return -1\n",
    "    else:\n",
    "        return int(v[0])\n",
    "\n",
    "def find_last_nonnan(row):\n",
    "    v = np.where(~np.isnan(row))[0]\n",
    "    if len(v)==0:\n",
    "        return -1\n",
    "    else:\n",
    "            return int(v[-1])"
   ]
  },
  {
   "cell_type": "markdown",
   "metadata": {},
   "source": [
    "##### Start time in each station\n",
    "\n",
    "NOTE: 1 time unit equals 6 minutes"
   ]
  },
  {
   "cell_type": "code",
   "execution_count": 87,
   "metadata": {},
   "outputs": [],
   "source": [
    "time_station_start = date.groupby(level=1, axis=1).min(axis=1)\n",
    "time_station_start = np.around(time_station_start*100)"
   ]
  },
  {
   "cell_type": "markdown",
   "metadata": {},
   "source": [
    "##### Start and end stations"
   ]
  },
  {
   "cell_type": "code",
   "execution_count": 88,
   "metadata": {},
   "outputs": [],
   "source": [
    "time_station_start['station_start'] = time_station_start.apply(find_first_nonnan, axis=1)\n",
    "time_station_start['station_end'] = time_station_start.apply(find_last_nonnan, axis=1)"
   ]
  },
  {
   "cell_type": "markdown",
   "metadata": {},
   "source": [
    "##### Week number of start time"
   ]
  },
  {
   "cell_type": "code",
   "execution_count": 89,
   "metadata": {},
   "outputs": [],
   "source": [
    "tmp = np.around(time_station_start.iloc[:, :-2].min(axis=1))\n",
    "tmp = tmp.apply(lambda e: int(e) if ~np.isnan(e) else -1)"
   ]
  },
  {
   "cell_type": "code",
   "execution_count": 90,
   "metadata": {},
   "outputs": [],
   "source": [
    "time_station_start['week_number_start'] = np.floor(tmp/1680).astype(np.int)"
   ]
  },
  {
   "cell_type": "code",
   "execution_count": 91,
   "metadata": {},
   "outputs": [],
   "source": [
    "col_names = ['time_start_'+k for k in time_station_start.columns[:-3]]\n",
    "\n",
    "col_names.extend(['station_start', 'station_end', 'week_number_start'])"
   ]
  },
  {
   "cell_type": "code",
   "execution_count": 92,
   "metadata": {},
   "outputs": [],
   "source": [
    "time_station_start.columns = col_names"
   ]
  },
  {
   "cell_type": "markdown",
   "metadata": {},
   "source": [
    "##### End time at each station"
   ]
  },
  {
   "cell_type": "code",
   "execution_count": 93,
   "metadata": {},
   "outputs": [],
   "source": [
    "time_station_end = date.groupby(level=1, axis=1).max(axis=1)\n",
    "time_station_end = np.around(time_station_end*100)"
   ]
  },
  {
   "cell_type": "code",
   "execution_count": 94,
   "metadata": {},
   "outputs": [],
   "source": [
    "col_names = ['time_end_'+k for k in time_station_end.columns]\n",
    "time_station_end.columns = col_names"
   ]
  },
  {
   "cell_type": "code",
   "execution_count": 95,
   "metadata": {},
   "outputs": [],
   "source": [
    "tmp = np.around(time_station_end.max(axis=1))\n",
    "tmp = tmp.apply(lambda e: int(e) if ~np.isnan(e) else -1)"
   ]
  },
  {
   "cell_type": "code",
   "execution_count": 96,
   "metadata": {},
   "outputs": [],
   "source": [
    "time_station_end['week_number_end'] = np.floor(tmp/1680).astype(np.int)"
   ]
  },
  {
   "cell_type": "code",
   "execution_count": 97,
   "metadata": {},
   "outputs": [],
   "source": [
    "time_station = time_station_start.join(time_station_end)"
   ]
  },
  {
   "cell_type": "code",
   "execution_count": 104,
   "metadata": {},
   "outputs": [],
   "source": [
    "time_station.to_hdf('time_station.hdf', \n",
    "    'time_station', format='table', complib='blosc:lz4', complevel=9)"
   ]
  },
  {
   "cell_type": "code",
   "execution_count": 106,
   "metadata": {},
   "outputs": [],
   "source": [
    "time_station = pd.read_hdf('time_station.hdf', 'time_station')"
   ]
  },
  {
   "cell_type": "markdown",
   "metadata": {},
   "source": [
    "#### Hash value of numeric features"
   ]
  },
  {
   "cell_type": "code",
   "execution_count": 108,
   "metadata": {},
   "outputs": [],
   "source": [
    "numeric = x.drop(['Response'], axis=1)"
   ]
  },
  {
   "cell_type": "code",
   "execution_count": 113,
   "metadata": {},
   "outputs": [],
   "source": [
    "hash_numeric = [numeric.iloc[(n-1)*10**5:n*10**5,:].apply(lambda u: hash(tuple(u)), axis=1) for n in range(25)]\n",
    "hash_numeric = pd.concat(hash_numeric)"
   ]
  },
  {
   "cell_type": "code",
   "execution_count": 115,
   "metadata": {},
   "outputs": [],
   "source": [
    "hash_numeric = pd.DataFrame(hash_numeric)"
   ]
  },
  {
   "cell_type": "code",
   "execution_count": 120,
   "metadata": {},
   "outputs": [],
   "source": [
    "le = LabelEncoder()\n",
    "hash_numeric['hash_encoded'] = le.fit_transform(hash_numeric.values)"
   ]
  },
  {
   "cell_type": "code",
   "execution_count": 123,
   "metadata": {},
   "outputs": [],
   "source": [
    "hash_numeric.drop([0], axis=1, inplace=True)"
   ]
  },
  {
   "cell_type": "code",
   "execution_count": 124,
   "metadata": {},
   "outputs": [],
   "source": [
    "hash_number_counts = hash_numeric.groupby('hash_encoded')['hash_encoded'].count()"
   ]
  },
  {
   "cell_type": "code",
   "execution_count": 129,
   "metadata": {},
   "outputs": [],
   "source": [
    "hash_number_counts.name = 'count_hash'"
   ]
  },
  {
   "cell_type": "code",
   "execution_count": 130,
   "metadata": {},
   "outputs": [],
   "source": [
    "hash_numeric = hash_numeric.join(hash_number_counts, on='hash_encoded')"
   ]
  },
  {
   "cell_type": "code",
   "execution_count": 138,
   "metadata": {},
   "outputs": [],
   "source": [
    "hash_numeric.to_hdf('hash_numeric.hdf', 'hash_numeric', format='table', complib='blosc:lz4', complevel=9)"
   ]
  },
  {
   "cell_type": "markdown",
   "metadata": {},
   "source": [
    "#### Count encoding of each value"
   ]
  },
  {
   "cell_type": "markdown",
   "metadata": {},
   "source": [
    "#### Z-score per week"
   ]
  }
 ],
 "metadata": {
  "kernelspec": {
   "display_name": "Python 3",
   "language": "python",
   "name": "python3"
  },
  "language_info": {
   "codemirror_mode": {
    "name": "ipython",
    "version": 3
   },
   "file_extension": ".py",
   "mimetype": "text/x-python",
   "name": "python",
   "nbconvert_exporter": "python",
   "pygments_lexer": "ipython3",
   "version": "3.7.0"
  }
 },
 "nbformat": 4,
 "nbformat_minor": 2
}
