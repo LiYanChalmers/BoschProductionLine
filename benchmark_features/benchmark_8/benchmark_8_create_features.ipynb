{
 "cells": [
  {
   "cell_type": "code",
   "execution_count": 1,
   "metadata": {},
   "outputs": [
    {
     "name": "stderr",
     "output_type": "stream",
     "text": [
      "/c3se/NOBACKUP/users/lyaa/conda_dir/miniconda/envs/kaggle/lib/python3.7/site-packages/sklearn/utils/__init__.py:4: DeprecationWarning: Using or importing the ABCs from 'collections' instead of from 'collections.abc' is deprecated, and in 3.8 it will stop working\n",
      "  from collections import Sequence\n"
     ]
    }
   ],
   "source": [
    "import sys\n",
    "sys.path.insert(0, '../../bosch_helper')\n",
    "from bosch_helper import *\n",
    "\n",
    "%matplotlib inline"
   ]
  },
  {
   "cell_type": "code",
   "execution_count": 2,
   "metadata": {},
   "outputs": [],
   "source": [
    "x = pd.read_hdf('../hpopt_1/numeric_b1_b7_nf149.hdf', 'numeric')\n",
    "y_train = pd.read_hdf('../hpopt_1/numeric_b1_b7_nf149.hdf', 'y_train')"
   ]
  },
  {
   "cell_type": "markdown",
   "metadata": {},
   "source": [
    "Load time station feature"
   ]
  },
  {
   "cell_type": "code",
   "execution_count": 3,
   "metadata": {},
   "outputs": [],
   "source": [
    "time_station = pd.read_hdf('time_station.hdf', 'time_station')\n",
    "x = x.join(time_station)"
   ]
  },
  {
   "cell_type": "markdown",
   "metadata": {},
   "source": [
    "Load hash feature"
   ]
  },
  {
   "cell_type": "code",
   "execution_count": 4,
   "metadata": {},
   "outputs": [],
   "source": [
    "nhash = pd.read_hdf('hash_numeric.hdf', 'hash_numeric')\n",
    "x = x.join(nhash)"
   ]
  },
  {
   "cell_type": "markdown",
   "metadata": {},
   "source": [
    "Load Z-score feature"
   ]
  },
  {
   "cell_type": "code",
   "execution_count": 5,
   "metadata": {},
   "outputs": [],
   "source": [
    "zscore = pd.read_hdf('zscore.hdf', 'zscore')\n",
    "\n",
    "important_features = pd.read_csv('important_numeric_features.csv', index_col=0, header=None)\n",
    "important_features = list(important_features.values.ravel())\n",
    "important_features = ['zscore_'+c for c in important_features]\n",
    "zscore = zscore[important_features]"
   ]
  },
  {
   "cell_type": "code",
   "execution_count": 6,
   "metadata": {},
   "outputs": [],
   "source": [
    "x = x.join(zscore)"
   ]
  },
  {
   "cell_type": "code",
   "execution_count": 7,
   "metadata": {},
   "outputs": [],
   "source": [
    "x.to_hdf('../hpopt_1/numeric_b1_b8_nf149_1.hdf', 'x', format='table', complib='blosc:lz4', complevel=9)"
   ]
  },
  {
   "cell_type": "code",
   "execution_count": 8,
   "metadata": {},
   "outputs": [],
   "source": [
    "y_train.to_hdf('../hpopt_1/numeric_b1_b8_nf149_1.hdf', 'y_train', format='table', complib='blosc:lz4', complevel=9)"
   ]
  },
  {
   "cell_type": "markdown",
   "metadata": {},
   "source": [
    "Load count encode feature\n",
    "\n",
    "Only take the most important 30 features, since CV results with all count encode features are not good"
   ]
  },
  {
   "cell_type": "code",
   "execution_count": 9,
   "metadata": {},
   "outputs": [],
   "source": [
    "count_encode = pd.read_hdf('count_encode.hdf', 'count_encode')\n",
    "\n",
    "important_features = pd.read_csv('important_numeric_features.csv', index_col=0, header=None)\n",
    "important_features = list(important_features.values.ravel())\n",
    "important_features = ['count_encode_'+c for c in important_features]\n",
    "count_encode = count_encode[important_features[:30]] \n",
    "\n",
    "x = x.join(count_encode)\n",
    "\n",
    "x.to_hdf('../hpopt_1/numeric_b1_b8_nf149_2_ce30.hdf', 'x', format='table', complib='blosc:lz4', complevel=9)"
   ]
  },
  {
   "cell_type": "code",
   "execution_count": 10,
   "metadata": {},
   "outputs": [],
   "source": [
    "y_train.to_hdf('../hpopt_1/numeric_b1_b8_nf149_2_ce30.hdf', 'y_train', format='table', complib='blosc:lz4', complevel=9)"
   ]
  },
  {
   "cell_type": "code",
   "execution_count": 11,
   "metadata": {},
   "outputs": [
    {
     "name": "stdout",
     "output_type": "stream",
     "text": [
      "['/x', '/y_train']\n"
     ]
    }
   ],
   "source": [
    "filename = pd.HDFStore('../hpopt_1/numeric_b1_b8_nf149_1.hdf')\n",
    "print(filename.keys())\n",
    "filename.close()"
   ]
  },
  {
   "cell_type": "code",
   "execution_count": 12,
   "metadata": {},
   "outputs": [
    {
     "name": "stdout",
     "output_type": "stream",
     "text": [
      "['/x', '/y_train']\n"
     ]
    }
   ],
   "source": [
    "filename = pd.HDFStore('../hpopt_1/numeric_b1_b8_nf149_2_ce30.hdf')\n",
    "print(filename.keys())\n",
    "filename.close()"
   ]
  },
  {
   "cell_type": "code",
   "execution_count": null,
   "metadata": {},
   "outputs": [],
   "source": []
  }
 ],
 "metadata": {
  "kernelspec": {
   "display_name": "Python 3",
   "language": "python",
   "name": "python3"
  },
  "language_info": {
   "codemirror_mode": {
    "name": "ipython",
    "version": 3
   },
   "file_extension": ".py",
   "mimetype": "text/x-python",
   "name": "python",
   "nbconvert_exporter": "python",
   "pygments_lexer": "ipython3",
   "version": "3.7.0"
  }
 },
 "nbformat": 4,
 "nbformat_minor": 2
}
