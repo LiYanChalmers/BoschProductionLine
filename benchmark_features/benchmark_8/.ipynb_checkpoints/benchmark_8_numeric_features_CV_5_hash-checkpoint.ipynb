{
 "cells": [
  {
   "cell_type": "markdown",
   "metadata": {},
   "source": [
    "#### CV of Hash Features"
   ]
  },
  {
   "cell_type": "code",
   "execution_count": 1,
   "metadata": {},
   "outputs": [
    {
     "name": "stderr",
     "output_type": "stream",
     "text": [
      "/c3se/NOBACKUP/users/lyaa/conda_dir/miniconda/envs/kaggle/lib/python3.7/site-packages/sklearn/utils/__init__.py:4: DeprecationWarning: Using or importing the ABCs from 'collections' instead of from 'collections.abc' is deprecated, and in 3.8 it will stop working\n",
      "  from collections import Sequence\n"
     ]
    }
   ],
   "source": [
    "import sys\n",
    "sys.path.insert(0, '../../bosch_helper')\n",
    "from bosch_helper import *\n",
    "\n",
    "%matplotlib inline"
   ]
  },
  {
   "cell_type": "markdown",
   "metadata": {},
   "source": [
    "##### Load data up to benchmark 7"
   ]
  },
  {
   "cell_type": "code",
   "execution_count": 2,
   "metadata": {},
   "outputs": [
    {
     "name": "stdout",
     "output_type": "stream",
     "text": [
      "['/numeric', '/y_train']\n"
     ]
    }
   ],
   "source": [
    "filename = pd.HDFStore('../hpopt_1/numeric_b1_b7_nf149.hdf')\n",
    "print(filename.keys())\n",
    "filename.close()"
   ]
  },
  {
   "cell_type": "code",
   "execution_count": 3,
   "metadata": {},
   "outputs": [],
   "source": [
    "x = pd.read_hdf('../hpopt_1/numeric_b1_b7_nf149.hdf', 'numeric')\n",
    "y_train = pd.read_hdf('../hpopt_1/numeric_b1_b7_nf149.hdf', 'y_train')"
   ]
  },
  {
   "cell_type": "markdown",
   "metadata": {},
   "source": [
    "##### Load hash feature"
   ]
  },
  {
   "cell_type": "code",
   "execution_count": 8,
   "metadata": {},
   "outputs": [],
   "source": [
    "nhash = pd.read_hdf('hash_numeric.hdf', 'hash_numeric')"
   ]
  },
  {
   "cell_type": "code",
   "execution_count": 10,
   "metadata": {},
   "outputs": [],
   "source": [
    "x = x.join(nhash)"
   ]
  },
  {
   "cell_type": "code",
   "execution_count": 12,
   "metadata": {},
   "outputs": [],
   "source": [
    "x_train = x.loc['train']\n",
    "x_test = x.loc['test']"
   ]
  },
  {
   "cell_type": "code",
   "execution_count": 17,
   "metadata": {},
   "outputs": [
    {
     "data": {
      "text/plain": [
       "28"
      ]
     },
     "execution_count": 17,
     "metadata": {},
     "output_type": "execute_result"
    }
   ],
   "source": [
    "del x, nhash\n",
    "gc.collect()"
   ]
  },
  {
   "cell_type": "markdown",
   "metadata": {},
   "source": [
    "### CV score based on stratified KFold with repeated models"
   ]
  },
  {
   "cell_type": "code",
   "execution_count": null,
   "metadata": {},
   "outputs": [
    {
     "name": "stdout",
     "output_type": "stream",
     "text": [
      "[0]\ttrain-error:0.005811\ttest-error:0.005812\ttrain-MCC:0.309215\ttest-MCC:0.301967\n",
      "[1]\ttrain-error:0.005811\ttest-error:0.005812\ttrain-MCC:0.335733\ttest-MCC:0.326261\n",
      "[2]\ttrain-error:0.005811\ttest-error:0.005812\ttrain-MCC:0.348581\ttest-MCC:0.33397\n",
      "[3]\ttrain-error:0.005811\ttest-error:0.005812\ttrain-MCC:0.361706\ttest-MCC:0.351471\n",
      "[4]\ttrain-error:0.005811\ttest-error:0.005812\ttrain-MCC:0.386493\ttest-MCC:0.365614\n",
      "[5]\ttrain-error:0.005811\ttest-error:0.005812\ttrain-MCC:0.393544\ttest-MCC:0.37018\n",
      "[6]\ttrain-error:0.005811\ttest-error:0.005812\ttrain-MCC:0.409499\ttest-MCC:0.382208\n",
      "[7]\ttrain-error:0.005811\ttest-error:0.005812\ttrain-MCC:0.41754\ttest-MCC:0.390952\n",
      "[8]\ttrain-error:0.005811\ttest-error:0.005812\ttrain-MCC:0.427532\ttest-MCC:0.399954\n",
      "[9]\ttrain-error:0.005811\ttest-error:0.005812\ttrain-MCC:0.431908\ttest-MCC:0.399703\n",
      "[10]\ttrain-error:0.005811\ttest-error:0.005812\ttrain-MCC:0.437134\ttest-MCC:0.405093\n",
      "[11]\ttrain-error:0.005811\ttest-error:0.005812\ttrain-MCC:0.445974\ttest-MCC:0.406293\n",
      "[12]\ttrain-error:0.005811\ttest-error:0.005812\ttrain-MCC:0.449376\ttest-MCC:0.409575\n",
      "[13]\ttrain-error:0.005811\ttest-error:0.005812\ttrain-MCC:0.452721\ttest-MCC:0.410776\n",
      "[14]\ttrain-error:0.00581\ttest-error:0.005812\ttrain-MCC:0.456225\ttest-MCC:0.411607\n",
      "[15]\ttrain-error:0.00581\ttest-error:0.005812\ttrain-MCC:0.461457\ttest-MCC:0.416612\n",
      "[16]\ttrain-error:0.00581\ttest-error:0.005812\ttrain-MCC:0.465806\ttest-MCC:0.418758\n",
      "[17]\ttrain-error:0.005801\ttest-error:0.005808\ttrain-MCC:0.469384\ttest-MCC:0.420072\n",
      "[18]\ttrain-error:0.005792\ttest-error:0.005804\ttrain-MCC:0.471752\ttest-MCC:0.422621\n",
      "[19]\ttrain-error:0.005758\ttest-error:0.005766\ttrain-MCC:0.47356\ttest-MCC:0.422026\n",
      "[20]\ttrain-error:0.005711\ttest-error:0.005715\ttrain-MCC:0.475421\ttest-MCC:0.422812\n",
      "[21]\ttrain-error:0.005679\ttest-error:0.00566\ttrain-MCC:0.479642\ttest-MCC:0.425473\n",
      "[22]\ttrain-error:0.005626\ttest-error:0.005609\ttrain-MCC:0.480735\ttest-MCC:0.425443\n",
      "[23]\ttrain-error:0.005545\ttest-error:0.00555\ttrain-MCC:0.483624\ttest-MCC:0.430071\n",
      "[24]\ttrain-error:0.005485\ttest-error:0.005499\ttrain-MCC:0.484885\ttest-MCC:0.431562\n",
      "[25]\ttrain-error:0.005423\ttest-error:0.00547\ttrain-MCC:0.486876\ttest-MCC:0.434361\n",
      "[26]\ttrain-error:0.005365\ttest-error:0.005402\ttrain-MCC:0.488218\ttest-MCC:0.436347\n",
      "[27]\ttrain-error:0.005319\ttest-error:0.005356\ttrain-MCC:0.489506\ttest-MCC:0.436955\n",
      "[28]\ttrain-error:0.005271\ttest-error:0.005297\ttrain-MCC:0.492621\ttest-MCC:0.439124\n",
      "[29]\ttrain-error:0.005201\ttest-error:0.005263\ttrain-MCC:0.495404\ttest-MCC:0.438711\n",
      "[30]\ttrain-error:0.005152\ttest-error:0.005221\ttrain-MCC:0.497085\ttest-MCC:0.439395\n",
      "[31]\ttrain-error:0.005097\ttest-error:0.005183\ttrain-MCC:0.499122\ttest-MCC:0.438668\n",
      "[32]\ttrain-error:0.005056\ttest-error:0.005153\ttrain-MCC:0.500994\ttest-MCC:0.438331\n",
      "[33]\ttrain-error:0.005027\ttest-error:0.005115\ttrain-MCC:0.500909\ttest-MCC:0.439648\n",
      "[34]\ttrain-error:0.005001\ttest-error:0.005094\ttrain-MCC:0.504794\ttest-MCC:0.442087\n",
      "[35]\ttrain-error:0.004976\ttest-error:0.005064\ttrain-MCC:0.506496\ttest-MCC:0.44337\n",
      "[36]\ttrain-error:0.00495\ttest-error:0.005048\ttrain-MCC:0.507709\ttest-MCC:0.444375\n",
      "[37]\ttrain-error:0.00493\ttest-error:0.005035\ttrain-MCC:0.509777\ttest-MCC:0.443619\n",
      "[38]\ttrain-error:0.004921\ttest-error:0.005026\ttrain-MCC:0.511297\ttest-MCC:0.445236\n",
      "[39]\ttrain-error:0.004904\ttest-error:0.005022\ttrain-MCC:0.512455\ttest-MCC:0.443123\n",
      "[40]\ttrain-error:0.004887\ttest-error:0.005014\ttrain-MCC:0.513373\ttest-MCC:0.444654\n",
      "[41]\ttrain-error:0.004864\ttest-error:0.005014\ttrain-MCC:0.515166\ttest-MCC:0.442485\n",
      "[42]\ttrain-error:0.004842\ttest-error:0.004993\ttrain-MCC:0.516097\ttest-MCC:0.44175\n",
      "[43]\ttrain-error:0.004828\ttest-error:0.004988\ttrain-MCC:0.517705\ttest-MCC:0.442414\n",
      "[44]\ttrain-error:0.004811\ttest-error:0.004967\ttrain-MCC:0.518683\ttest-MCC:0.442026\n",
      "[45]\ttrain-error:0.004799\ttest-error:0.004959\ttrain-MCC:0.519609\ttest-MCC:0.44321\n",
      "[46]\ttrain-error:0.004788\ttest-error:0.00495\ttrain-MCC:0.520479\ttest-MCC:0.444801\n",
      "[47]\ttrain-error:0.004775\ttest-error:0.004938\ttrain-MCC:0.521497\ttest-MCC:0.444206\n"
     ]
    }
   ],
   "source": [
    "# CV\n",
    "# specify parameters \n",
    "# 'booster':'gbtree'\n",
    "params = {'max_depth':14, 'eta':0.03, 'silent':1, 'objective':'binary:logistic', 'nthread':20,\n",
    "         'lambda':4, 'subsample':0.9, 'min_child_weight':5, 'booster':'gbtree', 'alpha':0,\n",
    "         'base_score':0.0058, 'colsample_bytree':0.6}\n",
    "\n",
    "# 'booster':'dart'\n",
    "# params = {'max_depth':14, 'eta':0.03, 'silent':1, 'objective':'binary:logistic', 'nthread':20,\n",
    "#         'lambda':4, 'subsample':0.9, 'min_child_weight':5, 'booster':'dart', 'alpha':0,\n",
    "#         'base_score':0.0058, 'nthread':20, 'colsample_bytree':0.6, \n",
    "#         'sample_type':'uniform', 'normalize_type':'tree', 'rate_drop':0.1, 'skip_drop':0.2, 'one_drop':True}\n",
    "\n",
    "cv_results, clfs, running_time = cross_val_predict_skf_rm_xgb(params, x_train, y_train, \n",
    "                                                              num_boost_round=80, n_splits=5, \n",
    "                                                              n_repeats=3, random_state=5870577, \n",
    "                                                              verbose_eval=True)\n",
    "\n",
    "results = {'clfs': clfs, 'cv_results': cv_results, 'running_time': running_time}\n",
    "save_pickle(results, 'results_benchmark_8_cv_5_hash.pickle')"
   ]
  },
  {
   "cell_type": "code",
   "execution_count": null,
   "metadata": {},
   "outputs": [],
   "source": [
    "cv_train_mean = cv_results['train'].mean(axis=1)\n",
    "cv_train_std = cv_results['train'].std(axis=1)\n",
    "cv_test_mean = cv_results['test'].mean(axis=1)\n",
    "cv_test_std = cv_results['test'].std(axis=1)"
   ]
  },
  {
   "cell_type": "code",
   "execution_count": null,
   "metadata": {},
   "outputs": [],
   "source": [
    "plt.figure(figsize=(14, 7))\n",
    "plt.plot(np.arange(len(cv_train_mean)), cv_train_mean)\n",
    "plt.fill_between(np.arange(len(cv_train_mean)), cv_train_mean-cv_train_std, cv_train_mean+cv_train_std, alpha=0.5)\n",
    "plt.plot(np.arange(len(cv_train_mean)), cv_test_mean)\n",
    "plt.fill_between(np.arange(len(cv_test_mean)), cv_test_mean-cv_test_std, cv_test_mean+cv_test_std, alpha=0.5)\n",
    "plt.legend(['train', 'test'])"
   ]
  },
  {
   "cell_type": "code",
   "execution_count": null,
   "metadata": {},
   "outputs": [],
   "source": [
    "# Train the model\n",
    "dtrain = xgb.DMatrix(x_train, label=y_train)\n",
    "params['seed'] = 28537894\n",
    "clf = xgb.train(params, dtrain, num_boost_round=60,\n",
    "               feval=mcc_eval, evals=[(dtrain, 'train')])\n",
    "\n",
    "y_train_pred = clf.predict(dtrain)\n",
    "\n",
    "# Find best threshold \n",
    "thresholds = np.linspace(0.01, 0.99, 400)\n",
    "mcc = np.array([matthews_corrcoef(y_train, y_train_pred>thr) for thr in thresholds])\n",
    "plt.plot(thresholds, mcc)\n",
    "best_threshold = thresholds[mcc.argmax()]\n",
    "\n",
    "print('Optimal MCC = {:.3f}'.format(mcc.max()))\n",
    "print('Optimal threshold = {:.3f}'.format(best_threshold))"
   ]
  },
  {
   "cell_type": "markdown",
   "metadata": {},
   "source": [
    "### Predict on test data"
   ]
  },
  {
   "cell_type": "code",
   "execution_count": null,
   "metadata": {},
   "outputs": [],
   "source": [
    "dtest = xgb.DMatrix(x_test)\n",
    "y_test_pred = clf.predict(dtest)\n",
    "y_test_pred_int = (y_test_pred>best_threshold).astype(int)\n",
    "\n",
    "sub = pd.read_csv(\"../../data/sample_submission.csv.zip\", index_col=0)\n",
    "sub[\"Response\"] = y_test_pred_int\n",
    "sub.to_csv(\"benchmark_8_submission_cv_5_hash.csv.gz\", compression=\"gzip\")"
   ]
  },
  {
   "cell_type": "markdown",
   "metadata": {},
   "source": [
    "Only With MeanTimeDiff Features:\n",
    "- LB: `n_estimators=60`: Private MCC = 0.44401, public MCC = 0.43569\n",
    "- CV: `n_estimators=80`: Score mean = 0.448, std = 0.013\n",
    "- CV: `n_estimators=60`: Score mean = 0.445491, std = 0.0133, MCC~[0.43218, 0.45880]\n",
    "\n",
    "Time series features, excluding MeanTimeDiff:\n",
    "- LB: `n_estimators=60`: Private MCC = 0.46212, public MCC = 0.44761\n",
    "- CV: `n_estimators=80`: Score mean = 0.454509, std = 0.00586\n",
    "- CV: `n_estimators=60`: Score mean = 0.4534794, std = 0.0067, MCC~[0.44682, 0.46014]\n",
    "\n",
    "Time series features, including MeanTimeDiff:\n",
    "- LB: `n_estimators=60`: Private MCC = 0.43169, public MCC = 0.42776\n",
    "- CV: `n_estimators=80`: Score mean = 0.452, std = 0.009\n",
    "- CV: `n_estimators=60`: Score mean = 0.449, std = 0.009, MCC~[0.440109, 0.458029]\n",
    "- Apparently overfitting since CV is higher than LB"
   ]
  },
  {
   "cell_type": "code",
   "execution_count": null,
   "metadata": {
    "scrolled": false
   },
   "outputs": [],
   "source": [
    "cv_test_mean[60]+cv_test_std[60]\n",
    "\n",
    "cv_test_mean[60]-cv_test_std[60]\n",
    "\n",
    "cv_test_mean[79]\n",
    "\n",
    "cv_test_std[60]"
   ]
  }
 ],
 "metadata": {
  "kernelspec": {
   "display_name": "Python 3",
   "language": "python",
   "name": "python3"
  },
  "language_info": {
   "codemirror_mode": {
    "name": "ipython",
    "version": 3
   },
   "file_extension": ".py",
   "mimetype": "text/x-python",
   "name": "python",
   "nbconvert_exporter": "python",
   "pygments_lexer": "ipython3",
   "version": "3.7.0"
  }
 },
 "nbformat": 4,
 "nbformat_minor": 2
}
