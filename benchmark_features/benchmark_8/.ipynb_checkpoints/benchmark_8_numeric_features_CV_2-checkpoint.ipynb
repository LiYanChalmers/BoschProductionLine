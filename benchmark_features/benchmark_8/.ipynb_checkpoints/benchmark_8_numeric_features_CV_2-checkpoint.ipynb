{
 "cells": [
  {
   "cell_type": "markdown",
   "metadata": {},
   "source": [
    "## Benchmark for measuring performance of engineered features and models\n",
    "\n"
   ]
  },
  {
   "cell_type": "code",
   "execution_count": 1,
   "metadata": {},
   "outputs": [],
   "source": [
    "import sys\n",
    "sys.path.insert(0, '../../bosch_helper')\n",
    "from bosch_helper import *\n",
    "\n",
    "%matplotlib inline"
   ]
  },
  {
   "cell_type": "code",
   "execution_count": 2,
   "metadata": {},
   "outputs": [],
   "source": [
    "# params = {'max_depth':14, 'eta':0.03, 'silent':1, 'objective':'binary:logistic', 'nthread':16,\n",
    "#          'lambda':4, 'subsample':0.9, 'min_child_weight':5, 'booster':'gbtree', 'alpha':0,\n",
    "#          'base_score':0.0058, 'colsample_bytree':0.6}"
   ]
  },
  {
   "cell_type": "code",
   "execution_count": 3,
   "metadata": {},
   "outputs": [],
   "source": [
    "param_grid = {'max_depth': [13, 14, 15, 16], \n",
    "              'eta': [0.025, 0.03, 0.035],\n",
    "              'silent': [1],\n",
    "              'objective': ['binary:logistic'],\n",
    "              'nthread': [16],\n",
    "              'lambda': [3.5, 4, 4.5],\n",
    "              'alpha': [0, 0.25], \n",
    "              'subsample': [0.85, 0.9, 9.5],\n",
    "              'min_child_weight': [4.5, 5, 5.5],\n",
    "              'booster': ['gbtree', 'dart'],\n",
    "              'base_score': [0.0058], \n",
    "              'colsample_bytree': [0.5, 0.55, 0.6, 0.65]}"
   ]
  },
  {
   "cell_type": "code",
   "execution_count": 4,
   "metadata": {},
   "outputs": [],
   "source": [
    "param_list = list(ParameterSampler(param_grid, n_iter=100, random_state=285749))"
   ]
  },
  {
   "cell_type": "markdown",
   "metadata": {},
   "source": [
    "### Load train and test data"
   ]
  },
  {
   "cell_type": "code",
   "execution_count": 3,
   "metadata": {},
   "outputs": [],
   "source": [
    "# important numeric features are imported\n",
    "important_features = pd.read_csv('../benchmark_1/important_numeric_features.csv', index_col=0, header=None)\n",
    "important_features = list(important_features.values.ravel())\n",
    "important_features.extend(['Id', 'Response'])"
   ]
  },
  {
   "cell_type": "code",
   "execution_count": 4,
   "metadata": {},
   "outputs": [],
   "source": [
    "x_train_numeric = pd.read_csv('../../data/train_numeric.csv.zip', index_col=0, usecols=important_features, dtype=np.float32)\n",
    "\n",
    "y_train = x_train_numeric.Response\n",
    "x_train_numeric.drop(['Response'], axis=1, inplace=True)"
   ]
  },
  {
   "cell_type": "code",
   "execution_count": 5,
   "metadata": {},
   "outputs": [],
   "source": [
    "date_train = pd.read_csv('../benchmark_2/train_station_flow.csv.gz', index_col=0, header=None)"
   ]
  },
  {
   "cell_type": "code",
   "execution_count": 6,
   "metadata": {},
   "outputs": [],
   "source": [
    "x_train = x_train_numeric.join(date_train)\n",
    "\n",
    "columns = list(x_train.columns)\n",
    "columns[-1] = 'station_flow'\n",
    "x_train.columns = columns"
   ]
  },
  {
   "cell_type": "code",
   "execution_count": 7,
   "metadata": {},
   "outputs": [],
   "source": [
    "x_test_numeric = pd.read_csv('../../data/test_numeric.csv.zip', index_col=0, usecols=important_features[:-1], dtype=np.float32)\n",
    "\n",
    "date_test = pd.read_csv('../benchmark_2/test_station_flow.csv.gz', index_col=0, header=None)\n",
    "\n",
    "x_test = x_test_numeric.join(date_test)\n",
    "x_test.columns = columns"
   ]
  },
  {
   "cell_type": "code",
   "execution_count": 8,
   "metadata": {},
   "outputs": [],
   "source": [
    "x_train.index = x_train.index.astype(np.int64)\n",
    "x_test.index = x_test.index.astype(np.int64)"
   ]
  },
  {
   "cell_type": "code",
   "execution_count": 9,
   "metadata": {},
   "outputs": [
    {
     "data": {
      "text/plain": [
       "60"
      ]
     },
     "execution_count": 9,
     "metadata": {},
     "output_type": "execute_result"
    }
   ],
   "source": [
    "del x_train_numeric, x_test_numeric\n",
    "gc.collect()"
   ]
  },
  {
   "cell_type": "markdown",
   "metadata": {},
   "source": [
    "### Load benchmark_3 features"
   ]
  },
  {
   "cell_type": "code",
   "execution_count": 10,
   "metadata": {},
   "outputs": [],
   "source": [
    "start_chunk = pd.read_csv('../benchmark_3/start_chunk.csv.gz', index_col=0)\n",
    "\n",
    "start_chunk_train = start_chunk.loc[start_chunk.Response!=-1].drop(['Response'], axis=1)\n",
    "start_chunk_test = start_chunk.loc[start_chunk.Response==-1].drop(['Response'], axis=1)"
   ]
  },
  {
   "cell_type": "code",
   "execution_count": 11,
   "metadata": {},
   "outputs": [
    {
     "data": {
      "text/plain": [
       "35"
      ]
     },
     "execution_count": 11,
     "metadata": {},
     "output_type": "execute_result"
    }
   ],
   "source": [
    "x_train = x_train.join(start_chunk_train, on='Id')\n",
    "x_test = x_test.join(start_chunk_test, on='Id')\n",
    "\n",
    "gc.collect()"
   ]
  },
  {
   "cell_type": "markdown",
   "metadata": {},
   "source": [
    "### Load benchmark_4 features"
   ]
  },
  {
   "cell_type": "code",
   "execution_count": 12,
   "metadata": {},
   "outputs": [
    {
     "name": "stdout",
     "output_type": "stream",
     "text": [
      "(1183748, 14) (1183747, 14)\n"
     ]
    },
    {
     "data": {
      "text/plain": [
       "28"
      ]
     },
     "execution_count": 12,
     "metadata": {},
     "output_type": "execute_result"
    }
   ],
   "source": [
    "n = pd.read_csv('../benchmark_4/benchmark_4_neighbors.csv.gz', index_col=0)\n",
    "\n",
    "neighbor_train = n.loc[n.Response!=-1]\n",
    "neighbor_train.drop(['Response'], axis=1, inplace=True)\n",
    "\n",
    "neighbor_test = n.loc[n.Response==-1]\n",
    "neighbor_test.drop(['Response'], axis=1, inplace=True)\n",
    "\n",
    "print(neighbor_test.shape, neighbor_train.shape)\n",
    "\n",
    "x_train = x_train.join(neighbor_train, on='Id')\n",
    "x_test = x_test.join(neighbor_test, on='Id')\n",
    "\n",
    "gc.collect()"
   ]
  },
  {
   "cell_type": "markdown",
   "metadata": {},
   "source": [
    "### Add neighbor numeric features"
   ]
  },
  {
   "cell_type": "code",
   "execution_count": 13,
   "metadata": {},
   "outputs": [],
   "source": [
    "# Date + station flow data will be added to x\n",
    "x = pd.concat([x_train, x_test], keys=['train', 'test'])\n",
    "x.sort_index(axis=0, level='Id', inplace=True)\n",
    "\n",
    "# Add the neighbor records\n",
    "x = x.join(x.iloc[:, :150].shift(), rsuffix='_previous')\n",
    "x = x.join(x.iloc[:, :150].shift(-1), rsuffix='_next')"
   ]
  },
  {
   "cell_type": "markdown",
   "metadata": {},
   "source": [
    "### Load benchmark_7 features"
   ]
  },
  {
   "cell_type": "code",
   "execution_count": 16,
   "metadata": {},
   "outputs": [],
   "source": [
    "time_features = pd.read_hdf('../benchmark_7/time_features_diff.hdf', 'time_features')\n",
    "time_features.drop(['time_start', 'time_end', 'time_duration', 'Response'], axis=1, inplace=True)\n",
    "\n",
    "# Find MeanTimeDiff and discard them\n",
    "# time_features.columns.tolist()[-40:]\n",
    "\n",
    "# Join to x\n",
    "x = x.join(time_features.iloc[:, :-40])"
   ]
  },
  {
   "cell_type": "markdown",
   "metadata": {},
   "source": [
    "### Load benchmark_8 features"
   ]
  },
  {
   "cell_type": "code",
   "execution_count": 25,
   "metadata": {},
   "outputs": [],
   "source": [
    "# hash of rows and counts of duplications\n",
    "hash_numeric = pd.read_hdf('benchmark_8_numeric_features_2.hdf', 'hash_numeric')\n",
    "\n",
    "x = x.join(hash_numeric)"
   ]
  },
  {
   "cell_type": "markdown",
   "metadata": {},
   "source": [
    "### Load zscore per week"
   ]
  },
  {
   "cell_type": "code",
   "execution_count": 30,
   "metadata": {},
   "outputs": [],
   "source": [
    "# zscore per week\n",
    "x_zscore_per_week = pd.read_hdf('benchmark_8_numeric_features_2.hdf', 'zscore_per_week')\n",
    "\n",
    "# select important features\n",
    "tmp = important_features.copy()\n",
    "tmp.remove('Response')\n",
    "tmp.remove('Id')\n",
    "\n",
    "x_zscore_per_week_if = x_zscore_per_week[tmp]\n",
    "\n",
    "x = x.join(x_zscore_per_week_if, rsuffix='_zscore')\n",
    "\n",
    "del x_zscore_per_week, x_zscore_per_week_if\n",
    "gc.collect()"
   ]
  },
  {
   "cell_type": "markdown",
   "metadata": {},
   "source": [
    "### Load count encoding"
   ]
  },
  {
   "cell_type": "code",
   "execution_count": 45,
   "metadata": {},
   "outputs": [],
   "source": [
    "# x_count_encoded = pd.read_hdf('benchmark_8_numeric_features_2.hdf', 'count_encoded')\n",
    "\n",
    "# tmp = ['count_'+k for k in tmp]\n",
    "\n",
    "# x_count_encoded_if = x_count_encoded[tmp]\n",
    "\n",
    "# x_count_encoded_if.shape\n",
    "\n",
    "# x = x.join(x_count_encoded_if)\n",
    "\n",
    "# del x_count_encoded, x_count_encoded_if\n",
    "# gc.collect()"
   ]
  },
  {
   "cell_type": "code",
   "execution_count": 61,
   "metadata": {},
   "outputs": [],
   "source": [
    "x_train = x.loc['train']\n",
    "x_test = x.loc['test']"
   ]
  },
  {
   "cell_type": "code",
   "execution_count": 64,
   "metadata": {},
   "outputs": [
    {
     "name": "stderr",
     "output_type": "stream",
     "text": [
      "Exception ignored in: <function DMatrix.__del__ at 0x7f3bd4348510>\n",
      "Traceback (most recent call last):\n",
      "  File \"/c3se/NOBACKUP/users/lyaa/conda_dir/miniconda/envs/kaggle/lib/python3.7/site-packages/xgboost/core.py\", line 366, in __del__\n",
      "    if self.handle is not None:\n",
      "AttributeError: 'DMatrix' object has no attribute 'handle'\n"
     ]
    },
    {
     "data": {
      "text/plain": [
       "28632"
      ]
     },
     "execution_count": 64,
     "metadata": {},
     "output_type": "execute_result"
    }
   ],
   "source": [
    "del x\n",
    "gc.collect()"
   ]
  },
  {
   "cell_type": "markdown",
   "metadata": {},
   "source": [
    "### CV score based on stratified KFold with repeated models"
   ]
  },
  {
   "cell_type": "code",
   "execution_count": null,
   "metadata": {},
   "outputs": [
    {
     "name": "stdout",
     "output_type": "stream",
     "text": [
      "[0]\ttrain-error:0.005811\ttest-error:0.005812\ttrain-MCC:0.276114\ttest-MCC:0.265946\n",
      "[1]\ttrain-error:0.005811\ttest-error:0.005812\ttrain-MCC:0.340044\ttest-MCC:0.338623\n",
      "[2]\ttrain-error:0.005811\ttest-error:0.005812\ttrain-MCC:0.346387\ttest-MCC:0.353783\n",
      "[3]\ttrain-error:0.005811\ttest-error:0.005812\ttrain-MCC:0.371335\ttest-MCC:0.38326\n",
      "[4]\ttrain-error:0.005811\ttest-error:0.005812\ttrain-MCC:0.380611\ttest-MCC:0.389524\n",
      "[5]\ttrain-error:0.005811\ttest-error:0.005812\ttrain-MCC:0.387751\ttest-MCC:0.3906\n",
      "[6]\ttrain-error:0.005811\ttest-error:0.005812\ttrain-MCC:0.397668\ttest-MCC:0.395693\n",
      "[7]\ttrain-error:0.005811\ttest-error:0.005812\ttrain-MCC:0.411766\ttest-MCC:0.398945\n",
      "[8]\ttrain-error:0.005811\ttest-error:0.005812\ttrain-MCC:0.422518\ttest-MCC:0.406896\n",
      "[9]\ttrain-error:0.005811\ttest-error:0.005812\ttrain-MCC:0.431184\ttest-MCC:0.411414\n",
      "[10]\ttrain-error:0.005811\ttest-error:0.005812\ttrain-MCC:0.435415\ttest-MCC:0.415496\n",
      "[11]\ttrain-error:0.005811\ttest-error:0.005812\ttrain-MCC:0.443826\ttest-MCC:0.418605\n",
      "[12]\ttrain-error:0.005811\ttest-error:0.005808\ttrain-MCC:0.451027\ttest-MCC:0.422883\n",
      "[13]\ttrain-error:0.00581\ttest-error:0.005808\ttrain-MCC:0.456032\ttest-MCC:0.425111\n",
      "[14]\ttrain-error:0.005808\ttest-error:0.005808\ttrain-MCC:0.45864\ttest-MCC:0.427646\n",
      "[15]\ttrain-error:0.005808\ttest-error:0.005808\ttrain-MCC:0.464094\ttest-MCC:0.430289\n",
      "[16]\ttrain-error:0.005807\ttest-error:0.005808\ttrain-MCC:0.469516\ttest-MCC:0.43281\n",
      "[17]\ttrain-error:0.005806\ttest-error:0.005808\ttrain-MCC:0.473839\ttest-MCC:0.43441\n",
      "[18]\ttrain-error:0.005803\ttest-error:0.005808\ttrain-MCC:0.479565\ttest-MCC:0.435288\n",
      "[19]\ttrain-error:0.005795\ttest-error:0.005799\ttrain-MCC:0.48266\ttest-MCC:0.437202\n",
      "[20]\ttrain-error:0.005776\ttest-error:0.005778\ttrain-MCC:0.487016\ttest-MCC:0.43831\n",
      "[21]\ttrain-error:0.005708\ttest-error:0.005728\ttrain-MCC:0.489591\ttest-MCC:0.438085\n",
      "[22]\ttrain-error:0.005614\ttest-error:0.005664\ttrain-MCC:0.49424\ttest-MCC:0.437202\n",
      "[23]\ttrain-error:0.005527\ttest-error:0.005571\ttrain-MCC:0.495193\ttest-MCC:0.439637\n",
      "[24]\ttrain-error:0.005425\ttest-error:0.005483\ttrain-MCC:0.497677\ttest-MCC:0.440489\n",
      "[25]\ttrain-error:0.005344\ttest-error:0.005411\ttrain-MCC:0.501018\ttest-MCC:0.444922\n",
      "[26]\ttrain-error:0.005274\ttest-error:0.005347\ttrain-MCC:0.503171\ttest-MCC:0.445486\n",
      "[27]\ttrain-error:0.005222\ttest-error:0.005284\ttrain-MCC:0.506986\ttest-MCC:0.446172\n",
      "[28]\ttrain-error:0.00519\ttest-error:0.005242\ttrain-MCC:0.507916\ttest-MCC:0.44732\n",
      "[29]\ttrain-error:0.005164\ttest-error:0.005225\ttrain-MCC:0.510528\ttest-MCC:0.447058\n",
      "[30]\ttrain-error:0.005133\ttest-error:0.005216\ttrain-MCC:0.514193\ttest-MCC:0.448477\n",
      "[31]\ttrain-error:0.005113\ttest-error:0.005178\ttrain-MCC:0.515296\ttest-MCC:0.448606\n",
      "[32]\ttrain-error:0.005095\ttest-error:0.005157\ttrain-MCC:0.517395\ttest-MCC:0.449973\n"
     ]
    }
   ],
   "source": [
    "# CV\n",
    "# specify parameters \n",
    "# 'booster':'gbtree'\n",
    "params = {'max_depth':18, 'eta':0.03, 'silent':1, 'objective':'binary:logistic', 'nthread':16,\n",
    "         'lambda':4, 'subsample':0.9, 'min_child_weight':5, 'booster':'gbtree', 'alpha':0,\n",
    "         'base_score':0.0058, 'colsample_bytree':0.6}\n",
    "\n",
    "# 'booster':'dart'\n",
    "# params = {'max_depth':14, 'eta':0.03, 'silent':1, 'objective':'binary:logistic', 'nthread':20,\n",
    "#         'lambda':4, 'subsample':0.9, 'min_child_weight':5, 'booster':'dart', 'alpha':0,\n",
    "#         'base_score':0.0058, 'nthread':20, 'colsample_bytree':0.6, \n",
    "#         'sample_type':'uniform', 'normalize_type':'tree', 'rate_drop':0.1, 'skip_drop':0.2, 'one_drop':True}\n",
    "\n",
    "cv_results, clfs, running_time = cross_val_predict_skf_rm_xgb(params, x_train, y_train, \n",
    "                                                              num_boost_round=100, n_splits=5, \n",
    "                                                              n_repeats=3, random_state=70864, \n",
    "                                                              verbose_eval=True)\n",
    "\n",
    "results = {'clfs': clfs, 'cv_results': cv_results, 'running_time': running_time}\n",
    "save_pickle(results, 'results_benchmark_8_cv_1.pickle')"
   ]
  },
  {
   "cell_type": "code",
   "execution_count": null,
   "metadata": {},
   "outputs": [],
   "source": [
    "cv_train_mean = cv_results['train'].mean(axis=1)\n",
    "cv_train_std = cv_results['train'].std(axis=1)\n",
    "cv_test_mean = cv_results['test'].mean(axis=1)\n",
    "cv_test_std = cv_results['test'].std(axis=1)"
   ]
  },
  {
   "cell_type": "code",
   "execution_count": null,
   "metadata": {},
   "outputs": [],
   "source": [
    "plt.figure(figsize=(14, 7))\n",
    "plt.plot(np.arange(len(cv_train_mean)), cv_train_mean)\n",
    "plt.fill_between(np.arange(len(cv_train_mean)), cv_train_mean-cv_train_std, cv_train_mean+cv_train_std, alpha=0.5)\n",
    "plt.plot(np.arange(len(cv_train_mean)), cv_test_mean)\n",
    "plt.fill_between(np.arange(len(cv_test_mean)), cv_test_mean-cv_test_std, cv_test_mean+cv_test_std, alpha=0.5)\n",
    "plt.legend(['train', 'test'])"
   ]
  },
  {
   "cell_type": "code",
   "execution_count": null,
   "metadata": {},
   "outputs": [],
   "source": [
    "# Train the model\n",
    "dtrain = xgb.DMatrix(x_train, label=y_train)\n",
    "params['seed'] = 28537894\n",
    "clf = xgb.train(params, dtrain, num_boost_round=60,\n",
    "               feval=mcc_eval, evals=[(dtrain, 'train')])\n",
    "\n",
    "y_train_pred = clf.predict(dtrain)\n",
    "\n",
    "# Find best threshold \n",
    "thresholds = np.linspace(0.01, 0.99, 400)\n",
    "mcc = np.array([matthews_corrcoef(y_train, y_train_pred>thr) for thr in thresholds])\n",
    "plt.plot(thresholds, mcc)\n",
    "best_threshold = thresholds[mcc.argmax()]\n",
    "\n",
    "print('Optimal MCC = {:.3f}'.format(mcc.max()))\n",
    "print('Optimal threshold = {:.3f}'.format(best_threshold))"
   ]
  },
  {
   "cell_type": "markdown",
   "metadata": {},
   "source": [
    "### Predict on test data"
   ]
  },
  {
   "cell_type": "code",
   "execution_count": null,
   "metadata": {},
   "outputs": [],
   "source": [
    "dtest = xgb.DMatrix(x_test)\n",
    "y_test_pred = clf.predict(dtest)\n",
    "y_test_pred_int = (y_test_pred>best_threshold).astype(int)\n",
    "\n",
    "sub = pd.read_csv(\"../../data/sample_submission.csv.zip\", index_col=0)\n",
    "sub[\"Response\"] = y_test_pred_int\n",
    "sub.to_csv(\"15-benchmark_7_submission_1.csv.gz\", compression=\"gzip\")"
   ]
  },
  {
   "cell_type": "code",
   "execution_count": null,
   "metadata": {},
   "outputs": [],
   "source": [
    "cv_test_mean[60]+cv_test_std[60]\n",
    "\n",
    "cv_test_mean[60]-cv_test_std[60]\n",
    "\n",
    "cv_test_mean[79]\n",
    "\n",
    "cv_test_std[60]"
   ]
  }
 ],
 "metadata": {
  "kernelspec": {
   "display_name": "Python 3",
   "language": "python",
   "name": "python3"
  },
  "language_info": {
   "codemirror_mode": {
    "name": "ipython",
    "version": 3
   },
   "file_extension": ".py",
   "mimetype": "text/x-python",
   "name": "python",
   "nbconvert_exporter": "python",
   "pygments_lexer": "ipython3",
   "version": "3.7.0"
  }
 },
 "nbformat": 4,
 "nbformat_minor": 2
}
