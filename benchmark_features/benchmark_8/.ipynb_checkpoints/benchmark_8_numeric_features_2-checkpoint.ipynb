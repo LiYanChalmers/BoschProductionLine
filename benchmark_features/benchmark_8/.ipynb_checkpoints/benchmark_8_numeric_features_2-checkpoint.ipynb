{
 "cells": [
  {
   "cell_type": "markdown",
   "metadata": {},
   "source": [
    "## Benchmark for measuring performance of engineered features and models\n",
    "\n",
    "Prepare data for later analysis"
   ]
  },
  {
   "cell_type": "code",
   "execution_count": 1,
   "metadata": {},
   "outputs": [
    {
     "ename": "SyntaxError",
     "evalue": "invalid syntax (<ipython-input-1-564719dba3ed>, line 1)",
     "output_type": "error",
     "traceback": [
      "\u001b[1;36m  File \u001b[1;32m\"<ipython-input-1-564719dba3ed>\"\u001b[1;36m, line \u001b[1;32m1\u001b[0m\n\u001b[1;33m    import ../../helper\u001b[0m\n\u001b[1;37m           ^\u001b[0m\n\u001b[1;31mSyntaxError\u001b[0m\u001b[1;31m:\u001b[0m invalid syntax\n"
     ]
    }
   ],
   "source": [
    "import sys\n",
    "sys.path.insert(0, '../../bosch_helper')\n"
   ]
  },
  {
   "cell_type": "markdown",
   "metadata": {},
   "source": [
    "### Analyze of numeric features"
   ]
  },
  {
   "cell_type": "code",
   "execution_count": 8,
   "metadata": {},
   "outputs": [],
   "source": [
    "train = pd.read_csv('../../data/train_numeric.csv.zip', index_col=0)\n",
    "test = pd.read_csv('../../data/test_numeric.csv.zip', index_col=0)"
   ]
  },
  {
   "cell_type": "code",
   "execution_count": 21,
   "metadata": {},
   "outputs": [],
   "source": [
    "x = pd.concat((train, test), keys=['train', 'test'])"
   ]
  },
  {
   "cell_type": "code",
   "execution_count": 22,
   "metadata": {},
   "outputs": [
    {
     "data": {
      "text/plain": [
       "21"
      ]
     },
     "execution_count": 22,
     "metadata": {},
     "output_type": "execute_result"
    }
   ],
   "source": [
    "del train, test\n",
    "gc.collect()"
   ]
  },
  {
   "cell_type": "markdown",
   "metadata": {},
   "source": [
    "### Load date data, calculate start time, end time, start station, and end station"
   ]
  },
  {
   "cell_type": "code",
   "execution_count": 24,
   "metadata": {},
   "outputs": [],
   "source": [
    "date_train = pd.read_csv('../../data/train_date.csv.zip', index_col=0)\n",
    "date_test = pd.read_csv('../../data/test_date.csv.zip', index_col=0)"
   ]
  },
  {
   "cell_type": "code",
   "execution_count": 25,
   "metadata": {},
   "outputs": [],
   "source": [
    "date = pd.concat((date_train, date_test), keys=['train', 'test'])"
   ]
  },
  {
   "cell_type": "code",
   "execution_count": 26,
   "metadata": {},
   "outputs": [
    {
     "data": {
      "text/plain": [
       "14"
      ]
     },
     "execution_count": 26,
     "metadata": {},
     "output_type": "execute_result"
    }
   ],
   "source": [
    "del date_train, date_test\n",
    "gc.collect()"
   ]
  },
  {
   "cell_type": "code",
   "execution_count": 32,
   "metadata": {},
   "outputs": [],
   "source": [
    "date.columns = pd.MultiIndex.from_tuples([tuple(c.split('_')) for c in date.columns])"
   ]
  },
  {
   "cell_type": "code",
   "execution_count": 33,
   "metadata": {},
   "outputs": [],
   "source": [
    "time_station_start = date.groupby(level=1, axis=1).min(axis=1)"
   ]
  },
  {
   "cell_type": "code",
   "execution_count": 71,
   "metadata": {},
   "outputs": [],
   "source": [
    "def find_first_nonnan(row):\n",
    "    v = np.where(~np.isnan(row))[0]\n",
    "    if len(v)==0:\n",
    "        return np.nan\n",
    "    else:\n",
    "        return v[0]"
   ]
  },
  {
   "cell_type": "code",
   "execution_count": 72,
   "metadata": {},
   "outputs": [],
   "source": [
    "time_station_start['station_start'] = time_station_start.apply(find_first_nonnan, axis=1)"
   ]
  },
  {
   "cell_type": "code",
   "execution_count": 73,
   "metadata": {
    "scrolled": false
   },
   "outputs": [],
   "source": [
    "def find_last_nonnan(row):\n",
    "    v = np.where(~np.isnan(row))[0]\n",
    "    if len(v)==0:\n",
    "        return np.nan\n",
    "    else:\n",
    "        return v[-1]"
   ]
  },
  {
   "cell_type": "code",
   "execution_count": 74,
   "metadata": {},
   "outputs": [],
   "source": [
    "time_station_start['station_last'] = time_station_start.apply(find_last_nonnan, axis=1)"
   ]
  },
  {
   "cell_type": "code",
   "execution_count": 84,
   "metadata": {},
   "outputs": [],
   "source": [
    "time_station_start['station_start'] = time_station_start['station_start'].astype('category')\n",
    "time_station_start['station_last'] = time_station_start['station_last'].astype('category')"
   ]
  },
  {
   "cell_type": "code",
   "execution_count": 81,
   "metadata": {},
   "outputs": [],
   "source": [
    "time_station_start['time_start'] = time_station_start.iloc[:, :-2].min(axis=1)\n",
    "time_station_start['time_end'] = time_station_start.iloc[:, :-2].max(axis=1)"
   ]
  },
  {
   "cell_type": "code",
   "execution_count": 90,
   "metadata": {},
   "outputs": [],
   "source": [
    "time_station_start.drop(time_station_start.columns[:-4], axis=1, inplace=True)"
   ]
  },
  {
   "cell_type": "code",
   "execution_count": 92,
   "metadata": {},
   "outputs": [
    {
     "data": {
      "text/html": [
       "<div>\n",
       "<style scoped>\n",
       "    .dataframe tbody tr th:only-of-type {\n",
       "        vertical-align: middle;\n",
       "    }\n",
       "\n",
       "    .dataframe tbody tr th {\n",
       "        vertical-align: top;\n",
       "    }\n",
       "\n",
       "    .dataframe thead th {\n",
       "        text-align: right;\n",
       "    }\n",
       "</style>\n",
       "<table border=\"1\" class=\"dataframe\">\n",
       "  <thead>\n",
       "    <tr style=\"text-align: right;\">\n",
       "      <th></th>\n",
       "      <th></th>\n",
       "      <th>station_start</th>\n",
       "      <th>station_last</th>\n",
       "      <th>time_start</th>\n",
       "      <th>time_end</th>\n",
       "    </tr>\n",
       "    <tr>\n",
       "      <th></th>\n",
       "      <th>Id</th>\n",
       "      <th></th>\n",
       "      <th></th>\n",
       "      <th></th>\n",
       "      <th></th>\n",
       "    </tr>\n",
       "  </thead>\n",
       "  <tbody>\n",
       "    <tr>\n",
       "      <th rowspan=\"5\" valign=\"top\">train</th>\n",
       "      <th>4</th>\n",
       "      <td>0.0</td>\n",
       "      <td>52.0</td>\n",
       "      <td>82.24</td>\n",
       "      <td>87.29</td>\n",
       "    </tr>\n",
       "    <tr>\n",
       "      <th>6</th>\n",
       "      <td>4.0</td>\n",
       "      <td>52.0</td>\n",
       "      <td>1313.12</td>\n",
       "      <td>1315.75</td>\n",
       "    </tr>\n",
       "    <tr>\n",
       "      <th>7</th>\n",
       "      <td>0.0</td>\n",
       "      <td>52.0</td>\n",
       "      <td>1618.70</td>\n",
       "      <td>1624.42</td>\n",
       "    </tr>\n",
       "    <tr>\n",
       "      <th>9</th>\n",
       "      <td>0.0</td>\n",
       "      <td>52.0</td>\n",
       "      <td>1149.20</td>\n",
       "      <td>1154.16</td>\n",
       "    </tr>\n",
       "    <tr>\n",
       "      <th>11</th>\n",
       "      <td>0.0</td>\n",
       "      <td>52.0</td>\n",
       "      <td>602.64</td>\n",
       "      <td>606.02</td>\n",
       "    </tr>\n",
       "  </tbody>\n",
       "</table>\n",
       "</div>"
      ],
      "text/plain": [
       "         station_start station_last  time_start  time_end\n",
       "      Id                                                 \n",
       "train 4            0.0         52.0       82.24     87.29\n",
       "      6            4.0         52.0     1313.12   1315.75\n",
       "      7            0.0         52.0     1618.70   1624.42\n",
       "      9            0.0         52.0     1149.20   1154.16\n",
       "      11           0.0         52.0      602.64    606.02"
      ]
     },
     "execution_count": 92,
     "metadata": {},
     "output_type": "execute_result"
    }
   ],
   "source": [
    "time_station_start.head()"
   ]
  },
  {
   "cell_type": "code",
   "execution_count": 93,
   "metadata": {},
   "outputs": [],
   "source": [
    "time_station_start.columns = ['station_start', 'station_end', 'time_start', 'time_end']"
   ]
  },
  {
   "cell_type": "markdown",
   "metadata": {},
   "source": [
    "### Join `time_station_start` with `x`"
   ]
  },
  {
   "cell_type": "code",
   "execution_count": 94,
   "metadata": {},
   "outputs": [],
   "source": [
    "x = x.join(time_station_start)"
   ]
  },
  {
   "cell_type": "code",
   "execution_count": 96,
   "metadata": {},
   "outputs": [
    {
     "data": {
      "text/plain": [
       "34"
      ]
     },
     "execution_count": 96,
     "metadata": {},
     "output_type": "execute_result"
    }
   ],
   "source": [
    "del time_station_start\n",
    "gc.collect()\n",
    "\n",
    "del date\n",
    "gc.collect()"
   ]
  },
  {
   "cell_type": "code",
   "execution_count": 99,
   "metadata": {},
   "outputs": [],
   "source": [
    "x.sort_values(['station_start', 'time_start', 'Id'], inplace=True)"
   ]
  },
  {
   "cell_type": "code",
   "execution_count": 100,
   "metadata": {},
   "outputs": [
    {
     "data": {
      "text/plain": [
       "106"
      ]
     },
     "execution_count": 100,
     "metadata": {},
     "output_type": "execute_result"
    }
   ],
   "source": [
    "gc.collect()"
   ]
  },
  {
   "cell_type": "code",
   "execution_count": 102,
   "metadata": {},
   "outputs": [],
   "source": [
    "x.to_hdf('numeric_all.hdf', 'x', complib='zlib', comlevel=9, format='t')"
   ]
  },
  {
   "cell_type": "markdown",
   "metadata": {},
   "source": [
    "### Reload data"
   ]
  },
  {
   "cell_type": "code",
   "execution_count": 103,
   "metadata": {},
   "outputs": [],
   "source": [
    "x = pd.read_hdf('numeric_all.hdf', 'x')"
   ]
  },
  {
   "cell_type": "code",
   "execution_count": 104,
   "metadata": {},
   "outputs": [
    {
     "data": {
      "text/html": [
       "<div>\n",
       "<style scoped>\n",
       "    .dataframe tbody tr th:only-of-type {\n",
       "        vertical-align: middle;\n",
       "    }\n",
       "\n",
       "    .dataframe tbody tr th {\n",
       "        vertical-align: top;\n",
       "    }\n",
       "\n",
       "    .dataframe thead th {\n",
       "        text-align: right;\n",
       "    }\n",
       "</style>\n",
       "<table border=\"1\" class=\"dataframe\">\n",
       "  <thead>\n",
       "    <tr style=\"text-align: right;\">\n",
       "      <th></th>\n",
       "      <th></th>\n",
       "      <th>L0_S0_F0</th>\n",
       "      <th>L0_S0_F10</th>\n",
       "      <th>L0_S0_F12</th>\n",
       "      <th>L0_S0_F14</th>\n",
       "      <th>L0_S0_F16</th>\n",
       "      <th>L0_S0_F18</th>\n",
       "      <th>L0_S0_F2</th>\n",
       "      <th>L0_S0_F20</th>\n",
       "      <th>L0_S0_F22</th>\n",
       "      <th>L0_S0_F4</th>\n",
       "      <th>...</th>\n",
       "      <th>L3_S50_F4253</th>\n",
       "      <th>L3_S51_F4256</th>\n",
       "      <th>L3_S51_F4258</th>\n",
       "      <th>L3_S51_F4260</th>\n",
       "      <th>L3_S51_F4262</th>\n",
       "      <th>Response</th>\n",
       "      <th>station_start</th>\n",
       "      <th>station_end</th>\n",
       "      <th>time_start</th>\n",
       "      <th>time_end</th>\n",
       "    </tr>\n",
       "    <tr>\n",
       "      <th></th>\n",
       "      <th>Id</th>\n",
       "      <th></th>\n",
       "      <th></th>\n",
       "      <th></th>\n",
       "      <th></th>\n",
       "      <th></th>\n",
       "      <th></th>\n",
       "      <th></th>\n",
       "      <th></th>\n",
       "      <th></th>\n",
       "      <th></th>\n",
       "      <th></th>\n",
       "      <th></th>\n",
       "      <th></th>\n",
       "      <th></th>\n",
       "      <th></th>\n",
       "      <th></th>\n",
       "      <th></th>\n",
       "      <th></th>\n",
       "      <th></th>\n",
       "      <th></th>\n",
       "      <th></th>\n",
       "    </tr>\n",
       "  </thead>\n",
       "  <tbody>\n",
       "    <tr>\n",
       "      <th>test</th>\n",
       "      <th>510783</th>\n",
       "      <td>-0.180</td>\n",
       "      <td>-0.066</td>\n",
       "      <td>0.022</td>\n",
       "      <td>0.128</td>\n",
       "      <td>-0.204</td>\n",
       "      <td>-0.147</td>\n",
       "      <td>-0.213</td>\n",
       "      <td>-0.340</td>\n",
       "      <td>-0.340</td>\n",
       "      <td>0.367</td>\n",
       "      <td>...</td>\n",
       "      <td>NaN</td>\n",
       "      <td>NaN</td>\n",
       "      <td>NaN</td>\n",
       "      <td>NaN</td>\n",
       "      <td>NaN</td>\n",
       "      <td>NaN</td>\n",
       "      <td>0.0</td>\n",
       "      <td>52.0</td>\n",
       "      <td>0.00</td>\n",
       "      <td>1.61</td>\n",
       "    </tr>\n",
       "    <tr>\n",
       "      <th rowspan=\"2\" valign=\"top\">train</th>\n",
       "      <th>651542</th>\n",
       "      <td>-0.180</td>\n",
       "      <td>-0.021</td>\n",
       "      <td>0.022</td>\n",
       "      <td>0.168</td>\n",
       "      <td>-0.220</td>\n",
       "      <td>-0.163</td>\n",
       "      <td>-0.250</td>\n",
       "      <td>-0.340</td>\n",
       "      <td>-0.340</td>\n",
       "      <td>0.367</td>\n",
       "      <td>...</td>\n",
       "      <td>NaN</td>\n",
       "      <td>NaN</td>\n",
       "      <td>NaN</td>\n",
       "      <td>NaN</td>\n",
       "      <td>NaN</td>\n",
       "      <td>0.0</td>\n",
       "      <td>0.0</td>\n",
       "      <td>52.0</td>\n",
       "      <td>0.00</td>\n",
       "      <td>1.53</td>\n",
       "    </tr>\n",
       "    <tr>\n",
       "      <th>108193</th>\n",
       "      <td>-0.193</td>\n",
       "      <td>-0.021</td>\n",
       "      <td>0.030</td>\n",
       "      <td>0.208</td>\n",
       "      <td>-0.266</td>\n",
       "      <td>-0.078</td>\n",
       "      <td>-0.272</td>\n",
       "      <td>-0.340</td>\n",
       "      <td>-0.340</td>\n",
       "      <td>0.385</td>\n",
       "      <td>...</td>\n",
       "      <td>NaN</td>\n",
       "      <td>NaN</td>\n",
       "      <td>NaN</td>\n",
       "      <td>NaN</td>\n",
       "      <td>NaN</td>\n",
       "      <td>0.0</td>\n",
       "      <td>0.0</td>\n",
       "      <td>52.0</td>\n",
       "      <td>0.01</td>\n",
       "      <td>1.61</td>\n",
       "    </tr>\n",
       "    <tr>\n",
       "      <th rowspan=\"2\" valign=\"top\">test</th>\n",
       "      <th>430412</th>\n",
       "      <td>-0.153</td>\n",
       "      <td>-0.066</td>\n",
       "      <td>0.022</td>\n",
       "      <td>0.168</td>\n",
       "      <td>-0.056</td>\n",
       "      <td>0.029</td>\n",
       "      <td>-0.235</td>\n",
       "      <td>-0.338</td>\n",
       "      <td>-0.338</td>\n",
       "      <td>0.385</td>\n",
       "      <td>...</td>\n",
       "      <td>NaN</td>\n",
       "      <td>NaN</td>\n",
       "      <td>NaN</td>\n",
       "      <td>NaN</td>\n",
       "      <td>NaN</td>\n",
       "      <td>NaN</td>\n",
       "      <td>0.0</td>\n",
       "      <td>52.0</td>\n",
       "      <td>0.01</td>\n",
       "      <td>1.53</td>\n",
       "    </tr>\n",
       "    <tr>\n",
       "      <th>443497</th>\n",
       "      <td>-0.297</td>\n",
       "      <td>-0.021</td>\n",
       "      <td>0.052</td>\n",
       "      <td>0.208</td>\n",
       "      <td>-0.128</td>\n",
       "      <td>-0.051</td>\n",
       "      <td>-0.287</td>\n",
       "      <td>-0.340</td>\n",
       "      <td>-0.340</td>\n",
       "      <td>0.367</td>\n",
       "      <td>...</td>\n",
       "      <td>NaN</td>\n",
       "      <td>NaN</td>\n",
       "      <td>NaN</td>\n",
       "      <td>NaN</td>\n",
       "      <td>NaN</td>\n",
       "      <td>NaN</td>\n",
       "      <td>0.0</td>\n",
       "      <td>52.0</td>\n",
       "      <td>0.01</td>\n",
       "      <td>1.53</td>\n",
       "    </tr>\n",
       "  </tbody>\n",
       "</table>\n",
       "<p>5 rows × 973 columns</p>\n",
       "</div>"
      ],
      "text/plain": [
       "              L0_S0_F0  L0_S0_F10  L0_S0_F12  L0_S0_F14  L0_S0_F16  L0_S0_F18  \\\n",
       "      Id                                                                        \n",
       "test  510783    -0.180     -0.066      0.022      0.128     -0.204     -0.147   \n",
       "train 651542    -0.180     -0.021      0.022      0.168     -0.220     -0.163   \n",
       "      108193    -0.193     -0.021      0.030      0.208     -0.266     -0.078   \n",
       "test  430412    -0.153     -0.066      0.022      0.168     -0.056      0.029   \n",
       "      443497    -0.297     -0.021      0.052      0.208     -0.128     -0.051   \n",
       "\n",
       "              L0_S0_F2  L0_S0_F20  L0_S0_F22  L0_S0_F4    ...     \\\n",
       "      Id                                                  ...      \n",
       "test  510783    -0.213     -0.340     -0.340     0.367    ...      \n",
       "train 651542    -0.250     -0.340     -0.340     0.367    ...      \n",
       "      108193    -0.272     -0.340     -0.340     0.385    ...      \n",
       "test  430412    -0.235     -0.338     -0.338     0.385    ...      \n",
       "      443497    -0.287     -0.340     -0.340     0.367    ...      \n",
       "\n",
       "              L3_S50_F4253  L3_S51_F4256  L3_S51_F4258  L3_S51_F4260  \\\n",
       "      Id                                                               \n",
       "test  510783           NaN           NaN           NaN           NaN   \n",
       "train 651542           NaN           NaN           NaN           NaN   \n",
       "      108193           NaN           NaN           NaN           NaN   \n",
       "test  430412           NaN           NaN           NaN           NaN   \n",
       "      443497           NaN           NaN           NaN           NaN   \n",
       "\n",
       "              L3_S51_F4262  Response  station_start  station_end  time_start  \\\n",
       "      Id                                                                       \n",
       "test  510783           NaN       NaN            0.0         52.0        0.00   \n",
       "train 651542           NaN       0.0            0.0         52.0        0.00   \n",
       "      108193           NaN       0.0            0.0         52.0        0.01   \n",
       "test  430412           NaN       NaN            0.0         52.0        0.01   \n",
       "      443497           NaN       NaN            0.0         52.0        0.01   \n",
       "\n",
       "              time_end  \n",
       "      Id                \n",
       "test  510783      1.61  \n",
       "train 651542      1.53  \n",
       "      108193      1.61  \n",
       "test  430412      1.53  \n",
       "      443497      1.53  \n",
       "\n",
       "[5 rows x 973 columns]"
      ]
     },
     "execution_count": 104,
     "metadata": {},
     "output_type": "execute_result"
    }
   ],
   "source": [
    "x.head()"
   ]
  },
  {
   "cell_type": "code",
   "execution_count": 105,
   "metadata": {},
   "outputs": [],
   "source": [
    "a = x.head().copy()"
   ]
  },
  {
   "cell_type": "code",
   "execution_count": null,
   "metadata": {},
   "outputs": [],
   "source": [
    "a.apply(lambda x: hash(tuple(x[:-4])))"
   ]
  }
 ],
 "metadata": {
  "kernelspec": {
   "display_name": "Python 3",
   "language": "python",
   "name": "python3"
  },
  "language_info": {
   "codemirror_mode": {
    "name": "ipython",
    "version": 3
   },
   "file_extension": ".py",
   "mimetype": "text/x-python",
   "name": "python",
   "nbconvert_exporter": "python",
   "pygments_lexer": "ipython3",
   "version": "3.6.6"
  }
 },
 "nbformat": 4,
 "nbformat_minor": 2
}
