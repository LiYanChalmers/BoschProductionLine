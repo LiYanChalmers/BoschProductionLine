{
 "cells": [
  {
   "cell_type": "markdown",
   "metadata": {},
   "source": [
    "## Benchmark for measuring performance of engineered features and models\n",
    "\n",
    "Prepare data for later analysis"
   ]
  },
  {
   "cell_type": "code",
   "execution_count": 1,
   "metadata": {},
   "outputs": [],
   "source": [
    "import sys\n",
    "sys.path.insert(0, '../../bosch_helper')\n",
    "from bosch_helper import *\n",
    "\n",
    "%matplotlib inline"
   ]
  },
  {
   "cell_type": "markdown",
   "metadata": {},
   "source": [
    "### Reload data"
   ]
  },
  {
   "cell_type": "code",
   "execution_count": 2,
   "metadata": {},
   "outputs": [],
   "source": [
    "x = pd.read_hdf('numeric_all.hdf', 'x')"
   ]
  },
  {
   "cell_type": "markdown",
   "metadata": {},
   "source": [
    "### Hash value of all numeric rows and `LabelEncode` hash values"
   ]
  },
  {
   "cell_type": "code",
   "execution_count": 17,
   "metadata": {},
   "outputs": [],
   "source": [
    "hash_numeric = [x.iloc[(n-1)*10**5:n*10**5,:-5].apply(lambda u: hash(tuple(u)), axis=1) for n in range(25)]\n",
    "hash_numeric = pd.concat(hash_numeric)\n",
    "hash_numeric = pd.Series(hash_numeric)\n",
    "hash_numeric.name = 'hash_numeric'\n",
    "\n",
    "from sklearn.preprocessing import LabelEncoder\n",
    "\n",
    "le = LabelEncoder()\n",
    "le_results = le.fit_transform(hash_numeric)\n",
    "hash_numeric = pd.DataFrame(hash_numeric)\n",
    "hash_numeric['hash_encoded'] = le_results"
   ]
  },
  {
   "cell_type": "code",
   "execution_count": 23,
   "metadata": {},
   "outputs": [],
   "source": [
    "hash_numeric = pd.Series(hash_numeric, index=x.index)"
   ]
  },
  {
   "cell_type": "code",
   "execution_count": 24,
   "metadata": {},
   "outputs": [
    {
     "data": {
      "text/plain": [
       "       Id     \n",
       "test   510783     2207619\n",
       "train  651542      765871\n",
       "       108193     2153429\n",
       "test   430412     1945994\n",
       "       443497     1500260\n",
       "       513365      125995\n",
       "       517076      840102\n",
       "       520216      474153\n",
       "train  521262     1434581\n",
       "test   574529     1302025\n",
       "       580711     1259261\n",
       "train  587799     1308436\n",
       "       596800     2001183\n",
       "test   655057     1914706\n",
       "       663035     1924061\n",
       "train  669517      137761\n",
       "test   735338      740886\n",
       "train  737264      383251\n",
       "test   741666      823887\n",
       "       808387      709454\n",
       "       230046     1290742\n",
       "train  233347     2249427\n",
       "       236181       86253\n",
       "test   246448      758589\n",
       "       246449      758589\n",
       "       312055     1614360\n",
       "       313538      768838\n",
       "train  319905     1810059\n",
       "test   324164      841104\n",
       "train  378408     1164957\n",
       "                   ...   \n",
       "       2234852    2043777\n",
       "       2236319    2043777\n",
       "       2236342    2043777\n",
       "test   2255773    2043777\n",
       "train  2259704    2043777\n",
       "test   2270538    2043777\n",
       "       2271488    2043777\n",
       "train  2271489    2043777\n",
       "test   2271490    2043777\n",
       "train  2271491    2043777\n",
       "       2273571    2043777\n",
       "test   2285506    2043777\n",
       "train  2286301    2043777\n",
       "test   2292304    2043777\n",
       "train  2293692    2043777\n",
       "       2299958    2043777\n",
       "test   2302381    2043777\n",
       "train  2304232    2043777\n",
       "       2306237    2043777\n",
       "test   2307606    2043777\n",
       "train  2308719    2043777\n",
       "       2310819    2043777\n",
       "       2317065    2043777\n",
       "test   2319357    2043777\n",
       "train  2319644    2043777\n",
       "test   2322627    2043777\n",
       "       2323432    2043777\n",
       "train  2324729    2043777\n",
       "test   2331450    2043777\n",
       "       2353348    2043777\n",
       "Length: 2367495, dtype: int64"
      ]
     },
     "execution_count": 24,
     "metadata": {},
     "output_type": "execute_result"
    }
   ],
   "source": [
    "hash_numeric"
   ]
  },
  {
   "cell_type": "code",
   "execution_count": 19,
   "metadata": {},
   "outputs": [
    {
     "ename": "AttributeError",
     "evalue": "'numpy.ndarray' object has no attribute 'value_counts'",
     "output_type": "error",
     "traceback": [
      "\u001b[1;31m---------------------------------------------------------------------------\u001b[0m",
      "\u001b[1;31mAttributeError\u001b[0m                            Traceback (most recent call last)",
      "\u001b[1;32m<ipython-input-19-bd7f7486b79f>\u001b[0m in \u001b[0;36m<module>\u001b[1;34m()\u001b[0m\n\u001b[1;32m----> 1\u001b[1;33m \u001b[0mhash_value_counts\u001b[0m \u001b[1;33m=\u001b[0m \u001b[0mhash_numeric\u001b[0m\u001b[1;33m.\u001b[0m\u001b[0mvalue_counts\u001b[0m\u001b[1;33m(\u001b[0m\u001b[1;33m)\u001b[0m\u001b[1;33m\u001b[0m\u001b[0m\n\u001b[0m",
      "\u001b[1;31mAttributeError\u001b[0m: 'numpy.ndarray' object has no attribute 'value_counts'"
     ]
    }
   ],
   "source": [
    "hash_value_counts = hash_numeric.value_counts()"
   ]
  },
  {
   "cell_type": "markdown",
   "metadata": {},
   "source": [
    "### Label encode hash numeric"
   ]
  },
  {
   "cell_type": "markdown",
   "metadata": {},
   "source": [
    "### Unique value and vlaue counts of each column"
   ]
  },
  {
   "cell_type": "code",
   "execution_count": 103,
   "metadata": {},
   "outputs": [],
   "source": [
    "column_numeric = x.columns[:-6]"
   ]
  },
  {
   "cell_type": "markdown",
   "metadata": {},
   "source": [
    "#### Nubmer of unique values for each column"
   ]
  },
  {
   "cell_type": "code",
   "execution_count": 113,
   "metadata": {},
   "outputs": [],
   "source": [
    "number_unique_values = {c: x.loc[:, c].unique().shape[0] for c in column_numeric}\n",
    "\n",
    "number_unique_values = pd.Series(number_unique_values, index=column_numeric)\n",
    "\n",
    "number_unique_values.sort_values(inplace=True)"
   ]
  },
  {
   "cell_type": "markdown",
   "metadata": {},
   "source": [
    "#### Value counts of each column"
   ]
  },
  {
   "cell_type": "code",
   "execution_count": 108,
   "metadata": {},
   "outputs": [],
   "source": [
    "unique_counts = {c: x.loc[:, c].value_counts() for c in column_numeric}"
   ]
  },
  {
   "cell_type": "markdown",
   "metadata": {},
   "source": [
    "Plot one example"
   ]
  },
  {
   "cell_type": "code",
   "execution_count": null,
   "metadata": {},
   "outputs": [],
   "source": [
    "plt.plot(unique_counts['L0_S0_F0'].sort_index().index, unique_counts['L0_S0_F0'].sort_index().values)"
   ]
  },
  {
   "cell_type": "markdown",
   "metadata": {},
   "source": [
    "### Z-scaled features for each column"
   ]
  },
  {
   "cell_type": "code",
   "execution_count": 127,
   "metadata": {},
   "outputs": [],
   "source": [
    "import tqdm"
   ]
  },
  {
   "cell_type": "markdown",
   "metadata": {},
   "source": [
    "##### Directly calculating Z-score has memory error, I will not continue with it to speed up my progress."
   ]
  },
  {
   "cell_type": "code",
   "execution_count": null,
   "metadata": {},
   "outputs": [],
   "source": [
    "for c in tqdm.tqdm_notebook(column_numeric):\n",
    "    tmp_mean = x.loc[:, c].mean()\n",
    "    tmp_std = x.loc[:, c].std()\n",
    "    x[c+'_zscore'] = (x.loc[:, c] - tmp_mean) / tmp_std"
   ]
  },
  {
   "cell_type": "markdown",
   "metadata": {},
   "source": []
  }
 ],
 "metadata": {
  "kernelspec": {
   "display_name": "Python 3",
   "language": "python",
   "name": "python3"
  },
  "language_info": {
   "codemirror_mode": {
    "name": "ipython",
    "version": 3
   },
   "file_extension": ".py",
   "mimetype": "text/x-python",
   "name": "python",
   "nbconvert_exporter": "python",
   "pygments_lexer": "ipython3",
   "version": "3.6.6"
  }
 },
 "nbformat": 4,
 "nbformat_minor": 2
}
