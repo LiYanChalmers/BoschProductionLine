{
 "cells": [
  {
   "cell_type": "markdown",
   "metadata": {},
   "source": [
    "## Benchmark for measuring performance of engineered features and models\n",
    "\n",
    "Test benchmark 8, numeric features one by one"
   ]
  },
  {
   "cell_type": "code",
   "execution_count": 1,
   "metadata": {},
   "outputs": [
    {
     "name": "stderr",
     "output_type": "stream",
     "text": [
      "/c3se/NOBACKUP/users/lyaa/conda_dir/miniconda/envs/kaggle/lib/python3.7/site-packages/sklearn/utils/__init__.py:4: DeprecationWarning: Using or importing the ABCs from 'collections' instead of from 'collections.abc' is deprecated, and in 3.8 it will stop working\n",
      "  from collections import Sequence\n"
     ]
    }
   ],
   "source": [
    "import sys\n",
    "sys.path.insert(0, '../../bosch_helper')\n",
    "from bosch_helper import *\n",
    "\n",
    "%matplotlib inline"
   ]
  },
  {
   "cell_type": "markdown",
   "metadata": {},
   "source": [
    "### Load train and test data"
   ]
  },
  {
   "cell_type": "code",
   "execution_count": 2,
   "metadata": {},
   "outputs": [],
   "source": [
    "# important numeric features are imported\n",
    "important_features = pd.read_csv('../benchmark_1/important_numeric_features.csv', index_col=0, header=None)\n",
    "important_features = list(important_features.values.ravel())\n",
    "important_features.extend(['Id', 'Response'])"
   ]
  },
  {
   "cell_type": "code",
   "execution_count": 3,
   "metadata": {
    "scrolled": true
   },
   "outputs": [],
   "source": [
    "x_train_numeric = pd.read_csv('../../data/train_numeric.csv.zip', index_col=0, usecols=important_features, dtype=np.float32)\n",
    "\n",
    "y_train = x_train_numeric.Response\n",
    "x_train_numeric.drop(['Response'], axis=1, inplace=True)"
   ]
  },
  {
   "cell_type": "code",
   "execution_count": 4,
   "metadata": {},
   "outputs": [],
   "source": [
    "date_train = pd.read_csv('../benchmark_2/train_station_flow.csv.gz', index_col=0, header=None)"
   ]
  },
  {
   "cell_type": "code",
   "execution_count": 5,
   "metadata": {},
   "outputs": [],
   "source": [
    "x_train = x_train_numeric.join(date_train)\n",
    "\n",
    "columns = list(x_train.columns)\n",
    "columns[-1] = 'station_flow'\n",
    "x_train.columns = columns"
   ]
  },
  {
   "cell_type": "code",
   "execution_count": 6,
   "metadata": {},
   "outputs": [],
   "source": [
    "x_test_numeric = pd.read_csv('../../data/test_numeric.csv.zip', index_col=0, usecols=important_features[:-1], dtype=np.float32)\n",
    "\n",
    "date_test = pd.read_csv('../benchmark_2/test_station_flow.csv.gz', index_col=0, header=None)\n",
    "\n",
    "x_test = x_test_numeric.join(date_test)\n",
    "x_test.columns = columns"
   ]
  },
  {
   "cell_type": "code",
   "execution_count": 7,
   "metadata": {},
   "outputs": [],
   "source": [
    "x_train.index = x_train.index.astype(np.int64)\n",
    "x_test.index = x_test.index.astype(np.int64)"
   ]
  },
  {
   "cell_type": "code",
   "execution_count": 8,
   "metadata": {},
   "outputs": [
    {
     "data": {
      "text/plain": [
       "60"
      ]
     },
     "execution_count": 8,
     "metadata": {},
     "output_type": "execute_result"
    }
   ],
   "source": [
    "del x_train_numeric, x_test_numeric\n",
    "gc.collect()"
   ]
  },
  {
   "cell_type": "markdown",
   "metadata": {},
   "source": [
    "### Load benchmark_3 features"
   ]
  },
  {
   "cell_type": "code",
   "execution_count": 11,
   "metadata": {},
   "outputs": [],
   "source": [
    "start_chunk = pd.read_csv('../benchmark_3/start_chunk.csv.gz', index_col=0)\n",
    "\n",
    "start_chunk_train = start_chunk.loc[start_chunk.Response!=-1].drop(['Response'], axis=1)\n",
    "start_chunk_test = start_chunk.loc[start_chunk.Response==-1].drop(['Response'], axis=1)"
   ]
  },
  {
   "cell_type": "code",
   "execution_count": 12,
   "metadata": {},
   "outputs": [
    {
     "data": {
      "text/plain": [
       "28"
      ]
     },
     "execution_count": 12,
     "metadata": {},
     "output_type": "execute_result"
    }
   ],
   "source": [
    "x_train = x_train.join(start_chunk_train, on='Id')\n",
    "x_test = x_test.join(start_chunk_test, on='Id')\n",
    "\n",
    "gc.collect()"
   ]
  },
  {
   "cell_type": "markdown",
   "metadata": {},
   "source": [
    "### Load benchmark_4 features"
   ]
  },
  {
   "cell_type": "code",
   "execution_count": 13,
   "metadata": {},
   "outputs": [
    {
     "name": "stdout",
     "output_type": "stream",
     "text": [
      "(1183748, 14) (1183747, 14)\n"
     ]
    },
    {
     "data": {
      "text/plain": [
       "28"
      ]
     },
     "execution_count": 13,
     "metadata": {},
     "output_type": "execute_result"
    }
   ],
   "source": [
    "n = pd.read_csv('../benchmark_4/benchmark_4_neighbors.csv.gz', index_col=0)\n",
    "\n",
    "neighbor_train = n.loc[n.Response!=-1]\n",
    "neighbor_train.drop(['Response'], axis=1, inplace=True)\n",
    "\n",
    "neighbor_test = n.loc[n.Response==-1]\n",
    "neighbor_test.drop(['Response'], axis=1, inplace=True)\n",
    "\n",
    "print(neighbor_test.shape, neighbor_train.shape)\n",
    "\n",
    "x_train = x_train.join(neighbor_train, on='Id')\n",
    "x_test = x_test.join(neighbor_test, on='Id')\n",
    "\n",
    "gc.collect()"
   ]
  },
  {
   "cell_type": "markdown",
   "metadata": {},
   "source": [
    "### Add neighbor numeric features\n",
    "The important numeric features selected from previous and next records"
   ]
  },
  {
   "cell_type": "code",
   "execution_count": 15,
   "metadata": {},
   "outputs": [],
   "source": [
    "# Date + station flow data will be added to x\n",
    "x = pd.concat([x_train, x_test], keys=['train', 'test'])\n",
    "x.sort_index(axis=0, level='Id', inplace=True)"
   ]
  },
  {
   "cell_type": "code",
   "execution_count": 17,
   "metadata": {},
   "outputs": [],
   "source": [
    "from sklearn.preprocessing import LabelEncoder\n",
    "le = LabelEncoder()\n",
    "x['station_flow'] = le.fit_transform(x['station_flow'])"
   ]
  },
  {
   "cell_type": "code",
   "execution_count": 18,
   "metadata": {},
   "outputs": [],
   "source": [
    "# Add the neighbor records\n",
    "x = x.join(x.iloc[:, :150].shift(), rsuffix='_previous')\n",
    "x = x.join(x.iloc[:, :150].shift(-1), rsuffix='_next')"
   ]
  },
  {
   "cell_type": "code",
   "execution_count": 19,
   "metadata": {},
   "outputs": [
    {
     "data": {
      "text/plain": [
       "70"
      ]
     },
     "execution_count": 19,
     "metadata": {},
     "output_type": "execute_result"
    }
   ],
   "source": [
    "x_train = x.loc['train']\n",
    "x_test = x.loc['test']\n",
    "\n",
    "del x\n",
    "gc.collect()"
   ]
  },
  {
   "cell_type": "markdown",
   "metadata": {},
   "source": [
    "### Load benchmark_7 features\n",
    "\n",
    "Time series features"
   ]
  },
  {
   "cell_type": "code",
   "execution_count": 21,
   "metadata": {},
   "outputs": [],
   "source": [
    "time_features = pd.read_hdf('../benchmark_7/time_features_diff.hdf', 'time_features')\n",
    "time_features.drop(['time_start', 'time_end', 'time_duration', 'Response'], axis=1, inplace=True)"
   ]
  },
  {
   "cell_type": "code",
   "execution_count": 27,
   "metadata": {},
   "outputs": [],
   "source": [
    "time_feature_names = time_features.iloc[:, :-40].columns.tolist()"
   ]
  },
  {
   "cell_type": "code",
   "execution_count": 28,
   "metadata": {},
   "outputs": [],
   "source": [
    "# Do not use MeanTimeDiff features\n",
    "x_train = x_train.join(time_features.loc['train', time_feature_names])\n",
    "x_test = x_test.join(time_features.loc['test', time_feature_names])"
   ]
  },
  {
   "cell_type": "code",
   "execution_count": 29,
   "metadata": {},
   "outputs": [
    {
     "name": "stdout",
     "output_type": "stream",
     "text": [
      "(1183747, 754) (1183748, 754)\n"
     ]
    }
   ],
   "source": [
    "print(x_train.shape, x_test.shape)"
   ]
  },
  {
   "cell_type": "code",
   "execution_count": 30,
   "metadata": {},
   "outputs": [
    {
     "data": {
      "text/plain": [
       "265"
      ]
     },
     "execution_count": 30,
     "metadata": {},
     "output_type": "execute_result"
    }
   ],
   "source": [
    "del time_features\n",
    "gc.collect()"
   ]
  },
  {
   "cell_type": "markdown",
   "metadata": {},
   "source": [
    "### Load hash numeric features"
   ]
  },
  {
   "cell_type": "code",
   "execution_count": 31,
   "metadata": {},
   "outputs": [],
   "source": [
    "#hash_numeric = pd.read_hdf('benchmark_8_numeric_features_2.hdf', 'hash_numeric')"
   ]
  },
  {
   "cell_type": "code",
   "execution_count": 37,
   "metadata": {},
   "outputs": [],
   "source": [
    "#x_train = x_train.join(hash_numeric.loc['train'])\n",
    "#x_test = x_test.join(hash_numeric.loc['test'])"
   ]
  },
  {
   "cell_type": "markdown",
   "metadata": {},
   "source": [
    "### CV score based on stratified KFold with repeated models"
   ]
  },
  {
   "cell_type": "code",
   "execution_count": 41,
   "metadata": {},
   "outputs": [
    {
     "name": "stdout",
     "output_type": "stream",
     "text": [
      "[0]\ttrain-error:0.005811\ttest-error:0.005812\ttrain-MCC:0.3049\ttest-MCC:0.301217\n",
      "[1]\ttrain-error:0.005811\ttest-error:0.005812\ttrain-MCC:0.357286\ttest-MCC:0.353446\n",
      "[2]\ttrain-error:0.005811\ttest-error:0.005812\ttrain-MCC:0.361017\ttest-MCC:0.355661\n",
      "[3]\ttrain-error:0.005811\ttest-error:0.005812\ttrain-MCC:0.379892\ttest-MCC:0.366145\n",
      "[4]\ttrain-error:0.005811\ttest-error:0.005812\ttrain-MCC:0.379768\ttest-MCC:0.369155\n",
      "[5]\ttrain-error:0.005811\ttest-error:0.005812\ttrain-MCC:0.395364\ttest-MCC:0.374152\n",
      "[6]\ttrain-error:0.005811\ttest-error:0.005812\ttrain-MCC:0.406127\ttest-MCC:0.376381\n",
      "[7]\ttrain-error:0.005811\ttest-error:0.005812\ttrain-MCC:0.414221\ttest-MCC:0.38524\n",
      "[8]\ttrain-error:0.005811\ttest-error:0.005812\ttrain-MCC:0.418253\ttest-MCC:0.390957\n",
      "[9]\ttrain-error:0.005811\ttest-error:0.005812\ttrain-MCC:0.425792\ttest-MCC:0.389918\n",
      "[10]\ttrain-error:0.005811\ttest-error:0.005812\ttrain-MCC:0.430246\ttest-MCC:0.394966\n",
      "[11]\ttrain-error:0.005811\ttest-error:0.005812\ttrain-MCC:0.438164\ttest-MCC:0.399071\n",
      "[12]\ttrain-error:0.005811\ttest-error:0.005812\ttrain-MCC:0.442948\ttest-MCC:0.40461\n",
      "[13]\ttrain-error:0.005811\ttest-error:0.005812\ttrain-MCC:0.45166\ttest-MCC:0.404758\n",
      "[14]\ttrain-error:0.005811\ttest-error:0.005812\ttrain-MCC:0.456923\ttest-MCC:0.412776\n",
      "[15]\ttrain-error:0.005811\ttest-error:0.005812\ttrain-MCC:0.459396\ttest-MCC:0.414607\n",
      "[16]\ttrain-error:0.005811\ttest-error:0.005808\ttrain-MCC:0.461373\ttest-MCC:0.419565\n",
      "[17]\ttrain-error:0.005809\ttest-error:0.005808\ttrain-MCC:0.463351\ttest-MCC:0.417003\n",
      "[18]\ttrain-error:0.00578\ttest-error:0.005791\ttrain-MCC:0.466257\ttest-MCC:0.419481\n",
      "[19]\ttrain-error:0.005731\ttest-error:0.005698\ttrain-MCC:0.468316\ttest-MCC:0.422982\n",
      "[20]\ttrain-error:0.005661\ttest-error:0.00563\ttrain-MCC:0.470562\ttest-MCC:0.424223\n",
      "[21]\ttrain-error:0.005617\ttest-error:0.005567\ttrain-MCC:0.473383\ttest-MCC:0.425163\n",
      "[22]\ttrain-error:0.005581\ttest-error:0.005554\ttrain-MCC:0.475252\ttest-MCC:0.424677\n",
      "[23]\ttrain-error:0.005544\ttest-error:0.005521\ttrain-MCC:0.476763\ttest-MCC:0.425566\n",
      "[24]\ttrain-error:0.005497\ttest-error:0.005495\ttrain-MCC:0.479132\ttest-MCC:0.427924\n",
      "[25]\ttrain-error:0.005453\ttest-error:0.005461\ttrain-MCC:0.48105\ttest-MCC:0.427192\n",
      "[26]\ttrain-error:0.005409\ttest-error:0.00544\ttrain-MCC:0.482967\ttest-MCC:0.428229\n",
      "[27]\ttrain-error:0.005348\ttest-error:0.005373\ttrain-MCC:0.483713\ttest-MCC:0.427421\n",
      "[28]\ttrain-error:0.005266\ttest-error:0.005314\ttrain-MCC:0.484668\ttest-MCC:0.427553\n",
      "[29]\ttrain-error:0.005202\ttest-error:0.005293\ttrain-MCC:0.485957\ttest-MCC:0.427192\n",
      "[30]\ttrain-error:0.005146\ttest-error:0.005254\ttrain-MCC:0.488182\ttest-MCC:0.427604\n",
      "[31]\ttrain-error:0.005105\ttest-error:0.005208\ttrain-MCC:0.489034\ttest-MCC:0.426996\n",
      "[32]\ttrain-error:0.005073\ttest-error:0.005183\ttrain-MCC:0.49007\ttest-MCC:0.427772\n",
      "[33]\ttrain-error:0.005044\ttest-error:0.005149\ttrain-MCC:0.490056\ttest-MCC:0.429184\n"
     ]
    },
    {
     "ename": "KeyboardInterrupt",
     "evalue": "",
     "output_type": "error",
     "traceback": [
      "\u001b[0;31m---------------------------------------------------------------------------\u001b[0m",
      "\u001b[0;31mKeyboardInterrupt\u001b[0m                         Traceback (most recent call last)",
      "\u001b[0;32m<ipython-input-41-907b08a399a5>\u001b[0m in \u001b[0;36m<module>\u001b[0;34m()\u001b[0m\n\u001b[1;32m     15\u001b[0m                                                               \u001b[0mnum_boost_round\u001b[0m\u001b[0;34m=\u001b[0m\u001b[0;36m80\u001b[0m\u001b[0;34m,\u001b[0m \u001b[0mn_splits\u001b[0m\u001b[0;34m=\u001b[0m\u001b[0;36m5\u001b[0m\u001b[0;34m,\u001b[0m\u001b[0;34m\u001b[0m\u001b[0m\n\u001b[1;32m     16\u001b[0m                                                               \u001b[0mn_repeats\u001b[0m\u001b[0;34m=\u001b[0m\u001b[0;36m3\u001b[0m\u001b[0;34m,\u001b[0m \u001b[0mrandom_state\u001b[0m\u001b[0;34m=\u001b[0m\u001b[0;36m5870577\u001b[0m\u001b[0;34m,\u001b[0m\u001b[0;34m\u001b[0m\u001b[0m\n\u001b[0;32m---> 17\u001b[0;31m                                                               verbose_eval=True)\n\u001b[0m\u001b[1;32m     18\u001b[0m \u001b[0;34m\u001b[0m\u001b[0m\n\u001b[1;32m     19\u001b[0m \u001b[0mresults\u001b[0m \u001b[0;34m=\u001b[0m \u001b[0;34m{\u001b[0m\u001b[0;34m'clfs'\u001b[0m\u001b[0;34m:\u001b[0m \u001b[0mclfs\u001b[0m\u001b[0;34m,\u001b[0m \u001b[0;34m'cv_results'\u001b[0m\u001b[0;34m:\u001b[0m \u001b[0mcv_results\u001b[0m\u001b[0;34m,\u001b[0m \u001b[0;34m'running_time'\u001b[0m\u001b[0;34m:\u001b[0m \u001b[0mrunning_time\u001b[0m\u001b[0;34m}\u001b[0m\u001b[0;34m\u001b[0m\u001b[0m\n",
      "\u001b[0;32m/c3se/NOBACKUP/users/lyaa/Hebbe/bosch/bosch_helper/bosch_helper.py\u001b[0m in \u001b[0;36mcross_val_predict_skf_rm_xgb\u001b[0;34m(params, x_train, y_train, num_boost_round, n_splits, n_repeats, random_state, verbose_eval)\u001b[0m\n\u001b[1;32m    224\u001b[0m                                    \u001b[0mevals\u001b[0m\u001b[0;34m=\u001b[0m\u001b[0;34m[\u001b[0m\u001b[0;34m(\u001b[0m\u001b[0mdtrain\u001b[0m\u001b[0;34m,\u001b[0m \u001b[0;34m'train'\u001b[0m\u001b[0;34m)\u001b[0m\u001b[0;34m,\u001b[0m \u001b[0;34m(\u001b[0m\u001b[0mdtest\u001b[0m\u001b[0;34m,\u001b[0m \u001b[0;34m'test'\u001b[0m\u001b[0;34m)\u001b[0m\u001b[0;34m]\u001b[0m\u001b[0;34m,\u001b[0m\u001b[0;34m\u001b[0m\u001b[0m\n\u001b[1;32m    225\u001b[0m                                   \u001b[0mfeval\u001b[0m\u001b[0;34m=\u001b[0m\u001b[0mmcc_eval\u001b[0m\u001b[0;34m,\u001b[0m \u001b[0mmaximize\u001b[0m\u001b[0;34m=\u001b[0m\u001b[0;32mTrue\u001b[0m\u001b[0;34m,\u001b[0m \u001b[0mearly_stopping_rounds\u001b[0m\u001b[0;34m=\u001b[0m\u001b[0;32mNone\u001b[0m\u001b[0;34m,\u001b[0m\u001b[0;34m\u001b[0m\u001b[0m\n\u001b[0;32m--> 226\u001b[0;31m                                   evals_result=cv_results[m, n], verbose_eval=verbose_eval)\n\u001b[0m\u001b[1;32m    227\u001b[0m \u001b[0;34m\u001b[0m\u001b[0m\n\u001b[1;32m    228\u001b[0m             \u001b[0mrunning_time\u001b[0m\u001b[0;34m[\u001b[0m\u001b[0mm\u001b[0m\u001b[0;34m,\u001b[0m \u001b[0mn\u001b[0m\u001b[0;34m]\u001b[0m \u001b[0;34m=\u001b[0m \u001b[0mtime\u001b[0m\u001b[0;34m.\u001b[0m\u001b[0mtime\u001b[0m\u001b[0;34m(\u001b[0m\u001b[0;34m)\u001b[0m \u001b[0;34m-\u001b[0m \u001b[0mstart_time\u001b[0m\u001b[0;34m\u001b[0m\u001b[0m\n",
      "\u001b[0;32m/c3se/NOBACKUP/users/lyaa/conda_dir/miniconda/envs/kaggle/lib/python3.7/site-packages/xgboost/training.py\u001b[0m in \u001b[0;36mtrain\u001b[0;34m(params, dtrain, num_boost_round, evals, obj, feval, maximize, early_stopping_rounds, evals_result, verbose_eval, xgb_model, callbacks, learning_rates)\u001b[0m\n\u001b[1;32m    202\u001b[0m                            \u001b[0mevals\u001b[0m\u001b[0;34m=\u001b[0m\u001b[0mevals\u001b[0m\u001b[0;34m,\u001b[0m\u001b[0;34m\u001b[0m\u001b[0m\n\u001b[1;32m    203\u001b[0m                            \u001b[0mobj\u001b[0m\u001b[0;34m=\u001b[0m\u001b[0mobj\u001b[0m\u001b[0;34m,\u001b[0m \u001b[0mfeval\u001b[0m\u001b[0;34m=\u001b[0m\u001b[0mfeval\u001b[0m\u001b[0;34m,\u001b[0m\u001b[0;34m\u001b[0m\u001b[0m\n\u001b[0;32m--> 204\u001b[0;31m                            xgb_model=xgb_model, callbacks=callbacks)\n\u001b[0m\u001b[1;32m    205\u001b[0m \u001b[0;34m\u001b[0m\u001b[0m\n\u001b[1;32m    206\u001b[0m \u001b[0;34m\u001b[0m\u001b[0m\n",
      "\u001b[0;32m/c3se/NOBACKUP/users/lyaa/conda_dir/miniconda/envs/kaggle/lib/python3.7/site-packages/xgboost/training.py\u001b[0m in \u001b[0;36m_train_internal\u001b[0;34m(params, dtrain, num_boost_round, evals, obj, feval, xgb_model, callbacks)\u001b[0m\n\u001b[1;32m     72\u001b[0m         \u001b[0;31m# Skip the first update if it is a recovery step.\u001b[0m\u001b[0;34m\u001b[0m\u001b[0;34m\u001b[0m\u001b[0m\n\u001b[1;32m     73\u001b[0m         \u001b[0;32mif\u001b[0m \u001b[0mversion\u001b[0m \u001b[0;34m%\u001b[0m \u001b[0;36m2\u001b[0m \u001b[0;34m==\u001b[0m \u001b[0;36m0\u001b[0m\u001b[0;34m:\u001b[0m\u001b[0;34m\u001b[0m\u001b[0m\n\u001b[0;32m---> 74\u001b[0;31m             \u001b[0mbst\u001b[0m\u001b[0;34m.\u001b[0m\u001b[0mupdate\u001b[0m\u001b[0;34m(\u001b[0m\u001b[0mdtrain\u001b[0m\u001b[0;34m,\u001b[0m \u001b[0mi\u001b[0m\u001b[0;34m,\u001b[0m \u001b[0mobj\u001b[0m\u001b[0;34m)\u001b[0m\u001b[0;34m\u001b[0m\u001b[0m\n\u001b[0m\u001b[1;32m     75\u001b[0m             \u001b[0mbst\u001b[0m\u001b[0;34m.\u001b[0m\u001b[0msave_rabit_checkpoint\u001b[0m\u001b[0;34m(\u001b[0m\u001b[0;34m)\u001b[0m\u001b[0;34m\u001b[0m\u001b[0m\n\u001b[1;32m     76\u001b[0m             \u001b[0mversion\u001b[0m \u001b[0;34m+=\u001b[0m \u001b[0;36m1\u001b[0m\u001b[0;34m\u001b[0m\u001b[0m\n",
      "\u001b[0;32m/c3se/NOBACKUP/users/lyaa/conda_dir/miniconda/envs/kaggle/lib/python3.7/site-packages/xgboost/core.py\u001b[0m in \u001b[0;36mupdate\u001b[0;34m(self, dtrain, iteration, fobj)\u001b[0m\n\u001b[1;32m    892\u001b[0m         \u001b[0;32mif\u001b[0m \u001b[0mfobj\u001b[0m \u001b[0;32mis\u001b[0m \u001b[0;32mNone\u001b[0m\u001b[0;34m:\u001b[0m\u001b[0;34m\u001b[0m\u001b[0m\n\u001b[1;32m    893\u001b[0m             _check_call(_LIB.XGBoosterUpdateOneIter(self.handle, ctypes.c_int(iteration),\n\u001b[0;32m--> 894\u001b[0;31m                                                     dtrain.handle))\n\u001b[0m\u001b[1;32m    895\u001b[0m         \u001b[0;32melse\u001b[0m\u001b[0;34m:\u001b[0m\u001b[0;34m\u001b[0m\u001b[0m\n\u001b[1;32m    896\u001b[0m             \u001b[0mpred\u001b[0m \u001b[0;34m=\u001b[0m \u001b[0mself\u001b[0m\u001b[0;34m.\u001b[0m\u001b[0mpredict\u001b[0m\u001b[0;34m(\u001b[0m\u001b[0mdtrain\u001b[0m\u001b[0;34m)\u001b[0m\u001b[0;34m\u001b[0m\u001b[0m\n",
      "\u001b[0;31mKeyboardInterrupt\u001b[0m: "
     ]
    }
   ],
   "source": [
    "# CV\n",
    "# specify parameters \n",
    "# 'booster':'gbtree'\n",
    "params = {'max_depth':14, 'eta':0.03, 'silent':1, 'objective':'binary:logistic', 'nthread':20,\n",
    "         'lambda':4, 'subsample':0.9, 'min_child_weight':5, 'booster':'gbtree', 'alpha':0,\n",
    "         'base_score':0.0058, 'colsample_bytree':0.6}\n",
    "\n",
    "# 'booster':'dart'\n",
    "# params = {'max_depth':14, 'eta':0.03, 'silent':1, 'objective':'binary:logistic', 'nthread':20,\n",
    "#         'lambda':4, 'subsample':0.9, 'min_child_weight':5, 'booster':'dart', 'alpha':0,\n",
    "#         'base_score':0.0058, 'nthread':20, 'colsample_bytree':0.6, \n",
    "#         'sample_type':'uniform', 'normalize_type':'tree', 'rate_drop':0.1, 'skip_drop':0.2, 'one_drop':True}\n",
    "\n",
    "cv_results, clfs, running_time = cross_val_predict_skf_rm_xgb(params, x_train, y_train, \n",
    "                                                              num_boost_round=80, n_splits=5, \n",
    "                                                              n_repeats=3, random_state=5870577, \n",
    "                                                              verbose_eval=True)\n",
    "\n",
    "results = {'clfs': clfs, 'cv_results': cv_results, 'running_time': running_time}\n",
    "save_pickle(results, 'results_benchmark_8_hash_cv_1.pickle')"
   ]
  },
  {
   "cell_type": "code",
   "execution_count": null,
   "metadata": {},
   "outputs": [],
   "source": [
    "cv_train_mean = cv_results['train'].mean(axis=1)\n",
    "cv_train_std = cv_results['train'].std(axis=1)\n",
    "cv_test_mean = cv_results['test'].mean(axis=1)\n",
    "cv_test_std = cv_results['test'].std(axis=1)"
   ]
  },
  {
   "cell_type": "code",
   "execution_count": null,
   "metadata": {},
   "outputs": [],
   "source": [
    "plt.figure(figsize=(14, 7))\n",
    "plt.plot(np.arange(len(cv_train_mean)), cv_train_mean)\n",
    "plt.fill_between(np.arange(len(cv_train_mean)), cv_train_mean-cv_train_std, cv_train_mean+cv_train_std, alpha=0.5)\n",
    "plt.plot(np.arange(len(cv_train_mean)), cv_test_mean)\n",
    "plt.fill_between(np.arange(len(cv_test_mean)), cv_test_mean-cv_test_std, cv_test_mean+cv_test_std, alpha=0.5)\n",
    "plt.legend(['train', 'test'])"
   ]
  },
  {
   "cell_type": "code",
   "execution_count": 39,
   "metadata": {},
   "outputs": [
    {
     "name": "stdout",
     "output_type": "stream",
     "text": [
      "[0]\ttrain-error:0.005811\ttrain-MCC:0.306396\n",
      "[1]\ttrain-error:0.005811\ttrain-MCC:0.339485\n",
      "[2]\ttrain-error:0.005811\ttrain-MCC:0.369317\n",
      "[3]\ttrain-error:0.005811\ttrain-MCC:0.372731\n",
      "[4]\ttrain-error:0.005811\ttrain-MCC:0.383151\n",
      "[5]\ttrain-error:0.005811\ttrain-MCC:0.391325\n",
      "[6]\ttrain-error:0.005811\ttrain-MCC:0.399223\n",
      "[7]\ttrain-error:0.005811\ttrain-MCC:0.411606\n",
      "[8]\ttrain-error:0.005811\ttrain-MCC:0.416138\n",
      "[9]\ttrain-error:0.005811\ttrain-MCC:0.41999\n",
      "[10]\ttrain-error:0.005811\ttrain-MCC:0.431855\n",
      "[11]\ttrain-error:0.005811\ttrain-MCC:0.438718\n",
      "[12]\ttrain-error:0.005811\ttrain-MCC:0.441295\n",
      "[13]\ttrain-error:0.005811\ttrain-MCC:0.444503\n",
      "[14]\ttrain-error:0.005811\ttrain-MCC:0.447981\n",
      "[15]\ttrain-error:0.005811\ttrain-MCC:0.452005\n",
      "[16]\ttrain-error:0.005811\ttrain-MCC:0.455592\n",
      "[17]\ttrain-error:0.00581\ttrain-MCC:0.459684\n",
      "[18]\ttrain-error:0.005795\ttrain-MCC:0.461783\n",
      "[19]\ttrain-error:0.005738\ttrain-MCC:0.466827\n",
      "[20]\ttrain-error:0.005709\ttrain-MCC:0.468707\n",
      "[21]\ttrain-error:0.00565\ttrain-MCC:0.469718\n",
      "[22]\ttrain-error:0.005592\ttrain-MCC:0.471588\n",
      "[23]\ttrain-error:0.005539\ttrain-MCC:0.472711\n",
      "[24]\ttrain-error:0.005504\ttrain-MCC:0.474923\n",
      "[25]\ttrain-error:0.005463\ttrain-MCC:0.476257\n",
      "[26]\ttrain-error:0.005418\ttrain-MCC:0.478404\n",
      "[27]\ttrain-error:0.005349\ttrain-MCC:0.481262\n",
      "[28]\ttrain-error:0.005285\ttrain-MCC:0.483303\n",
      "[29]\ttrain-error:0.005215\ttrain-MCC:0.484933\n",
      "[30]\ttrain-error:0.005162\ttrain-MCC:0.487657\n",
      "[31]\ttrain-error:0.005118\ttrain-MCC:0.488889\n",
      "[32]\ttrain-error:0.005076\ttrain-MCC:0.490026\n",
      "[33]\ttrain-error:0.005039\ttrain-MCC:0.491303\n",
      "[34]\ttrain-error:0.005005\ttrain-MCC:0.491958\n",
      "[35]\ttrain-error:0.004982\ttrain-MCC:0.494354\n",
      "[36]\ttrain-error:0.004946\ttrain-MCC:0.495511\n",
      "[37]\ttrain-error:0.004934\ttrain-MCC:0.496679\n",
      "[38]\ttrain-error:0.004919\ttrain-MCC:0.499048\n",
      "[39]\ttrain-error:0.0049\ttrain-MCC:0.501009\n",
      "[40]\ttrain-error:0.004879\ttrain-MCC:0.502047\n",
      "[41]\ttrain-error:0.004861\ttrain-MCC:0.503086\n",
      "[42]\ttrain-error:0.004846\ttrain-MCC:0.50431\n",
      "[43]\ttrain-error:0.004827\ttrain-MCC:0.505427\n",
      "[44]\ttrain-error:0.004814\ttrain-MCC:0.506884\n",
      "[45]\ttrain-error:0.0048\ttrain-MCC:0.508352\n",
      "[46]\ttrain-error:0.004787\ttrain-MCC:0.509288\n",
      "[47]\ttrain-error:0.004771\ttrain-MCC:0.51059\n",
      "[48]\ttrain-error:0.004752\ttrain-MCC:0.513604\n",
      "[49]\ttrain-error:0.004738\ttrain-MCC:0.515267\n",
      "[50]\ttrain-error:0.004726\ttrain-MCC:0.517077\n",
      "[51]\ttrain-error:0.004713\ttrain-MCC:0.519949\n",
      "[52]\ttrain-error:0.004699\ttrain-MCC:0.52296\n",
      "[53]\ttrain-error:0.004685\ttrain-MCC:0.524842\n",
      "[54]\ttrain-error:0.004674\ttrain-MCC:0.525535\n",
      "[55]\ttrain-error:0.004656\ttrain-MCC:0.527555\n",
      "[56]\ttrain-error:0.004646\ttrain-MCC:0.528702\n",
      "[57]\ttrain-error:0.004638\ttrain-MCC:0.530786\n",
      "[58]\ttrain-error:0.00463\ttrain-MCC:0.532399\n",
      "[59]\ttrain-error:0.004616\ttrain-MCC:0.535634\n",
      "Optimal MCC = 0.536\n",
      "Optimal threshold = 0.111\n"
     ]
    },
    {
     "data": {
      "image/png": "[encoded data removed]",
      "text/plain": [
       "<Figure size 432x288 with 1 Axes>"
      ]
     },
     "metadata": {},
     "output_type": "display_data"
    }
   ],
   "source": [
    "# Train the model\n",
    "dtrain = xgb.DMatrix(x_train, label=y_train)\n",
    "params['seed'] = 28537894\n",
    "clf = xgb.train(params, dtrain, num_boost_round=60,\n",
    "               feval=mcc_eval, evals=[(dtrain, 'train')])\n",
    "\n",
    "y_train_pred = clf.predict(dtrain)\n",
    "\n",
    "# Find best threshold \n",
    "thresholds = np.linspace(0.01, 0.99, 400)\n",
    "mcc = np.array([matthews_corrcoef(y_train, y_train_pred>thr) for thr in thresholds])\n",
    "plt.plot(thresholds, mcc)\n",
    "best_threshold = thresholds[mcc.argmax()]\n",
    "\n",
    "print('Optimal MCC = {:.3f}'.format(mcc.max()))\n",
    "print('Optimal threshold = {:.3f}'.format(best_threshold))"
   ]
  },
  {
   "cell_type": "markdown",
   "metadata": {},
   "source": [
    "### Predict on test data"
   ]
  },
  {
   "cell_type": "code",
   "execution_count": 40,
   "metadata": {},
   "outputs": [],
   "source": [
    "dtest = xgb.DMatrix(x_test)\n",
    "y_test_pred = clf.predict(dtest)\n",
    "y_test_pred_int = (y_test_pred>best_threshold).astype(int)\n",
    "\n",
    "sub = pd.read_csv(\"../../data/sample_submission.csv.zip\", index_col=0)\n",
    "sub[\"Response\"] = y_test_pred_int\n",
    "sub.to_csv(\"benchmark_8_submission_hash_1.csv.gz\", compression=\"gzip\")"
   ]
  },
  {
   "cell_type": "markdown",
   "metadata": {},
   "source": [
    "Only With MeanTimeDiff Features:\n",
    "- LB: `n_estimators=60`: Private MCC = 0.44401, public MCC = 0.43569\n",
    "- CV: `n_estimators=80`: Score mean = 0.448, std = 0.013\n",
    "- CV: `n_estimators=60`: Score mean = 0.445491, std = 0.0133, MCC~[0.43218, 0.45880]\n",
    "\n",
    "Time series features, excluding MeanTimeDiff:\n",
    "- LB: `n_estimators=60`: Private MCC = 0.46212, public MCC = 0.44761\n",
    "- CV: `n_estimators=80`: Score mean = 0.454509, std = 0.00586\n",
    "- CV: `n_estimators=60`: Score mean = 0.4534794, std = 0.0067, MCC~[0.44682, 0.46014]\n",
    "\n",
    "Time series features, including MeanTimeDiff:\n",
    "- LB: `n_estimators=60`: Private MCC = 0.43169, public MCC = 0.42776\n",
    "- CV: `n_estimators=80`: Score mean = 0.452, std = 0.009\n",
    "- CV: `n_estimators=60`: Score mean = 0.449, std = 0.009, MCC~[0.440109, 0.458029]\n",
    "- Apparently overfitting since CV is higher than LB"
   ]
  },
  {
   "cell_type": "code",
   "execution_count": null,
   "metadata": {
    "scrolled": false
   },
   "outputs": [],
   "source": [
    "cv_test_mean[60]+cv_test_std[60]\n",
    "\n",
    "cv_test_mean[60]-cv_test_std[60]\n",
    "\n",
    "cv_test_mean[79]\n",
    "\n",
    "cv_test_std[60]"
   ]
  },
  {
   "cell_type": "code",
   "execution_count": null,
   "metadata": {},
   "outputs": [],
   "source": []
  }
 ],
 "metadata": {
  "kernelspec": {
   "display_name": "Python 3",
   "language": "python",
   "name": "python3"
  },
  "language_info": {
   "codemirror_mode": {
    "name": "ipython",
    "version": 3
   },
   "file_extension": ".py",
   "mimetype": "text/x-python",
   "name": "python",
   "nbconvert_exporter": "python",
   "pygments_lexer": "ipython3",
   "version": "3.7.0"
  }
 },
 "nbformat": 4,
 "nbformat_minor": 2
}
