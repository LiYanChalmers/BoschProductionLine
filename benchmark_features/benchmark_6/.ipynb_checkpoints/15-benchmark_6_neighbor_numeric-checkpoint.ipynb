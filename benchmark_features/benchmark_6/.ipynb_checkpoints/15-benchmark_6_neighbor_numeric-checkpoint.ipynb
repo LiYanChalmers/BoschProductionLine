{
 "cells": [
  {
   "cell_type": "markdown",
   "metadata": {},
   "source": [
    "## Benchmark for measuring performance of engineered features and models\n",
    "Add features created from previous and next records in original order"
   ]
  },
  {
   "cell_type": "code",
   "execution_count": 1,
   "metadata": {},
   "outputs": [
    {
     "name": "stderr",
     "output_type": "stream",
     "text": [
      "/c3se/NOBACKUP/users/lyaa/conda_dir/miniconda/envs/kaggle/lib/python3.7/site-packages/sklearn/utils/__init__.py:4: DeprecationWarning: Using or importing the ABCs from 'collections' instead of from 'collections.abc' is deprecated, and in 3.8 it will stop working\n",
      "  from collections import Sequence\n"
     ]
    }
   ],
   "source": [
    "import os\n",
    "if os.name=='nt':\n",
    "    try:\n",
    "        mingw_path = 'C:\\\\Program Files\\\\mingw-w64\\\\x86_64-8.1.0-posix-seh-rt_v6-rev0\\\\mingw64\\\\bin'\n",
    "        os.environ['PATH'] = mingw_path + ';' + os.environ['PATH']\n",
    "    except:\n",
    "        pass\n",
    "\n",
    "import numpy as np\n",
    "import pandas as pd\n",
    "from xgboost import XGBClassifier\n",
    "import xgboost as xgb\n",
    "from sklearn.metrics import matthews_corrcoef, roc_auc_score\n",
    "from sklearn.model_selection import cross_val_score\n",
    "from sklearn.model_selection import train_test_split, RepeatedStratifiedKFold\n",
    "from sklearn.model_selection import cross_validate, cross_val_predict, StratifiedKFold\n",
    "from sklearn.metrics import roc_auc_score\n",
    "import matplotlib.pyplot as plt\n",
    "import seaborn as sns\n",
    "from sys import getsizeof\n",
    "import time\n",
    "import gc\n",
    "\n",
    "import warnings\n",
    "warnings.filterwarnings(\"ignore\")\n",
    "\n",
    "%matplotlib inline"
   ]
  },
  {
   "cell_type": "code",
   "execution_count": 2,
   "metadata": {},
   "outputs": [],
   "source": [
    "import pickle\n",
    "\n",
    "def save_pickle(x, filename):\n",
    "    with open(filename, 'wb') as handle:\n",
    "        pickle.dump(x, handle, protocol=pickle.HIGHEST_PROTOCOL)\n",
    "\n",
    "def read_pickle(filename):\n",
    "    with open(filename, 'rb') as handle:\n",
    "        x = pickle.load(handle)\n",
    "    return x"
   ]
  },
  {
   "cell_type": "code",
   "execution_count": 3,
   "metadata": {},
   "outputs": [],
   "source": [
    "from numba import jit\n",
    "\n",
    "@jit\n",
    "def mcc(tp, tn, fp, fn):\n",
    "    sup = tp * tn - fp * fn\n",
    "    inf = (tp + fp) * (tp + fn) * (tn + fp) * (tn + fn)\n",
    "    if inf==0:\n",
    "        return 0\n",
    "    else:\n",
    "        return sup / np.sqrt(inf)\n",
    "\n",
    "@jit\n",
    "def eval_mcc(y_true, y_prob, show=False):\n",
    "    idx = np.argsort(y_prob)\n",
    "    y_true_sort = y_true[idx]\n",
    "    n = y_true.shape[0]\n",
    "    nump = 1.0 * np.sum(y_true) # number of positive\n",
    "    numn = n - nump # number of negative\n",
    "    tp = nump\n",
    "    tn = 0.0\n",
    "    fp = numn\n",
    "    fn = 0.0\n",
    "    best_mcc = 0.0\n",
    "    best_id = -1\n",
    "    prev_proba = -1\n",
    "    best_proba = -1\n",
    "    mccs = np.zeros(n)\n",
    "    new_mcc = 0\n",
    "    for i in range(n):\n",
    "        # all items with idx < i are predicted negative while others are predicted positive\n",
    "        # only evaluate mcc when probability changes\n",
    "        proba = y_prob[idx[i]]\n",
    "        if proba != prev_proba:\n",
    "            prev_proba = proba\n",
    "            new_mcc = mcc(tp, tn, fp, fn)\n",
    "            if new_mcc >= best_mcc:\n",
    "                best_mcc = new_mcc\n",
    "                best_id = i\n",
    "                best_proba = proba\n",
    "        mccs[i] = new_mcc\n",
    "        if y_true_sort[i] == 1:\n",
    "            tp -= 1.0\n",
    "            fn += 1.0\n",
    "        else:\n",
    "            fp -= 1.0\n",
    "            tn += 1.0\n",
    "    if show:\n",
    "        y_pred = (y_prob >= best_proba).astype(int)\n",
    "        score = matthews_corrcoef(y_true, y_pred)\n",
    "        print(score, best_mcc)\n",
    "        plt.plot(mccs)\n",
    "        return best_proba, best_mcc, y_pred\n",
    "    else:\n",
    "        return best_mcc\n",
    "    \n",
    "def mcc_eval(y_prob, dtrain):\n",
    "    y_true = dtrain.get_label()\n",
    "    best_mcc = eval_mcc(y_true, y_prob)\n",
    "    return 'MCC', best_mcc"
   ]
  },
  {
   "cell_type": "code",
   "execution_count": 4,
   "metadata": {},
   "outputs": [],
   "source": [
    "def cross_val_predict_rskf(clf, x_train, y_train, n_splits=3, \n",
    "                           n_repeats=2, random_state=42, verbose=False, early_stopping=10):\n",
    "    '''\n",
    "    Repeated stratified KFold CV, returns predictions for \n",
    "    each repeat and average score.\n",
    "    n_repeats: repetitions of CV\n",
    "    to disable erlay stopping, set early_stopping to None\n",
    "    '''\n",
    "    scores = []\n",
    "    n_trees = []\n",
    "    clfs = []\n",
    "    running_time = []\n",
    "    \n",
    "    rskf = RepeatedStratifiedKFold(n_repeats=n_repeats, n_splits=n_splits, \n",
    "                                   random_state=0)\n",
    "    np.random.seed(random_state)\n",
    "    for n, (train_index, test_index) in enumerate(rskf.split(x_train, y_train)):\n",
    "        print('Round {}'.format(n))\n",
    "        start_time = time.time()\n",
    "        x_train_tmp, x_test_tmp = x_train.iloc[train_index], x_train.iloc[test_index]\n",
    "        y_train_tmp, y_test_tmp = y_train.iloc[train_index], y_train.iloc[test_index]\n",
    "\n",
    "        clf.random_state = np.random.randint(10000000)\n",
    "        \n",
    "        if early_stopping is not None:\n",
    "            clf.fit(x_train_tmp, y_train_tmp, \n",
    "                    eval_set=[(x_test_tmp, y_test_tmp)], \n",
    "                    eval_metric=mcc_eval, early_stopping_rounds=early_stopping,\n",
    "                    verbose=verbose)\n",
    "            scores.append(-clf.best_score)\n",
    "            n_trees.append(clf.best_ntree_limit)\n",
    "        else:\n",
    "            clf.fit(x_train_tmp, y_train_tmp)\n",
    "            scores.append(eval_mcc(y_test_tmp.values, clf.predict_proba(x_test_tmp)[:, 1]))\n",
    "            n_trees.append(clf.n_estimators)\n",
    "        \n",
    "        clfs.append(clf)\n",
    "        running_time.append(time.time()-start_time)\n",
    "        print('Split {}, score = {:.3f}, best_ntree_limit = {}, total time = {:.3f} min'.format(n, scores[n], \n",
    "            n_trees[n], sum(running_time)/60))\n",
    "\n",
    "    print('Score mean = {:.3f}, std = {:.3f}'.format(np.mean(scores), np.std(scores)))\n",
    "    \n",
    "    return clfs, scores, n_trees, running_time"
   ]
  },
  {
   "cell_type": "code",
   "execution_count": 5,
   "metadata": {},
   "outputs": [],
   "source": [
    "def cross_val_predict_skf_rm(clf, x_train, y_train, n_splits=3, \n",
    "                           n_repeats=2, random_state=42, verbose=False, early_stopping=10):\n",
    "    '''\n",
    "    Stratified KFold CV with repeated models\n",
    "    to disable erlay stopping, set early_stopping to None\n",
    "    '''\n",
    "    scores = []\n",
    "    n_trees = []\n",
    "    clfs = []\n",
    "    running_time = []\n",
    "\n",
    "    skf = StratifiedKFold(n_splits=n_splits, random_state=0, shuffle=True)\n",
    "    np.random.seed(random_state)\n",
    "\n",
    "    for m in range(n_repeats):\n",
    "        print('Repeat {}'.format(m))\n",
    "        for n, (train_index, test_index) in enumerate(skf.split(x_train, y_train)):\n",
    "            start_time = time.time()\n",
    "            x_train_tmp, x_test_tmp = x_train.iloc[train_index], x_train.iloc[test_index]\n",
    "            y_train_tmp, y_test_tmp = y_train.iloc[train_index], y_train.iloc[test_index]\n",
    "\n",
    "            clf.random_state = np.random.randint(10000000)\n",
    "            # print(clf.random_state)\n",
    "\n",
    "            if early_stopping is not None:\n",
    "                clf.fit(x_train_tmp, y_train_tmp, \n",
    "                        eval_set=[(x_test_tmp, y_test_tmp)], \n",
    "                        eval_metric=mcc_eval, early_stopping_rounds=early_stopping,\n",
    "                        verbose=verbose)\n",
    "                scores.append(-clf.best_score)\n",
    "                n_trees.append(clf.best_ntree_limit)\n",
    "            else:\n",
    "                clf.fit(x_train_tmp, y_train_tmp)\n",
    "                scores.append(eval_mcc(y_test_tmp.values, clf.predict_proba(x_test_tmp)[:, 1]))\n",
    "                n_trees.append(clf.n_estimators)\n",
    "            \n",
    "            clfs.append(clf)\n",
    "            running_time.append(time.time() - start_time)\n",
    "            print('Split {}, score = {:.3f}, n_best_trees = {}, total time = {:.3f} min'.format(n, \n",
    "                scores[m*n_repeats+n], n_trees[m*n_repeats+n], sum(running_time)/60))\n",
    "\n",
    "    print('Score mean = {:.3f}, std = {:.3f}'.format(np.mean(scores), np.std(scores)))\n",
    "    \n",
    "    return clfs, scores, n_trees, running_time"
   ]
  },
  {
   "cell_type": "code",
   "execution_count": 6,
   "metadata": {},
   "outputs": [],
   "source": [
    "def cross_val_predict_skf_rm_xgb(params, x_train, y_train, num_boost_round=3, n_splits=3, \n",
    "                           n_repeats=2, random_state=3795264, verbose_eval=False):\n",
    "    '''\n",
    "    Stratified KFold CV with repeated models\n",
    "    Early stopping is totally disabled\n",
    "    Uses xgb.cv API\n",
    "    verbose_eval is the same as in xgb.train\n",
    "    '''\n",
    "    cv_results = {}\n",
    "    clfs = {}\n",
    "    running_time = {}\n",
    "    \n",
    "    np.random.seed(random_state)\n",
    "    skf = StratifiedKFold(n_splits=n_splits, random_state=np.random.randint(10**6), shuffle=True)\n",
    "    \n",
    "    for m in range(n_repeats):\n",
    "        for n, (train_index, test_index) in enumerate(skf.split(x_train, y_train)):\n",
    "            \n",
    "            start_time = time.time()\n",
    "            \n",
    "            # Construct DMatrix\n",
    "            dtrain = xgb.DMatrix(x_train.iloc[train_index], label=y_train.iloc[train_index])\n",
    "            dtest = xgb.DMatrix(x_train.iloc[test_index], label=y_train.iloc[test_index])\n",
    "            \n",
    "            # Placeholder for evals_result\n",
    "            cv_results[m, n] = {}\n",
    "            params['seed'] = np.random.randint(10**6)\n",
    "            clfs[m, n] = xgb.train(params, dtrain, num_boost_round=num_boost_round,\n",
    "                                   evals=[(dtrain, 'train'), (dtest, 'test')],\n",
    "                                  feval=mcc_eval, maximize=True, early_stopping_rounds=None, \n",
    "                                  evals_result=cv_results[m, n], verbose_eval=verbose_eval)\n",
    "        \n",
    "            running_time[m, n] = time.time() - start_time\n",
    "            \n",
    "            print('Repeat {}, split {}, test MCC = {:.3f}, running time = {:.3f} min'.format(m, n, \n",
    "                cv_results[m, n]['test']['MCC'][-1], running_time[m, n]/60))\n",
    "        \n",
    "    # Post-process cv_results\n",
    "    cv_results_final = {}\n",
    "    for m in range(n_repeats):\n",
    "        for n in range(n_splits):\n",
    "            cv_results_final['train', m, n] = cv_results[m, n]['train']['MCC']\n",
    "            cv_results_final['test', m, n] = cv_results[m, n]['test']['MCC']\n",
    "    \n",
    "    df = pd.DataFrame.from_dict(cv_results_final)\n",
    "    df.index.name = 'iteration'\n",
    "    df.columns.names = ['dataset', 'repeat', 'split']\n",
    "\n",
    "    print('Score mean = {:.3f}, std = {:.3f}'.format(df['test'].iloc[-1].mean(), df['test'].iloc[-1].std()))\n",
    "    \n",
    "    return df, clfs, running_time"
   ]
  },
  {
   "cell_type": "markdown",
   "metadata": {},
   "source": [
    "### Load train and test data"
   ]
  },
  {
   "cell_type": "code",
   "execution_count": 7,
   "metadata": {},
   "outputs": [],
   "source": [
    "# important numeric features are imported\n",
    "important_features = pd.read_csv('../benchmark_1/important_numeric_features.csv', index_col=0, header=None)\n",
    "important_features = list(important_features.values.ravel())\n",
    "important_features.extend(['Id', 'Response'])"
   ]
  },
  {
   "cell_type": "code",
   "execution_count": 8,
   "metadata": {
    "scrolled": true
   },
   "outputs": [],
   "source": [
    "x_train_numeric = pd.read_csv('../../data/train_numeric.csv.zip', index_col=0, usecols=important_features, dtype=np.float32)\n",
    "\n",
    "y_train = x_train_numeric.Response\n",
    "x_train_numeric.drop(['Response'], axis=1, inplace=True)"
   ]
  },
  {
   "cell_type": "code",
   "execution_count": 9,
   "metadata": {},
   "outputs": [],
   "source": [
    "date_train = pd.read_csv('../benchmark_2/train_station_flow.csv.gz', index_col=0, header=None)"
   ]
  },
  {
   "cell_type": "code",
   "execution_count": 10,
   "metadata": {},
   "outputs": [],
   "source": [
    "x_train = x_train_numeric.join(date_train)\n",
    "\n",
    "columns = list(x_train.columns)\n",
    "columns[-1] = 'station_flow'\n",
    "x_train.columns = columns"
   ]
  },
  {
   "cell_type": "code",
   "execution_count": 11,
   "metadata": {},
   "outputs": [],
   "source": [
    "x_test_numeric = pd.read_csv('../../data/test_numeric.csv.zip', index_col=0, usecols=important_features[:-1], dtype=np.float32)\n",
    "\n",
    "date_test = pd.read_csv('../benchmark_2/test_station_flow.csv.gz', index_col=0, header=None)\n",
    "\n",
    "x_test = x_test_numeric.join(date_test)\n",
    "x_test.columns = columns"
   ]
  },
  {
   "cell_type": "code",
   "execution_count": 12,
   "metadata": {},
   "outputs": [],
   "source": [
    "x_train.index = x_train.index.astype(np.int64)\n",
    "x_test.index = x_test.index.astype(np.int64)"
   ]
  },
  {
   "cell_type": "code",
   "execution_count": 13,
   "metadata": {},
   "outputs": [
    {
     "data": {
      "text/plain": [
       "516"
      ]
     },
     "execution_count": 13,
     "metadata": {},
     "output_type": "execute_result"
    }
   ],
   "source": [
    "del x_train_numeric, x_test_numeric\n",
    "gc.collect()"
   ]
  },
  {
   "cell_type": "markdown",
   "metadata": {},
   "source": [
    "### Load benchmark_3 features"
   ]
  },
  {
   "cell_type": "code",
   "execution_count": 14,
   "metadata": {},
   "outputs": [],
   "source": [
    "start_chunk = pd.read_csv('../benchmark_3/start_chunk.csv.gz', index_col=0)\n",
    "\n",
    "start_chunk_train = start_chunk.loc[start_chunk.Response!=-1].drop(['Response'], axis=1)\n",
    "start_chunk_test = start_chunk.loc[start_chunk.Response==-1].drop(['Response'], axis=1)"
   ]
  },
  {
   "cell_type": "code",
   "execution_count": 15,
   "metadata": {},
   "outputs": [
    {
     "data": {
      "text/plain": [
       "35"
      ]
     },
     "execution_count": 15,
     "metadata": {},
     "output_type": "execute_result"
    }
   ],
   "source": [
    "x_train = x_train.join(start_chunk_train, on='Id')\n",
    "x_test = x_test.join(start_chunk_test, on='Id')\n",
    "\n",
    "gc.collect()"
   ]
  },
  {
   "cell_type": "markdown",
   "metadata": {},
   "source": [
    "### Load benchmark_4 features"
   ]
  },
  {
   "cell_type": "code",
   "execution_count": 16,
   "metadata": {},
   "outputs": [
    {
     "name": "stdout",
     "output_type": "stream",
     "text": [
      "(1183748, 14) (1183747, 14)\n"
     ]
    },
    {
     "data": {
      "text/plain": [
       "28"
      ]
     },
     "execution_count": 16,
     "metadata": {},
     "output_type": "execute_result"
    }
   ],
   "source": [
    "n = pd.read_csv('../benchmark_4/benchmark_4_neighbors.csv.gz', index_col=0)\n",
    "\n",
    "neighbor_train = n.loc[n.Response!=-1]\n",
    "neighbor_train.drop(['Response'], axis=1, inplace=True)\n",
    "\n",
    "neighbor_test = n.loc[n.Response==-1]\n",
    "neighbor_test.drop(['Response'], axis=1, inplace=True)\n",
    "\n",
    "print(neighbor_test.shape, neighbor_train.shape)\n",
    "\n",
    "x_train = x_train.join(neighbor_train, on='Id')\n",
    "x_test = x_test.join(neighbor_test, on='Id')\n",
    "\n",
    "gc.collect()"
   ]
  },
  {
   "cell_type": "markdown",
   "metadata": {},
   "source": [
    "### Add neighbor numeric features\n",
    "The important numeric features selected from previous and next records"
   ]
  },
  {
   "cell_type": "code",
   "execution_count": 17,
   "metadata": {},
   "outputs": [],
   "source": [
    "# Date + station flow data will be added to x\n",
    "x = pd.concat([x_train, x_test], keys=['train', 'test'])\n",
    "x.sort_index(axis=0, level='Id', inplace=True)\n",
    "\n",
    "# Add the neighbor records\n",
    "x = x.join(x.iloc[:, :150].shift(), rsuffix='_previous')\n",
    "x = x.join(x.iloc[:, :150].shift(-1), rsuffix='_next')"
   ]
  },
  {
   "cell_type": "code",
   "execution_count": 18,
   "metadata": {},
   "outputs": [],
   "source": [
    "x_train = x.loc['train']\n",
    "x_test = x.loc['test']"
   ]
  },
  {
   "cell_type": "code",
   "execution_count": 19,
   "metadata": {},
   "outputs": [
    {
     "data": {
      "text/plain": [
       "63"
      ]
     },
     "execution_count": 19,
     "metadata": {},
     "output_type": "execute_result"
    }
   ],
   "source": [
    "del x\n",
    "gc.collect()"
   ]
  },
  {
   "cell_type": "code",
   "execution_count": 20,
   "metadata": {},
   "outputs": [],
   "source": [
    "# u = x.iloc[:, :150].shift()\n",
    "# x = x.join(u, rsuffix='_previous')\n",
    "\n",
    "#pd.Series(x.columns).to_csv('x_colname.csv')"
   ]
  },
  {
   "cell_type": "markdown",
   "metadata": {},
   "source": [
    "### CV score based on stratified KFold with repeated models"
   ]
  },
  {
   "cell_type": "code",
   "execution_count": 21,
   "metadata": {},
   "outputs": [
    {
     "name": "stdout",
     "output_type": "stream",
     "text": [
      "Repeat 0, split 0, test MCC = 0.427, running time = 7.816 min\n",
      "Repeat 0, split 1, test MCC = 0.468, running time = 7.035 min\n",
      "Repeat 0, split 2, test MCC = 0.451, running time = 7.060 min\n",
      "Repeat 0, split 3, test MCC = 0.445, running time = 6.969 min\n",
      "Repeat 0, split 4, test MCC = 0.454, running time = 6.982 min\n",
      "Repeat 1, split 0, test MCC = 0.440, running time = 6.984 min\n",
      "Repeat 1, split 1, test MCC = 0.465, running time = 7.045 min\n",
      "Repeat 1, split 2, test MCC = 0.442, running time = 7.050 min\n",
      "Repeat 1, split 3, test MCC = 0.443, running time = 7.034 min\n",
      "Repeat 1, split 4, test MCC = 0.456, running time = 7.004 min\n",
      "Repeat 2, split 0, test MCC = 0.436, running time = 7.136 min\n",
      "Repeat 2, split 1, test MCC = 0.467, running time = 7.265 min\n",
      "Repeat 2, split 2, test MCC = 0.446, running time = 7.100 min\n",
      "Repeat 2, split 3, test MCC = 0.445, running time = 7.266 min\n",
      "Repeat 2, split 4, test MCC = 0.459, running time = 7.294 min\n",
      "Score mean = 0.449, std = 0.012\n"
     ]
    }
   ],
   "source": [
    "# CV\n",
    "# specify parameters \n",
    "# 'booster':'gbtree'\n",
    "#params = {'max_depth':14, 'eta':0.03, 'silent':1, 'objective':'binary:logistic', 'nthred':20,\n",
    "#         'lambda':4, 'subsample':0.9, 'min_child_weight':5, 'booster':'gbtree', 'alpha':0,\n",
    "#         'base_score':0.0058, 'nthread':20, 'colsample_bytree':0.6}\n",
    "\n",
    "# 'booster':'dart'\n",
    "params = {'max_depth':14, 'eta':0.03, 'silent':1, 'objective':'binary:logistic', 'nthred':20,\n",
    "         'lambda':4, 'subsample':0.9, 'min_child_weight':5, 'booster':'dart', 'alpha':0,\n",
    "         'base_score':0.0058, 'nthread':20, 'colsample_bytree':0.6, \n",
    "         'sample_type':'uniform', 'normalize_type':'tree', 'rate_drop':0.1, 'skip_drop':0.2, 'one_drop':True}\n",
    "\n",
    "cv_results, clfs, running_time = cross_val_predict_skf_rm_xgb(params, x_train, y_train, \n",
    "                                                              num_boost_round=80, n_splits=5, \n",
    "                                                              n_repeats=3, random_state=5876967, \n",
    "                                                              verbose_eval=False)\n",
    "\n",
    "results = {'clfs': clfs, 'cv_results': cv_results, 'running_time': running_time}\n",
    "save_pickle(results, 'results_benchmark_6_cv_dart.pickle')"
   ]
  },
  {
   "cell_type": "code",
   "execution_count": 26,
   "metadata": {},
   "outputs": [],
   "source": [
    "cv_train_mean = cv_results['train'].mean(axis=1)\n",
    "cv_train_std = cv_results['train'].std(axis=1)\n",
    "cv_test_mean = cv_results['test'].mean(axis=1)\n",
    "cv_test_std = cv_results['test'].std(axis=1)"
   ]
  },
  {
   "cell_type": "code",
   "execution_count": 27,
   "metadata": {},
   "outputs": [
    {
     "data": {
      "text/plain": [
       "<matplotlib.legend.Legend at 0x7f36371cf748>"
      ]
     },
     "execution_count": 27,
     "metadata": {},
     "output_type": "execute_result"
    },
    {
     "data": {
      "image/png": "[encoded data removed]",
      "text/plain": [
       "<Figure size 1008x504 with 1 Axes>"
      ]
     },
     "metadata": {},
     "output_type": "display_data"
    }
   ],
   "source": [
    "plt.figure(figsize=(14, 7))\n",
    "plt.plot(np.arange(len(cv_train_mean)), cv_train_mean)\n",
    "plt.fill_between(np.arange(len(cv_train_mean)), cv_train_mean-cv_train_std, cv_train_mean+cv_train_std, alpha=0.5)\n",
    "plt.plot(np.arange(len(cv_train_mean)), cv_test_mean)\n",
    "plt.fill_between(np.arange(len(cv_test_mean)), cv_test_mean-cv_test_std, cv_test_mean+cv_test_std, alpha=0.5)\n",
    "plt.legend(['train', 'test'])"
   ]
  },
  {
   "cell_type": "code",
   "execution_count": 24,
   "metadata": {},
   "outputs": [
    {
     "name": "stdout",
     "output_type": "stream",
     "text": [
      "[0]\ttrain-error:0.005811\ttrain-MCC:0.257135\n",
      "[1]\ttrain-error:0.005811\ttrain-MCC:0.327781\n",
      "[2]\ttrain-error:0.005811\ttrain-MCC:0.353661\n",
      "[3]\ttrain-error:0.005811\ttrain-MCC:0.363615\n",
      "[4]\ttrain-error:0.005811\ttrain-MCC:0.371849\n",
      "[5]\ttrain-error:0.005811\ttrain-MCC:0.373825\n",
      "[6]\ttrain-error:0.005811\ttrain-MCC:0.381518\n",
      "[7]\ttrain-error:0.005811\ttrain-MCC:0.399994\n",
      "[8]\ttrain-error:0.005811\ttrain-MCC:0.409576\n",
      "[9]\ttrain-error:0.005811\ttrain-MCC:0.415679\n",
      "[10]\ttrain-error:0.005811\ttrain-MCC:0.422764\n",
      "[11]\ttrain-error:0.005811\ttrain-MCC:0.425613\n",
      "[12]\ttrain-error:0.005811\ttrain-MCC:0.429216\n",
      "[13]\ttrain-error:0.005811\ttrain-MCC:0.435753\n",
      "[14]\ttrain-error:0.00581\ttrain-MCC:0.438458\n",
      "[15]\ttrain-error:0.005809\ttrain-MCC:0.441204\n",
      "[16]\ttrain-error:0.005806\ttrain-MCC:0.444201\n",
      "[17]\ttrain-error:0.005804\ttrain-MCC:0.44759\n",
      "[18]\ttrain-error:0.005799\ttrain-MCC:0.451408\n",
      "[19]\ttrain-error:0.005789\ttrain-MCC:0.451582\n",
      "[20]\ttrain-error:0.00576\ttrain-MCC:0.454336\n",
      "[21]\ttrain-error:0.005684\ttrain-MCC:0.458006\n",
      "[22]\ttrain-error:0.00561\ttrain-MCC:0.461272\n",
      "[23]\ttrain-error:0.005526\ttrain-MCC:0.463676\n",
      "[24]\ttrain-error:0.005442\ttrain-MCC:0.465262\n",
      "[25]\ttrain-error:0.005358\ttrain-MCC:0.468013\n",
      "[26]\ttrain-error:0.005301\ttrain-MCC:0.469329\n",
      "[27]\ttrain-error:0.005263\ttrain-MCC:0.471618\n",
      "[28]\ttrain-error:0.005236\ttrain-MCC:0.472972\n",
      "[29]\ttrain-error:0.005199\ttrain-MCC:0.4752\n",
      "[30]\ttrain-error:0.005178\ttrain-MCC:0.478512\n",
      "[31]\ttrain-error:0.005157\ttrain-MCC:0.479776\n",
      "[32]\ttrain-error:0.005139\ttrain-MCC:0.482007\n",
      "[33]\ttrain-error:0.005117\ttrain-MCC:0.483075\n",
      "[34]\ttrain-error:0.005095\ttrain-MCC:0.483931\n",
      "[35]\ttrain-error:0.005063\ttrain-MCC:0.483765\n",
      "[36]\ttrain-error:0.005032\ttrain-MCC:0.485132\n",
      "[37]\ttrain-error:0.005009\ttrain-MCC:0.487311\n",
      "[38]\ttrain-error:0.004973\ttrain-MCC:0.488711\n",
      "[39]\ttrain-error:0.004955\ttrain-MCC:0.489792\n",
      "[40]\ttrain-error:0.004939\ttrain-MCC:0.49216\n",
      "[41]\ttrain-error:0.004916\ttrain-MCC:0.492693\n",
      "[42]\ttrain-error:0.0049\ttrain-MCC:0.493631\n",
      "[43]\ttrain-error:0.004881\ttrain-MCC:0.494499\n",
      "[44]\ttrain-error:0.004856\ttrain-MCC:0.495568\n",
      "[45]\ttrain-error:0.004841\ttrain-MCC:0.496597\n",
      "[46]\ttrain-error:0.004827\ttrain-MCC:0.497666\n",
      "[47]\ttrain-error:0.004801\ttrain-MCC:0.498938\n",
      "[48]\ttrain-error:0.004789\ttrain-MCC:0.499361\n",
      "[49]\ttrain-error:0.004776\ttrain-MCC:0.499791\n",
      "[50]\ttrain-error:0.004756\ttrain-MCC:0.500542\n",
      "[51]\ttrain-error:0.004738\ttrain-MCC:0.501533\n",
      "[52]\ttrain-error:0.004715\ttrain-MCC:0.503335\n",
      "[53]\ttrain-error:0.004714\ttrain-MCC:0.503853\n",
      "[54]\ttrain-error:0.004693\ttrain-MCC:0.505527\n",
      "[55]\ttrain-error:0.004681\ttrain-MCC:0.506989\n",
      "[56]\ttrain-error:0.004679\ttrain-MCC:0.508277\n",
      "[57]\ttrain-error:0.004676\ttrain-MCC:0.509167\n",
      "[58]\ttrain-error:0.004671\ttrain-MCC:0.510351\n",
      "[59]\ttrain-error:0.004656\ttrain-MCC:0.511573\n",
      "Optimal MCC = 0.511\n",
      "Optimal threshold = 0.229\n"
     ]
    },
    {
     "data": {
      "image/png": "[encoded data removed]",
      "text/plain": [
       "<Figure size 432x288 with 1 Axes>"
      ]
     },
     "metadata": {},
     "output_type": "display_data"
    }
   ],
   "source": [
    "# Train the model\n",
    "dtrain = xgb.DMatrix(x_train, label=y_train)\n",
    "params['seed'] = 28537894\n",
    "clf = xgb.train(params, dtrain, num_boost_round=60,\n",
    "               feval=mcc_eval, evals=[(dtrain, 'train')])\n",
    "\n",
    "y_train_pred = clf.predict(dtrain)\n",
    "\n",
    "# Find best threshold \n",
    "thresholds = np.linspace(0.01, 0.99, 400)\n",
    "mcc = np.array([matthews_corrcoef(y_train, y_train_pred>thr) for thr in thresholds])\n",
    "plt.plot(thresholds, mcc)\n",
    "best_threshold = thresholds[mcc.argmax()]\n",
    "\n",
    "print('Optimal MCC = {:.3f}'.format(mcc.max()))\n",
    "print('Optimal threshold = {:.3f}'.format(best_threshold))"
   ]
  },
  {
   "cell_type": "markdown",
   "metadata": {},
   "source": [
    "### Predict on test data"
   ]
  },
  {
   "cell_type": "code",
   "execution_count": 25,
   "metadata": {},
   "outputs": [],
   "source": [
    "dtest = xgb.DMatrix(x_test)\n",
    "y_test_pred = clf.predict(dtest)\n",
    "y_test_pred_int = (y_test_pred>best_threshold).astype(int)\n",
    "\n",
    "sub = pd.read_csv(\"../../data/sample_submission.csv.zip\", index_col=0)\n",
    "sub[\"Response\"] = y_test_pred_int\n",
    "sub.to_csv(\"15-benchmark_6_submission_nestimators_60_2.csv.gz\", compression=\"gzip\")"
   ]
  },
  {
   "cell_type": "markdown",
   "metadata": {},
   "source": [
    "`n_estimators=50`: Private MCC = 0.45102, public MCC = 0.43507\n",
    "\n",
    "`n_estimators=40`: CV MCC mean = 0.440, std = 0.008\n",
    "\n",
    "\n",
    "`n_estimators=75`: Private MCC = 0.41463, public MCC = 0.40368\n",
    "\n",
    "`n_estimators=60`: Private MCC = 0.45539, public MCC = 0.44090\n",
    "\n",
    "`n_estimators=60`: CV MCC mean = 0.444, std = 0.006\n",
    "\n"
   ]
  }
 ],
 "metadata": {
  "kernelspec": {
   "display_name": "Python 3",
   "language": "python",
   "name": "python3"
  },
  "language_info": {
   "codemirror_mode": {
    "name": "ipython",
    "version": 3
   },
   "file_extension": ".py",
   "mimetype": "text/x-python",
   "name": "python",
   "nbconvert_exporter": "python",
   "pygments_lexer": "ipython3",
   "version": "3.7.0"
  }
 },
 "nbformat": 4,
 "nbformat_minor": 2
}
