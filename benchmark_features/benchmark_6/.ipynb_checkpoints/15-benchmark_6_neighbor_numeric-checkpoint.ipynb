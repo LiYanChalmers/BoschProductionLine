{
 "cells": [
  {
   "cell_type": "markdown",
   "metadata": {},
   "source": [
    "## Benchmark for measuring performance of engineered features and models\n",
    "Add features created from previous and next records in original order"
   ]
  },
  {
   "cell_type": "code",
   "execution_count": 1,
   "metadata": {},
   "outputs": [
    {
     "name": "stderr",
     "output_type": "stream",
     "text": [
      "/c3se/NOBACKUP/users/lyaa/conda_dir/miniconda/envs/kaggle/lib/python3.7/site-packages/sklearn/utils/__init__.py:4: DeprecationWarning: Using or importing the ABCs from 'collections' instead of from 'collections.abc' is deprecated, and in 3.8 it will stop working\n",
      "  from collections import Sequence\n"
     ]
    }
   ],
   "source": [
    "import os\n",
    "if os.name=='nt':\n",
    "    try:\n",
    "        mingw_path = 'C:\\\\Program Files\\\\mingw-w64\\\\x86_64-8.1.0-posix-seh-rt_v6-rev0\\\\mingw64\\\\bin'\n",
    "        os.environ['PATH'] = mingw_path + ';' + os.environ['PATH']\n",
    "    except:\n",
    "        pass\n",
    "\n",
    "import numpy as np\n",
    "import pandas as pd\n",
    "from xgboost import XGBClassifier\n",
    "from sklearn.metrics import matthews_corrcoef, roc_auc_score\n",
    "from sklearn.model_selection import cross_val_score\n",
    "from sklearn.model_selection import train_test_split, RepeatedStratifiedKFold\n",
    "from sklearn.model_selection import cross_validate, cross_val_predict, StratifiedKFold\n",
    "from sklearn.metrics import roc_auc_score\n",
    "import matplotlib.pyplot as plt\n",
    "import seaborn as sns\n",
    "from sys import getsizeof\n",
    "import time\n",
    "import gc\n",
    "\n",
    "import warnings\n",
    "warnings.filterwarnings(\"ignore\")\n",
    "\n",
    "%matplotlib inline"
   ]
  },
  {
   "cell_type": "code",
   "execution_count": 2,
   "metadata": {},
   "outputs": [],
   "source": [
    "import pickle\n",
    "\n",
    "def save_pickle(x, filename):\n",
    "    with open(filename, 'wb') as handle:\n",
    "        pickle.dump(x, handle, protocol=pickle.HIGHEST_PROTOCOL)\n",
    "\n",
    "def read_pickle(filename):\n",
    "    with open(filename, 'rb') as handle:\n",
    "        x = pickle.load(handle)\n",
    "    return x"
   ]
  },
  {
   "cell_type": "code",
   "execution_count": 3,
   "metadata": {},
   "outputs": [],
   "source": [
    "from numba import jit\n",
    "\n",
    "@jit\n",
    "def mcc(tp, tn, fp, fn):\n",
    "    sup = tp * tn - fp * fn\n",
    "    inf = (tp + fp) * (tp + fn) * (tn + fp) * (tn + fn)\n",
    "    if inf==0:\n",
    "        return 0\n",
    "    else:\n",
    "        return sup / np.sqrt(inf)\n",
    "\n",
    "@jit\n",
    "def eval_mcc(y_true, y_prob, show=False):\n",
    "    idx = np.argsort(y_prob)\n",
    "    y_true_sort = y_true[idx]\n",
    "    n = y_true.shape[0]\n",
    "    nump = 1.0 * np.sum(y_true) # number of positive\n",
    "    numn = n - nump # number of negative\n",
    "    tp = nump\n",
    "    tn = 0.0\n",
    "    fp = numn\n",
    "    fn = 0.0\n",
    "    best_mcc = 0.0\n",
    "    best_id = -1\n",
    "    prev_proba = -1\n",
    "    best_proba = -1\n",
    "    mccs = np.zeros(n)\n",
    "    new_mcc = 0\n",
    "    for i in range(n):\n",
    "        # all items with idx < i are predicted negative while others are predicted positive\n",
    "        # only evaluate mcc when probability changes\n",
    "        proba = y_prob[idx[i]]\n",
    "        if proba != prev_proba:\n",
    "            prev_proba = proba\n",
    "            new_mcc = mcc(tp, tn, fp, fn)\n",
    "            if new_mcc >= best_mcc:\n",
    "                best_mcc = new_mcc\n",
    "                best_id = i\n",
    "                best_proba = proba\n",
    "        mccs[i] = new_mcc\n",
    "        if y_true_sort[i] == 1:\n",
    "            tp -= 1.0\n",
    "            fn += 1.0\n",
    "        else:\n",
    "            fp -= 1.0\n",
    "            tn += 1.0\n",
    "    if show:\n",
    "        y_pred = (y_prob >= best_proba).astype(int)\n",
    "        score = matthews_corrcoef(y_true, y_pred)\n",
    "        print(score, best_mcc)\n",
    "        plt.plot(mccs)\n",
    "        return best_proba, best_mcc, y_pred\n",
    "    else:\n",
    "        return best_mcc\n",
    "    \n",
    "def mcc_eval(y_prob, dtrain):\n",
    "    y_true = dtrain.get_label()\n",
    "    best_mcc = eval_mcc(y_true, y_prob)\n",
    "    return 'MCC', -best_mcc"
   ]
  },
  {
   "cell_type": "code",
   "execution_count": 4,
   "metadata": {},
   "outputs": [],
   "source": [
    "def cross_val_predict_rskf(clf, x_train, y_train, n_splits=3, \n",
    "                           n_repeats=2, random_state=42, verbose=False, early_stopping=10):\n",
    "    '''\n",
    "    Repeated stratified KFold CV, returns predictions for \n",
    "    each repeat and average score.\n",
    "    n_repeats: repetitions of CV\n",
    "    to disable erlay stopping, set early_stopping to None\n",
    "    '''\n",
    "    scores = []\n",
    "    n_trees = []\n",
    "    clfs = []\n",
    "    running_time = []\n",
    "    \n",
    "    rskf = RepeatedStratifiedKFold(n_repeats=n_repeats, n_splits=n_splits, \n",
    "                                   random_state=0)\n",
    "    np.random.seed(random_state)\n",
    "    for n, (train_index, test_index) in enumerate(rskf.split(x_train, y_train)):\n",
    "        print('Round {}'.format(n))\n",
    "        start_time = time.time()\n",
    "        x_train_tmp, x_test_tmp = x_train.iloc[train_index], x_train.iloc[test_index]\n",
    "        y_train_tmp, y_test_tmp = y_train.iloc[train_index], y_train.iloc[test_index]\n",
    "\n",
    "        clf.random_state = np.random.randint(10000000)\n",
    "        \n",
    "        if early_stopping is not None:\n",
    "            clf.fit(x_train_tmp, y_train_tmp, \n",
    "                    eval_set=[(x_test_tmp, y_test_tmp)], \n",
    "                    eval_metric=mcc_eval, early_stopping_rounds=early_stopping,\n",
    "                    verbose=verbose)\n",
    "            scores.append(-clf.best_score)\n",
    "            n_trees.append(clf.best_ntree_limit)\n",
    "        else:\n",
    "            clf.fit(x_train_tmp, y_train_tmp)\n",
    "            scores.append(eval_mcc(y_test_tmp.values, clf.predict_proba(x_test_tmp)[:, 1]))\n",
    "            n_trees.append(clf.n_estimators)\n",
    "        \n",
    "        clfs.append(clf)\n",
    "        running_time.append(time.time()-start_time)\n",
    "        print('Split {}, score = {:.3f}, best_ntree_limit = {}, total time = {:.3f} min'.format(n, scores[n], \n",
    "            n_trees[n], sum(running_time)/60))\n",
    "\n",
    "    print('Score mean = {:.3f}, std = {:.3f}'.format(np.mean(scores), np.std(scores)))\n",
    "    \n",
    "    return clfs, scores, n_trees, running_time"
   ]
  },
  {
   "cell_type": "code",
   "execution_count": 5,
   "metadata": {},
   "outputs": [],
   "source": [
    "def cross_val_predict_skf_rm(clf, x_train, y_train, n_splits=3, \n",
    "                           n_repeats=2, random_state=42, verbose=False, early_stopping=10):\n",
    "    '''\n",
    "    Stratified KFold CV with repeated models\n",
    "    to disable erlay stopping, set early_stopping to None\n",
    "    '''\n",
    "    scores = []\n",
    "    n_trees = []\n",
    "    clfs = []\n",
    "    running_time = []\n",
    "\n",
    "    skf = StratifiedKFold(n_splits=n_splits, random_state=0, shuffle=True)\n",
    "    np.random.seed(random_state)\n",
    "\n",
    "    for m in range(n_repeats):\n",
    "        print('Repeat {}'.format(m))\n",
    "        for n, (train_index, test_index) in enumerate(skf.split(x_train, y_train)):\n",
    "            start_time = time.time()\n",
    "            x_train_tmp, x_test_tmp = x_train.iloc[train_index], x_train.iloc[test_index]\n",
    "            y_train_tmp, y_test_tmp = y_train.iloc[train_index], y_train.iloc[test_index]\n",
    "\n",
    "            clf.random_state = np.random.randint(10000000)\n",
    "            # print(clf.random_state)\n",
    "\n",
    "            if early_stopping is not None:\n",
    "                clf.fit(x_train_tmp, y_train_tmp, \n",
    "                        eval_set=[(x_test_tmp, y_test_tmp)], \n",
    "                        eval_metric=mcc_eval, early_stopping_rounds=early_stopping,\n",
    "                        verbose=verbose)\n",
    "                scores.append(-clf.best_score)\n",
    "                n_trees.append(clf.best_ntree_limit)\n",
    "            else:\n",
    "                clf.fit(x_train_tmp, y_train_tmp)\n",
    "                scores.append(eval_mcc(y_test_tmp.values, clf.predict_proba(x_test_tmp)[:, 1]))\n",
    "                n_trees.append(clf.n_estimators)\n",
    "            \n",
    "            clfs.append(clf)\n",
    "            running_time.append(time.time() - start_time)\n",
    "            print('Split {}, score = {:.3f}, n_best_trees = {}, total time = {:.3f} min'.format(n, \n",
    "                scores[m*n_repeats+n], n_trees[m*n_repeats+n], sum(running_time)/60))\n",
    "\n",
    "    print('Score mean = {:.3f}, std = {:.3f}'.format(np.mean(scores), np.std(scores)))\n",
    "    \n",
    "    return clfs, scores, n_trees, running_time"
   ]
  },
  {
   "cell_type": "code",
   "execution_count": 6,
   "metadata": {},
   "outputs": [],
   "source": [
    "# y_train = read_pickle('y_train.pickle')\n",
    "\n",
    "# x_train = read_pickle('x_train_numeric_date_0.pickle')"
   ]
  },
  {
   "cell_type": "markdown",
   "metadata": {},
   "source": [
    "### Load train and test data"
   ]
  },
  {
   "cell_type": "code",
   "execution_count": 7,
   "metadata": {},
   "outputs": [],
   "source": [
    "# important numeric features are imported\n",
    "important_features = pd.read_csv('../benchmark_1/important_numeric_features.csv', index_col=0, header=None)\n",
    "important_features = list(important_features.values.ravel())\n",
    "important_features.extend(['Id', 'Response'])"
   ]
  },
  {
   "cell_type": "code",
   "execution_count": 8,
   "metadata": {
    "scrolled": true
   },
   "outputs": [],
   "source": [
    "x_train_numeric = pd.read_csv('../../data/train_numeric.csv.zip', index_col=0, usecols=important_features, dtype=np.float32)\n",
    "\n",
    "y_train = x_train_numeric.Response\n",
    "x_train_numeric.drop(['Response'], axis=1, inplace=True)"
   ]
  },
  {
   "cell_type": "code",
   "execution_count": 9,
   "metadata": {},
   "outputs": [],
   "source": [
    "date_train = pd.read_csv('../benchmark_2/train_station_flow.csv.gz', index_col=0, header=None)"
   ]
  },
  {
   "cell_type": "code",
   "execution_count": 10,
   "metadata": {},
   "outputs": [],
   "source": [
    "x_train = x_train_numeric.join(date_train)\n",
    "\n",
    "columns = list(x_train.columns)\n",
    "columns[-1] = 'station_flow'\n",
    "x_train.columns = columns"
   ]
  },
  {
   "cell_type": "code",
   "execution_count": 11,
   "metadata": {},
   "outputs": [],
   "source": [
    "x_test_numeric = pd.read_csv('../../data/test_numeric.csv.zip', index_col=0, usecols=important_features[:-1], dtype=np.float32)\n",
    "\n",
    "date_test = pd.read_csv('../benchmark_2/test_station_flow.csv.gz', index_col=0, header=None)\n",
    "\n",
    "x_test = x_test_numeric.join(date_test)\n",
    "x_test.columns = columns"
   ]
  },
  {
   "cell_type": "code",
   "execution_count": 12,
   "metadata": {},
   "outputs": [],
   "source": [
    "x_train.index = x_train.index.astype(np.int64)\n",
    "x_test.index = x_test.index.astype(np.int64)"
   ]
  },
  {
   "cell_type": "code",
   "execution_count": 13,
   "metadata": {},
   "outputs": [
    {
     "data": {
      "text/plain": [
       "516"
      ]
     },
     "execution_count": 13,
     "metadata": {},
     "output_type": "execute_result"
    }
   ],
   "source": [
    "del x_train_numeric, x_test_numeric\n",
    "gc.collect()"
   ]
  },
  {
   "cell_type": "markdown",
   "metadata": {},
   "source": [
    "### Load benchmark_3 features"
   ]
  },
  {
   "cell_type": "code",
   "execution_count": 14,
   "metadata": {},
   "outputs": [],
   "source": [
    "start_chunk = pd.read_csv('../benchmark_3/start_chunk.csv.gz', index_col=0)\n",
    "\n",
    "start_chunk_train = start_chunk.loc[start_chunk.Response!=-1].drop(['Response'], axis=1)\n",
    "start_chunk_test = start_chunk.loc[start_chunk.Response==-1].drop(['Response'], axis=1)"
   ]
  },
  {
   "cell_type": "code",
   "execution_count": 15,
   "metadata": {},
   "outputs": [
    {
     "data": {
      "text/plain": [
       "35"
      ]
     },
     "execution_count": 15,
     "metadata": {},
     "output_type": "execute_result"
    }
   ],
   "source": [
    "x_train = x_train.join(start_chunk_train, on='Id')\n",
    "x_test = x_test.join(start_chunk_test, on='Id')\n",
    "\n",
    "gc.collect()"
   ]
  },
  {
   "cell_type": "markdown",
   "metadata": {},
   "source": [
    "### Load benchmark_4 features"
   ]
  },
  {
   "cell_type": "code",
   "execution_count": 16,
   "metadata": {},
   "outputs": [
    {
     "name": "stdout",
     "output_type": "stream",
     "text": [
      "(1183748, 14) (1183747, 14)\n"
     ]
    },
    {
     "data": {
      "text/plain": [
       "28"
      ]
     },
     "execution_count": 16,
     "metadata": {},
     "output_type": "execute_result"
    }
   ],
   "source": [
    "n = pd.read_csv('../benchmark_4/benchmark_4_neighbors.csv.gz', index_col=0)\n",
    "\n",
    "neighbor_train = n.loc[n.Response!=-1]\n",
    "neighbor_train.drop(['Response'], axis=1, inplace=True)\n",
    "\n",
    "neighbor_test = n.loc[n.Response==-1]\n",
    "neighbor_test.drop(['Response'], axis=1, inplace=True)\n",
    "\n",
    "print(neighbor_test.shape, neighbor_train.shape)\n",
    "\n",
    "x_train = x_train.join(neighbor_train, on='Id')\n",
    "x_test = x_test.join(neighbor_test, on='Id')\n",
    "\n",
    "gc.collect()"
   ]
  },
  {
   "cell_type": "markdown",
   "metadata": {},
   "source": [
    "### Add neighbor numeric features\n",
    "The important numeric features selected from previous and next records"
   ]
  },
  {
   "cell_type": "code",
   "execution_count": 17,
   "metadata": {},
   "outputs": [],
   "source": [
    "# Date + station flow data will be added to x\n",
    "x = pd.concat([x_train, x_test], keys=['train', 'test'])\n",
    "x.sort_index(axis=0, level='Id', inplace=True)\n",
    "\n",
    "# Add the neighbor records\n",
    "x = x.join(x.iloc[:, :150].shift(), rsuffix='_previous')\n",
    "x = x.join(x.iloc[:, :150].shift(-1), rsuffix='_next')"
   ]
  },
  {
   "cell_type": "code",
   "execution_count": 18,
   "metadata": {},
   "outputs": [],
   "source": [
    "x_train = x.loc['train']\n",
    "x_test = x.loc['test']"
   ]
  },
  {
   "cell_type": "code",
   "execution_count": 19,
   "metadata": {},
   "outputs": [
    {
     "data": {
      "text/plain": [
       "63"
      ]
     },
     "execution_count": 19,
     "metadata": {},
     "output_type": "execute_result"
    }
   ],
   "source": [
    "del x\n",
    "gc.collect()"
   ]
  },
  {
   "cell_type": "code",
   "execution_count": 20,
   "metadata": {},
   "outputs": [],
   "source": [
    "# u = x.iloc[:, :150].shift()\n",
    "# x = x.join(u, rsuffix='_previous')\n",
    "\n",
    "#pd.Series(x.columns).to_csv('x_colname.csv')"
   ]
  },
  {
   "cell_type": "markdown",
   "metadata": {},
   "source": [
    "### CV score based on stratified KFold with repeated models"
   ]
  },
  {
   "cell_type": "code",
   "execution_count": 26,
   "metadata": {
    "scrolled": false
   },
   "outputs": [
    {
     "name": "stdout",
     "output_type": "stream",
     "text": [
      "Repeat 0\n",
      "Split 0, score = 0.453, n_best_trees = 60, total time = 3.870 min\n",
      "Split 1, score = 0.439, n_best_trees = 60, total time = 7.731 min\n",
      "Split 2, score = 0.449, n_best_trees = 60, total time = 11.797 min\n",
      "Split 3, score = 0.444, n_best_trees = 60, total time = 15.843 min\n",
      "Split 4, score = 0.445, n_best_trees = 60, total time = 19.738 min\n",
      "Repeat 1\n",
      "Split 0, score = 0.444, n_best_trees = 60, total time = 23.652 min\n",
      "Split 1, score = 0.445, n_best_trees = 60, total time = 27.576 min\n",
      "Split 2, score = 0.448, n_best_trees = 60, total time = 31.464 min\n",
      "Split 3, score = 0.438, n_best_trees = 60, total time = 35.345 min\n",
      "Split 4, score = 0.446, n_best_trees = 60, total time = 39.234 min\n",
      "Repeat 2\n",
      "Split 0, score = 0.438, n_best_trees = 60, total time = 43.158 min\n",
      "Split 1, score = 0.446, n_best_trees = 60, total time = 47.011 min\n",
      "Split 2, score = 0.434, n_best_trees = 60, total time = 50.842 min\n",
      "Split 3, score = 0.456, n_best_trees = 60, total time = 54.752 min\n",
      "Split 4, score = 0.451, n_best_trees = 60, total time = 58.601 min\n",
      "Score mean = 0.444, std = 0.006\n",
      "[0]\tvalidation_0-error:0.005811\tvalidation_0-MCC:-0.288046\n",
      "[1]\tvalidation_0-error:0.005811\tvalidation_0-MCC:-0.341989\n",
      "[2]\tvalidation_0-error:0.005811\tvalidation_0-MCC:-0.356549\n",
      "[3]\tvalidation_0-error:0.005811\tvalidation_0-MCC:-0.356874\n",
      "[4]\tvalidation_0-error:0.005811\tvalidation_0-MCC:-0.369601\n",
      "[5]\tvalidation_0-error:0.005811\tvalidation_0-MCC:-0.37534\n",
      "[6]\tvalidation_0-error:0.005811\tvalidation_0-MCC:-0.380836\n",
      "[7]\tvalidation_0-error:0.005811\tvalidation_0-MCC:-0.389292\n",
      "[8]\tvalidation_0-error:0.005811\tvalidation_0-MCC:-0.403416\n",
      "[9]\tvalidation_0-error:0.005811\tvalidation_0-MCC:-0.40585\n",
      "[10]\tvalidation_0-error:0.005811\tvalidation_0-MCC:-0.414315\n",
      "[11]\tvalidation_0-error:0.005811\tvalidation_0-MCC:-0.424009\n",
      "[12]\tvalidation_0-error:0.005811\tvalidation_0-MCC:-0.434267\n",
      "[13]\tvalidation_0-error:0.00581\tvalidation_0-MCC:-0.438594\n",
      "[14]\tvalidation_0-error:0.005809\tvalidation_0-MCC:-0.446149\n",
      "[15]\tvalidation_0-error:0.005807\tvalidation_0-MCC:-0.449271\n",
      "[16]\tvalidation_0-error:0.005804\tvalidation_0-MCC:-0.454529\n",
      "[17]\tvalidation_0-error:0.005802\tvalidation_0-MCC:-0.457817\n",
      "[18]\tvalidation_0-error:0.0058\tvalidation_0-MCC:-0.460156\n",
      "[19]\tvalidation_0-error:0.005799\tvalidation_0-MCC:-0.461822\n",
      "[20]\tvalidation_0-error:0.005788\tvalidation_0-MCC:-0.46525\n",
      "[21]\tvalidation_0-error:0.005734\tvalidation_0-MCC:-0.466624\n",
      "[22]\tvalidation_0-error:0.005616\tvalidation_0-MCC:-0.470138\n",
      "[23]\tvalidation_0-error:0.005476\tvalidation_0-MCC:-0.471587\n",
      "[24]\tvalidation_0-error:0.005363\tvalidation_0-MCC:-0.475543\n",
      "[25]\tvalidation_0-error:0.005271\tvalidation_0-MCC:-0.477515\n",
      "[26]\tvalidation_0-error:0.005232\tvalidation_0-MCC:-0.478943\n",
      "[27]\tvalidation_0-error:0.005187\tvalidation_0-MCC:-0.480618\n",
      "[28]\tvalidation_0-error:0.005162\tvalidation_0-MCC:-0.481194\n",
      "[29]\tvalidation_0-error:0.00514\tvalidation_0-MCC:-0.481945\n",
      "[30]\tvalidation_0-error:0.005125\tvalidation_0-MCC:-0.484291\n",
      "[31]\tvalidation_0-error:0.005115\tvalidation_0-MCC:-0.485887\n",
      "[32]\tvalidation_0-error:0.0051\tvalidation_0-MCC:-0.487586\n",
      "[33]\tvalidation_0-error:0.005086\tvalidation_0-MCC:-0.489336\n",
      "[34]\tvalidation_0-error:0.005072\tvalidation_0-MCC:-0.491422\n",
      "[35]\tvalidation_0-error:0.005057\tvalidation_0-MCC:-0.492033\n",
      "[36]\tvalidation_0-error:0.005033\tvalidation_0-MCC:-0.494206\n",
      "[37]\tvalidation_0-error:0.005019\tvalidation_0-MCC:-0.495053\n",
      "[38]\tvalidation_0-error:0.005002\tvalidation_0-MCC:-0.496078\n",
      "[39]\tvalidation_0-error:0.004978\tvalidation_0-MCC:-0.497163\n",
      "[40]\tvalidation_0-error:0.004953\tvalidation_0-MCC:-0.497642\n",
      "[41]\tvalidation_0-error:0.004928\tvalidation_0-MCC:-0.498695\n",
      "[42]\tvalidation_0-error:0.004897\tvalidation_0-MCC:-0.500772\n",
      "[43]\tvalidation_0-error:0.004874\tvalidation_0-MCC:-0.502294\n",
      "[44]\tvalidation_0-error:0.004861\tvalidation_0-MCC:-0.50451\n",
      "[45]\tvalidation_0-error:0.004841\tvalidation_0-MCC:-0.504333\n",
      "[46]\tvalidation_0-error:0.00482\tvalidation_0-MCC:-0.505376\n",
      "[47]\tvalidation_0-error:0.004795\tvalidation_0-MCC:-0.506183\n",
      "[48]\tvalidation_0-error:0.004776\tvalidation_0-MCC:-0.507568\n",
      "[49]\tvalidation_0-error:0.004751\tvalidation_0-MCC:-0.509814\n",
      "[50]\tvalidation_0-error:0.004736\tvalidation_0-MCC:-0.51227\n",
      "[51]\tvalidation_0-error:0.004731\tvalidation_0-MCC:-0.513571\n",
      "[52]\tvalidation_0-error:0.004716\tvalidation_0-MCC:-0.515042\n",
      "[53]\tvalidation_0-error:0.004699\tvalidation_0-MCC:-0.516229\n",
      "[54]\tvalidation_0-error:0.004689\tvalidation_0-MCC:-0.517886\n",
      "[55]\tvalidation_0-error:0.004673\tvalidation_0-MCC:-0.519654\n",
      "[56]\tvalidation_0-error:0.004656\tvalidation_0-MCC:-0.520048\n",
      "[57]\tvalidation_0-error:0.00465\tvalidation_0-MCC:-0.520442\n",
      "[58]\tvalidation_0-error:0.004641\tvalidation_0-MCC:-0.520885\n",
      "[59]\tvalidation_0-error:0.004624\tvalidation_0-MCC:-0.52212\n",
      "[60]\tvalidation_0-error:0.004621\tvalidation_0-MCC:-0.523035\n",
      "[61]\tvalidation_0-error:0.004606\tvalidation_0-MCC:-0.524813\n",
      "[62]\tvalidation_0-error:0.004602\tvalidation_0-MCC:-0.525725\n",
      "[63]\tvalidation_0-error:0.004599\tvalidation_0-MCC:-0.527805\n",
      "[64]\tvalidation_0-error:0.004597\tvalidation_0-MCC:-0.528581\n",
      "[65]\tvalidation_0-error:0.004588\tvalidation_0-MCC:-0.530485\n",
      "[66]\tvalidation_0-error:0.004582\tvalidation_0-MCC:-0.531653\n",
      "[67]\tvalidation_0-error:0.004574\tvalidation_0-MCC:-0.534914\n",
      "[68]\tvalidation_0-error:0.004571\tvalidation_0-MCC:-0.536692\n",
      "[69]\tvalidation_0-error:0.004567\tvalidation_0-MCC:-0.538035\n",
      "[70]\tvalidation_0-error:0.004566\tvalidation_0-MCC:-0.540953\n",
      "[71]\tvalidation_0-error:0.004562\tvalidation_0-MCC:-0.542884\n",
      "[72]\tvalidation_0-error:0.004557\tvalidation_0-MCC:-0.544523\n",
      "[73]\tvalidation_0-error:0.004551\tvalidation_0-MCC:-0.546034\n",
      "[74]\tvalidation_0-error:0.004543\tvalidation_0-MCC:-0.547499\n",
      "Optimal MCC = 0.547\n",
      "Optimal threshold = 0.123\n"
     ]
    },
    {
     "data": {
      "image/png": "[encoded data removed]",
      "text/plain": [
       "<Figure size 432x288 with 1 Axes>"
      ]
     },
     "metadata": {},
     "output_type": "display_data"
    }
   ],
   "source": [
    "# CV\n",
    "n_estimators = 60\n",
    "clf = XGBClassifier(max_depth=14, n_estimators=n_estimators, \n",
    "                    base_score=0.0058, n_jobs=20, colsample_bytree=0.6,\n",
    "                    min_child_weight=5, subsample=0.9,  \n",
    "                    reg_lambda=4, silent=False, learning_rate=0.03)\n",
    "\n",
    "clfs, scores, n_trees, running_time = cross_val_predict_skf_rm(clf, x_train, \n",
    "    y_train, n_splits=5, n_repeats=3, random_state=894559, early_stopping=None, verbose=True)\n",
    "\n",
    "results = {'clfs': clfs, 'scores': scores, 'n_trees': n_trees, 'running_time': running_time}\n",
    "save_pickle(results, 'results_benchmark_5_nestimators_60.pickle')\n",
    "\n",
    "# Train the model\n",
    "n_rounds = np.ceil(np.median(results['n_trees'])*5/4).astype(np.int)\n",
    "# n_rounds = 20\n",
    "\n",
    "clf = XGBClassifier(max_depth=14, n_estimators=n_rounds, \n",
    "                    base_score=0.0058, n_jobs=20, colsample_bytree=0.6,\n",
    "                    min_child_weight=5, subsample=0.9,  \n",
    "                    reg_lambda=4, silent=False, learning_rate=0.03, random_state=2345568)\n",
    "clf.fit(x_train, y_train, \n",
    "        eval_set=[(x_train, y_train)], \n",
    "        eval_metric=mcc_eval, verbose=True)\n",
    "\n",
    "y_train_pred = clf.predict_proba(x_train)[:, 1]\n",
    "\n",
    "# Find best threshold \n",
    "thresholds = np.linspace(0.01, 0.99, 400)\n",
    "mcc = np.array([matthews_corrcoef(y_train, y_train_pred>thr) for thr in thresholds])\n",
    "plt.plot(thresholds, mcc)\n",
    "best_threshold = thresholds[mcc.argmax()]\n",
    "\n",
    "print('Optimal MCC = {:.3f}'.format(mcc.max()))\n",
    "print('Optimal threshold = {:.3f}'.format(best_threshold))\n",
    "\n",
    "#_, _, _ = plt.hist(y_train_pred, bins=100, range=(0.08, 0.8), normed=True, stacked=True)"
   ]
  },
  {
   "cell_type": "markdown",
   "metadata": {},
   "source": [
    "### Just to check if bad leader board results are due to learge `n_estimators=75` and overfitting in model training"
   ]
  },
  {
   "cell_type": "code",
   "execution_count": null,
   "metadata": {},
   "outputs": [],
   "source": [
    "clf = XGBClassifier(max_depth=14, n_estimators=60, \n",
    "                    base_score=0.0058, n_jobs=20, colsample_bytree=0.6,\n",
    "                    min_child_weight=5, subsample=0.9,  \n",
    "                    reg_lambda=4, silent=False, learning_rate=0.03, random_state=2345568)\n",
    "clf.fit(x_train, y_train, \n",
    "        eval_set=[(x_train, y_train)], \n",
    "        eval_metric=mcc_eval, verbose=True)\n",
    "\n",
    "y_train_pred = clf.predict_proba(x_train)[:, 1]\n",
    "\n",
    "# Find best threshold \n",
    "thresholds = np.linspace(0.01, 0.99, 400)\n",
    "mcc = np.array([matthews_corrcoef(y_train, y_train_pred>thr) for thr in thresholds])\n",
    "plt.plot(thresholds, mcc)\n",
    "best_threshold = thresholds[mcc.argmax()]\n",
    "\n",
    "print('Optimal MCC = {:.3f}'.format(mcc.max()))\n",
    "print('Optimal threshold = {:.3f}'.format(best_threshold))"
   ]
  },
  {
   "cell_type": "markdown",
   "metadata": {},
   "source": [
    "### Predict on test data"
   ]
  },
  {
   "cell_type": "code",
   "execution_count": null,
   "metadata": {},
   "outputs": [],
   "source": [
    "y_test_pred = clf.predict_proba(x_test)[:, 1]\n",
    "y_test_pred_int = (y_test_pred>best_threshold).astype(int)\n",
    "\n",
    "sub = pd.read_csv(\"../../data/sample_submission.csv.zip\", index_col=0)\n",
    "sub[\"Response\"] = y_test_pred_int\n",
    "sub.to_csv(\"15-benchmark_6_submission_nestimators_60_2.csv.gz\", compression=\"gzip\")"
   ]
  },
  {
   "cell_type": "markdown",
   "metadata": {},
   "source": [
    "`n_estimators=50`: Private MCC = 0.45102, public MCC = 0.43507\n",
    "\n",
    "`n_estimators=40`: CV MCC mean = 0.440, std = 0.008\n",
    "\n",
    "\n",
    "`n_estimators=60`: Private MCC = 0.41463, public MCC = 0.40368\n",
    "\n",
    "`n_estimators=75`: CV MCC mean = 0.444, std = 0.006"
   ]
  }
 ],
 "metadata": {
  "kernelspec": {
   "display_name": "Python 3",
   "language": "python",
   "name": "python3"
  },
  "language_info": {
   "codemirror_mode": {
    "name": "ipython",
    "version": 3
   },
   "file_extension": ".py",
   "mimetype": "text/x-python",
   "name": "python",
   "nbconvert_exporter": "python",
   "pygments_lexer": "ipython3",
   "version": "3.7.0"
  }
 },
 "nbformat": 4,
 "nbformat_minor": 2
}
