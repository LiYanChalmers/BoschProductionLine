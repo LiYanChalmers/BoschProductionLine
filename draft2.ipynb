{
 "cells": [
  {
   "cell_type": "code",
   "execution_count": 1,
   "metadata": {},
   "outputs": [],
   "source": [
    "import numpy as np # linear algebra\n",
    "import pandas as pd # data processing, CSV file I/O (e.g. pd.read_csv)\n",
    "import seaborn as sns\n",
    "sns.set_color_codes(\"muted\")\n",
    "import matplotlib.pyplot as plt\n",
    "import gc \n",
    "\n",
    "% matplotlib inline"
   ]
  },
  {
   "cell_type": "code",
   "execution_count": 2,
   "metadata": {},
   "outputs": [],
   "source": [
    "df = pd.read_csv('data/train_date.csv.zip', index_col=0, nrows=10000)"
   ]
  },
  {
   "cell_type": "code",
   "execution_count": 3,
   "metadata": {},
   "outputs": [
    {
     "name": "stderr",
     "output_type": "stream",
     "text": [
      "/home/li/miniconda3/envs/kaggle/lib/python3.6/site-packages/numpy/lib/arraysetops.py:472: FutureWarning: elementwise comparison failed; returning scalar instead, but in the future will perform elementwise comparison\n",
      "  mask |= (ar1 == a)\n"
     ]
    }
   ],
   "source": [
    "response = pd.read_csv('data/train_numeric.csv.zip', index_col=0, usecols=[0, 969])"
   ]
  },
  {
   "cell_type": "code",
   "execution_count": 4,
   "metadata": {},
   "outputs": [
    {
     "name": "stdout",
     "output_type": "stream",
     "text": [
      "(10000, 1156)\n",
      "(9997, 1145)\n"
     ]
    }
   ],
   "source": [
    "print(df.shape)\n",
    "df.dropna(axis=0, how='all', inplace=True)\n",
    "df.dropna(axis=1, how='all', inplace=True)\n",
    "print(df.shape)"
   ]
  },
  {
   "cell_type": "code",
   "execution_count": 5,
   "metadata": {},
   "outputs": [
    {
     "name": "stdout",
     "output_type": "stream",
     "text": [
      "['Id', 'L0_S0_D1', 'L0_S1_D26', 'L0_S2_D34', 'L0_S3_D70', 'L0_S4_D106', 'L0_S5_D115', 'L0_S6_D120', 'L0_S7_D137', 'L0_S8_D145', 'L0_S9_D152', 'L0_S10_D216', 'L0_S11_D280', 'L0_S12_D331', 'L0_S13_D355', 'L0_S14_D360', 'L0_S15_D395', 'L0_S16_D423', 'L0_S17_D432', 'L0_S18_D437', 'L0_S19_D454', 'L0_S20_D462', 'L0_S21_D469', 'L0_S22_D543', 'L0_S23_D617', 'L1_S24_D677', 'L1_S25_D1854', 'L2_S26_D3037', 'L2_S27_D3130', 'L2_S28_D3223', 'L3_S29_D3316', 'L3_S30_D3496', 'L3_S31_D3836', 'L3_S32_D3852', 'L3_S33_D3856', 'L3_S34_D3875', 'L3_S35_D3886', 'L3_S36_D3919', 'L3_S37_D3942', 'L3_S38_D3953', 'L3_S39_D3966', 'L3_S40_D3981', 'L3_S41_D3997', 'L3_S43_D4062', 'L3_S44_D4101', 'L3_S45_D4125', 'L3_S47_D4140', 'L3_S48_D4194', 'L3_S49_D4208', 'L3_S50_D4242', 'L3_S51_D4255']\n"
     ]
    }
   ],
   "source": [
    "# find the first feature in each station\n",
    "cols = df.columns.tolist()\n",
    "stations = []\n",
    "a = list(set(x.split('_')[1] for x in cols))\n",
    "for c in cols:\n",
    "    tmp = c.split('_')[1]\n",
    "    if (tmp not in stations) and (tmp in a):\n",
    "        stations.append(c)\n",
    "        a.remove(tmp)        \n",
    "del a, tmp, c, cols\n",
    "gc.collect()\n",
    "stations.insert(0, 'Id')\n",
    "print(stations)"
   ]
  },
  {
   "cell_type": "code",
   "execution_count": 6,
   "metadata": {},
   "outputs": [
    {
     "name": "stderr",
     "output_type": "stream",
     "text": [
      "/home/li/miniconda3/envs/kaggle/lib/python3.6/site-packages/numpy/lib/arraysetops.py:472: FutureWarning: elementwise comparison failed; returning scalar instead, but in the future will perform elementwise comparison\n",
      "  mask |= (ar1 == a)\n"
     ]
    }
   ],
   "source": [
    "df = pd.read_csv('data/train_date.csv.zip', index_col=0, usecols=stations)"
   ]
  },
  {
   "cell_type": "code",
   "execution_count": 7,
   "metadata": {},
   "outputs": [],
   "source": [
    "df['date_start'] = df.min(axis=1)\n",
    "df['date_end'] = df.max(axis=1)\n",
    "df['duration'] = df.date_end - df.date_end"
   ]
  },
  {
   "cell_type": "code",
   "execution_count": 8,
   "metadata": {},
   "outputs": [],
   "source": [
    "stations.remove('Id')\n",
    "stations.append('date_end')\n",
    "stations.append('duration')"
   ]
  },
  {
   "cell_type": "code",
   "execution_count": 9,
   "metadata": {},
   "outputs": [],
   "source": [
    "df.drop(stations, axis=1, inplace=True)"
   ]
  },
  {
   "cell_type": "code",
   "execution_count": 18,
   "metadata": {},
   "outputs": [],
   "source": [
    "df = df.merge(response, left_index=True, right_index=True)"
   ]
  },
  {
   "cell_type": "code",
   "execution_count": 21,
   "metadata": {},
   "outputs": [],
   "source": [
    "df = df.reset_index()"
   ]
  },
  {
   "cell_type": "code",
   "execution_count": 50,
   "metadata": {},
   "outputs": [],
   "source": [
    "df.sort_values(['date_start', 'Id'], inplace=True)"
   ]
  },
  {
   "cell_type": "code",
   "execution_count": 51,
   "metadata": {},
   "outputs": [],
   "source": [
    "date_start = df.date_start.unique()"
   ]
  },
  {
   "cell_type": "code",
   "execution_count": 52,
   "metadata": {},
   "outputs": [],
   "source": [
    "df.dropna(subset=['date_start'], axis=0, inplace=True)"
   ]
  },
  {
   "cell_type": "code",
   "execution_count": 53,
   "metadata": {},
   "outputs": [],
   "source": [
    "date = df.groupby('date_start')['Response'].agg(['mean', 'sum', 'count']).sort_values(by=['sum', 'mean', 'count'], ascending=False).reset_index()"
   ]
  },
  {
   "cell_type": "code",
   "execution_count": 154,
   "metadata": {},
   "outputs": [],
   "source": [
    "predicting_power = {}\n",
    "\n",
    "for n in range(400):\n",
    "    \n",
    "    x = df.loc[df.date_start==date.date_start[n]].copy()\n",
    "\n",
    "    x['diff'] = x['Id'].diff().fillna(99999999).astype(int)\n",
    "    x['corr'] = x.Response.rolling(2).sum().fillna(99999999).astype(int)\n",
    "    x = x.iloc[1:]\n",
    "\n",
    "    if 1 in x['diff'].values:\n",
    "        x.groupby('diff').corr.agg(['mean', 'count', 'sum']).loc[1]\n",
    "        a.append(len(x[(x['diff']==1) & (x['corr']==2)])/len(x))\n",
    "        predicting_power[n] = [date.date_start[n], len(x[(x['diff']==1) & (x['corr']==2)])/len(x), len(x[(x['diff']==1) & (x['corr']==2)]), len(x)]\n",
    "\n",
    "predicting_power = pd.DataFrame.from_dict(predicting_power, orient='index')\n",
    "\n",
    "predicting_power.columns = ['start_date', 'error_rate', 'error_count', 'total_count']\n",
    "\n",
    "rate = predicting_power.error_count.sum()/predicting_power.total_count.sum()"
   ]
  },
  {
   "cell_type": "code",
   "execution_count": 155,
   "metadata": {},
   "outputs": [
    {
     "data": {
      "text/plain": [
       "0.031465247338760174"
      ]
     },
     "execution_count": 155,
     "metadata": {},
     "output_type": "execute_result"
    }
   ],
   "source": [
    "rate"
   ]
  },
  {
   "cell_type": "code",
   "execution_count": null,
   "metadata": {},
   "outputs": [],
   "source": []
  }
 ],
 "metadata": {
  "kernelspec": {
   "display_name": "Python 3",
   "language": "python",
   "name": "python3"
  },
  "language_info": {
   "codemirror_mode": {
    "name": "ipython",
    "version": 3
   },
   "file_extension": ".py",
   "mimetype": "text/x-python",
   "name": "python",
   "nbconvert_exporter": "python",
   "pygments_lexer": "ipython3",
   "version": "3.6.5"
  }
 },
 "nbformat": 4,
 "nbformat_minor": 2
}
