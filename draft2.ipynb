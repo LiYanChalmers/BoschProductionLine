{
 "cells": [
  {
   "cell_type": "code",
   "execution_count": 1,
   "metadata": {},
   "outputs": [],
   "source": [
    "import pandas as pd\n",
    "import numpy as np\n",
    "import matplotlib.pyplot as plt\n",
    "\n",
    "%matplotlib inline"
   ]
  },
  {
   "cell_type": "code",
   "execution_count": 3,
   "metadata": {},
   "outputs": [],
   "source": [
    "dfd = pd.read_csv('data/train_date.csv.zip', index_col=0, nrows=10000)"
   ]
  },
  {
   "cell_type": "code",
   "execution_count": 22,
   "metadata": {},
   "outputs": [],
   "source": [
    "cold = dfd.columns.str.extract(r'(L\\d+)_(S\\d+)_(D\\d+)', expand=True)"
   ]
  },
  {
   "cell_type": "code",
   "execution_count": 23,
   "metadata": {},
   "outputs": [],
   "source": [
    "cold = cold.drop([0], axis=1).drop_duplicates()"
   ]
  },
  {
   "cell_type": "code",
   "execution_count": 26,
   "metadata": {},
   "outputs": [],
   "source": [
    "cold = [tuple(cold.iloc[i]) for i in cold.index]"
   ]
  },
  {
   "cell_type": "code",
   "execution_count": 30,
   "metadata": {},
   "outputs": [],
   "source": [
    "cold = pd.MultiIndex.from_tuples(cold, names=['station', 'feature'])"
   ]
  },
  {
   "cell_type": "code",
   "execution_count": 32,
   "metadata": {},
   "outputs": [],
   "source": [
    "dfd.columns = cold"
   ]
  },
  {
   "cell_type": "code",
   "execution_count": 43,
   "metadata": {},
   "outputs": [],
   "source": [
    "stations = ['S'+str(x) for x in sorted([int(i[1:]) for i in cold.levels[0]])]"
   ]
  },
  {
   "cell_type": "code",
   "execution_count": 47,
   "metadata": {},
   "outputs": [],
   "source": [
    "stations_date = pd.DataFrame({i: dfd[i].apply(min, axis=1) for i in stations})"
   ]
  },
  {
   "cell_type": "code",
   "execution_count": 56,
   "metadata": {},
   "outputs": [],
   "source": [
    "station_orders = stations_date.apply(lambda x: x.dropna().index.tolist(), axis=1)"
   ]
  },
  {
   "cell_type": "code",
   "execution_count": 64,
   "metadata": {},
   "outputs": [],
   "source": [
    "station_orders1 = station_orders.apply(lambda x: '_'.join(x))"
   ]
  },
  {
   "cell_type": "code",
   "execution_count": 70,
   "metadata": {},
   "outputs": [],
   "source": [
    "a = station_orders1.unique()"
   ]
  },
  {
   "cell_type": "code",
   "execution_count": 73,
   "metadata": {},
   "outputs": [
    {
     "data": {
      "text/plain": [
       "53340"
      ]
     },
     "execution_count": 73,
     "metadata": {},
     "output_type": "execute_result"
    }
   ],
   "source": [
    "hash(a[0]) % 2**16"
   ]
  },
  {
   "cell_type": "code",
   "execution_count": 74,
   "metadata": {},
   "outputs": [],
   "source": [
    "import networkx as nx"
   ]
  },
  {
   "cell_type": "code",
   "execution_count": 75,
   "metadata": {},
   "outputs": [],
   "source": [
    "G = nx.Graph()"
   ]
  },
  {
   "cell_type": "code",
   "execution_count": 77,
   "metadata": {},
   "outputs": [],
   "source": [
    "G.add_nodes_from(stations)"
   ]
  },
  {
   "cell_type": "code",
   "execution_count": 78,
   "metadata": {},
   "outputs": [
    {
     "data": {
      "text/plain": [
       "NodeView(('S0', 'S1', 'S2', 'S3', 'S4', 'S5', 'S6', 'S7', 'S8', 'S9', 'S10', 'S11', 'S12', 'S13', 'S14', 'S15', 'S16', 'S17', 'S18', 'S19', 'S20', 'S21', 'S22', 'S23', 'S24', 'S25', 'S26', 'S27', 'S28', 'S29', 'S30', 'S31', 'S32', 'S33', 'S34', 'S35', 'S36', 'S37', 'S38', 'S39', 'S40', 'S41', 'S42', 'S43', 'S44', 'S45', 'S46', 'S47', 'S48', 'S49', 'S50', 'S51'))"
      ]
     },
     "execution_count": 78,
     "metadata": {},
     "output_type": "execute_result"
    }
   ],
   "source": [
    "G.nodes"
   ]
  },
  {
   "cell_type": "code",
   "execution_count": 79,
   "metadata": {},
   "outputs": [
    {
     "data": {
      "text/plain": [
       "Id\n",
       "4        S0_S1_S2_S4_S7_S8_S11_S29_S30_S31_S33_S34_S35_S37\n",
       "6        S12_S13_S14_S16_S18_S20_S21_S29_S30_S33_S34_S3...\n",
       "7            S0_S1_S2_S5_S6_S8_S10_S29_S30_S33_S34_S35_S37\n",
       "9            S0_S1_S2_S4_S7_S8_S10_S29_S30_S33_S34_S36_S37\n",
       "11           S0_S1_S3_S4_S7_S8_S11_S29_S30_S33_S34_S36_S37\n",
       "13           S0_S1_S3_S4_S7_S8_S10_S29_S30_S33_S34_S36_S37\n",
       "14       S12_S13_S15_S17_S19_S20_S22_S29_S30_S33_S34_S3...\n",
       "16                             S26_S29_S30_S33_S34_S35_S37\n",
       "18           S0_S1_S2_S4_S7_S8_S10_S29_S30_S33_S34_S36_S37\n",
       "23       S12_S13_S14_S17_S18_S20_S21_S29_S30_S33_S34_S3...\n",
       "26           S0_S1_S2_S4_S7_S8_S10_S29_S30_S33_S34_S36_S37\n",
       "27            S0_S1_S3_S5_S6_S8_S9_S29_S30_S33_S34_S36_S37\n",
       "28            S0_S1_S3_S4_S7_S8_S9_S29_S30_S33_S34_S35_S37\n",
       "31        S0_S1_S2_S4_S6_S8_S9_S29_S30_S31_S33_S34_S35_S37\n",
       "34            S0_S1_S2_S5_S6_S8_S9_S29_S30_S33_S34_S36_S37\n",
       "38            S0_S1_S2_S4_S7_S8_S9_S29_S30_S33_S34_S36_S37\n",
       "41       S12_S13_S14_S17_S19_S20_S23_S29_S30_S33_S34_S3...\n",
       "44           S0_S1_S2_S5_S7_S8_S10_S29_S30_S33_S34_S35_S37\n",
       "47       S12_S13_S15_S16_S18_S20_S23_S29_S30_S33_S34_S3...\n",
       "49           S0_S1_S3_S4_S6_S8_S10_S29_S30_S33_S34_S36_S37\n",
       "52                         S25_S26_S29_S30_S33_S34_S35_S37\n",
       "55       S12_S13_S15_S16_S19_S20_S23_S29_S30_S33_S34_S3...\n",
       "56        S0_S1_S2_S4_S7_S8_S9_S27_S29_S30_S33_S34_S36_S37\n",
       "57           S0_S1_S2_S5_S6_S8_S10_S29_S30_S33_S34_S35_S37\n",
       "63       S12_S13_S15_S16_S19_S20_S22_S29_S30_S33_S34_S3...\n",
       "68           S0_S1_S3_S5_S7_S8_S10_S29_S30_S33_S34_S35_S37\n",
       "70       S0_S1_S2_S5_S6_S8_S10_S39_S40_S41_S44_S45_S47_...\n",
       "71           S0_S1_S3_S4_S7_S8_S11_S29_S30_S33_S34_S35_S37\n",
       "72       S12_S13_S14_S17_S18_S20_S22_S29_S30_S33_S34_S3...\n",
       "73       S12_S13_S15_S17_S18_S20_S22_S29_S30_S33_S34_S3...\n",
       "                               ...                        \n",
       "19865                      S25_S28_S29_S30_S33_S34_S36_S37\n",
       "19869                              S29_S30_S33_S34_S35_S37\n",
       "19870    S12_S13_S14_S17_S19_S20_S22_S29_S30_S33_S34_S3...\n",
       "19871        S0_S1_S3_S5_S6_S8_S10_S29_S30_S33_S34_S35_S37\n",
       "19873    S12_S13_S14_S17_S19_S20_S22_S29_S30_S33_S34_S3...\n",
       "19874    S12_S13_S14_S16_S19_S20_S23_S29_S30_S33_S34_S3...\n",
       "19878    S0_S1_S2_S4_S6_S8_S10_S26_S29_S30_S33_S34_S35_S37\n",
       "19881    S0_S1_S2_S5_S7_S8_S9_S39_S40_S41_S44_S45_S47_S...\n",
       "19882    S12_S13_S14_S17_S19_S20_S21_S29_S30_S33_S34_S3...\n",
       "19885        S0_S1_S3_S5_S7_S8_S10_S29_S30_S33_S34_S36_S37\n",
       "19886                          S26_S29_S30_S33_S34_S36_S37\n",
       "19887     S0_S1_S3_S5_S7_S8_S9_S27_S29_S30_S33_S34_S36_S37\n",
       "19888        S0_S1_S2_S5_S7_S8_S11_S29_S30_S33_S34_S35_S37\n",
       "19889    S0_S1_S2_S4_S6_S8_S10_S27_S29_S30_S33_S34_S35_S37\n",
       "19893        S0_S1_S3_S5_S7_S8_S10_S29_S30_S33_S34_S35_S37\n",
       "19895                          S27_S29_S30_S33_S34_S36_S37\n",
       "19896                          S26_S29_S30_S33_S34_S36_S37\n",
       "19898        S0_S1_S2_S4_S7_S8_S11_S29_S30_S33_S34_S35_S37\n",
       "19899    S12_S13_S15_S17_S18_S20_S21_S29_S30_S33_S34_S3...\n",
       "19902    S12_S13_S15_S17_S19_S20_S21_S27_S29_S30_S33_S3...\n",
       "19904                          S26_S29_S30_S33_S34_S35_S37\n",
       "19905    S12_S13_S15_S17_S19_S20_S22_S39_S40_S41_S44_S4...\n",
       "19906                          S27_S29_S30_S33_S34_S35_S37\n",
       "19909        S0_S1_S3_S5_S6_S8_S11_S29_S30_S33_S34_S36_S37\n",
       "19910    S0_S1_S2_S4_S7_S8_S11_S28_S29_S30_S31_S33_S34_...\n",
       "19912                          S26_S29_S30_S33_S34_S36_S37\n",
       "19915        S0_S1_S3_S5_S7_S8_S11_S29_S30_S33_S34_S35_S37\n",
       "19917         S0_S1_S2_S5_S7_S8_S9_S29_S30_S33_S34_S36_S37\n",
       "19921                      S24_S26_S29_S30_S33_S34_S35_S37\n",
       "19923    S0_S1_S3_S4_S6_S8_S11_S39_S40_S41_S44_S45_S47_...\n",
       "Length: 10000, dtype: object"
      ]
     },
     "execution_count": 79,
     "metadata": {},
     "output_type": "execute_result"
    }
   ],
   "source": [
    "station_orders1"
   ]
  },
  {
   "cell_type": "code",
   "execution_count": 122,
   "metadata": {},
   "outputs": [],
   "source": [
    "result = pd.read_csv('data/train_numeric.csv.zip', index_col=0, usecols=[0, 969], nrows=10000)"
   ]
  },
  {
   "cell_type": "code",
   "execution_count": 126,
   "metadata": {},
   "outputs": [],
   "source": [
    "pos_idx = result[result['Response']==1].index\n",
    "neg_idx = result[result['Response']==0].index"
   ]
  },
  {
   "cell_type": "code",
   "execution_count": 134,
   "metadata": {},
   "outputs": [],
   "source": [
    "station_orders1.loc[pos_idx] = station_orders1.loc[pos_idx].apply(lambda x: x+'_positive')\n",
    "station_orders1.loc[neg_idx] = station_orders1.loc[neg_idx].apply(lambda x: x+'_negative')"
   ]
  },
  {
   "cell_type": "code",
   "execution_count": 140,
   "metadata": {},
   "outputs": [],
   "source": [
    "station_orders1 = pd.DataFrame(station_orders1)"
   ]
  },
  {
   "cell_type": "code",
   "execution_count": 151,
   "metadata": {},
   "outputs": [],
   "source": [
    "a = station_orders1[0].value_counts()"
   ]
  },
  {
   "cell_type": "code",
   "execution_count": 165,
   "metadata": {},
   "outputs": [],
   "source": [
    "flows = station_orders1[0].value_counts()"
   ]
  },
  {
   "cell_type": "code",
   "execution_count": 167,
   "metadata": {},
   "outputs": [],
   "source": [
    "a = flows.index[0]"
   ]
  },
  {
   "cell_type": "code",
   "execution_count": 173,
   "metadata": {},
   "outputs": [
    {
     "data": {
      "text/plain": [
       "[('S26', 'S29'),\n",
       " ('S29', 'S30'),\n",
       " ('S30', 'S33'),\n",
       " ('S33', 'S34'),\n",
       " ('S34', 'S36'),\n",
       " ('S36', 'S37'),\n",
       " ('S37', 'negative')]"
      ]
     },
     "execution_count": 173,
     "metadata": {},
     "output_type": "execute_result"
    }
   ],
   "source": [
    "b = a.split('_')\n",
    "[(b[i], b[i+1]) for i in range(len(b)-1)]"
   ]
  },
  {
   "cell_type": "code",
   "execution_count": 174,
   "metadata": {},
   "outputs": [
    {
     "data": {
      "text/plain": [
       "['S26', 'S29', 'S30', 'S33', 'S34', 'S36', 'S37', 'negative']"
      ]
     },
     "execution_count": 174,
     "metadata": {},
     "output_type": "execute_result"
    }
   ],
   "source": [
    "b"
   ]
  },
  {
   "cell_type": "code",
   "execution_count": 177,
   "metadata": {},
   "outputs": [],
   "source": [
    "b = b[:-2]\n"
   ]
  },
  {
   "cell_type": "code",
   "execution_count": 178,
   "metadata": {},
   "outputs": [
    {
     "data": {
      "text/plain": [
       "['S26', 'S29', 'S30', 'S33']"
      ]
     },
     "execution_count": 178,
     "metadata": {},
     "output_type": "execute_result"
    }
   ],
   "source": [
    "b"
   ]
  },
  {
   "cell_type": "code",
   "execution_count": 179,
   "metadata": {},
   "outputs": [
    {
     "data": {
      "text/plain": [
       "<networkx.classes.graph.Graph at 0x13481664390>"
      ]
     },
     "execution_count": 179,
     "metadata": {},
     "output_type": "execute_result"
    }
   ],
   "source": [
    "G"
   ]
  },
  {
   "cell_type": "code",
   "execution_count": 183,
   "metadata": {},
   "outputs": [],
   "source": [
    "c = [(b[i], b[i+1]) for i in range(len(b)-1)]"
   ]
  },
  {
   "cell_type": "code",
   "execution_count": 184,
   "metadata": {},
   "outputs": [],
   "source": [
    "G.add_edges_from(c)"
   ]
  },
  {
   "cell_type": "code",
   "execution_count": 202,
   "metadata": {},
   "outputs": [],
   "source": [
    "pos=nx.spring_layout(G)\n",
    "for n, p in pos.items():\n",
    "    G.node[n]['pos'] = p"
   ]
  },
  {
   "cell_type": "code",
   "execution_count": 195,
   "metadata": {},
   "outputs": [],
   "source": [
    "import plotly.plotly as py\n",
    "import plotly.graph_objs as go"
   ]
  },
  {
   "cell_type": "code",
   "execution_count": 196,
   "metadata": {},
   "outputs": [],
   "source": [
    "edge_trace = go.Scatter(\n",
    "    x=[],\n",
    "    y=[],\n",
    "    line=dict(width=0.5,color='#888'),\n",
    "    hoverinfo='none',\n",
    "    mode='lines')\n"
   ]
  },
  {
   "cell_type": "code",
   "execution_count": 203,
   "metadata": {},
   "outputs": [],
   "source": [
    "for edge in G.edges():\n",
    "    x0, y0 = G.node[edge[0]]['pos']\n",
    "    x1, y1 = G.node[edge[1]]['pos']\n",
    "    edge_trace['x'] += [x0, x1, None]\n",
    "    edge_trace['y'] += [y0, y1, None]"
   ]
  },
  {
   "cell_type": "code",
   "execution_count": 205,
   "metadata": {},
   "outputs": [],
   "source": [
    "node_trace = go.Scatter(\n",
    "    x=[],\n",
    "    y=[],\n",
    "    text=[],\n",
    "    mode='markers',\n",
    "    hoverinfo='text',\n",
    "    marker=dict(\n",
    "        showscale=True,\n",
    "        # colorscale options\n",
    "        # 'Greys' | 'Greens' | 'Bluered' | 'Hot' | 'Picnic' | 'Portland' |\n",
    "        # Jet' | 'RdBu' | 'Blackbody' | 'Earth' | 'Electric' | 'YIOrRd' | 'YIGnBu'\n",
    "        colorscale='YIGnBu',\n",
    "        reversescale=True,\n",
    "        color=[],\n",
    "        size=10,\n",
    "        colorbar=dict(\n",
    "            thickness=15,\n",
    "            title='Node Connections',\n",
    "            xanchor='left',\n",
    "            titleside='right'\n",
    "        ),\n",
    "        line=dict(width=2)))\n",
    "\n",
    "for node in G.nodes():\n",
    "    x, y = G.node[node]['pos']\n",
    "    node_trace['x'].append(x)\n",
    "    node_trace['y'].append(y)"
   ]
  },
  {
   "cell_type": "code",
   "execution_count": 208,
   "metadata": {},
   "outputs": [
    {
     "name": "stdout",
     "output_type": "stream",
     "text": [
      "High five! You successfully sent some data to your account on plotly. View your plot in your browser at https://plot.ly/~lygirona/0 or inside your plot.ly account where it is named 'networkx'\n"
     ]
    },
    {
     "data": {
      "text/html": [
       "<iframe id=\"igraph\" scrolling=\"no\" style=\"border:none;\" seamless=\"seamless\" src=\"https://plot.ly/~lygirona/0.embed\" height=\"525px\" width=\"100%\"></iframe>"
      ],
      "text/plain": [
       "<plotly.tools.PlotlyDisplay object>"
      ]
     },
     "execution_count": 208,
     "metadata": {},
     "output_type": "execute_result"
    }
   ],
   "source": [
    "fig = go.Figure(data=[edge_trace, node_trace],\n",
    "             layout=go.Layout(\n",
    "                title='<br>Network graph made with Python',\n",
    "                titlefont=dict(size=16),\n",
    "                showlegend=False,\n",
    "                hovermode='closest',\n",
    "                margin=dict(b=20,l=5,r=5,t=40),\n",
    "                annotations=[ dict(\n",
    "                    text=\"Python code: <a href='https://plot.ly/ipython-notebooks/network-graphs/'> https://plot.ly/ipython-notebooks/network-graphs/</a>\",\n",
    "                    showarrow=False,\n",
    "                    xref=\"paper\", yref=\"paper\",\n",
    "                    x=0.005, y=-0.002 ) ],\n",
    "                xaxis=dict(showgrid=False, zeroline=False, showticklabels=False),\n",
    "                yaxis=dict(showgrid=False, zeroline=False, showticklabels=False)))\n",
    "\n",
    "py.iplot(fig, filename='networkx')"
   ]
  },
  {
   "cell_type": "code",
   "execution_count": null,
   "metadata": {},
   "outputs": [],
   "source": []
  }
 ],
 "metadata": {
  "kernelspec": {
   "display_name": "Python 3",
   "language": "python",
   "name": "python3"
  },
  "language_info": {
   "codemirror_mode": {
    "name": "ipython",
    "version": 3
   },
   "file_extension": ".py",
   "mimetype": "text/x-python",
   "name": "python",
   "nbconvert_exporter": "python",
   "pygments_lexer": "ipython3",
   "version": "3.6.5"
  }
 },
 "nbformat": 4,
 "nbformat_minor": 2
}
