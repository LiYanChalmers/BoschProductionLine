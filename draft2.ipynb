{
 "cells": [
  {
   "cell_type": "code",
   "execution_count": 3,
   "metadata": {},
   "outputs": [],
   "source": [
    "import numpy as np # linear algebra\n",
    "import pandas as pd # data processing, CSV file I/O (e.g. pd.read_csv)\n",
    "import matplotlib.pyplot as plt\n",
    "import gc \n",
    "\n",
    "% matplotlib inline"
   ]
  },
  {
   "cell_type": "code",
   "execution_count": 16,
   "metadata": {},
   "outputs": [],
   "source": [
    "df = pd.read_csv('data/train_date.csv.zip', index_col=0, nrows=10000)"
   ]
  },
  {
   "cell_type": "code",
   "execution_count": 17,
   "metadata": {},
   "outputs": [
    {
     "name": "stderr",
     "output_type": "stream",
     "text": [
      "C:\\Users\\home\\Anaconda3\\envs\\kaggle\\lib\\site-packages\\numpy\\lib\\arraysetops.py:472: FutureWarning: elementwise comparison failed; returning scalar instead, but in the future will perform elementwise comparison\n",
      "  mask |= (ar1 == a)\n"
     ]
    }
   ],
   "source": [
    "response = pd.read_csv('data/train_numeric.csv.zip', index_col=0, usecols=[0, 969])"
   ]
  },
  {
   "cell_type": "code",
   "execution_count": 18,
   "metadata": {},
   "outputs": [
    {
     "name": "stdout",
     "output_type": "stream",
     "text": [
      "(10000, 1156)\n",
      "(9997, 1145)\n"
     ]
    }
   ],
   "source": [
    "print(df.shape)\n",
    "df.dropna(axis=0, how='all', inplace=True)\n",
    "df.dropna(axis=1, how='all', inplace=True)\n",
    "print(df.shape)"
   ]
  },
  {
   "cell_type": "code",
   "execution_count": 19,
   "metadata": {},
   "outputs": [
    {
     "name": "stdout",
     "output_type": "stream",
     "text": [
      "['Id', 'L0_S0_D1', 'L0_S1_D26', 'L0_S2_D34', 'L0_S3_D70', 'L0_S4_D106', 'L0_S5_D115', 'L0_S6_D120', 'L0_S7_D137', 'L0_S8_D145', 'L0_S9_D152', 'L0_S10_D216', 'L0_S11_D280', 'L0_S12_D331', 'L0_S13_D355', 'L0_S14_D360', 'L0_S15_D395', 'L0_S16_D423', 'L0_S17_D432', 'L0_S18_D437', 'L0_S19_D454', 'L0_S20_D462', 'L0_S21_D469', 'L0_S22_D543', 'L0_S23_D617', 'L1_S24_D677', 'L1_S25_D1854', 'L2_S26_D3037', 'L2_S27_D3130', 'L2_S28_D3223', 'L3_S29_D3316', 'L3_S30_D3496', 'L3_S31_D3836', 'L3_S32_D3852', 'L3_S33_D3856', 'L3_S34_D3875', 'L3_S35_D3886', 'L3_S36_D3919', 'L3_S37_D3942', 'L3_S38_D3953', 'L3_S39_D3966', 'L3_S40_D3981', 'L3_S41_D3997', 'L3_S43_D4062', 'L3_S44_D4101', 'L3_S45_D4125', 'L3_S47_D4140', 'L3_S48_D4194', 'L3_S49_D4208', 'L3_S50_D4242', 'L3_S51_D4255']\n"
     ]
    }
   ],
   "source": [
    "# find the first feature in each station\n",
    "cols = df.columns.tolist()\n",
    "stations = []\n",
    "a = list(set(x.split('_')[1] for x in cols))\n",
    "for c in cols:\n",
    "    tmp = c.split('_')[1]\n",
    "    if (tmp not in stations) and (tmp in a):\n",
    "        stations.append(c)\n",
    "        a.remove(tmp)        \n",
    "del a, tmp, c, cols\n",
    "gc.collect()\n",
    "stations.insert(0, 'Id')\n",
    "print(stations)"
   ]
  },
  {
   "cell_type": "code",
   "execution_count": 20,
   "metadata": {},
   "outputs": [
    {
     "name": "stderr",
     "output_type": "stream",
     "text": [
      "C:\\Users\\home\\Anaconda3\\envs\\kaggle\\lib\\site-packages\\numpy\\lib\\arraysetops.py:472: FutureWarning: elementwise comparison failed; returning scalar instead, but in the future will perform elementwise comparison\n",
      "  mask |= (ar1 == a)\n"
     ]
    }
   ],
   "source": [
    "date = pd.read_csv('data/train_date.csv.zip', index_col=0, usecols=stations)\n",
    "\n",
    "df = date.copy()\n",
    "df['date_start'] = df.min(axis=1)\n",
    "df['date_end'] = df.max(axis=1)\n",
    "df['duration'] = df.date_end - df.date_end\n",
    "\n",
    "stations.remove('Id')\n",
    "\n",
    "df.drop(stations, axis=1, inplace=True)\n",
    "\n",
    "df = df.merge(response, left_index=True, right_index=True)\n",
    "\n",
    "df = df.reset_index()"
   ]
  },
  {
   "cell_type": "code",
   "execution_count": 22,
   "metadata": {},
   "outputs": [
    {
     "data": {
      "text/html": [
       "<div>\n",
       "<style scoped>\n",
       "    .dataframe tbody tr th:only-of-type {\n",
       "        vertical-align: middle;\n",
       "    }\n",
       "\n",
       "    .dataframe tbody tr th {\n",
       "        vertical-align: top;\n",
       "    }\n",
       "\n",
       "    .dataframe thead th {\n",
       "        text-align: right;\n",
       "    }\n",
       "</style>\n",
       "<table border=\"1\" class=\"dataframe\">\n",
       "  <thead>\n",
       "    <tr style=\"text-align: right;\">\n",
       "      <th></th>\n",
       "      <th>Id</th>\n",
       "      <th>date_start</th>\n",
       "      <th>date_end</th>\n",
       "      <th>duration</th>\n",
       "      <th>Response</th>\n",
       "      <th>diff_Id1</th>\n",
       "    </tr>\n",
       "  </thead>\n",
       "  <tbody>\n",
       "    <tr>\n",
       "      <th>325556</th>\n",
       "      <td>651542</td>\n",
       "      <td>0.00</td>\n",
       "      <td>1.53</td>\n",
       "      <td>0.0</td>\n",
       "      <td>0</td>\n",
       "      <td>2000000</td>\n",
       "    </tr>\n",
       "    <tr>\n",
       "      <th>54038</th>\n",
       "      <td>108193</td>\n",
       "      <td>0.01</td>\n",
       "      <td>1.61</td>\n",
       "      <td>0.0</td>\n",
       "      <td>0</td>\n",
       "      <td>-543349</td>\n",
       "    </tr>\n",
       "    <tr>\n",
       "      <th>260490</th>\n",
       "      <td>521262</td>\n",
       "      <td>0.01</td>\n",
       "      <td>1.53</td>\n",
       "      <td>0.0</td>\n",
       "      <td>0</td>\n",
       "      <td>413069</td>\n",
       "    </tr>\n",
       "    <tr>\n",
       "      <th>293761</th>\n",
       "      <td>587799</td>\n",
       "      <td>0.01</td>\n",
       "      <td>1.52</td>\n",
       "      <td>0.0</td>\n",
       "      <td>0</td>\n",
       "      <td>66537</td>\n",
       "    </tr>\n",
       "    <tr>\n",
       "      <th>298264</th>\n",
       "      <td>596800</td>\n",
       "      <td>0.01</td>\n",
       "      <td>1.52</td>\n",
       "      <td>0.0</td>\n",
       "      <td>0</td>\n",
       "      <td>9001</td>\n",
       "    </tr>\n",
       "  </tbody>\n",
       "</table>\n",
       "</div>"
      ],
      "text/plain": [
       "            Id  date_start  date_end  duration  Response  diff_Id1\n",
       "325556  651542        0.00      1.53       0.0         0   2000000\n",
       "54038   108193        0.01      1.61       0.0         0   -543349\n",
       "260490  521262        0.01      1.53       0.0         0    413069\n",
       "293761  587799        0.01      1.52       0.0         0     66537\n",
       "298264  596800        0.01      1.52       0.0         0      9001"
      ]
     },
     "execution_count": 22,
     "metadata": {},
     "output_type": "execute_result"
    }
   ],
   "source": [
    "df.sort_values(['date_start', 'Id'], inplace=True)\n",
    "\n",
    "df['diff_Id1'] = df.Id.diff(1).fillna(2*10**6).astype(int) # ID difference when sorted by `date_start`\n",
    "df.head()"
   ]
  },
  {
   "cell_type": "code",
   "execution_count": 41,
   "metadata": {},
   "outputs": [
    {
     "name": "stderr",
     "output_type": "stream",
     "text": [
      "C:\\Users\\home\\Anaconda3\\envs\\kaggle\\lib\\site-packages\\matplotlib\\axes\\_axes.py:6462: UserWarning: The 'normed' kwarg is deprecated, and has been replaced by the 'density' kwarg.\n",
      "  warnings.warn(\"The 'normed' kwarg is deprecated, and has been \"\n"
     ]
    },
    {
     "data": {
      "image/png": "[encoded data removed]",
      "text/plain": [
       "<Figure size 432x288 with 1 Axes>"
      ]
     },
     "metadata": {},
     "output_type": "display_data"
    }
   ],
   "source": [
    "hist_bins = 2**np.arange(20)\n",
    "a = plt.hist(np.abs(df.diff_Id1[df.Response==1]), log=True, bins=hist_bins, normed=False)\n",
    "plt.xscale('log')"
   ]
  },
  {
   "cell_type": "code",
   "execution_count": 44,
   "metadata": {},
   "outputs": [
    {
     "data": {
      "text/plain": [
       "array([     1,      2,      4,      8,     16,     32,     64,    128,\n",
       "          256,    512,   1024,   2048,   4096,   8192,  16384,  32768,\n",
       "        65536, 131072, 262144, 524288], dtype=int32)"
      ]
     },
     "execution_count": 44,
     "metadata": {},
     "output_type": "execute_result"
    }
   ],
   "source": [
    "a[1]"
   ]
  },
  {
   "cell_type": "code",
   "execution_count": 51,
   "metadata": {},
   "outputs": [],
   "source": [
    "date_start = df.date_start.unique()"
   ]
  },
  {
   "cell_type": "code",
   "execution_count": 52,
   "metadata": {},
   "outputs": [],
   "source": [
    "df.dropna(subset=['date_start'], axis=0, inplace=True)"
   ]
  },
  {
   "cell_type": "code",
   "execution_count": 53,
   "metadata": {},
   "outputs": [],
   "source": [
    "date = df.groupby('date_start')['Response'].agg(['mean', 'sum', 'count']).sort_values(by=['sum', 'mean', 'count'], ascending=False).reset_index()"
   ]
  },
  {
   "cell_type": "code",
   "execution_count": 154,
   "metadata": {},
   "outputs": [],
   "source": [
    "pp = {}\n",
    "\n",
    "for n in range(400):\n",
    "    \n",
    "    x = df.loc[df.date_start==date.date_start[n]].copy()\n",
    "\n",
    "    x['diff'] = x['Id'].diff().fillna(99999999).astype(int)\n",
    "    x['corr'] = x.Response.rolling(2).sum().fillna(99999999).astype(int)\n",
    "    x = x.iloc[1:]\n",
    "\n",
    "    if 1 in x['diff'].values:\n",
    "        x.groupby('diff').corr.agg(['mean', 'count', 'sum']).loc[1]\n",
    "        a.append(len(x[(x['diff']==1) & (x['corr']==2)])/len(x))\n",
    "        pp[n] = [date.date_start[n], len(x[(x['diff']==1) & (x['corr']==2)])/len(x), len(x[(x['diff']==1) & (x['corr']==2)]), len(x)]\n",
    "\n",
    "pp = pd.DataFrame.from_dict(pp, orient='index')\n",
    "\n",
    "pp.columns = ['start_date', 'error_rate', 'error_count', 'total_count']\n",
    "\n",
    "rate = pp.error_count.sum()/pp.total_count.sum()"
   ]
  },
  {
   "cell_type": "code",
   "execution_count": 155,
   "metadata": {},
   "outputs": [
    {
     "data": {
      "text/plain": [
       "0.031465247338760174"
      ]
     },
     "execution_count": 155,
     "metadata": {},
     "output_type": "execute_result"
    }
   ],
   "source": [
    "rate"
   ]
  },
  {
   "cell_type": "code",
   "execution_count": null,
   "metadata": {},
   "outputs": [],
   "source": []
  }
 ],
 "metadata": {
  "kernelspec": {
   "display_name": "Python 3",
   "language": "python",
   "name": "python3"
  },
  "language_info": {
   "codemirror_mode": {
    "name": "ipython",
    "version": 3
   },
   "file_extension": ".py",
   "mimetype": "text/x-python",
   "name": "python",
   "nbconvert_exporter": "python",
   "pygments_lexer": "ipython3",
   "version": "3.6.5"
  }
 },
 "nbformat": 4,
 "nbformat_minor": 2
}
