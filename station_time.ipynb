{
 "cells": [
  {
   "cell_type": "markdown",
   "metadata": {},
   "source": [
    "### Order of productions on each station or feature\n",
    "\n",
    "Randomly pick one column `L3_S50_D4252`"
   ]
  },
  {
   "cell_type": "code",
   "execution_count": 60,
   "metadata": {},
   "outputs": [],
   "source": [
    "import numpy as np # linear algebra\n",
    "import pandas as pd # data processing, CSV file I/O (e.g. pd.read_csv)\n",
    "import matplotlib.pyplot as plt\n",
    "import gc \n",
    "import tqdm\n",
    "import os\n",
    "from matplotlib.backends.backend_pdf import PdfPages\n",
    "\n",
    "% matplotlib inline"
   ]
  },
  {
   "cell_type": "code",
   "execution_count": 2,
   "metadata": {},
   "outputs": [
    {
     "name": "stderr",
     "output_type": "stream",
     "text": [
      "C:\\Users\\home\\Anaconda3\\envs\\kaggle\\lib\\site-packages\\numpy\\lib\\arraysetops.py:472: FutureWarning: elementwise comparison failed; returning scalar instead, but in the future will perform elementwise comparison\n",
      "  mask |= (ar1 == a)\n"
     ]
    }
   ],
   "source": [
    "# Obtain all labels\n",
    "response = pd.read_csv('data/train_numeric.csv.zip', index_col=0, usecols=[0, 969])\n",
    "df = pd.read_csv('data/train_date.csv.zip', index_col=0)\n",
    "df = df.join(response)"
   ]
  },
  {
   "cell_type": "code",
   "execution_count": 3,
   "metadata": {},
   "outputs": [
    {
     "name": "stdout",
     "output_type": "stream",
     "text": [
      "1183747 1156\n"
     ]
    }
   ],
   "source": [
    "del response\n",
    "gc.collect()\n",
    "\n",
    "n_parts, n_columns = df.shape\n",
    "n_columns -= 1\n",
    "print(n_parts, n_columns)"
   ]
  },
  {
   "cell_type": "code",
   "execution_count": 4,
   "metadata": {},
   "outputs": [],
   "source": [
    "# stations and features in each station\n",
    "stations = list(set([f.split('_')[1] for f in df.columns.tolist() if f!='Response']))\n",
    "\n",
    "station_features = {s: [f for f in df.columns.tolist() if s in f] for s in stations }"
   ]
  },
  {
   "cell_type": "code",
   "execution_count": 108,
   "metadata": {},
   "outputs": [
    {
     "data": {
      "application/vnd.jupyter.widget-view+json": {
       "model_id": "2772bdf6ff9340129e9a00c8fc250a1e",
       "version_major": 2,
       "version_minor": 0
      },
      "text/plain": [
       "HBox(children=(IntProgress(value=0, max=1157), HTML(value='')))"
      ]
     },
     "metadata": {},
     "output_type": "display_data"
    }
   ],
   "source": [
    "# Calculate samples in each feature, if there is any station that every or almost every part flows by?\n",
    "columns = df.columns.tolist()\n",
    "feature_samples = {}\n",
    "for col in tqdm.tqdm_notebook(columns):\n",
    "    feature_samples[col] = len(df.loc[df[col].notna(), col])\n",
    "\n",
    "feature_samples = pd.Series(feature_samples)\n",
    "feature_samples.sort_values(ascending=False, inplace=True)\n",
    "feature_samples.drop('Response', inplace=True)\n",
    "\n",
    "feature_samples = feature_samples.reset_index()\n",
    "feature_samples.columns = ['feature', 'count']\n",
    "fs = feature_samples.copy()\n",
    "fs['station'] = feature_samples['feature'].apply(lambda x: x.split('_')[1])\n",
    "\n",
    "station_samples = fs.groupby('station')['count'].max().sort_values(ascending=False)"
   ]
  },
  {
   "cell_type": "code",
   "execution_count": 13,
   "metadata": {},
   "outputs": [
    {
     "data": {
      "application/vnd.jupyter.widget-view+json": {
       "model_id": "9d4e0fd72cf14cf9854c4ed12267c671",
       "version_major": 2,
       "version_minor": 0
      },
      "text/plain": [
       "HBox(children=(IntProgress(value=0, max=52), HTML(value='')))"
      ]
     },
     "metadata": {},
     "output_type": "display_data"
    },
    {
     "name": "stdout",
     "output_type": "stream",
     "text": [
      "\n"
     ]
    }
   ],
   "source": [
    "station_time = {}\n",
    "for s in tqdm.tqdm_notebook(stations):\n",
    "    station_time[s+'_start'] = df[station_features[s]].min(axis=1)\n",
    "    station_time[s+'_end'] = df[station_features[s]].max(axis=1)\n",
    "    station_time[s+'_duration'] = station_time[s+'_end'] - station_time[s+'_start']"
   ]
  },
  {
   "cell_type": "code",
   "execution_count": 176,
   "metadata": {},
   "outputs": [
    {
     "data": {
      "application/vnd.jupyter.widget-view+json": {
       "model_id": "afe60365be02412583454a343c1f8823",
       "version_major": 2,
       "version_minor": 0
      },
      "text/plain": [
       "HBox(children=(IntProgress(value=0, max=156), HTML(value='')))"
      ]
     },
     "metadata": {},
     "output_type": "display_data"
    },
    {
     "data": {
      "application/vnd.jupyter.widget-view+json": {
       "model_id": "396d11214e874a239196cfde71fd464f",
       "version_major": 2,
       "version_minor": 0
      },
      "text/plain": [
       "HBox(children=(IntProgress(value=0, max=64), HTML(value='')))"
      ]
     },
     "metadata": {},
     "output_type": "display_data"
    }
   ],
   "source": [
    "# Remove the end time and duration for stations whose start and end times are identical for most parts \n",
    "x = pd.DataFrame(station_time)\n",
    "x = x.join(df.Response)\n",
    "    \n",
    "# features will be categorized\n",
    "cols = [n.format(i) for i in range(52) for n in ['S{}_start', 'S{}_end', 'S{}_duration'] ]\n",
    "don = [] # features will not be categorized because they are redundant or have too few samples\n",
    "    \n",
    "# filter columns\n",
    "for f in tqdm.tqdm_notebook(cols):\n",
    "    if f=='Response':\n",
    "        continue\n",
    "    bins = int(max(10, station_samples[f.split('_')[0]]/20000))\n",
    "    x[f] = pd.qcut(x[f], bins, labels=False, duplicates='drop')\n",
    "    if (len(x[f].unique())==1) | (station_samples[f.split('_')[0]]<20):\n",
    "        don.append(f)\n",
    "        continue\n",
    "\n",
    "don.extend([u.split('_')[0]+'_end' for u in don if u.split('_')[1]=='duration'])\n",
    "cols = [u for u in cols if u not in don]\n",
    "\n",
    "if os.path.isfile('station_time.pdf'):\n",
    "    os.remove('station_time.pdf')\n",
    "\n",
    "with PdfPages('station_time.pdf') as pp:\n",
    "    for f in tqdm.tqdm_notebook(cols):\n",
    "        a = x.groupby(f).Response.agg(['mean', 'sum', 'count']).sort_values('mean', ascending=False)\n",
    "        a['confidence_interval'] = 1.96 * np.sqrt(a['mean'] * (1-a['mean']) / a['count'])\n",
    "        a['mean_low'] = a['mean'] - a['confidence_interval']\n",
    "        a['mean_high'] = a['mean'] + a['confidence_interval']\n",
    "\n",
    "        fig = plt.figure(figsize=(14, 7))\n",
    "        bars = plt.bar(a.index, a['mean'], yerr=a['confidence_interval'], label='error rate per bin')\n",
    "        line = plt.plot([-1, len(a)], [0.0058, 0.0058], color='tab:red', label='average error rate')\n",
    "        plt.title('$P(error \\mid$ {})'.format(f))\n",
    "        plt.xlabel('{}'.format(f), fontsize=16)\n",
    "        plt.close(fig)\n",
    "        pp.savefig(fig)\n"
   ]
  },
  {
   "cell_type": "code",
   "execution_count": null,
   "metadata": {},
   "outputs": [],
   "source": [
    "x.drop(don, axis=1, inplace=True)\n",
    "\n",
    "x.to_csv('station_time.csv', index=True)"
   ]
  },
  {
   "cell_type": "markdown",
   "metadata": {},
   "source": [
    "### Two methods calculating confidence interval of binomial distribution\n",
    "To obtain statistically significant results, it's good to not only check\n",
    "For large sample size, they are the same."
   ]
  },
  {
   "cell_type": "code",
   "execution_count": 145,
   "metadata": {},
   "outputs": [
    {
     "data": {
      "text/plain": [
       "0.0027579644667761766"
      ]
     },
     "execution_count": 145,
     "metadata": {},
     "output_type": "execute_result"
    }
   ],
   "source": [
    "wald = lambda p, n: 1.96 * np.sqrt(p*(1-p)/n)\n",
    "wald(0.01, 5000)"
   ]
  },
  {
   "cell_type": "code",
   "execution_count": 128,
   "metadata": {},
   "outputs": [
    {
     "data": {
      "text/plain": [
       "0.0015369484116397646"
      ]
     },
     "execution_count": 128,
     "metadata": {},
     "output_type": "execute_result"
    }
   ],
   "source": [
    "def agresti(p, n):\n",
    "    n1 = p * n\n",
    "    pt = (n1 + 0.5 * 1.96**2) / (n + 1.96**2)\n",
    "    return 1.96 * np.sqrt(pt * (1-pt) / (n + 1.96**2))\n",
    "agresti(0.006, 10000)"
   ]
  },
  {
   "cell_type": "code",
   "execution_count": 141,
   "metadata": {},
   "outputs": [
    {
     "data": {
      "image/png": "[encoded data removed]",
      "text/plain": [
       "<Figure size 432x288 with 1 Axes>"
      ]
     },
     "metadata": {},
     "output_type": "display_data"
    }
   ],
   "source": [
    "p = np.arange(0.0001, .1, 0.0001)\n",
    "e1 = [wald(i, 10000) for i in p]\n",
    "e2 = [wald(i, 20000) for i in p]\n",
    "plt.plot(p, e1, label='10000 samples')\n",
    "plt.plot(p, e2, label='20000 samples')\n",
    "plt.plot([0.006, 0.006], [0, .01])\n",
    "plt.legend()\n",
    "plt.show()"
   ]
  }
 ],
 "metadata": {
  "kernelspec": {
   "display_name": "Python 3",
   "language": "python",
   "name": "python3"
  },
  "language_info": {
   "codemirror_mode": {
    "name": "ipython",
    "version": 3
   },
   "file_extension": ".py",
   "mimetype": "text/x-python",
   "name": "python",
   "nbconvert_exporter": "python",
   "pygments_lexer": "ipython3",
   "version": "3.6.5"
  }
 },
 "nbformat": 4,
 "nbformat_minor": 2
}
