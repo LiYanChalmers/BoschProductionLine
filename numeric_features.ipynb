{
 "cells": [
  {
   "cell_type": "code",
   "execution_count": 1,
   "metadata": {},
   "outputs": [
    {
     "name": "stderr",
     "output_type": "stream",
     "text": [
      "C:\\Users\\home\\Anaconda3\\envs\\kaggle\\lib\\site-packages\\sklearn\\cross_validation.py:41: DeprecationWarning: This module was deprecated in version 0.18 in favor of the model_selection module into which all the refactored classes and functions are moved. Also note that the interface of the new CV iterators are different from that of this module. This module will be removed in 0.20.\n",
      "  \"This module will be removed in 0.20.\", DeprecationWarning)\n"
     ]
    }
   ],
   "source": [
    "import os\n",
    "if os.name=='nt':\n",
    "    mingw_path = 'C:\\\\Program Files\\\\mingw-w64\\\\x86_64-8.1.0-posix-seh-rt_v6-rev0\\\\mingw64\\\\bin'\n",
    "    os.environ['PATH'] = mingw_path + ';' + os.environ['PATH']\n",
    "\n",
    "import numpy as np\n",
    "import pandas as pd\n",
    "from xgboost import XGBClassifier\n",
    "from sklearn.metrics import matthews_corrcoef, roc_auc_score\n",
    "from sklearn.cross_validation import cross_val_score, StratifiedKFold\n",
    "from sklearn.model_selection import train_test_split\n",
    "import matplotlib.pyplot as plt\n",
    "import seaborn as sns\n",
    "from sys import getsizeof\n",
    "import time\n",
    "\n",
    "%matplotlib inline"
   ]
  },
  {
   "cell_type": "code",
   "execution_count": 4,
   "metadata": {},
   "outputs": [],
   "source": [
    "import pickle\n",
    "\n",
    "def save_pickle(x, filename):\n",
    "    with open(filename, 'wb') as handle:\n",
    "        pickle.dump(x, handle, protocol=pickle.HIGHEST_PROTOCOL)\n",
    "\n",
    "def read_pickle(filename):\n",
    "    with open(filename, 'rb') as handle:\n",
    "        x = pickle.load(handle)\n",
    "    return x"
   ]
  },
  {
   "cell_type": "code",
   "execution_count": 15,
   "metadata": {},
   "outputs": [],
   "source": [
    "x_train_numeric = pd.read_csv('data/train_numeric.csv.zip', index_col=0, nrows=100000)"
   ]
  },
  {
   "cell_type": "code",
   "execution_count": 16,
   "metadata": {},
   "outputs": [],
   "source": [
    "y = x_train_numeric['Response'].values\n",
    "x_train_numeric = x_train_numeric.iloc[:, :-1].values"
   ]
  },
  {
   "cell_type": "code",
   "execution_count": 18,
   "metadata": {},
   "outputs": [
    {
     "data": {
      "text/plain": [
       "(100000, 968)"
      ]
     },
     "execution_count": 18,
     "metadata": {},
     "output_type": "execute_result"
    }
   ],
   "source": [
    "x_train_numeric.shape"
   ]
  },
  {
   "cell_type": "code",
   "execution_count": 24,
   "metadata": {},
   "outputs": [
    {
     "data": {
      "text/plain": [
       "array([0, 1], dtype=int64)"
      ]
     },
     "execution_count": 24,
     "metadata": {},
     "output_type": "execute_result"
    }
   ],
   "source": [
    "np.unique(y)"
   ]
  },
  {
   "cell_type": "code",
   "execution_count": 25,
   "metadata": {},
   "outputs": [
    {
     "name": "stdout",
     "output_type": "stream",
     "text": [
      "[0]\tvalidation_0-auc:0.703215\n",
      "[1]\tvalidation_0-auc:0.731621\n",
      "[2]\tvalidation_0-auc:0.728969\n",
      "[3]\tvalidation_0-auc:0.749141\n",
      "[4]\tvalidation_0-auc:0.758044\n",
      "[5]\tvalidation_0-auc:0.75975\n",
      "[6]\tvalidation_0-auc:0.765241\n",
      "[7]\tvalidation_0-auc:0.768318\n",
      "[8]\tvalidation_0-auc:0.779816\n",
      "[9]\tvalidation_0-auc:0.780142\n",
      "[10]\tvalidation_0-auc:0.785361\n",
      "[11]\tvalidation_0-auc:0.789382\n",
      "[12]\tvalidation_0-auc:0.792351\n",
      "[13]\tvalidation_0-auc:0.79981\n",
      "[14]\tvalidation_0-auc:0.80566\n",
      "[15]\tvalidation_0-auc:0.8069\n",
      "[16]\tvalidation_0-auc:0.808967\n",
      "[17]\tvalidation_0-auc:0.809558\n",
      "[18]\tvalidation_0-auc:0.811853\n",
      "[19]\tvalidation_0-auc:0.811759\n",
      "[20]\tvalidation_0-auc:0.811387\n",
      "[21]\tvalidation_0-auc:0.814135\n",
      "[22]\tvalidation_0-auc:0.815794\n",
      "[23]\tvalidation_0-auc:0.81872\n",
      "[24]\tvalidation_0-auc:0.819442\n",
      "[25]\tvalidation_0-auc:0.822668\n",
      "[26]\tvalidation_0-auc:0.823021\n",
      "[27]\tvalidation_0-auc:0.822401\n",
      "[28]\tvalidation_0-auc:0.82303\n",
      "[29]\tvalidation_0-auc:0.822873\n",
      "[30]\tvalidation_0-auc:0.823501\n",
      "[31]\tvalidation_0-auc:0.826212\n",
      "[32]\tvalidation_0-auc:0.827025\n",
      "[33]\tvalidation_0-auc:0.826547\n",
      "[34]\tvalidation_0-auc:0.830042\n",
      "[35]\tvalidation_0-auc:0.833468\n",
      "[36]\tvalidation_0-auc:0.833156\n",
      "[37]\tvalidation_0-auc:0.835352\n",
      "[38]\tvalidation_0-auc:0.834643\n",
      "[39]\tvalidation_0-auc:0.837494\n",
      "[40]\tvalidation_0-auc:0.842485\n",
      "[41]\tvalidation_0-auc:0.844313\n",
      "[42]\tvalidation_0-auc:0.845538\n",
      "[43]\tvalidation_0-auc:0.846118\n",
      "[44]\tvalidation_0-auc:0.84825\n",
      "[45]\tvalidation_0-auc:0.848816\n",
      "[46]\tvalidation_0-auc:0.849358\n",
      "[47]\tvalidation_0-auc:0.850056\n",
      "[48]\tvalidation_0-auc:0.850529\n",
      "[49]\tvalidation_0-auc:0.850014\n",
      "[50]\tvalidation_0-auc:0.849627\n",
      "[51]\tvalidation_0-auc:0.850002\n",
      "[52]\tvalidation_0-auc:0.851614\n",
      "[53]\tvalidation_0-auc:0.855768\n",
      "[54]\tvalidation_0-auc:0.857077\n",
      "[55]\tvalidation_0-auc:0.859474\n",
      "[56]\tvalidation_0-auc:0.859777\n",
      "[57]\tvalidation_0-auc:0.859043\n",
      "[58]\tvalidation_0-auc:0.861619\n",
      "[59]\tvalidation_0-auc:0.862818\n"
     ]
    },
    {
     "data": {
      "text/plain": [
       "XGBClassifier(base_score=0.0058, booster='gbtree', colsample_bylevel=1,\n",
       "       colsample_bytree=0.6, gamma=0, learning_rate=0.03, max_delta_step=0,\n",
       "       max_depth=6, min_child_weight=5, missing=None, n_estimators=60,\n",
       "       n_jobs=8, nthread=None, objective='binary:logistic', random_state=0,\n",
       "       reg_alpha=0, reg_lambda=4, scale_pos_weight=1, seed=None,\n",
       "       silent=False, subsample=0.9)"
      ]
     },
     "execution_count": 25,
     "metadata": {},
     "output_type": "execute_result"
    }
   ],
   "source": [
    "clf = XGBClassifier(max_depth=6, n_estimators=60, base_score=0.0058, n_jobs=8, colsample_bytree=0.6,\n",
    "                   min_child_weight=5, subsample=0.9,  reg_lambda=4, silent=False, learning_rate=0.03)\n",
    "clf.fit(x_train_numeric, y, eval_set=[(x_train_numeric, y)], eval_metric='auc', verbose=True)"
   ]
  },
  {
   "cell_type": "code",
   "execution_count": 27,
   "metadata": {},
   "outputs": [],
   "source": [
    "important_feature_index = np.argsort(clf.feature_importances_)[::-1]"
   ]
  },
  {
   "cell_type": "code",
   "execution_count": 30,
   "metadata": {},
   "outputs": [
    {
     "data": {
      "text/plain": [
       "[<matplotlib.lines.Line2D at 0x1c457a63198>]"
      ]
     },
     "execution_count": 30,
     "metadata": {},
     "output_type": "execute_result"
    },
    {
     "data": {
      "image/png": "[encoded data removed]",
      "text/plain": [
       "<Figure size 432x288 with 1 Axes>"
      ]
     },
     "metadata": {},
     "output_type": "display_data"
    }
   ],
   "source": [
    "plt.plot(clf.feature_importances_[important_feature_index])"
   ]
  },
  {
   "cell_type": "code",
   "execution_count": null,
   "metadata": {},
   "outputs": [],
   "source": []
  }
 ],
 "metadata": {
  "kernelspec": {
   "display_name": "Python 3",
   "language": "python",
   "name": "python3"
  },
  "language_info": {
   "codemirror_mode": {
    "name": "ipython",
    "version": 3
   },
   "file_extension": ".py",
   "mimetype": "text/x-python",
   "name": "python",
   "nbconvert_exporter": "python",
   "pygments_lexer": "ipython3",
   "version": "3.6.5"
  }
 },
 "nbformat": 4,
 "nbformat_minor": 2
}
