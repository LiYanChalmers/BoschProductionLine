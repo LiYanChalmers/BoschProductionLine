{
 "cells": [
  {
   "cell_type": "markdown",
   "metadata": {},
   "source": [
    "### Analyze station time\n",
    "Instead of binning times, I try to group station time sequence by time approximity. This should be more natural and make more sense than `pd.qcut`. \n",
    "**But I don't see any significantly good distributions.**"
   ]
  },
  {
   "cell_type": "code",
   "execution_count": 1,
   "metadata": {},
   "outputs": [],
   "source": [
    "import numpy as np # linear algebra\n",
    "import pandas as pd # data processing, CSV file I/O (e.g. pd.read_csv)\n",
    "import matplotlib.pyplot as plt\n",
    "import gc \n",
    "import tqdm\n",
    "import os\n",
    "from matplotlib.backends.backend_pdf import PdfPages\n",
    "\n",
    "% matplotlib inline"
   ]
  },
  {
   "cell_type": "code",
   "execution_count": 2,
   "metadata": {},
   "outputs": [
    {
     "name": "stderr",
     "output_type": "stream",
     "text": [
      "C:\\Users\\home\\Anaconda3\\envs\\kaggle\\lib\\site-packages\\numpy\\lib\\arraysetops.py:472: FutureWarning: elementwise comparison failed; returning scalar instead, but in the future will perform elementwise comparison\n",
      "  mask |= (ar1 == a)\n"
     ]
    }
   ],
   "source": [
    "# Obtain all labels\n",
    "response = pd.read_csv('data/train_numeric.csv.zip', index_col=0, usecols=[0, 969])\n",
    "df = pd.read_csv('data/train_date.csv.zip', index_col=0)\n",
    "df = df.join(response)"
   ]
  },
  {
   "cell_type": "code",
   "execution_count": 3,
   "metadata": {},
   "outputs": [
    {
     "name": "stdout",
     "output_type": "stream",
     "text": [
      "1183747 1156\n"
     ]
    }
   ],
   "source": [
    "del response\n",
    "gc.collect()\n",
    "\n",
    "n_parts, n_columns = df.shape\n",
    "n_columns -= 1\n",
    "print(n_parts, n_columns)"
   ]
  },
  {
   "cell_type": "code",
   "execution_count": 4,
   "metadata": {},
   "outputs": [],
   "source": [
    "# stations and features in each station\n",
    "stations = list(set([f.split('_')[1] for f in df.columns.tolist() if f!='Response']))\n",
    "\n",
    "station_features = {s: [f for f in df.columns.tolist() if s in f] for s in stations }"
   ]
  },
  {
   "cell_type": "code",
   "execution_count": 5,
   "metadata": {},
   "outputs": [
    {
     "data": {
      "application/vnd.jupyter.widget-view+json": {
       "model_id": "98195b9d9f2e42a4b8177f93b4e637a7",
       "version_major": 2,
       "version_minor": 0
      },
      "text/plain": [
       "HBox(children=(IntProgress(value=0, max=1157), HTML(value='')))"
      ]
     },
     "metadata": {},
     "output_type": "display_data"
    },
    {
     "name": "stdout",
     "output_type": "stream",
     "text": [
      "\n"
     ]
    }
   ],
   "source": [
    "# Calculate samples in each feature, if there is any station that every or almost every part flows by?\n",
    "columns = df.columns.tolist()\n",
    "feature_samples = {}\n",
    "for col in tqdm.tqdm_notebook(columns):\n",
    "    feature_samples[col] = len(df.loc[df[col].notna(), col])\n",
    "\n",
    "feature_samples = pd.Series(feature_samples)\n",
    "feature_samples.sort_values(ascending=False, inplace=True)\n",
    "feature_samples.drop('Response', inplace=True)\n",
    "\n",
    "feature_samples = feature_samples.reset_index()\n",
    "feature_samples.columns = ['feature', 'count']\n",
    "fs = feature_samples.copy()\n",
    "fs['station'] = feature_samples['feature'].apply(lambda x: x.split('_')[1])\n",
    "\n",
    "station_samples = fs.groupby('station')['count'].max().sort_values(ascending=False)"
   ]
  },
  {
   "cell_type": "code",
   "execution_count": 6,
   "metadata": {},
   "outputs": [
    {
     "data": {
      "application/vnd.jupyter.widget-view+json": {
       "model_id": "30992fd30ad9405cbeeb6a3a360d2199",
       "version_major": 2,
       "version_minor": 0
      },
      "text/plain": [
       "HBox(children=(IntProgress(value=0, max=52), HTML(value='')))"
      ]
     },
     "metadata": {},
     "output_type": "display_data"
    },
    {
     "name": "stdout",
     "output_type": "stream",
     "text": [
      "\n"
     ]
    }
   ],
   "source": [
    "station_time = {}\n",
    "for s in tqdm.tqdm_notebook(stations):\n",
    "    station_time[s+'_start'] = df[station_features[s]].min(axis=1)\n",
    "    station_time[s+'_end'] = df[station_features[s]].max(axis=1)\n",
    "    station_time[s+'_duration'] = station_time[s+'_end'] - station_time[s+'_start']"
   ]
  },
  {
   "cell_type": "code",
   "execution_count": 7,
   "metadata": {},
   "outputs": [],
   "source": [
    "x = pd.DataFrame(station_time)\n",
    "x = x.join(df.Response)"
   ]
  },
  {
   "cell_type": "code",
   "execution_count": 12,
   "metadata": {},
   "outputs": [],
   "source": [
    "a = x[['S30_start', 'Response']].copy()\n",
    "a.dropna(axis=0, inplace=True)\n",
    "\n",
    "b = a.groupby('S30_start').Response.agg(['mean', 'sum', 'count'])\n",
    "b.columns = ['error_rate', 'error_sum', 'n']\n",
    "b.sort_index(inplace=True)\n",
    "t = b.index.values\n",
    "c = b.groupby('n')['error_sum'].agg(['mean', 'sum', 'count'])\n",
    "c['mean'] = c['mean']/c.index\n",
    "c['confidence_interval'] = 1.96 * np.sqrt(c['mean'] * (1-c['mean']) / c['count'])\n",
    "c['mean_low'] = c['mean'] - c['confidence_interval']\n",
    "c['mean_high'] = c['mean'] + c['confidence_interval']\n",
    "\n",
    "N = 25\n",
    "plt.bar(c.index[:N], c['mean'][:N], yerr=c['confidence_interval'][:N])\n",
    "plt.plot([-1, N+0.5], [0.0058, 0.0058], color='tab:red', label='average error rate')"
   ]
  },
  {
   "cell_type": "code",
   "execution_count": 72,
   "metadata": {},
   "outputs": [
    {
     "data": {
      "text/plain": [
       "[<matplotlib.lines.Line2D at 0x1a56bd3e470>]"
      ]
     },
     "execution_count": 72,
     "metadata": {},
     "output_type": "execute_result"
    },
    {
     "data": {
      "image/png": "[encoded data removed]",
      "text/plain": [
       "<Figure size 432x288 with 1 Axes>"
      ]
     },
     "metadata": {},
     "output_type": "display_data"
    }
   ],
   "source": [
    "col = 'S30_end'\n",
    "a = x[[col, 'Response']].copy()\n",
    "a.dropna(axis=0, inplace=True)\n",
    "\n",
    "b = a.groupby(col).Response.agg(['mean', 'sum', 'count'])\n",
    "b.columns = ['error_rate', 'error_sum', 'n']\n",
    "b.sort_index(inplace=True)\n",
    "t = b.index.values\n",
    "c = b.groupby('n')['error_sum'].agg(['mean', 'sum', 'count'])\n",
    "c['mean'] = c['mean']/c.index\n",
    "c['confidence_interval'] = 1.96 * np.sqrt(c['mean'] * (1-c['mean']) / c['count'])\n",
    "c['mean_low'] = c['mean'] - c['confidence_interval']\n",
    "c['mean_high'] = c['mean'] + c['confidence_interval']\n",
    "\n",
    "N = 25\n",
    "plt.bar(c.index[:N], c['mean'][:N], yerr=c['confidence_interval'][:N])\n",
    "plt.plot([-1, N+0.5], [0.0058, 0.0058], color='tab:red', label='average error rate')"
   ]
  },
  {
   "cell_type": "code",
   "execution_count": 74,
   "metadata": {},
   "outputs": [
    {
     "data": {
      "text/plain": [
       "[<matplotlib.lines.Line2D at 0x1a56c3e72b0>]"
      ]
     },
     "execution_count": 74,
     "metadata": {},
     "output_type": "execute_result"
    },
    {
     "data": {
      "image/png": "[encoded data removed]",
      "text/plain": [
       "<Figure size 432x288 with 1 Axes>"
      ]
     },
     "metadata": {},
     "output_type": "display_data"
    }
   ],
   "source": [
    "col = 'S29_end'\n",
    "a = x[[col, 'Response']].copy()\n",
    "a.dropna(axis=0, inplace=True)\n",
    "\n",
    "b = a.groupby(col).Response.agg(['mean', 'sum', 'count'])\n",
    "b.columns = ['error_rate', 'error_sum', 'n']\n",
    "b.sort_index(inplace=True)\n",
    "t = b.index.values\n",
    "c = b.groupby('n')['error_sum'].agg(['mean', 'sum', 'count'])\n",
    "c['mean'] = c['mean']/c.index\n",
    "c['confidence_interval'] = 1.96 * np.sqrt(c['mean'] * (1-c['mean']) / c['count'])\n",
    "c['mean_low'] = c['mean'] - c['confidence_interval']\n",
    "c['mean_high'] = c['mean'] + c['confidence_interval']\n",
    "\n",
    "N = 25\n",
    "plt.bar(c.index[:N], c['mean'][:N], yerr=c['confidence_interval'][:N])\n",
    "plt.plot([-1, N+0.5], [0.0058, 0.0058], color='tab:red', label='average error rate')"
   ]
  },
  {
   "cell_type": "code",
   "execution_count": null,
   "metadata": {},
   "outputs": [],
   "source": []
  }
 ],
 "metadata": {
  "kernelspec": {
   "display_name": "Python 3",
   "language": "python",
   "name": "python3"
  },
  "language_info": {
   "codemirror_mode": {
    "name": "ipython",
    "version": 3
   },
   "file_extension": ".py",
   "mimetype": "text/x-python",
   "name": "python",
   "nbconvert_exporter": "python",
   "pygments_lexer": "ipython3",
   "version": "3.6.5"
  }
 },
 "nbformat": 4,
 "nbformat_minor": 2
}
