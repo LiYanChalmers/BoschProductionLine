{
 "cells": [
  {
   "cell_type": "code",
   "execution_count": 1,
   "metadata": {},
   "outputs": [
    {
     "name": "stderr",
     "output_type": "stream",
     "text": [
      "C:\\Users\\home\\Anaconda3\\envs\\kaggle\\lib\\site-packages\\sklearn\\cross_validation.py:41: DeprecationWarning: This module was deprecated in version 0.18 in favor of the model_selection module into which all the refactored classes and functions are moved. Also note that the interface of the new CV iterators are different from that of this module. This module will be removed in 0.20.\n",
      "  \"This module will be removed in 0.20.\", DeprecationWarning)\n"
     ]
    }
   ],
   "source": [
    "import os\n",
    "if os.name=='nt':\n",
    "    mingw_path = 'C:\\\\Program Files\\\\mingw-w64\\\\x86_64-8.1.0-posix-seh-rt_v6-rev0\\\\mingw64\\\\bin'\n",
    "    os.environ['PATH'] = mingw_path + ';' + os.environ['PATH']\n",
    "\n",
    "import numpy as np\n",
    "import pandas as pd\n",
    "from xgboost import XGBClassifier\n",
    "from sklearn.metrics import matthews_corrcoef, roc_auc_score\n",
    "from sklearn.cross_validation import cross_val_score, StratifiedKFold\n",
    "import matplotlib.pyplot as plt\n",
    "import seaborn as sns\n",
    "from sys import getsizeof\n",
    "import time\n",
    "\n",
    "%matplotlib inline"
   ]
  },
  {
   "cell_type": "code",
   "execution_count": 2,
   "metadata": {},
   "outputs": [
    {
     "data": {
      "text/plain": [
       "'nt'"
      ]
     },
     "execution_count": 2,
     "metadata": {},
     "output_type": "execute_result"
    }
   ],
   "source": [
    "os.name"
   ]
  },
  {
   "cell_type": "code",
   "execution_count": 2,
   "metadata": {},
   "outputs": [],
   "source": [
    "n_train = 1183747\n",
    "n_test = 1183748"
   ]
  },
  {
   "cell_type": "code",
   "execution_count": 3,
   "metadata": {},
   "outputs": [],
   "source": [
    "# I'm limited by RAM here and taking the first N rows is likely to be\n",
    "# a bad idea for the date data since it is ordered.\n",
    "# Sample the data in a roundabout way:\n",
    "\n",
    "\n",
    "def load_chunk(chunk_size=100, n_chunk=2, frac_chunk=0.05):\n",
    "    \n",
    "    date_chunks = pd.read_csv(\"data/train_date.csv.zip\", index_col=0, chunksize=chunk_size, dtype=np.float32)\n",
    "    num_chunks = pd.read_csv(\"data/train_numeric.csv.zip\", index_col=0,\n",
    "                         usecols=list(range(969)), chunksize=chunk_size, dtype=np.float32)\n",
    "    cat_chunks = pd.read_csv('data/train_categorical.csv.zip', index_col=0, chunksize=chunk_size)\n",
    "    \n",
    "    n = 0\n",
    "    tmp = []\n",
    "    #for dchunk, nchunk, cchunk in zip(date_chunks, num_chunks, cat_chunks):\n",
    "        #tmp.append(pd.concat([dchunk, nchunk, cchunk], axis=1).sample(frac=frac_chunk))\n",
    "    start_time = time.time()\n",
    "    for dchunk, nchunk in zip(date_chunks, num_chunks):\n",
    "        tmp.append(pd.concat([dchunk, nchunk], axis=1).sample(frac=frac_chunk))\n",
    "        n += 1\n",
    "        memory_usage = sum([x.memory_usage(deep=True).sum()*10**-9 for x in tmp])\n",
    "        running_time = time.time() - start_time\n",
    "        print('Chunk {} loaded. Total size of data: {:.3f} GB. Running time: {:.3f} sec.'.format(\n",
    "              n, memory_usage, running_time))\n",
    "        if n>=n_chunk:\n",
    "            break\n",
    "    \n",
    "    X = pd.concat(tmp)\n",
    "    y = pd.read_csv(\"data/train_numeric.csv.zip\", index_col=0, usecols=[0,969], dtype=np.float32).loc[X.index].values.ravel()\n",
    "    X = X.values\n",
    "    \n",
    "    return X, y"
   ]
  },
  {
   "cell_type": "code",
   "execution_count": 4,
   "metadata": {
    "scrolled": true
   },
   "outputs": [
    {
     "name": "stdout",
     "output_type": "stream",
     "text": [
      "Chunk 1 loaded. Total size of data: 0.850 GB. Running time: 10.717 sec.\n",
      "Chunk 2 loaded. Total size of data: 1.701 GB. Running time: 21.329 sec.\n",
      "Chunk 3 loaded. Total size of data: 2.551 GB. Running time: 31.742 sec.\n",
      "Chunk 4 loaded. Total size of data: 3.402 GB. Running time: 42.213 sec.\n",
      "Chunk 5 loaded. Total size of data: 4.252 GB. Running time: 52.665 sec.\n",
      "Chunk 6 loaded. Total size of data: 5.102 GB. Running time: 63.113 sec.\n",
      "Chunk 7 loaded. Total size of data: 5.953 GB. Running time: 73.656 sec.\n",
      "Chunk 8 loaded. Total size of data: 6.803 GB. Running time: 84.188 sec.\n",
      "Chunk 9 loaded. Total size of data: 7.654 GB. Running time: 94.774 sec.\n",
      "Chunk 10 loaded. Total size of data: 8.504 GB. Running time: 105.261 sec.\n",
      "Chunk 11 loaded. Total size of data: 9.354 GB. Running time: 115.825 sec.\n",
      "Chunk 12 loaded. Total size of data: 10.067 GB. Running time: 124.652 sec.\n"
     ]
    },
    {
     "name": "stderr",
     "output_type": "stream",
     "text": [
      "/home/li/miniconda3/envs/kaggle/lib/python3.6/site-packages/numpy/lib/arraysetops.py:472: FutureWarning: elementwise comparison failed; returning scalar instead, but in the future will perform elementwise comparison\n",
      "  mask |= (ar1 == a)\n"
     ]
    }
   ],
   "source": [
    "X, y = load_chunk(chunk_size=100000, n_chunk=12, frac_chunk=1.0)"
   ]
  },
  {
   "cell_type": "code",
   "execution_count": 5,
   "metadata": {},
   "outputs": [
    {
     "data": {
      "text/plain": [
       "XGBClassifier(base_score=0.005, booster='gbtree', colsample_bylevel=1,\n",
       "       colsample_bytree=1, gamma=0, learning_rate=0.1, max_delta_step=0,\n",
       "       max_depth=9, min_child_weight=1, missing=None, n_estimators=200,\n",
       "       n_jobs=6, nthread=None, objective='binary:logistic', random_state=0,\n",
       "       reg_alpha=0, reg_lambda=1, scale_pos_weight=1, seed=None,\n",
       "       silent=True, subsample=1)"
      ]
     },
     "execution_count": 5,
     "metadata": {},
     "output_type": "execute_result"
    }
   ],
   "source": [
    "clf = XGBClassifier(base_score=0.005, n_estimators=200, max_depth=9, n_jobs=6)\n",
    "clf.fit(X, y, verbose=True)"
   ]
  },
  {
   "cell_type": "code",
   "execution_count": 6,
   "metadata": {},
   "outputs": [
    {
     "data": {
      "text/plain": [
       "[<matplotlib.lines.Line2D at 0x7f360ab2f278>]"
      ]
     },
     "execution_count": 6,
     "metadata": {},
     "output_type": "execute_result"
    },
    {
     "data": {
      "image/png": "[encoded data removed]",
      "text/plain": [
       "<Figure size 432x288 with 1 Axes>"
      ]
     },
     "metadata": {},
     "output_type": "display_data"
    }
   ],
   "source": [
    "important_indices = np.where(clf.feature_importances_>0.001)[0]\n",
    "plt.plot(sorted(clf.feature_importances_))\n",
    "plt.plot(0.001*np.ones(len(clf.feature_importances_)))"
   ]
  },
  {
   "cell_type": "code",
   "execution_count": 7,
   "metadata": {},
   "outputs": [
    {
     "data": {
      "text/plain": [
       "(array([120.,  43.,  39.,  17.,  21.,  12.,  10.,   5.,   7.,   2.,   3.,\n",
       "          3.,   0.,   2.,   1.,   1.,   1.,   1.,   0.,   1.]),\n",
       " array([0.00102386, 0.00173269, 0.00244152, 0.00315035, 0.00385918,\n",
       "        0.00456801, 0.00527684, 0.00598567, 0.00669449, 0.00740332,\n",
       "        0.00811215, 0.00882098, 0.00952981, 0.01023864, 0.01094747,\n",
       "        0.0116563 , 0.01236513, 0.01307395, 0.01378278, 0.01449161,\n",
       "        0.01520044]),\n",
       " <a list of 20 Patch objects>)"
      ]
     },
     "execution_count": 7,
     "metadata": {},
     "output_type": "execute_result"
    },
    {
     "data": {
      "image/png": "[encoded data removed]",
      "text/plain": [
       "<Figure size 432x288 with 1 Axes>"
      ]
     },
     "metadata": {},
     "output_type": "display_data"
    }
   ],
   "source": [
    "plt.hist(clf.feature_importances_[important_indices], 20)"
   ]
  },
  {
   "cell_type": "code",
   "execution_count": 8,
   "metadata": {},
   "outputs": [
    {
     "data": {
      "text/plain": [
       "array([   0,   12,   14,   23,   32,   34,   36,   41,   50,   63,   76,\n",
       "         89,  103,  112,  121,  123,  125,  130,  393,  805,  831,  883,\n",
       "        939,  946,  960, 1018, 1019, 1029, 1034, 1042, 1050, 1056, 1156,\n",
       "       1157, 1158, 1159, 1160, 1161, 1163, 1164, 1165, 1166, 1167, 1168,\n",
       "       1169, 1171, 1173, 1174, 1177, 1178, 1180, 1182, 1183, 1186, 1187,\n",
       "       1188, 1189, 1190, 1191, 1193, 1194, 1196, 1197, 1201, 1202, 1203,\n",
       "       1204, 1206, 1207, 1208, 1209, 1210, 1213, 1214, 1215, 1216, 1218,\n",
       "       1219, 1220, 1221, 1222, 1225, 1226, 1227, 1228, 1230, 1232, 1233,\n",
       "       1234, 1235, 1236, 1237, 1238, 1239, 1245, 1246, 1247, 1249, 1250,\n",
       "       1252, 1254, 1258, 1259, 1261, 1263, 1267, 1269, 1270, 1271, 1272,\n",
       "       1274, 1275, 1277, 1278, 1283, 1285, 1297, 1298, 1299, 1301, 1304,\n",
       "       1307, 1311, 1313, 1318, 1323, 1356, 1404, 1412, 1476, 1477, 1480,\n",
       "       1481, 1482, 1483, 1484, 1486, 1487, 1488, 1490, 1492, 1493, 1494,\n",
       "       1502, 1505, 1507, 1510, 1513, 1516, 1517, 1519, 1520, 1522, 1523,\n",
       "       1529, 1531, 1533, 1538, 1540, 1541, 1542, 1543, 1548, 1549, 1550,\n",
       "       1552, 1554, 1578, 1607, 1620, 1837, 1838, 1839, 1840, 1842, 1843,\n",
       "       1844, 1846, 1847, 1848, 1849, 1851, 1852, 1854, 1856, 1857, 1858,\n",
       "       1860, 1861, 1862, 1863, 1879, 1880, 1881, 1882, 1883, 1884, 1885,\n",
       "       1886, 1887, 1888, 1889, 1890, 1891, 1892, 1893, 1897, 1898, 1899,\n",
       "       1900, 1907, 1911, 1912, 1913, 1914, 1925, 1926, 1927, 1932, 1934,\n",
       "       1935, 1936, 1937, 1938, 1940, 1942, 1944, 1947, 1948, 1949, 1951,\n",
       "       1954, 1955, 1958, 1959, 1960, 1961, 1966, 1967, 1968, 1970, 1971,\n",
       "       1974, 1975, 1982, 1983, 1984, 1985, 1986, 1987, 1988, 1990, 1992,\n",
       "       1993, 1994, 1995, 1997, 1999, 2004, 2006, 2007, 2010, 2020, 2021,\n",
       "       2022, 2027, 2028, 2040, 2041, 2046, 2047, 2048, 2049, 2059, 2060,\n",
       "       2062, 2063, 2064, 2065, 2067, 2084, 2092, 2093, 2094, 2101, 2102,\n",
       "       2107, 2112, 2114])"
      ]
     },
     "execution_count": 8,
     "metadata": {},
     "output_type": "execute_result"
    }
   ],
   "source": [
    "important_indices"
   ]
  },
  {
   "cell_type": "code",
   "execution_count": null,
   "metadata": {},
   "outputs": [
    {
     "name": "stdout",
     "output_type": "stream",
     "text": [
      "fold 0, ROC AUC: 0.711\n"
     ]
    }
   ],
   "source": [
    "clf = XGBClassifier(max_depth=9, n_estimators=200, base_score=0.006, n_jobs=6)\n",
    "cv = StratifiedKFold(y, n_folds=3)\n",
    "preds = np.ones(y.shape[0])\n",
    "for i, (train, test) in enumerate(cv):\n",
    "    preds[test] = clf.fit(X[train], y[train]).predict_proba(X[test])[:,1]\n",
    "    print(\"fold {}, ROC AUC: {:.3f}\".format(i, roc_auc_score(y[test], preds[test])))\n",
    "print(roc_auc_score(y, preds))"
   ]
  },
  {
   "cell_type": "code",
   "execution_count": 10,
   "metadata": {},
   "outputs": [
    {
     "name": "stderr",
     "output_type": "stream",
     "text": [
      "/home/li/miniconda3/envs/kaggle/lib/python3.6/site-packages/sklearn/metrics/classification.py:538: RuntimeWarning: invalid value encountered in double_scalars\n",
      "  mcc = cov_ytyp / np.sqrt(cov_ytyt * cov_ypyp)\n"
     ]
    },
    {
     "name": "stdout",
     "output_type": "stream",
     "text": [
      "0.21465928636118392\n"
     ]
    },
    {
     "data": {
      "image/png": "[encoded data removed]",
      "text/plain": [
       "<Figure size 432x288 with 1 Axes>"
      ]
     },
     "metadata": {},
     "output_type": "display_data"
    }
   ],
   "source": [
    "thresholds = np.linspace(0.01, 0.99, 50)\n",
    "mcc = np.array([matthews_corrcoef(y, preds>thr) for thr in thresholds])\n",
    "plt.plot(thresholds, mcc)\n",
    "best_threshold = thresholds[mcc.argmax()]\n",
    "print(mcc.max())"
   ]
  },
  {
   "cell_type": "code",
   "execution_count": null,
   "metadata": {},
   "outputs": [],
   "source": []
  }
 ],
 "metadata": {
  "kernelspec": {
   "display_name": "Python 3",
   "language": "python",
   "name": "python3"
  },
  "language_info": {
   "codemirror_mode": {
    "name": "ipython",
    "version": 3
   },
   "file_extension": ".py",
   "mimetype": "text/x-python",
   "name": "python",
   "nbconvert_exporter": "python",
   "pygments_lexer": "ipython3",
   "version": "3.6.5"
  }
 },
 "nbformat": 4,
 "nbformat_minor": 2
}
