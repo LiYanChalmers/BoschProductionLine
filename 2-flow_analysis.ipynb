{
 "cells": [
  {
   "cell_type": "code",
   "execution_count": 1,
   "metadata": {},
   "outputs": [],
   "source": [
    "import pandas as pd\n",
    "import numpy as np\n",
    "import matplotlib.pyplot as plt\n",
    "import networkx as nx\n",
    "import tqdm\n",
    "\n",
    "%matplotlib inline"
   ]
  },
  {
   "cell_type": "code",
   "execution_count": 2,
   "metadata": {},
   "outputs": [
    {
     "name": "stderr",
     "output_type": "stream",
     "text": [
      "C:\\Users\\home\\Anaconda3\\envs\\kaggle\\lib\\site-packages\\numpy\\lib\\arraysetops.py:472: FutureWarning: elementwise comparison failed; returning scalar instead, but in the future will perform elementwise comparison\n",
      "  mask |= (ar1 == a)\n"
     ]
    }
   ],
   "source": [
    "# If RAM is limited, set total_rows = 10000 or 100000; otherwise, set total_rows = None\n",
    "total_rows = None\n",
    "date = pd.read_csv('data/train_date.csv.zip', index_col=0, nrows=total_rows)\n",
    "\n",
    "# Drop rows and columns if they are redundant\n",
    "date.dropna(axis=0, how='all', inplace=True)\n",
    "date.dropna(axis=1, how='all', inplace=True)\n",
    "\n",
    "# Load labels\n",
    "response = pd.read_csv('data/train_numeric.csv.zip', index_col=0, \n",
    "                       usecols=[0, 969], nrows=total_rows)"
   ]
  },
  {
   "cell_type": "markdown",
   "metadata": {},
   "source": [
    "Restructure columns\n",
    "\n",
    "Each column of date records a time stamp in the production line and tracks flows of parts. The columns follow a name convention of Line_Station_Feature.\n",
    "\n",
    "The structure of production line, station, and feature is hierarchical, i.e., there is no feature belongs to two stations, and no station belongs to two lines. So we can restructure the columns.\n"
   ]
  },
  {
   "cell_type": "code",
   "execution_count": 3,
   "metadata": {},
   "outputs": [],
   "source": [
    "# Extract station and feature names, and build a new pandas MultiIndex object\n",
    "new_columns = pd.MultiIndex.from_tuples([tuple([int(a[1:]) \n",
    "                                          for a in x[3:].split('_')])\n",
    "                                          for x in date.columns], \n",
    "                                          names=['station', 'feature'])\n",
    "date.columns = new_columns"
   ]
  },
  {
   "cell_type": "code",
   "execution_count": 4,
   "metadata": {},
   "outputs": [],
   "source": [
    "# Extract station names\n",
    "stations = sorted([x for x in date.columns.levels[0]])"
   ]
  },
  {
   "cell_type": "code",
   "execution_count": 17,
   "metadata": {},
   "outputs": [],
   "source": [
    "# Create station flow as strings\n",
    "date_station = date.groupby(level=0, axis=1).sum().apply(\n",
    "    lambda x: (x>0).astype(int).astype(str), raw=True).apply(\n",
    "    lambda x: ''.join(x.values), axis=1)\n",
    "date_station = pd.DataFrame(date_station).join(response)\n",
    "date_station.columns = ['station_flow', 'Response']"
   ]
  },
  {
   "cell_type": "code",
   "execution_count": 42,
   "metadata": {},
   "outputs": [
    {
     "data": {
      "text/plain": [
       "[<matplotlib.lines.Line2D at 0x7f8bcba07278>]"
      ]
     },
     "execution_count": 42,
     "metadata": {},
     "output_type": "execute_result"
    },
    {
     "data": {
      "image/png": "[encoded data removed]",
      "text/plain": [
       "<Figure size 1008x504 with 1 Axes>"
      ]
     },
     "metadata": {},
     "output_type": "display_data"
    }
   ],
   "source": [
    "# Groupby station flows and visualize error rate\n",
    "a = date_station.groupby('station_flow').Response.agg(['mean', 'sum', 'count'])\n",
    "c = a.sort_values('count', ascending=False)\n",
    "c['mean'] = c['mean']\n",
    "c['confidence_interval'] = 1.96 * np.sqrt(c['mean'] * (1-c['mean']) / c['count'])\n",
    "c['mean_low'] = c['mean'] - c['confidence_interval']\n",
    "c['mean_high'] = c['mean'] + c['confidence_interval']\n",
    "\n",
    "N = 100\n",
    "plt.figure(figsize=(14, 7))\n",
    "plt.bar(np.arange(N), c['mean'][:N], yerr=c['confidence_interval'][:N])\n",
    "plt.plot([-1, N+0.5], [0.0058, 0.0058], color='tab:red', label='average error rate')"
   ]
  },
  {
   "cell_type": "code",
   "execution_count": null,
   "metadata": {},
   "outputs": [],
   "source": []
  }
 ],
 "metadata": {
  "kernelspec": {
   "display_name": "Python 3",
   "language": "python",
   "name": "python3"
  },
  "language_info": {
   "codemirror_mode": {
    "name": "ipython",
    "version": 3
   },
   "file_extension": ".py",
   "mimetype": "text/x-python",
   "name": "python",
   "nbconvert_exporter": "python",
   "pygments_lexer": "ipython3",
   "version": "3.6.5"
  }
 },
 "nbformat": 4,
 "nbformat_minor": 2
}
